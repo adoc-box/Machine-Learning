{
 "cells": [
  {
   "cell_type": "markdown",
   "metadata": {
    "id": "VEJE33GO-Ccq"
   },
   "source": [
    "### Created by: Anthony D. Cho\n",
    "### Last update: 13.11.2021\n",
    "\n",
    "**Subject**: Classification (MLP, dropout - keras, tensorflow) - Bank Marketing"
   ]
  },
  {
   "cell_type": "markdown",
   "metadata": {
    "id": "RUwIQxSI-Cc0"
   },
   "source": [
    "## Libraries dependencies"
   ]
  },
  {
   "cell_type": "code",
   "execution_count": 1,
   "metadata": {
    "executionInfo": {
     "elapsed": 221,
     "status": "ok",
     "timestamp": 1636923744698,
     "user": {
      "displayName": "Anthony Cho",
      "photoUrl": "https://lh3.googleusercontent.com/a/default-user=s64",
      "userId": "04569494085624422303"
     },
     "user_tz": 180
    },
    "id": "eKb9PEm6-Cc2"
   },
   "outputs": [],
   "source": [
    "from time import time\n",
    "from collections import Counter\n",
    "from pandas import set_option, read_csv, DataFrame, to_numeric\n",
    "set_option('mode.chained_assignment',None)\n",
    "import matplotlib.pyplot as plt\n",
    "from numpy import zeros, where, round\n",
    "\n",
    "## Pre-processing functions\n",
    "from sklearn.preprocessing import MinMaxScaler, LabelBinarizer\n",
    "from sklearn.model_selection import train_test_split\n",
    "\n",
    "## Metrics\n",
    "from sklearn.metrics import confusion_matrix, classification_report\n",
    "\n",
    "## Imbalance-data functions\n",
    "from imblearn.under_sampling import RandomUnderSampler\n",
    "from imblearn.over_sampling import SMOTENC\n",
    "\n",
    "## tensorflow-Keras \n",
    "from tensorflow.keras.models import Sequential\n",
    "from tensorflow.keras import layers\n",
    "from tensorflow.keras.optimizers import Adam\n",
    "from tensorflow.keras.metrics import AUC"
   ]
  },
  {
   "cell_type": "markdown",
   "metadata": {
    "id": "Qd-RH0bo-Cc6"
   },
   "source": [
    "## Customized functions"
   ]
  },
  {
   "cell_type": "code",
   "execution_count": 2,
   "metadata": {
    "executionInfo": {
     "elapsed": 306,
     "status": "ok",
     "timestamp": 1636923474517,
     "user": {
      "displayName": "Anthony Cho",
      "photoUrl": "https://lh3.googleusercontent.com/a/default-user=s64",
      "userId": "04569494085624422303"
     },
     "user_tz": 180
    },
    "id": "Mz-OVNMN-Cc7"
   },
   "outputs": [],
   "source": [
    "def plot_history(history, width=12, height=6):\n",
    "  \"\"\"\n",
    "  DESCRIPTION:\n",
    "    History performance of the keras model\n",
    "  \n",
    "  INPUT:\n",
    "    @param history: history of performance of fitted model\n",
    "    @type history: tensorflow.python.keras.callbacks.History\n",
    "\n",
    "    @param width: width of the graphic display\n",
    "    @type width: int\n",
    "\n",
    "    @param height: height of the graphic display\n",
    "    @type height: int\n",
    "\n",
    "  OUTPUT:\n",
    "    A graphic\n",
    "  \"\"\"\n",
    "\n",
    "  ## Metrics keys stored in tensorflow object\n",
    "  keys = list(history.history.keys())\n",
    "\n",
    "  ## Number of epoch used for fit the model\n",
    "  epoch = range(1, len(history.epoch) +1)\n",
    "\n",
    "  ## Check if validation set was used.\n",
    "  withValidation = False\n",
    "  for key in keys:\n",
    "    if 'val' in key:\n",
    "      withValidation = True\n",
    "\n",
    "  ## Number of metrics \n",
    "  nMetrics = len(keys)\n",
    "  if withValidation:\n",
    "    nMetrics = nMetrics//2\n",
    "\n",
    "  ## Plot-space instance\n",
    "  plt.figure(figsize=(width, height))\n",
    "\n",
    "  for i in range(nMetrics):\n",
    "    plt.subplot(nMetrics, 1, i+1)\n",
    "\n",
    "    ## Plot (train) metric value\n",
    "    labelMetric = keys[i]\n",
    "    metric = history.history[keys[i]]\n",
    "    plt.plot(epoch, metric, 'o-', label=labelMetric)\n",
    "\n",
    "    if withValidation:\n",
    "      ## Plot (validation) metric value\n",
    "      labelMetricVal = keys[i+nMetrics]\n",
    "      metricVal = history.history[keys[i+nMetrics]]\n",
    "      plt.plot(epoch, metricVal, 'o-', label=labelMetricVal)\n",
    "\n",
    "    plt.xlim(epoch[0], epoch[-1])\n",
    "    plt.legend()\n",
    "    plt.grid()\n",
    "\n",
    "  plt.xlabel('Epoch')\n",
    "  plt.show()"
   ]
  },
  {
   "cell_type": "markdown",
   "metadata": {
    "id": "1--Kix9K-Cc9"
   },
   "source": [
    "# Problem: Bank Marketing\n",
    "**Target**:  The classification goal is to predict if the client will subscribe a term deposit (variable y)."
   ]
  },
  {
   "cell_type": "markdown",
   "metadata": {
    "id": "5M0SUQ_R-Cc-"
   },
   "source": [
    "## Data loading\n",
    "Source: [Bank Marketing](https://archive.ics.uci.edu/ml/datasets/bank+marketing) (UCI Repository)"
   ]
  },
  {
   "cell_type": "code",
   "execution_count": 3,
   "metadata": {
    "colab": {
     "base_uri": "https://localhost:8080/"
    },
    "executionInfo": {
     "elapsed": 1000,
     "status": "ok",
     "timestamp": 1636923478842,
     "user": {
      "displayName": "Anthony Cho",
      "photoUrl": "https://lh3.googleusercontent.com/a/default-user=s64",
      "userId": "04569494085624422303"
     },
     "user_tz": 180
    },
    "id": "9kTgMlGZ-Cc_",
    "outputId": "0d003695-7a2a-440a-8e2b-09a7f2dfcdd6"
   },
   "outputs": [
    {
     "name": "stdout",
     "output_type": "stream",
     "text": [
      "--2021-11-22 00:22:28--  https://archive.ics.uci.edu/ml/machine-learning-databases/00222/bank.zip\n",
      "Resolviendo archive.ics.uci.edu (archive.ics.uci.edu)... 128.195.10.252\n",
      "Conectando con archive.ics.uci.edu (archive.ics.uci.edu)[128.195.10.252]:443... conectado.\n",
      "Petición HTTP enviada, esperando respuesta... 200 OK\n",
      "Longitud: 579043 (565K) [application/x-httpd-php]\n",
      "Guardando como: “bank.zip.1”\n",
      "\n",
      "bank.zip.1          100%[===================>] 565,47K   723KB/s    en 0,8s    \n",
      "\n",
      "2021-11-22 00:22:29 (723 KB/s) - “bank.zip.1” guardado [579043/579043]\n",
      "\n",
      "Archive:  bank.zip\n"
     ]
    }
   ],
   "source": [
    "## Download and uncompress zip file\n",
    "!wget https://archive.ics.uci.edu/ml/machine-learning-databases/00222/bank.zip\n",
    "!unzip -u bank.zip"
   ]
  },
  {
   "cell_type": "code",
   "execution_count": 4,
   "metadata": {
    "colab": {
     "base_uri": "https://localhost:8080/",
     "height": 258
    },
    "executionInfo": {
     "elapsed": 219,
     "status": "ok",
     "timestamp": 1636923480667,
     "user": {
      "displayName": "Anthony Cho",
      "photoUrl": "https://lh3.googleusercontent.com/a/default-user=s64",
      "userId": "04569494085624422303"
     },
     "user_tz": 180
    },
    "id": "pq2dyjDu-CdA",
    "outputId": "4b2620fb-e645-4404-b44a-555801bbbea3"
   },
   "outputs": [
    {
     "name": "stdout",
     "output_type": "stream",
     "text": [
      "Class:\n",
      " Counter({'no': 4000, 'yes': 521}) \n",
      "\n"
     ]
    },
    {
     "data": {
      "text/html": [
       "<div>\n",
       "<style scoped>\n",
       "    .dataframe tbody tr th:only-of-type {\n",
       "        vertical-align: middle;\n",
       "    }\n",
       "\n",
       "    .dataframe tbody tr th {\n",
       "        vertical-align: top;\n",
       "    }\n",
       "\n",
       "    .dataframe thead th {\n",
       "        text-align: right;\n",
       "    }\n",
       "</style>\n",
       "<table border=\"1\" class=\"dataframe\">\n",
       "  <thead>\n",
       "    <tr style=\"text-align: right;\">\n",
       "      <th></th>\n",
       "      <th>age</th>\n",
       "      <th>job</th>\n",
       "      <th>marital</th>\n",
       "      <th>education</th>\n",
       "      <th>default</th>\n",
       "      <th>balance</th>\n",
       "      <th>housing</th>\n",
       "      <th>loan</th>\n",
       "      <th>contact</th>\n",
       "      <th>day</th>\n",
       "      <th>month</th>\n",
       "      <th>duration</th>\n",
       "      <th>campaign</th>\n",
       "      <th>pdays</th>\n",
       "      <th>previous</th>\n",
       "      <th>poutcome</th>\n",
       "      <th>y</th>\n",
       "    </tr>\n",
       "  </thead>\n",
       "  <tbody>\n",
       "    <tr>\n",
       "      <th>0</th>\n",
       "      <td>30</td>\n",
       "      <td>unemployed</td>\n",
       "      <td>married</td>\n",
       "      <td>primary</td>\n",
       "      <td>no</td>\n",
       "      <td>1787</td>\n",
       "      <td>no</td>\n",
       "      <td>no</td>\n",
       "      <td>cellular</td>\n",
       "      <td>19</td>\n",
       "      <td>oct</td>\n",
       "      <td>79</td>\n",
       "      <td>1</td>\n",
       "      <td>-1</td>\n",
       "      <td>0</td>\n",
       "      <td>unknown</td>\n",
       "      <td>no</td>\n",
       "    </tr>\n",
       "    <tr>\n",
       "      <th>1</th>\n",
       "      <td>33</td>\n",
       "      <td>services</td>\n",
       "      <td>married</td>\n",
       "      <td>secondary</td>\n",
       "      <td>no</td>\n",
       "      <td>4789</td>\n",
       "      <td>yes</td>\n",
       "      <td>yes</td>\n",
       "      <td>cellular</td>\n",
       "      <td>11</td>\n",
       "      <td>may</td>\n",
       "      <td>220</td>\n",
       "      <td>1</td>\n",
       "      <td>339</td>\n",
       "      <td>4</td>\n",
       "      <td>failure</td>\n",
       "      <td>no</td>\n",
       "    </tr>\n",
       "    <tr>\n",
       "      <th>2</th>\n",
       "      <td>35</td>\n",
       "      <td>management</td>\n",
       "      <td>single</td>\n",
       "      <td>tertiary</td>\n",
       "      <td>no</td>\n",
       "      <td>1350</td>\n",
       "      <td>yes</td>\n",
       "      <td>no</td>\n",
       "      <td>cellular</td>\n",
       "      <td>16</td>\n",
       "      <td>apr</td>\n",
       "      <td>185</td>\n",
       "      <td>1</td>\n",
       "      <td>330</td>\n",
       "      <td>1</td>\n",
       "      <td>failure</td>\n",
       "      <td>no</td>\n",
       "    </tr>\n",
       "    <tr>\n",
       "      <th>3</th>\n",
       "      <td>30</td>\n",
       "      <td>management</td>\n",
       "      <td>married</td>\n",
       "      <td>tertiary</td>\n",
       "      <td>no</td>\n",
       "      <td>1476</td>\n",
       "      <td>yes</td>\n",
       "      <td>yes</td>\n",
       "      <td>unknown</td>\n",
       "      <td>3</td>\n",
       "      <td>jun</td>\n",
       "      <td>199</td>\n",
       "      <td>4</td>\n",
       "      <td>-1</td>\n",
       "      <td>0</td>\n",
       "      <td>unknown</td>\n",
       "      <td>no</td>\n",
       "    </tr>\n",
       "    <tr>\n",
       "      <th>4</th>\n",
       "      <td>59</td>\n",
       "      <td>blue-collar</td>\n",
       "      <td>married</td>\n",
       "      <td>secondary</td>\n",
       "      <td>no</td>\n",
       "      <td>0</td>\n",
       "      <td>yes</td>\n",
       "      <td>no</td>\n",
       "      <td>unknown</td>\n",
       "      <td>5</td>\n",
       "      <td>may</td>\n",
       "      <td>226</td>\n",
       "      <td>1</td>\n",
       "      <td>-1</td>\n",
       "      <td>0</td>\n",
       "      <td>unknown</td>\n",
       "      <td>no</td>\n",
       "    </tr>\n",
       "  </tbody>\n",
       "</table>\n",
       "</div>"
      ],
      "text/plain": [
       "   age          job  marital  education default  balance housing loan  \\\n",
       "0   30   unemployed  married    primary      no     1787      no   no   \n",
       "1   33     services  married  secondary      no     4789     yes  yes   \n",
       "2   35   management   single   tertiary      no     1350     yes   no   \n",
       "3   30   management  married   tertiary      no     1476     yes  yes   \n",
       "4   59  blue-collar  married  secondary      no        0     yes   no   \n",
       "\n",
       "    contact  day month  duration  campaign  pdays  previous poutcome   y  \n",
       "0  cellular   19   oct        79         1     -1         0  unknown  no  \n",
       "1  cellular   11   may       220         1    339         4  failure  no  \n",
       "2  cellular   16   apr       185         1    330         1  failure  no  \n",
       "3   unknown    3   jun       199         4     -1         0  unknown  no  \n",
       "4   unknown    5   may       226         1     -1         0  unknown  no  "
      ]
     },
     "execution_count": 4,
     "metadata": {},
     "output_type": "execute_result"
    }
   ],
   "source": [
    "## Load data\n",
    "data = read_csv('bank.csv', sep=';')\n",
    "\n",
    "## Display number of samples per class\n",
    "print('Class:\\n {} \\n'.format(Counter(data['y'])))\n",
    "\n",
    "## Display first five records\n",
    "data.head()"
   ]
  },
  {
   "cell_type": "markdown",
   "metadata": {
    "id": "IwowDxRj-CdB"
   },
   "source": [
    "### Pre-processing"
   ]
  },
  {
   "cell_type": "code",
   "execution_count": 5,
   "metadata": {
    "colab": {
     "base_uri": "https://localhost:8080/"
    },
    "executionInfo": {
     "elapsed": 214,
     "status": "ok",
     "timestamp": 1636923484186,
     "user": {
      "displayName": "Anthony Cho",
      "photoUrl": "https://lh3.googleusercontent.com/a/default-user=s64",
      "userId": "04569494085624422303"
     },
     "user_tz": 180
    },
    "id": "RrrJHU4s-CdD",
    "outputId": "15515386-733c-4c3c-a1d5-e6f8c9aacd07"
   },
   "outputs": [
    {
     "name": "stdout",
     "output_type": "stream",
     "text": [
      "(1, 'job') (2, 'marital') (3, 'education') (4, 'default') (6, 'housing') (7, 'loan') (8, 'contact') (10, 'month') (15, 'poutcome') "
     ]
    }
   ],
   "source": [
    "## Split data by Predictors X and target y\n",
    "X = data.drop(columns=['y'])\n",
    "y = data['y'].apply(lambda x: 1 if x=='yes' else 0)\n",
    "\n",
    "## Identify categorical variables\n",
    "categorical_vars = []\n",
    "categorical_vars_index = []\n",
    "for i, col in enumerate(X.columns):\n",
    "    if data[col].dtype == 'object':\n",
    "        categorical_vars.append(col)\n",
    "        categorical_vars_index.append(i)\n",
    "\n",
    "## Display categorical variables\n",
    "for i in zip(categorical_vars_index, categorical_vars):\n",
    "    print(i, end=' ')"
   ]
  },
  {
   "cell_type": "code",
   "execution_count": 6,
   "metadata": {
    "colab": {
     "base_uri": "https://localhost:8080/"
    },
    "executionInfo": {
     "elapsed": 7824,
     "status": "ok",
     "timestamp": 1636923496236,
     "user": {
      "displayName": "Anthony Cho",
      "photoUrl": "https://lh3.googleusercontent.com/a/default-user=s64",
      "userId": "04569494085624422303"
     },
     "user_tz": 180
    },
    "id": "nQGkCHRR-CdE",
    "outputId": "e9e1cf01-a331-4e8c-b770-a348e39f9b91"
   },
   "outputs": [
    {
     "name": "stdout",
     "output_type": "stream",
     "text": [
      "Class (Raw)(train):\n",
      "Counter({0: 2665, 1: 364}) \n",
      "\n",
      "Class (Raw)(test):\n",
      "Counter({0: 1335, 1: 157}) \n",
      "\n",
      "\n",
      "Class (balanced):\n",
      "Counter({0: 2665, 1: 2665}) \n",
      "\n",
      "Encoding Ordinal categorical variables...\n",
      "Encoding Nominal categorical variables...\n",
      "Nominal vars:  dict_keys(['job', 'marital', 'education', 'contact', 'poutcome'])\n",
      "Scaling data...\n",
      "\n",
      "Pre-processing time spent[s]:  0.9354839324951172\n"
     ]
    }
   ],
   "source": [
    "start = time()\n",
    "\n",
    "## Partition: train set, and test set\n",
    "X_train, X_test, y_train, y_test = train_test_split(X, y, test_size=0.33, random_state=20210323)\n",
    "X_test.reset_index(drop=True, inplace=True)\n",
    "\n",
    "## Train set: display class counter\n",
    "print('Class (Raw)(train):\\n{} \\n'.format(Counter(y_train)))\n",
    "print('Class (Raw)(test):\\n{} \\n'.format(Counter(y_test)))\n",
    "\n",
    "## Balancing data\n",
    "X_train_balanced, y_train_balanced = SMOTENC(categorical_features=categorical_vars_index,\n",
    "                                             n_jobs=-1).fit_resample(X_train, y_train)\n",
    "print('\\nClass (balanced):\\n{} \\n'.format(Counter(y_train_balanced)))\n",
    "\n",
    "## Convert array to dataframe and casting 'numeric' (object) columns as numeric\n",
    "X_train_balanced = DataFrame(X_train_balanced, columns=X_train.columns)\n",
    "for col in X_train_balanced.columns:\n",
    "    try:\n",
    "      to_numeric(X_train_balanced[col])\n",
    "    except:\n",
    "      pass\n",
    "    else:\n",
    "      X_train_balanced[col] = to_numeric(X_train_balanced[col])\n",
    "\n",
    "## Encoding categorical variables: Ordinal\n",
    "print('Encoding Ordinal categorical variables...')\n",
    "labelsOrdinal = {}\n",
    "labelsOrdinal['default'] = ['no', 'yes']\n",
    "labelsOrdinal['housing'] = ['no', 'yes']\n",
    "labelsOrdinal['loan'] = ['no', 'yes']\n",
    "labelsOrdinal['month'] = ['jan', 'feb', 'mar', 'apr', 'may', 'jun', 'jul', 'aug', 'sep', 'oct', 'nov', 'dec']\n",
    "\n",
    "for col in labelsOrdinal.keys():\n",
    "    for index, value in enumerate(labelsOrdinal[col]):\n",
    "\n",
    "        ## Encoding train set\n",
    "        X_train_balanced[col] = where(X_train_balanced[col] == value, index, X_train_balanced[col])\n",
    "\n",
    "        ## Encoding test set\n",
    "        X_test[col] = where(X_test[col] == value, index, X_test[col])\n",
    "\n",
    "    ## Convert column as integer\n",
    "    X_train_balanced[col] = X_train_balanced[col].astype(int)\n",
    "    X_test[col] = X_test[col].astype(int)\n",
    "\n",
    "## Encoding categorical variables: Nominal\n",
    "print('Encoding Nominal categorical variables...')\n",
    "labelsNominal = {}\n",
    "for col in X_train_balanced.columns:\n",
    "    if X_train_balanced[col].dtype == 'object':\n",
    "\n",
    "        ## Encoder instance per variable with raw data (considering all posible terms)\n",
    "        labelsNominal[col] = LabelBinarizer().fit(data[col])\n",
    "print('Nominal vars: ', labelsNominal.keys())\n",
    "\n",
    "for label in labelsNominal.keys():\n",
    "    \n",
    "    ## Select column encoder\n",
    "    encoding = labelsNominal[label]\n",
    "        \n",
    "    ## Apply encoding \n",
    "    colname = ['{}_{}'.format(label, encoding.classes_[k]) for k in range(len(encoding.classes_))]\n",
    "    temp_train = encoding.transform(X_train_balanced[label])\n",
    "    temp_test = encoding.transform(X_test[label])\n",
    "    \n",
    "    ## Convert encoded column values to dataframe\n",
    "    temp_train = DataFrame(data=temp_train, columns=colname)\n",
    "    temp_test = DataFrame(data=temp_test, columns=colname)\n",
    "    \n",
    "    ## Add encoded columns to \n",
    "    for col in temp_train.columns:\n",
    "        X_train_balanced[col] = temp_train[col]\n",
    "        X_test[col] = temp_test[col]\n",
    "\n",
    "## Drop original nominal categorical vars\n",
    "X_train_balanced.drop(columns=labelsNominal.keys(), inplace=True)  \n",
    "X_test.drop(columns=labelsNominal.keys(), inplace=True) \n",
    "\n",
    "## Scaling data (return array as output)\n",
    "print('Scaling data...')\n",
    "scale = MinMaxScaler().fit(X_train_balanced)\n",
    "X_train_balanced = scale.transform(X_train_balanced)\n",
    "X_test = scale.transform(X_test)\n",
    "\n",
    "print('\\nPre-processing time spent[s]: ', time()-start)"
   ]
  },
  {
   "cell_type": "code",
   "execution_count": 7,
   "metadata": {
    "colab": {
     "base_uri": "https://localhost:8080/"
    },
    "executionInfo": {
     "elapsed": 243,
     "status": "ok",
     "timestamp": 1636923514392,
     "user": {
      "displayName": "Anthony Cho",
      "photoUrl": "https://lh3.googleusercontent.com/a/default-user=s64",
      "userId": "04569494085624422303"
     },
     "user_tz": 180
    },
    "id": "VmIMtAKL-CdE",
    "outputId": "9d88da0a-256e-4c28-f794-4d0b9143f3e5"
   },
   "outputs": [
    {
     "name": "stdout",
     "output_type": "stream",
     "text": [
      "(train shape) X: (5330, 37), y: (5330,)\n",
      "(test shape) X: (1492, 37), y: (1492,)\n"
     ]
    }
   ],
   "source": [
    "## Variable used to fit model\n",
    "X_train_model = X_train_balanced\n",
    "y_train_model = y_train_balanced\n",
    "\n",
    "X_test_model = X_test\n",
    "y_test_model = y_test.values\n",
    "\n",
    "## Display data shape\n",
    "print('(train shape) X: {}, y: {}'.format(X_train_model.shape, y_train_model.shape))\n",
    "print('(test shape) X: {}, y: {}'.format(X_test_model.shape, y_test_model.shape))"
   ]
  },
  {
   "cell_type": "markdown",
   "metadata": {
    "id": "WezveEAT-CdE"
   },
   "source": [
    "## Model building"
   ]
  },
  {
   "cell_type": "code",
   "execution_count": 8,
   "metadata": {
    "colab": {
     "base_uri": "https://localhost:8080/"
    },
    "executionInfo": {
     "elapsed": 5945,
     "status": "ok",
     "timestamp": 1636923543954,
     "user": {
      "displayName": "Anthony Cho",
      "photoUrl": "https://lh3.googleusercontent.com/a/default-user=s64",
      "userId": "04569494085624422303"
     },
     "user_tz": 180
    },
    "id": "jssJ7WP7-CdF",
    "outputId": "f1c1fac4-c91e-498b-b3b0-8c00edc1a6c9"
   },
   "outputs": [
    {
     "name": "stdout",
     "output_type": "stream",
     "text": [
      "Model: \"Bank_marketing\"\n",
      "_________________________________________________________________\n",
      "Layer (type)                 Output Shape              Param #   \n",
      "=================================================================\n",
      "Dense_01 (Dense)             (None, 100)               3800      \n",
      "_________________________________________________________________\n",
      "Dropout_01 (Dropout)         (None, 100)               0         \n",
      "_________________________________________________________________\n",
      "Dense_02 (Dense)             (None, 50)                5050      \n",
      "_________________________________________________________________\n",
      "Dropout_02 (Dropout)         (None, 50)                0         \n",
      "_________________________________________________________________\n",
      "output (Dense)               (None, 1)                 51        \n",
      "=================================================================\n",
      "Total params: 8,901\n",
      "Trainable params: 8,901\n",
      "Non-trainable params: 0\n",
      "_________________________________________________________________\n"
     ]
    }
   ],
   "source": [
    "## Build model\n",
    "model = Sequential(name='Bank_marketing')\n",
    "model.add(layers.Input(shape=X_train_balanced.shape[1]))\n",
    "model.add(layers.Dense(units=100, activation='relu', name='Dense_01'))\n",
    "model.add(layers.Dropout(rate=0.5, name='Dropout_01'))\n",
    "model.add(layers.Dense(units=50, activation='relu', name='Dense_02'))\n",
    "model.add(layers.Dropout(rate=0.1, name='Dropout_02'))\n",
    "model.add(layers.Dense(units=1, activation='sigmoid', name='output'))\n",
    "\n",
    "## Compiler setting\n",
    "model.compile(loss='binary_crossentropy', metrics=['accuracy', AUC()],\n",
    "              optimizer=Adam(learning_rate=0.0001))\n",
    "\n",
    "## Display model\n",
    "model.summary()"
   ]
  },
  {
   "cell_type": "code",
   "execution_count": 9,
   "metadata": {
    "colab": {
     "base_uri": "https://localhost:8080/"
    },
    "executionInfo": {
     "elapsed": 83351,
     "status": "ok",
     "timestamp": 1636923630268,
     "user": {
      "displayName": "Anthony Cho",
      "photoUrl": "https://lh3.googleusercontent.com/a/default-user=s64",
      "userId": "04569494085624422303"
     },
     "user_tz": 180
    },
    "id": "XM2bAC6P-CdH",
    "outputId": "dcc5cd8d-5c00-4fd7-80b8-44f3d5543313"
   },
   "outputs": [
    {
     "name": "stdout",
     "output_type": "stream",
     "text": [
      "Epoch 1/50\n",
      "160/160 [==============================] - 2s 6ms/step - loss: 0.7041 - accuracy: 0.4943 - auc: 0.4917 - val_loss: 0.7324 - val_accuracy: 0.2645 - val_auc: 0.0000e+00\n",
      "Epoch 2/50\n",
      "160/160 [==============================] - 0s 2ms/step - loss: 0.6682 - accuracy: 0.5820 - auc: 0.6129 - val_loss: 0.7209 - val_accuracy: 0.4034 - val_auc: 0.0000e+00\n",
      "Epoch 3/50\n",
      "160/160 [==============================] - 0s 2ms/step - loss: 0.6340 - accuracy: 0.6437 - auc: 0.7049 - val_loss: 0.6923 - val_accuracy: 0.5910 - val_auc: 0.0000e+00\n",
      "Epoch 4/50\n",
      "160/160 [==============================] - 0s 2ms/step - loss: 0.6163 - accuracy: 0.6599 - auc: 0.7348 - val_loss: 0.6385 - val_accuracy: 0.7242 - val_auc: 0.0000e+00\n",
      "Epoch 5/50\n",
      "160/160 [==============================] - 0s 2ms/step - loss: 0.5910 - accuracy: 0.6932 - auc: 0.7669 - val_loss: 0.5898 - val_accuracy: 0.7749 - val_auc: 0.0000e+00\n",
      "Epoch 6/50\n",
      "160/160 [==============================] - 0s 2ms/step - loss: 0.5724 - accuracy: 0.7104 - auc: 0.7769 - val_loss: 0.5642 - val_accuracy: 0.7824 - val_auc: 0.0000e+00\n",
      "Epoch 7/50\n",
      "160/160 [==============================] - 0s 2ms/step - loss: 0.5521 - accuracy: 0.7079 - auc: 0.7923 - val_loss: 0.5113 - val_accuracy: 0.8311 - val_auc: 0.0000e+00\n",
      "Epoch 8/50\n",
      "160/160 [==============================] - 0s 2ms/step - loss: 0.5436 - accuracy: 0.7170 - auc: 0.7977 - val_loss: 0.5015 - val_accuracy: 0.8161 - val_auc: 0.0000e+00\n",
      "Epoch 9/50\n",
      "160/160 [==============================] - 0s 2ms/step - loss: 0.5311 - accuracy: 0.7329 - auc: 0.8079 - val_loss: 0.4752 - val_accuracy: 0.8386 - val_auc: 0.0000e+00\n",
      "Epoch 10/50\n",
      "160/160 [==============================] - 0s 2ms/step - loss: 0.5294 - accuracy: 0.7422 - auc: 0.8099 - val_loss: 0.4763 - val_accuracy: 0.8274 - val_auc: 0.0000e+00\n",
      "Epoch 11/50\n",
      "160/160 [==============================] - 0s 2ms/step - loss: 0.5144 - accuracy: 0.7412 - auc: 0.8212 - val_loss: 0.4478 - val_accuracy: 0.8555 - val_auc: 0.0000e+00\n",
      "Epoch 12/50\n",
      "160/160 [==============================] - 0s 2ms/step - loss: 0.4962 - accuracy: 0.7572 - auc: 0.8382 - val_loss: 0.4315 - val_accuracy: 0.8630 - val_auc: 0.0000e+00\n",
      "Epoch 13/50\n",
      "160/160 [==============================] - 0s 2ms/step - loss: 0.4905 - accuracy: 0.7606 - auc: 0.8406 - val_loss: 0.4299 - val_accuracy: 0.8499 - val_auc: 0.0000e+00\n",
      "Epoch 14/50\n",
      "160/160 [==============================] - 0s 2ms/step - loss: 0.4823 - accuracy: 0.7715 - auc: 0.8482 - val_loss: 0.4210 - val_accuracy: 0.8574 - val_auc: 0.0000e+00\n",
      "Epoch 15/50\n",
      "160/160 [==============================] - 0s 3ms/step - loss: 0.4788 - accuracy: 0.7657 - auc: 0.8504 - val_loss: 0.3815 - val_accuracy: 0.8780 - val_auc: 0.0000e+00\n",
      "Epoch 16/50\n",
      "160/160 [==============================] - 0s 2ms/step - loss: 0.4666 - accuracy: 0.7820 - auc: 0.8610 - val_loss: 0.3817 - val_accuracy: 0.8780 - val_auc: 0.0000e+00\n",
      "Epoch 17/50\n",
      "160/160 [==============================] - 0s 2ms/step - loss: 0.4556 - accuracy: 0.7814 - auc: 0.8655 - val_loss: 0.3768 - val_accuracy: 0.8780 - val_auc: 0.0000e+00\n",
      "Epoch 18/50\n",
      "160/160 [==============================] - 0s 2ms/step - loss: 0.4482 - accuracy: 0.7924 - auc: 0.8726 - val_loss: 0.3654 - val_accuracy: 0.8837 - val_auc: 0.0000e+00\n",
      "Epoch 19/50\n",
      "160/160 [==============================] - 0s 2ms/step - loss: 0.4566 - accuracy: 0.8011 - auc: 0.8671 - val_loss: 0.3868 - val_accuracy: 0.8705 - val_auc: 0.0000e+00\n",
      "Epoch 20/50\n",
      "160/160 [==============================] - 0s 2ms/step - loss: 0.4602 - accuracy: 0.7863 - auc: 0.8654 - val_loss: 0.3759 - val_accuracy: 0.8743 - val_auc: 0.0000e+00\n",
      "Epoch 21/50\n",
      "160/160 [==============================] - 0s 2ms/step - loss: 0.4426 - accuracy: 0.7927 - auc: 0.8747 - val_loss: 0.3260 - val_accuracy: 0.8968 - val_auc: 0.0000e+00\n",
      "Epoch 22/50\n",
      "160/160 [==============================] - 0s 2ms/step - loss: 0.4421 - accuracy: 0.7934 - auc: 0.8757 - val_loss: 0.3647 - val_accuracy: 0.8780 - val_auc: 0.0000e+00\n",
      "Epoch 23/50\n",
      "160/160 [==============================] - 0s 2ms/step - loss: 0.4387 - accuracy: 0.8048 - auc: 0.8786 - val_loss: 0.3550 - val_accuracy: 0.8837 - val_auc: 0.0000e+00\n",
      "Epoch 24/50\n",
      "160/160 [==============================] - 0s 2ms/step - loss: 0.4159 - accuracy: 0.8141 - auc: 0.8919 - val_loss: 0.3227 - val_accuracy: 0.8949 - val_auc: 0.0000e+00\n",
      "Epoch 25/50\n",
      "160/160 [==============================] - 0s 2ms/step - loss: 0.4074 - accuracy: 0.8214 - auc: 0.8980 - val_loss: 0.3127 - val_accuracy: 0.8987 - val_auc: 0.0000e+00\n",
      "Epoch 26/50\n",
      "160/160 [==============================] - 0s 2ms/step - loss: 0.4167 - accuracy: 0.8126 - auc: 0.8915 - val_loss: 0.3278 - val_accuracy: 0.8949 - val_auc: 0.0000e+00\n",
      "Epoch 27/50\n",
      "160/160 [==============================] - 0s 2ms/step - loss: 0.4035 - accuracy: 0.8184 - auc: 0.8992 - val_loss: 0.3150 - val_accuracy: 0.8987 - val_auc: 0.0000e+00\n",
      "Epoch 28/50\n",
      "160/160 [==============================] - 0s 2ms/step - loss: 0.3964 - accuracy: 0.8235 - auc: 0.9028 - val_loss: 0.3021 - val_accuracy: 0.9024 - val_auc: 0.0000e+00\n",
      "Epoch 29/50\n",
      "160/160 [==============================] - 0s 2ms/step - loss: 0.3897 - accuracy: 0.8325 - auc: 0.9072 - val_loss: 0.3465 - val_accuracy: 0.8837 - val_auc: 0.0000e+00\n",
      "Epoch 30/50\n",
      "160/160 [==============================] - 0s 2ms/step - loss: 0.4012 - accuracy: 0.8210 - auc: 0.9016 - val_loss: 0.2994 - val_accuracy: 0.9043 - val_auc: 0.0000e+00\n",
      "Epoch 31/50\n",
      "160/160 [==============================] - 0s 2ms/step - loss: 0.3827 - accuracy: 0.8256 - auc: 0.9094 - val_loss: 0.3077 - val_accuracy: 0.8987 - val_auc: 0.0000e+00\n",
      "Epoch 32/50\n",
      "160/160 [==============================] - 0s 2ms/step - loss: 0.3916 - accuracy: 0.8320 - auc: 0.9051 - val_loss: 0.3163 - val_accuracy: 0.8912 - val_auc: 0.0000e+00\n",
      "Epoch 33/50\n",
      "160/160 [==============================] - 0s 2ms/step - loss: 0.3971 - accuracy: 0.8246 - auc: 0.9031 - val_loss: 0.3038 - val_accuracy: 0.9006 - val_auc: 0.0000e+00\n",
      "Epoch 34/50\n",
      "160/160 [==============================] - 0s 2ms/step - loss: 0.3809 - accuracy: 0.8375 - auc: 0.9107 - val_loss: 0.2896 - val_accuracy: 0.9081 - val_auc: 0.0000e+00\n",
      "Epoch 35/50\n",
      "160/160 [==============================] - 0s 2ms/step - loss: 0.3898 - accuracy: 0.8279 - auc: 0.9061 - val_loss: 0.3081 - val_accuracy: 0.8893 - val_auc: 0.0000e+00\n",
      "Epoch 36/50\n",
      "160/160 [==============================] - 0s 2ms/step - loss: 0.3790 - accuracy: 0.8320 - auc: 0.9112 - val_loss: 0.2821 - val_accuracy: 0.9099 - val_auc: 0.0000e+00\n",
      "Epoch 37/50\n",
      "160/160 [==============================] - 0s 2ms/step - loss: 0.3814 - accuracy: 0.8402 - auc: 0.9107 - val_loss: 0.2847 - val_accuracy: 0.9081 - val_auc: 0.0000e+00\n",
      "Epoch 38/50\n",
      "160/160 [==============================] - 0s 2ms/step - loss: 0.3763 - accuracy: 0.8389 - auc: 0.9118 - val_loss: 0.2774 - val_accuracy: 0.9099 - val_auc: 0.0000e+00\n",
      "Epoch 39/50\n",
      "160/160 [==============================] - 0s 2ms/step - loss: 0.3695 - accuracy: 0.8405 - auc: 0.9162 - val_loss: 0.2696 - val_accuracy: 0.9137 - val_auc: 0.0000e+00\n",
      "Epoch 40/50\n",
      "160/160 [==============================] - 0s 2ms/step - loss: 0.3651 - accuracy: 0.8411 - auc: 0.9169 - val_loss: 0.2726 - val_accuracy: 0.9137 - val_auc: 0.0000e+00\n",
      "Epoch 41/50\n",
      "160/160 [==============================] - 0s 2ms/step - loss: 0.3792 - accuracy: 0.8352 - auc: 0.9112 - val_loss: 0.2692 - val_accuracy: 0.9118 - val_auc: 0.0000e+00\n",
      "Epoch 42/50\n",
      "160/160 [==============================] - 0s 2ms/step - loss: 0.3597 - accuracy: 0.8553 - auc: 0.9213 - val_loss: 0.2841 - val_accuracy: 0.9024 - val_auc: 0.0000e+00\n",
      "Epoch 43/50\n",
      "160/160 [==============================] - 0s 2ms/step - loss: 0.3682 - accuracy: 0.8494 - auc: 0.9165 - val_loss: 0.2542 - val_accuracy: 0.9212 - val_auc: 0.0000e+00\n",
      "Epoch 44/50\n",
      "160/160 [==============================] - 0s 2ms/step - loss: 0.3489 - accuracy: 0.8629 - auc: 0.9259 - val_loss: 0.2688 - val_accuracy: 0.9137 - val_auc: 0.0000e+00\n",
      "Epoch 45/50\n",
      "160/160 [==============================] - 0s 2ms/step - loss: 0.3488 - accuracy: 0.8572 - auc: 0.9250 - val_loss: 0.2710 - val_accuracy: 0.9118 - val_auc: 0.0000e+00\n",
      "Epoch 46/50\n",
      "160/160 [==============================] - 0s 2ms/step - loss: 0.3524 - accuracy: 0.8510 - auc: 0.9246 - val_loss: 0.2777 - val_accuracy: 0.9024 - val_auc: 0.0000e+00\n"
     ]
    },
    {
     "name": "stdout",
     "output_type": "stream",
     "text": [
      "Epoch 47/50\n",
      "160/160 [==============================] - 0s 2ms/step - loss: 0.3614 - accuracy: 0.8490 - auc: 0.9187 - val_loss: 0.2761 - val_accuracy: 0.9043 - val_auc: 0.0000e+00\n",
      "Epoch 48/50\n",
      "160/160 [==============================] - 0s 2ms/step - loss: 0.3516 - accuracy: 0.8585 - auc: 0.9248 - val_loss: 0.2650 - val_accuracy: 0.9137 - val_auc: 0.0000e+00\n",
      "Epoch 49/50\n",
      "160/160 [==============================] - 0s 2ms/step - loss: 0.3532 - accuracy: 0.8577 - auc: 0.9228 - val_loss: 0.2499 - val_accuracy: 0.9174 - val_auc: 0.0000e+00\n",
      "Epoch 50/50\n",
      "160/160 [==============================] - 0s 2ms/step - loss: 0.3411 - accuracy: 0.8573 - auc: 0.9283 - val_loss: 0.2622 - val_accuracy: 0.9081 - val_auc: 0.0000e+00\n",
      "\n",
      "Training time spent[s]:  19.189342975616455\n",
      "\n"
     ]
    }
   ],
   "source": [
    "start = time()\n",
    "\n",
    "## Model fitting\n",
    "history = model.fit(X_train_model, y_train_model, \n",
    "                    validation_split=0.1, shuffle=True, \n",
    "                    batch_size=30, epochs=50)\n",
    "\n",
    "print('\\nTraining time spent[s]: ', time()-start, end='\\n\\n')"
   ]
  },
  {
   "cell_type": "code",
   "execution_count": 10,
   "metadata": {
    "colab": {
     "base_uri": "https://localhost:8080/",
     "height": 388
    },
    "executionInfo": {
     "elapsed": 907,
     "status": "ok",
     "timestamp": 1636923631885,
     "user": {
      "displayName": "Anthony Cho",
      "photoUrl": "https://lh3.googleusercontent.com/a/default-user=s64",
      "userId": "04569494085624422303"
     },
     "user_tz": 180
    },
    "id": "uW_h99Ch_1br",
    "outputId": "9c1426c1-f8da-468e-e8cc-7a70a05836d0"
   },
   "outputs": [
    {
     "data": {
      "image/png": "[encoded data removed]",
      "text/plain": [
       "<Figure size 1296x432 with 3 Axes>"
      ]
     },
     "metadata": {
      "needs_background": "light"
     },
     "output_type": "display_data"
    }
   ],
   "source": [
    "## Display model performance\n",
    "plot_history(history, width=18)"
   ]
  },
  {
   "cell_type": "markdown",
   "metadata": {
    "id": "sjnb8BwC-CdI"
   },
   "source": [
    "## Predictions"
   ]
  },
  {
   "cell_type": "code",
   "execution_count": 11,
   "metadata": {
    "executionInfo": {
     "elapsed": 554,
     "status": "ok",
     "timestamp": 1636923659567,
     "user": {
      "displayName": "Anthony Cho",
      "photoUrl": "https://lh3.googleusercontent.com/a/default-user=s64",
      "userId": "04569494085624422303"
     },
     "user_tz": 180
    },
    "id": "pd-92ywV-CdJ"
   },
   "outputs": [],
   "source": [
    "## Prediction as prob-value\n",
    "prediction = model.predict(X_test_model)\n",
    "\n",
    "## Decode value to class\n",
    "prediction_class = round(prediction.ravel())"
   ]
  },
  {
   "cell_type": "code",
   "execution_count": 12,
   "metadata": {
    "colab": {
     "base_uri": "https://localhost:8080/"
    },
    "executionInfo": {
     "elapsed": 208,
     "status": "ok",
     "timestamp": 1636923676460,
     "user": {
      "displayName": "Anthony Cho",
      "photoUrl": "https://lh3.googleusercontent.com/a/default-user=s64",
      "userId": "04569494085624422303"
     },
     "user_tz": 180
    },
    "id": "3a_8ztYIAJe9",
    "outputId": "8c3ebf3a-1683-4395-cf60-7977799efca1"
   },
   "outputs": [
    {
     "data": {
      "text/plain": [
       "array([0., 0., 0., ..., 0., 0., 0.], dtype=float32)"
      ]
     },
     "execution_count": 12,
     "metadata": {},
     "output_type": "execute_result"
    }
   ],
   "source": [
    "prediction_class"
   ]
  },
  {
   "cell_type": "code",
   "execution_count": 13,
   "metadata": {
    "colab": {
     "base_uri": "https://localhost:8080/"
    },
    "executionInfo": {
     "elapsed": 205,
     "status": "ok",
     "timestamp": 1636923679554,
     "user": {
      "displayName": "Anthony Cho",
      "photoUrl": "https://lh3.googleusercontent.com/a/default-user=s64",
      "userId": "04569494085624422303"
     },
     "user_tz": 180
    },
    "id": "y61dEiA--CdL",
    "outputId": "32b4b0ea-2947-413a-8633-15bc0ca41479"
   },
   "outputs": [
    {
     "data": {
      "text/plain": [
       "array([[1156,  179],\n",
       "       [  64,   93]])"
      ]
     },
     "execution_count": 13,
     "metadata": {},
     "output_type": "execute_result"
    }
   ],
   "source": [
    "## Display confusion matrix\n",
    "confusion_matrix(y_true=y_test_model, y_pred=prediction_class)"
   ]
  },
  {
   "cell_type": "code",
   "execution_count": 14,
   "metadata": {
    "colab": {
     "base_uri": "https://localhost:8080/"
    },
    "executionInfo": {
     "elapsed": 207,
     "status": "ok",
     "timestamp": 1636923685478,
     "user": {
      "displayName": "Anthony Cho",
      "photoUrl": "https://lh3.googleusercontent.com/a/default-user=s64",
      "userId": "04569494085624422303"
     },
     "user_tz": 180
    },
    "id": "zU6W6JdV-CdL",
    "outputId": "049ea48b-4761-4949-cc45-22a980813e56"
   },
   "outputs": [
    {
     "data": {
      "text/plain": [
       "Counter({0: 1335, 1: 157})"
      ]
     },
     "execution_count": 14,
     "metadata": {},
     "output_type": "execute_result"
    }
   ],
   "source": [
    "## Display number of sample per class in test data\n",
    "Counter(y_test_model)"
   ]
  },
  {
   "cell_type": "code",
   "execution_count": 15,
   "metadata": {
    "colab": {
     "base_uri": "https://localhost:8080/"
    },
    "executionInfo": {
     "elapsed": 223,
     "status": "ok",
     "timestamp": 1636923781303,
     "user": {
      "displayName": "Anthony Cho",
      "photoUrl": "https://lh3.googleusercontent.com/a/default-user=s64",
      "userId": "04569494085624422303"
     },
     "user_tz": 180
    },
    "id": "ei1R1FKWQjsU",
    "outputId": "cd8eee78-06bc-4cf4-af13-ebf819bfe68c"
   },
   "outputs": [
    {
     "name": "stdout",
     "output_type": "stream",
     "text": [
      "              precision    recall  f1-score   support\n",
      "\n",
      "           0       0.95      0.87      0.90      1335\n",
      "           1       0.34      0.59      0.43       157\n",
      "\n",
      "    accuracy                           0.84      1492\n",
      "   macro avg       0.64      0.73      0.67      1492\n",
      "weighted avg       0.88      0.84      0.86      1492\n",
      "\n"
     ]
    }
   ],
   "source": [
    "print(classification_report(y_true=y_test_model, y_pred=prediction_class))"
   ]
  },
  {
   "cell_type": "markdown",
   "metadata": {},
   "source": [
    "### Best model\n",
    "\n",
    "Looking into the performance charts, it seems to stabilize (kind of overfit) starting at epoch 49."
   ]
  },
  {
   "cell_type": "code",
   "execution_count": 16,
   "metadata": {},
   "outputs": [],
   "source": [
    "## Build model\n",
    "model = Sequential(name='Bank_marketing')\n",
    "model.add(layers.Input(shape=X_train_balanced.shape[1]))\n",
    "model.add(layers.Dense(units=100, activation='relu', name='Dense_01'))\n",
    "model.add(layers.Dropout(rate=0.5, name='Dropout_01'))\n",
    "model.add(layers.Dense(units=50, activation='relu', name='Dense_02'))\n",
    "model.add(layers.Dropout(rate=0.1, name='Dropout_02'))\n",
    "model.add(layers.Dense(units=1, activation='sigmoid', name='output'))\n",
    "\n",
    "## Compiler setting\n",
    "model.compile(loss='binary_crossentropy', metrics=['accuracy', AUC()],\n",
    "              optimizer=Adam(learning_rate=0.0001))"
   ]
  },
  {
   "cell_type": "code",
   "execution_count": 17,
   "metadata": {},
   "outputs": [
    {
     "name": "stdout",
     "output_type": "stream",
     "text": [
      "Epoch 1/49\n",
      "178/178 [==============================] - 1s 2ms/step - loss: 0.7027 - accuracy: 0.4994 - auc_1: 0.5133\n",
      "Epoch 2/49\n",
      "178/178 [==============================] - 0s 2ms/step - loss: 0.6604 - accuracy: 0.6095 - auc_1: 0.6694\n",
      "Epoch 3/49\n",
      "178/178 [==============================] - 0s 2ms/step - loss: 0.6329 - accuracy: 0.6676 - auc_1: 0.7221\n",
      "Epoch 4/49\n",
      "178/178 [==============================] - 0s 2ms/step - loss: 0.6024 - accuracy: 0.6855 - auc_1: 0.7527\n",
      "Epoch 5/49\n",
      "178/178 [==============================] - 0s 2ms/step - loss: 0.5691 - accuracy: 0.7161 - auc_1: 0.7871\n",
      "Epoch 6/49\n",
      "178/178 [==============================] - 0s 2ms/step - loss: 0.5404 - accuracy: 0.7340 - auc_1: 0.8102\n",
      "Epoch 7/49\n",
      "178/178 [==============================] - 0s 2ms/step - loss: 0.5288 - accuracy: 0.7417 - auc_1: 0.8141\n",
      "Epoch 8/49\n",
      "178/178 [==============================] - 0s 2ms/step - loss: 0.5156 - accuracy: 0.7467 - auc_1: 0.8245\n",
      "Epoch 9/49\n",
      "178/178 [==============================] - 0s 2ms/step - loss: 0.5025 - accuracy: 0.7581 - auc_1: 0.8324\n",
      "Epoch 10/49\n",
      "178/178 [==============================] - 0s 2ms/step - loss: 0.5022 - accuracy: 0.7598 - auc_1: 0.8334\n",
      "Epoch 11/49\n",
      "178/178 [==============================] - 0s 2ms/step - loss: 0.4905 - accuracy: 0.7708 - auc_1: 0.8437\n",
      "Epoch 12/49\n",
      "178/178 [==============================] - 0s 2ms/step - loss: 0.4779 - accuracy: 0.7774 - auc_1: 0.8524\n",
      "Epoch 13/49\n",
      "178/178 [==============================] - 0s 2ms/step - loss: 0.4734 - accuracy: 0.7731 - auc_1: 0.8565\n",
      "Epoch 14/49\n",
      "178/178 [==============================] - 0s 2ms/step - loss: 0.4656 - accuracy: 0.7892 - auc_1: 0.8637\n",
      "Epoch 15/49\n",
      "178/178 [==============================] - 0s 2ms/step - loss: 0.4601 - accuracy: 0.7934 - auc_1: 0.8648\n",
      "Epoch 16/49\n",
      "178/178 [==============================] - 0s 2ms/step - loss: 0.4463 - accuracy: 0.8000 - auc_1: 0.8757\n",
      "Epoch 17/49\n",
      "178/178 [==============================] - 0s 2ms/step - loss: 0.4539 - accuracy: 0.7863 - auc_1: 0.8685\n",
      "Epoch 18/49\n",
      "178/178 [==============================] - 0s 2ms/step - loss: 0.4409 - accuracy: 0.8011 - auc_1: 0.8752\n",
      "Epoch 19/49\n",
      "178/178 [==============================] - 0s 2ms/step - loss: 0.4345 - accuracy: 0.7988 - auc_1: 0.8800\n",
      "Epoch 20/49\n",
      "178/178 [==============================] - 0s 2ms/step - loss: 0.4289 - accuracy: 0.8065 - auc_1: 0.8843\n",
      "Epoch 21/49\n",
      "178/178 [==============================] - 0s 2ms/step - loss: 0.4209 - accuracy: 0.8153 - auc_1: 0.8901\n",
      "Epoch 22/49\n",
      "178/178 [==============================] - 0s 2ms/step - loss: 0.4280 - accuracy: 0.8109 - auc_1: 0.8884\n",
      "Epoch 23/49\n",
      "178/178 [==============================] - 0s 2ms/step - loss: 0.4125 - accuracy: 0.8225 - auc_1: 0.8942\n",
      "Epoch 24/49\n",
      "178/178 [==============================] - 0s 2ms/step - loss: 0.4116 - accuracy: 0.8208 - auc_1: 0.8946\n",
      "Epoch 25/49\n",
      "178/178 [==============================] - 0s 2ms/step - loss: 0.4114 - accuracy: 0.8232 - auc_1: 0.8975\n",
      "Epoch 26/49\n",
      "178/178 [==============================] - 0s 2ms/step - loss: 0.3867 - accuracy: 0.8346 - auc_1: 0.9079\n",
      "Epoch 27/49\n",
      "178/178 [==============================] - 0s 2ms/step - loss: 0.3896 - accuracy: 0.8349 - auc_1: 0.9078\n",
      "Epoch 28/49\n",
      "178/178 [==============================] - 0s 2ms/step - loss: 0.4011 - accuracy: 0.8164 - auc_1: 0.8983\n",
      "Epoch 29/49\n",
      "178/178 [==============================] - 0s 3ms/step - loss: 0.3769 - accuracy: 0.8376 - auc_1: 0.9123\n",
      "Epoch 30/49\n",
      "178/178 [==============================] - 0s 2ms/step - loss: 0.3850 - accuracy: 0.8288 - auc_1: 0.9082\n",
      "Epoch 31/49\n",
      "178/178 [==============================] - 0s 2ms/step - loss: 0.3703 - accuracy: 0.8410 - auc_1: 0.9160\n",
      "Epoch 32/49\n",
      "178/178 [==============================] - 0s 2ms/step - loss: 0.3788 - accuracy: 0.8349 - auc_1: 0.9120\n",
      "Epoch 33/49\n",
      "178/178 [==============================] - 1s 3ms/step - loss: 0.3620 - accuracy: 0.8456 - auc_1: 0.9217\n",
      "Epoch 34/49\n",
      "178/178 [==============================] - 0s 3ms/step - loss: 0.3625 - accuracy: 0.8405 - auc_1: 0.9191\n",
      "Epoch 35/49\n",
      "178/178 [==============================] - 0s 2ms/step - loss: 0.3879 - accuracy: 0.8390 - auc_1: 0.9065\n",
      "Epoch 36/49\n",
      "178/178 [==============================] - 0s 2ms/step - loss: 0.3775 - accuracy: 0.8432 - auc_1: 0.9123\n",
      "Epoch 37/49\n",
      "178/178 [==============================] - 0s 2ms/step - loss: 0.3641 - accuracy: 0.8491 - auc_1: 0.9193\n",
      "Epoch 38/49\n",
      "178/178 [==============================] - 0s 2ms/step - loss: 0.3568 - accuracy: 0.8481 - auc_1: 0.9220\n",
      "Epoch 39/49\n",
      "178/178 [==============================] - 0s 2ms/step - loss: 0.3493 - accuracy: 0.8541 - auc_1: 0.9254\n",
      "Epoch 40/49\n",
      "178/178 [==============================] - 0s 2ms/step - loss: 0.3577 - accuracy: 0.8452 - auc_1: 0.9211\n",
      "Epoch 41/49\n",
      "178/178 [==============================] - 0s 2ms/step - loss: 0.3641 - accuracy: 0.8468 - auc_1: 0.9187\n",
      "Epoch 42/49\n",
      "178/178 [==============================] - 0s 2ms/step - loss: 0.3620 - accuracy: 0.8525 - auc_1: 0.9187\n",
      "Epoch 43/49\n",
      "178/178 [==============================] - 0s 2ms/step - loss: 0.3597 - accuracy: 0.8470 - auc_1: 0.9208\n",
      "Epoch 44/49\n",
      "178/178 [==============================] - 0s 2ms/step - loss: 0.3553 - accuracy: 0.8571 - auc_1: 0.9242\n",
      "Epoch 45/49\n",
      "178/178 [==============================] - 0s 2ms/step - loss: 0.3506 - accuracy: 0.8512 - auc_1: 0.9247\n",
      "Epoch 46/49\n",
      "178/178 [==============================] - 0s 2ms/step - loss: 0.3486 - accuracy: 0.8558 - auc_1: 0.9250\n",
      "Epoch 47/49\n",
      "178/178 [==============================] - 0s 2ms/step - loss: 0.3305 - accuracy: 0.8616 - auc_1: 0.9332\n",
      "Epoch 48/49\n",
      "178/178 [==============================] - 0s 2ms/step - loss: 0.3538 - accuracy: 0.8547 - auc_1: 0.9217\n",
      "Epoch 49/49\n",
      "178/178 [==============================] - 0s 2ms/step - loss: 0.3416 - accuracy: 0.8575 - auc_1: 0.9277\n",
      "\n",
      "Training time spent[s]:  17.499542951583862\n",
      "\n"
     ]
    }
   ],
   "source": [
    "start = time()\n",
    "\n",
    "## Model fitting\n",
    "history = model.fit(X_train_model, y_train_model, \n",
    "                    shuffle=True, \n",
    "                    batch_size=30, epochs=49)\n",
    "\n",
    "print('\\nTraining time spent[s]: ', time()-start, end='\\n\\n')"
   ]
  },
  {
   "cell_type": "code",
   "execution_count": 18,
   "metadata": {},
   "outputs": [],
   "source": [
    "## Prediction as prob-value\n",
    "prediction = model.predict(X_test_model)\n",
    "\n",
    "## Decode value to class\n",
    "prediction_class = round(prediction.ravel())"
   ]
  },
  {
   "cell_type": "code",
   "execution_count": 19,
   "metadata": {},
   "outputs": [
    {
     "data": {
      "text/plain": [
       "array([[1145,  190],\n",
       "       [  59,   98]])"
      ]
     },
     "execution_count": 19,
     "metadata": {},
     "output_type": "execute_result"
    }
   ],
   "source": [
    "## Display confusion matrix\n",
    "confusion_matrix(y_true=y_test_model, y_pred=prediction_class)"
   ]
  },
  {
   "cell_type": "code",
   "execution_count": 20,
   "metadata": {},
   "outputs": [
    {
     "name": "stdout",
     "output_type": "stream",
     "text": [
      "              precision    recall  f1-score   support\n",
      "\n",
      "           0       0.95      0.86      0.90      1335\n",
      "           1       0.34      0.62      0.44       157\n",
      "\n",
      "    accuracy                           0.83      1492\n",
      "   macro avg       0.65      0.74      0.67      1492\n",
      "weighted avg       0.89      0.83      0.85      1492\n",
      "\n"
     ]
    }
   ],
   "source": [
    "## Display classification report\n",
    "print(classification_report(y_true=y_test_model, y_pred=prediction_class))"
   ]
  }
 ],
 "metadata": {
  "accelerator": "GPU",
  "colab": {
   "collapsed_sections": [],
   "name": "Classification (MLP, dropout - keras, tensorflow) - Bank Marketing.ipynb",
   "provenance": []
  },
  "kernelspec": {
   "display_name": "Python 3",
   "language": "python",
   "name": "python3"
  },
  "language_info": {
   "codemirror_mode": {
    "name": "ipython",
    "version": 3
   },
   "file_extension": ".py",
   "mimetype": "text/x-python",
   "name": "python",
   "nbconvert_exporter": "python",
   "pygments_lexer": "ipython3",
   "version": "3.8.10"
  }
 },
 "nbformat": 4,
 "nbformat_minor": 1
}
