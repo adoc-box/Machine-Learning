{
 "cells": [
  {
   "cell_type": "markdown",
   "metadata": {},
   "source": [
    "### Created by: Anthony D. Cho\n",
    "### Last update: 13.10.2021\n",
    "\n",
    "**Subject**: Classification (Logistic, SVM) - Applied to Letter Recognition\n"
   ]
  },
  {
   "cell_type": "markdown",
   "metadata": {},
   "source": [
    "## Libraries dependencies"
   ]
  },
  {
   "cell_type": "code",
   "execution_count": 1,
   "metadata": {},
   "outputs": [],
   "source": [
    "import warnings\n",
    "warnings.filterwarnings('ignore')\n",
    "\n",
    "from ipywidgets import interact#, interact_manual\n",
    "\n",
    "from time import time\n",
    "import matplotlib.pyplot as plt\n",
    "from pandas import read_csv, get_dummies\n",
    "\n",
    "## Pre-processing functions\n",
    "from sklearn.preprocessing import StandardScaler, LabelEncoder\n",
    "from sklearn.model_selection import train_test_split\n",
    "from numpy import linspace\n",
    "\n",
    "## Models\n",
    "from sklearn.linear_model import LogisticRegression\n",
    "from sklearn.svm import LinearSVC\n",
    "\n",
    "## Metrics\n",
    "from sklearn.metrics import accuracy_score, precision_score, recall_score, classification_report\n",
    "\n",
    "%matplotlib inline"
   ]
  },
  {
   "cell_type": "markdown",
   "metadata": {},
   "source": [
    "# Problem: Letter Recognition"
   ]
  },
  {
   "cell_type": "markdown",
   "metadata": {},
   "source": [
    "## Data loading\n",
    "\n",
    "Source: [Letter Recognition Data Set](https://archive.ics.uci.edu/ml/datasets/Letter+Recognition) (UCI Repository)"
   ]
  },
  {
   "cell_type": "code",
   "execution_count": 2,
   "metadata": {},
   "outputs": [],
   "source": [
    "## Load data\n",
    "data = read_csv('https://archive.ics.uci.edu/ml/machine-learning-databases/letter-recognition/letter-recognition.data',\n",
    "                header=None)"
   ]
  },
  {
   "cell_type": "code",
   "execution_count": 3,
   "metadata": {},
   "outputs": [
    {
     "name": "stdout",
     "output_type": "stream",
     "text": [
      "<class 'pandas.core.frame.DataFrame'>\n",
      "RangeIndex: 20000 entries, 0 to 19999\n",
      "Data columns (total 17 columns):\n",
      " #   Column  Non-Null Count  Dtype \n",
      "---  ------  --------------  ----- \n",
      " 0   0       20000 non-null  object\n",
      " 1   1       20000 non-null  int64 \n",
      " 2   2       20000 non-null  int64 \n",
      " 3   3       20000 non-null  int64 \n",
      " 4   4       20000 non-null  int64 \n",
      " 5   5       20000 non-null  int64 \n",
      " 6   6       20000 non-null  int64 \n",
      " 7   7       20000 non-null  int64 \n",
      " 8   8       20000 non-null  int64 \n",
      " 9   9       20000 non-null  int64 \n",
      " 10  10      20000 non-null  int64 \n",
      " 11  11      20000 non-null  int64 \n",
      " 12  12      20000 non-null  int64 \n",
      " 13  13      20000 non-null  int64 \n",
      " 14  14      20000 non-null  int64 \n",
      " 15  15      20000 non-null  int64 \n",
      " 16  16      20000 non-null  int64 \n",
      "dtypes: int64(16), object(1)\n",
      "memory usage: 2.6+ MB\n"
     ]
    }
   ],
   "source": [
    "data.info()"
   ]
  },
  {
   "cell_type": "code",
   "execution_count": 4,
   "metadata": {},
   "outputs": [
    {
     "data": {
      "text/html": [
       "<div>\n",
       "<style scoped>\n",
       "    .dataframe tbody tr th:only-of-type {\n",
       "        vertical-align: middle;\n",
       "    }\n",
       "\n",
       "    .dataframe tbody tr th {\n",
       "        vertical-align: top;\n",
       "    }\n",
       "\n",
       "    .dataframe thead th {\n",
       "        text-align: right;\n",
       "    }\n",
       "</style>\n",
       "<table border=\"1\" class=\"dataframe\">\n",
       "  <thead>\n",
       "    <tr style=\"text-align: right;\">\n",
       "      <th></th>\n",
       "      <th>0</th>\n",
       "      <th>1</th>\n",
       "      <th>2</th>\n",
       "      <th>3</th>\n",
       "      <th>4</th>\n",
       "      <th>5</th>\n",
       "      <th>6</th>\n",
       "      <th>7</th>\n",
       "      <th>8</th>\n",
       "      <th>9</th>\n",
       "      <th>10</th>\n",
       "      <th>11</th>\n",
       "      <th>12</th>\n",
       "      <th>13</th>\n",
       "      <th>14</th>\n",
       "      <th>15</th>\n",
       "      <th>16</th>\n",
       "    </tr>\n",
       "  </thead>\n",
       "  <tbody>\n",
       "    <tr>\n",
       "      <th>0</th>\n",
       "      <td>T</td>\n",
       "      <td>2</td>\n",
       "      <td>8</td>\n",
       "      <td>3</td>\n",
       "      <td>5</td>\n",
       "      <td>1</td>\n",
       "      <td>8</td>\n",
       "      <td>13</td>\n",
       "      <td>0</td>\n",
       "      <td>6</td>\n",
       "      <td>6</td>\n",
       "      <td>10</td>\n",
       "      <td>8</td>\n",
       "      <td>0</td>\n",
       "      <td>8</td>\n",
       "      <td>0</td>\n",
       "      <td>8</td>\n",
       "    </tr>\n",
       "    <tr>\n",
       "      <th>1</th>\n",
       "      <td>I</td>\n",
       "      <td>5</td>\n",
       "      <td>12</td>\n",
       "      <td>3</td>\n",
       "      <td>7</td>\n",
       "      <td>2</td>\n",
       "      <td>10</td>\n",
       "      <td>5</td>\n",
       "      <td>5</td>\n",
       "      <td>4</td>\n",
       "      <td>13</td>\n",
       "      <td>3</td>\n",
       "      <td>9</td>\n",
       "      <td>2</td>\n",
       "      <td>8</td>\n",
       "      <td>4</td>\n",
       "      <td>10</td>\n",
       "    </tr>\n",
       "    <tr>\n",
       "      <th>2</th>\n",
       "      <td>D</td>\n",
       "      <td>4</td>\n",
       "      <td>11</td>\n",
       "      <td>6</td>\n",
       "      <td>8</td>\n",
       "      <td>6</td>\n",
       "      <td>10</td>\n",
       "      <td>6</td>\n",
       "      <td>2</td>\n",
       "      <td>6</td>\n",
       "      <td>10</td>\n",
       "      <td>3</td>\n",
       "      <td>7</td>\n",
       "      <td>3</td>\n",
       "      <td>7</td>\n",
       "      <td>3</td>\n",
       "      <td>9</td>\n",
       "    </tr>\n",
       "    <tr>\n",
       "      <th>3</th>\n",
       "      <td>N</td>\n",
       "      <td>7</td>\n",
       "      <td>11</td>\n",
       "      <td>6</td>\n",
       "      <td>6</td>\n",
       "      <td>3</td>\n",
       "      <td>5</td>\n",
       "      <td>9</td>\n",
       "      <td>4</td>\n",
       "      <td>6</td>\n",
       "      <td>4</td>\n",
       "      <td>4</td>\n",
       "      <td>10</td>\n",
       "      <td>6</td>\n",
       "      <td>10</td>\n",
       "      <td>2</td>\n",
       "      <td>8</td>\n",
       "    </tr>\n",
       "  </tbody>\n",
       "</table>\n",
       "</div>"
      ],
      "text/plain": [
       "  0   1   2   3   4   5   6   7   8   9   10  11  12  13  14  15  16\n",
       "0  T   2   8   3   5   1   8  13   0   6   6  10   8   0   8   0   8\n",
       "1  I   5  12   3   7   2  10   5   5   4  13   3   9   2   8   4  10\n",
       "2  D   4  11   6   8   6  10   6   2   6  10   3   7   3   7   3   9\n",
       "3  N   7  11   6   6   3   5   9   4   6   4   4  10   6  10   2   8"
      ]
     },
     "execution_count": 4,
     "metadata": {},
     "output_type": "execute_result"
    }
   ],
   "source": [
    "data.head(4)"
   ]
  },
  {
   "cell_type": "markdown",
   "metadata": {},
   "source": [
    "#### The target (letter) is on column 0"
   ]
  },
  {
   "cell_type": "markdown",
   "metadata": {},
   "source": [
    "## Data pre-processing"
   ]
  },
  {
   "cell_type": "code",
   "execution_count": 5,
   "metadata": {},
   "outputs": [],
   "source": [
    "## Encode: column 0 (letters) supposing in ordinal way (0: A, 1: B, ..., 25: Z)\n",
    "encoder = LabelEncoder().fit(data.iloc[:, 0])\n",
    "data.iloc[:, 0] = encoder.transform(data.iloc[:, 0])"
   ]
  },
  {
   "cell_type": "code",
   "execution_count": 6,
   "metadata": {},
   "outputs": [
    {
     "name": "stdout",
     "output_type": "stream",
     "text": [
      "(train shape) X: (14450, 16), y: (14450,)\n",
      "(Validation shape) X: (2550, 16), y: (2550,)\n",
      "(test shape) X: (3000, 16), y: (3000,)\n"
     ]
    }
   ],
   "source": [
    "## Predictors and target (first column: letter)\n",
    "X, y = data.iloc[:, 1:], data.iloc[:, 0]\n",
    "\n",
    "## Data partition (hold-out validation)\n",
    "X_trainVal, X_test, y_trainVal, y_test = train_test_split(X, y, train_size=0.85, random_state=0)\n",
    "X_train, X_val, y_train, y_val = train_test_split(X_trainVal, y_trainVal, train_size=0.85, random_state=0)\n",
    "\n",
    "## Data standardization (this function return a numpy.ndarray)\n",
    "scaler = StandardScaler().fit(X_train)\n",
    "X_train = scaler.transform(X_train)\n",
    "X_val = scaler.transform(X_val)\n",
    "X_test = scaler.transform(X_test)\n",
    "\n",
    "print('(train shape) X: {}, y: {}'.format(X_train.shape, y_train.shape))\n",
    "print('(Validation shape) X: {}, y: {}'.format(X_val.shape, y_val.shape))\n",
    "print('(test shape) X: {}, y: {}'.format(X_test.shape, y_test.shape))"
   ]
  },
  {
   "cell_type": "markdown",
   "metadata": {},
   "source": [
    "## Model: Linear SVM / Logistic regression"
   ]
  },
  {
   "cell_type": "code",
   "execution_count": 7,
   "metadata": {},
   "outputs": [
    {
     "data": {
      "image/png": "[encoded data removed]",
      "text/plain": [
       "<Figure size 936x720 with 2 Axes>"
      ]
     },
     "metadata": {
      "needs_background": "light"
     },
     "output_type": "display_data"
    },
    {
     "name": "stdout",
     "output_type": "stream",
     "text": [
      "Time spent[s]: 158.23\n"
     ]
    }
   ],
   "source": [
    "start = time()\n",
    "\n",
    "## Set of regularization values \n",
    "C = linspace(0.001, 0.5, 20)\n",
    "\n",
    "## Scores storage\n",
    "metrics = {'Logistic': {'accuracy':[], 'precision': [], 'recall': []},\n",
    "           'LinearSVC': {'accuracy':[], 'precision': [], 'recall': []}\n",
    "           }\n",
    "\n",
    "## Run over all values of C.\n",
    "for c in C:\n",
    "    \n",
    "    ## Models instance\n",
    "    methods = {'Logistic': LogisticRegression(n_jobs=-1, C=c), \n",
    "               'LinearSVC': LinearSVC(C=c)}\n",
    "    \n",
    "    ## Fit and compte scores using validation dataset\n",
    "    for m in methods:\n",
    "        \n",
    "        ## Model fitting\n",
    "        methods[m].fit(X_train, y_train)\n",
    "        \n",
    "        ## Compute prediction using validation data\n",
    "        prediction = methods[m].predict(X_val)\n",
    "        \n",
    "        ## Compute scores\n",
    "        metrics[m]['accuracy'].append( accuracy_score(y_true=y_val, y_pred=prediction) )\n",
    "        metrics[m]['precision'].append( precision_score(y_true=y_val, y_pred=prediction, average='weighted') )\n",
    "        metrics[m]['recall'].append( recall_score(y_true=y_val, y_pred=prediction, average='weighted') )\n",
    "\n",
    "## Plot C-values vs scores\n",
    "i = 1\n",
    "plt.figure(figsize=(13, 10))\n",
    "\n",
    "for method in metrics.keys():\n",
    "    plt.subplot(2,1,i)\n",
    "    \n",
    "    for metric in metrics[method].keys():\n",
    "        \n",
    "        # Display scores\n",
    "        plt.plot(C, metrics[method][metric], label=metric) \n",
    "        \n",
    "    plt.title('{} (Scores)'.format(method))\n",
    "    plt.xlabel('C-values')\n",
    "    plt.ylabel('rate')\n",
    "    plt.legend(loc=(1.01, 0.5))\n",
    "    plt.xlim(C[0], C[-1])\n",
    "    plt.ylim(0,1)\n",
    "    i += 1\n",
    "plt.tight_layout()\n",
    "plt.show()\n",
    "\n",
    "stop = time()\n",
    "print('Time spent[s]: {:.2f}'.format(stop -start))"
   ]
  },
  {
   "cell_type": "markdown",
   "metadata": {},
   "source": [
    "## Best model: Logistic regression"
   ]
  },
  {
   "cell_type": "code",
   "execution_count": 9,
   "metadata": {},
   "outputs": [],
   "source": [
    "## Predictors and target (first column: letter)\n",
    "X, y = data.iloc[:, 1:], data.iloc[:, 0]\n",
    "\n",
    "## Data partition (hold-out validation)\n",
    "X_train, X_test, y_train, y_test = train_test_split(X, y, train_size=0.85, random_state=0)\n",
    "\n",
    "## Data standardization (this function return a numpy.ndarray)\n",
    "scaler = StandardScaler().fit(X_train)\n",
    "scaler = StandardScaler().fit(X_train)\n",
    "X_train = scaler.transform(X_train)\n",
    "X_test = scaler.transform(X_test)"
   ]
  },
  {
   "cell_type": "code",
   "execution_count": 10,
   "metadata": {},
   "outputs": [],
   "source": [
    "c = 0.05"
   ]
  },
  {
   "cell_type": "code",
   "execution_count": 11,
   "metadata": {},
   "outputs": [
    {
     "name": "stdout",
     "output_type": "stream",
     "text": [
      "Accuracy  (test): 0.7697\n",
      "Precision (test): 0.7712\n",
      "Recall    (test): 0.7697\n"
     ]
    }
   ],
   "source": [
    "## Build, fit and predict\n",
    "model = LogisticRegression(n_jobs=-1, C=c)\n",
    "model.fit(X_train, y_train)\n",
    "prediction = model.predict(X_test)\n",
    "\n",
    "print('Accuracy  (test): {:.4f}'.format( accuracy_score(y_true=y_test, y_pred=prediction) ))\n",
    "print('Precision (test): {:.4f}'.format( precision_score(y_true=y_test, y_pred=prediction, average='weighted') ))\n",
    "print('Recall    (test): {:.4f}'.format( recall_score(y_true=y_test, y_pred=prediction, average='weighted') ))"
   ]
  },
  {
   "cell_type": "code",
   "execution_count": 13,
   "metadata": {},
   "outputs": [
    {
     "name": "stdout",
     "output_type": "stream",
     "text": [
      "              precision    recall  f1-score   support\n",
      "\n",
      "           0       0.83      0.89      0.86       107\n",
      "           1       0.67      0.65      0.66       113\n",
      "           2       0.79      0.75      0.77       130\n",
      "           3       0.73      0.81      0.77       128\n",
      "           4       0.71      0.78      0.74       106\n",
      "           5       0.82      0.78      0.80       121\n",
      "           6       0.72      0.51      0.59       144\n",
      "           7       0.57      0.44      0.50        95\n",
      "           8       0.92      0.82      0.87        88\n",
      "           9       0.92      0.85      0.88       110\n",
      "          10       0.66      0.74      0.70       103\n",
      "          11       0.90      0.84      0.87       122\n",
      "          12       0.86      0.89      0.87       141\n",
      "          13       0.83      0.86      0.84       110\n",
      "          14       0.71      0.65      0.68       105\n",
      "          15       0.89      0.80      0.84       124\n",
      "          16       0.64      0.84      0.73       108\n",
      "          17       0.60      0.77      0.67        97\n",
      "          18       0.62      0.48      0.54       114\n",
      "          19       0.82      0.84      0.83       133\n",
      "          20       0.85      0.91      0.88       117\n",
      "          21       0.81      0.91      0.85       119\n",
      "          22       0.84      0.88      0.86       116\n",
      "          23       0.80      0.77      0.79       123\n",
      "          24       0.76      0.73      0.75       113\n",
      "          25       0.73      0.77      0.75       113\n",
      "\n",
      "    accuracy                           0.77      3000\n",
      "   macro avg       0.77      0.77      0.76      3000\n",
      "weighted avg       0.77      0.77      0.77      3000\n",
      "\n"
     ]
    }
   ],
   "source": [
    "print(classification_report(y_true=y_test, y_pred=prediction))"
   ]
  },
  {
   "cell_type": "markdown",
   "metadata": {},
   "source": [
    "## Best model: Linear SVM"
   ]
  },
  {
   "cell_type": "code",
   "execution_count": 14,
   "metadata": {},
   "outputs": [
    {
     "name": "stdout",
     "output_type": "stream",
     "text": [
      "Accuracy  (test): 0.6967\n",
      "Precision (test): 0.6990\n",
      "Recall    (test): 0.6967\n"
     ]
    }
   ],
   "source": [
    "## Build, fit and predict\n",
    "model = LinearSVC(C=c)\n",
    "model.fit(X_train, y_train)\n",
    "prediction = model.predict(X_test)\n",
    "\n",
    "print('Accuracy  (test): {:.4f}'.format( accuracy_score(y_true=y_test, y_pred=prediction) ))\n",
    "print('Precision (test): {:.4f}'.format( precision_score(y_true=y_test, y_pred=prediction, average='weighted') ))\n",
    "print('Recall    (test): {:.4f}'.format( recall_score(y_true=y_test, y_pred=prediction, average='weighted') ))"
   ]
  },
  {
   "cell_type": "code",
   "execution_count": 15,
   "metadata": {},
   "outputs": [
    {
     "name": "stdout",
     "output_type": "stream",
     "text": [
      "              precision    recall  f1-score   support\n",
      "\n",
      "           0       0.82      0.89      0.85       107\n",
      "           1       0.57      0.61      0.59       113\n",
      "           2       0.66      0.78      0.72       130\n",
      "           3       0.72      0.80      0.76       128\n",
      "           4       0.67      0.55      0.60       106\n",
      "           5       0.82      0.63      0.71       121\n",
      "           6       0.71      0.20      0.31       144\n",
      "           7       0.32      0.23      0.27        95\n",
      "           8       0.80      0.81      0.80        88\n",
      "           9       0.82      0.81      0.81       110\n",
      "          10       0.62      0.56      0.59       103\n",
      "          11       0.80      0.82      0.81       122\n",
      "          12       0.81      0.89      0.85       141\n",
      "          13       0.67      0.78      0.72       110\n",
      "          14       0.72      0.34      0.46       105\n",
      "          15       0.74      0.81      0.77       124\n",
      "          16       0.52      0.81      0.64       108\n",
      "          17       0.51      0.80      0.62        97\n",
      "          18       0.50      0.38      0.43       114\n",
      "          19       0.78      0.86      0.81       133\n",
      "          20       0.76      0.85      0.81       117\n",
      "          21       0.80      0.83      0.82       119\n",
      "          22       0.81      0.87      0.84       116\n",
      "          23       0.69      0.65      0.67       123\n",
      "          24       0.75      0.71      0.73       113\n",
      "          25       0.66      0.78      0.71       113\n",
      "\n",
      "    accuracy                           0.70      3000\n",
      "   macro avg       0.69      0.69      0.68      3000\n",
      "weighted avg       0.70      0.70      0.68      3000\n",
      "\n"
     ]
    }
   ],
   "source": [
    "print(classification_report(y_true=y_test, y_pred=prediction))"
   ]
  }
 ],
 "metadata": {
  "kernelspec": {
   "display_name": "Python 3",
   "language": "python",
   "name": "python3"
  },
  "language_info": {
   "codemirror_mode": {
    "name": "ipython",
    "version": 3
   },
   "file_extension": ".py",
   "mimetype": "text/x-python",
   "name": "python",
   "nbconvert_exporter": "python",
   "pygments_lexer": "ipython3",
   "version": "3.8.10"
  }
 },
 "nbformat": 4,
 "nbformat_minor": 4
}
