{
 "cells": [
  {
   "cell_type": "markdown",
   "metadata": {
    "id": "W3d2cB9hE7fi"
   },
   "source": [
    "### Created by: Anthony D. Cho\n",
    "### Last update: 19.05.2021\n",
    "\n",
    "**Subject**: Keras (Multi-Layer Perceptron MLP) - Applied to Wine data in classification problem (3-class)\n",
    "\n"
   ]
  },
  {
   "cell_type": "markdown",
   "metadata": {
    "id": "_Rz6sIOlDyb-"
   },
   "source": [
    "## Libraries dependencies"
   ]
  },
  {
   "cell_type": "code",
   "execution_count": 168,
   "metadata": {
    "executionInfo": {
     "elapsed": 2463,
     "status": "ok",
     "timestamp": 1615233793301,
     "user": {
      "displayName": "Anthony Cho",
      "photoUrl": "",
      "userId": "04569494085624422303"
     },
     "user_tz": 180
    },
    "id": "NSRhDALkDRnb"
   },
   "outputs": [],
   "source": [
    "from time import time\n",
    "from pandas import read_csv\n",
    "import matplotlib.pyplot as plt\n",
    "from numpy import argmax, where\n",
    "from sklearn.preprocessing import MinMaxScaler, OneHotEncoder\n",
    "from sklearn.model_selection import train_test_split\n",
    "from sklearn.metrics import confusion_matrix\n",
    "\n",
    "## tensorflow-Keras \n",
    "from tensorflow.keras.models import Sequential\n",
    "from tensorflow.keras import layers\n",
    "from tensorflow.keras.utils import to_categorical"
   ]
  },
  {
   "cell_type": "markdown",
   "metadata": {
    "id": "8TO5pHttI7ah"
   },
   "source": [
    "## Customized functions"
   ]
  },
  {
   "cell_type": "code",
   "execution_count": 169,
   "metadata": {
    "executionInfo": {
     "elapsed": 916,
     "status": "ok",
     "timestamp": 1615233798397,
     "user": {
      "displayName": "Anthony Cho",
      "photoUrl": "",
      "userId": "04569494085624422303"
     },
     "user_tz": 180
    },
    "id": "VbCLG50lD3lB"
   },
   "outputs": [],
   "source": [
    "def plot_history(history, width=12, height=6):\n",
    "  \"\"\"\n",
    "  DESCRIPTION:\n",
    "    History performance of the keras model\n",
    "  \n",
    "  INPUT:\n",
    "    @param history: history of performance of fitted model\n",
    "    @type history: tensorflow.python.keras.callbacks.History\n",
    "\n",
    "    @param width: width of the graphic display\n",
    "    @type width: int\n",
    "\n",
    "    @param height: height of the graphic display\n",
    "    @type height: int\n",
    "\n",
    "  OUTPUT:\n",
    "    A graphic\n",
    "  \"\"\"\n",
    "\n",
    "  ## Metrics keys stored in tensorflow object\n",
    "  keys = list(history.history.keys())\n",
    "\n",
    "  ## Number of epoch used for fit the model\n",
    "  epoch = range(1, len(history.epoch) +1)\n",
    "\n",
    "  ## Check if validation set was used.\n",
    "  withValidation = False\n",
    "  for key in keys:\n",
    "    if 'val' in key:\n",
    "      withValidation = True\n",
    "\n",
    "  ## Number of metrics \n",
    "  nMetrics = len(keys)\n",
    "  if withValidation:\n",
    "    nMetrics = nMetrics//2\n",
    "\n",
    "  ## Plot-space instance\n",
    "  plt.figure(figsize=(width, height))\n",
    "\n",
    "  for i in range(nMetrics):\n",
    "    plt.subplot(nMetrics, 1, i+1)\n",
    "\n",
    "    ## Plot (train) metric value\n",
    "    labelMetric = keys[i]\n",
    "    metric = history.history[keys[i]]\n",
    "    plt.plot(epoch, metric, 'o-', label=labelMetric)\n",
    "\n",
    "    if withValidation:\n",
    "      ## Plot (validation) metric value\n",
    "      labelMetricVal = keys[i+nMetrics]\n",
    "      metricVal = history.history[keys[i+nMetrics]]\n",
    "      plt.plot(epoch, metricVal, 'o-', label=labelMetricVal)\n",
    "\n",
    "    plt.xlim(epoch[0], epoch[-1])\n",
    "    plt.legend()\n",
    "    plt.grid()\n",
    "\n",
    "  plt.xlabel('Epoch')\n",
    "  plt.show()"
   ]
  },
  {
   "cell_type": "markdown",
   "metadata": {
    "id": "SPPKl30NeffS"
   },
   "source": [
    "# Problem: Wine\n",
    "\n",
    "**Target**: Class column of the dataset"
   ]
  },
  {
   "cell_type": "markdown",
   "metadata": {
    "id": "dpw0FOYXD4sp"
   },
   "source": [
    "## Data loading and preprocessing\n",
    "\n",
    "Source: [Wine](https://archive.ics.uci.edu/ml/datasets/Wine) (UCI Repository)"
   ]
  },
  {
   "cell_type": "code",
   "execution_count": 28,
   "metadata": {
    "colab": {
     "base_uri": "https://localhost:8080/"
    },
    "executionInfo": {
     "elapsed": 2446,
     "status": "ok",
     "timestamp": 1615216805867,
     "user": {
      "displayName": "Anthony Cho",
      "photoUrl": "",
      "userId": "04569494085624422303"
     },
     "user_tz": 180
    },
    "id": "Bwhgs8oADRkm",
    "outputId": "6ee32305-5cae-49b4-8abc-c750fa89d6bb"
   },
   "outputs": [
    {
     "name": "stdout",
     "output_type": "stream",
     "text": [
      "Loading data ...\n",
      "Creating partition...\n",
      "data normalizing...\n",
      "Apply One-Hot Encoding...\n",
      "Time spent[s]:  0.8147492408752441\n"
     ]
    }
   ],
   "source": [
    "start = time()\n",
    "print('Loading data ...')\n",
    "\n",
    "## Column names of the dataset\n",
    "colnames = ['Class', 'Alcohol', 'Malic_acid', 'Ash', 'Alcalinity_ash', 'Magnesium', \n",
    "            'Total_phenol', 'Flavanoids', 'Nonflavanoid_phenols', 'Proanthocyanins',\n",
    "            'Color_intensity', 'Hue', 'OD280/OD315_diluted wines', 'Proline']\n",
    "\n",
    "## Load data\n",
    "data = read_csv('https://archive.ics.uci.edu/ml/machine-learning-databases/wine/wine.data', header=None)\n",
    "\n",
    "## Dataset column names assignation\n",
    "data.columns = colnames\n",
    "\n",
    "## Predictors and targets\n",
    "X = data.drop(columns=['Class'])\n",
    "y = data['Class']\n",
    "\n",
    "## Data partition\n",
    "print('Creating partition...')\n",
    "X_train, X_test, y_train, y_test = train_test_split(X, y, random_state=0)\n",
    "\n",
    "## Data normalization\n",
    "print('data normalizing...')\n",
    "scaler = MinMaxScaler().fit(X_train)\n",
    "X_train = scaler.transform(X_train)\n",
    "X_test = scaler.transform(X_test)\n",
    "\n",
    "## One-Hot Encoder transform to targets\n",
    "print('Apply One-Hot Encoding...')\n",
    "y_train_encode = to_categorical(y_train)[:, 1:]\n",
    "y_test_encode = to_categorical(y_test)[:, 1:]\n",
    "\n",
    "print('Time spent[s]: ', time()-start)"
   ]
  },
  {
   "cell_type": "code",
   "execution_count": 30,
   "metadata": {
    "colab": {
     "base_uri": "https://localhost:8080/"
    },
    "executionInfo": {
     "elapsed": 2448,
     "status": "ok",
     "timestamp": 1615216836893,
     "user": {
      "displayName": "Anthony Cho",
      "photoUrl": "",
      "userId": "04569494085624422303"
     },
     "user_tz": 180
    },
    "id": "EaR09Gsvao7m",
    "outputId": "4f721545-f81b-4f71-db5b-524a6b438a23"
   },
   "outputs": [
    {
     "data": {
      "text/plain": [
       "2    71\n",
       "1    59\n",
       "3    48\n",
       "Name: Class, dtype: int64"
      ]
     },
     "execution_count": 30,
     "metadata": {
      "tags": []
     },
     "output_type": "execute_result"
    }
   ],
   "source": [
    "data['Class'].value_counts()"
   ]
  },
  {
   "cell_type": "markdown",
   "metadata": {
    "id": "xxUtx2KLE6UE"
   },
   "source": [
    "## Build Model"
   ]
  },
  {
   "cell_type": "code",
   "execution_count": 43,
   "metadata": {
    "colab": {
     "base_uri": "https://localhost:8080/"
    },
    "executionInfo": {
     "elapsed": 1071,
     "status": "ok",
     "timestamp": 1615218022587,
     "user": {
      "displayName": "Anthony Cho",
      "photoUrl": "",
      "userId": "04569494085624422303"
     },
     "user_tz": 180
    },
    "id": "LLJkF4yHDRh0",
    "outputId": "d0dfbe0b-ea5f-4861-d1a2-304fcf7dec88"
   },
   "outputs": [
    {
     "name": "stdout",
     "output_type": "stream",
     "text": [
      "Model: \"Classification\"\n",
      "_________________________________________________________________\n",
      "Layer (type)                 Output Shape              Param #   \n",
      "=================================================================\n",
      "Hidden_01 (Dense)            (None, 32)                448       \n",
      "_________________________________________________________________\n",
      "Output (Dense)               (None, 3)                 99        \n",
      "=================================================================\n",
      "Total params: 547\n",
      "Trainable params: 547\n",
      "Non-trainable params: 0\n",
      "_________________________________________________________________\n"
     ]
    }
   ],
   "source": [
    "## Model instance\n",
    "model = Sequential(name='Classification')\n",
    "model.add(layers.Dense(units=32, \n",
    "                       activation='relu', \n",
    "                       input_shape=(X_train.shape[1],), \n",
    "                       name='Hidden_01'))\n",
    "model.add(layers.Dense(units=y_train_encode.shape[1],\n",
    "                       activation='softmax', \n",
    "                       name='Output'))\n",
    "\n",
    "## Set compiler configuration\n",
    "model.compile(optimizer='adam', \n",
    "              loss='categorical_crossentropy', \n",
    "              metrics=['accuracy'])\n",
    "\n",
    "## Display model\n",
    "model.summary()"
   ]
  },
  {
   "cell_type": "code",
   "execution_count": 35,
   "metadata": {
    "colab": {
     "base_uri": "https://localhost:8080/"
    },
    "executionInfo": {
     "elapsed": 6628,
     "status": "ok",
     "timestamp": 1615216973919,
     "user": {
      "displayName": "Anthony Cho",
      "photoUrl": "",
      "userId": "04569494085624422303"
     },
     "user_tz": 180
    },
    "id": "_58HgRXeDRfN",
    "outputId": "5c42474d-b4ae-4bcb-a2b4-120bf9bd6c22"
   },
   "outputs": [
    {
     "name": "stdout",
     "output_type": "stream",
     "text": [
      "Epoch 1/50\n",
      "12/12 [==============================] - 1s 18ms/step - loss: 1.0123 - accuracy: 0.5115 - val_loss: 0.9884 - val_accuracy: 0.6000\n",
      "Epoch 2/50\n",
      "12/12 [==============================] - 0s 5ms/step - loss: 0.9740 - accuracy: 0.5741 - val_loss: 0.9478 - val_accuracy: 0.6500\n",
      "Epoch 3/50\n",
      "12/12 [==============================] - 0s 5ms/step - loss: 0.9116 - accuracy: 0.7365 - val_loss: 0.9072 - val_accuracy: 0.6500\n",
      "Epoch 4/50\n",
      "12/12 [==============================] - 0s 5ms/step - loss: 0.8681 - accuracy: 0.7438 - val_loss: 0.8683 - val_accuracy: 0.7000\n",
      "Epoch 5/50\n",
      "12/12 [==============================] - 0s 5ms/step - loss: 0.8010 - accuracy: 0.8594 - val_loss: 0.8319 - val_accuracy: 0.7000\n",
      "Epoch 6/50\n",
      "12/12 [==============================] - 0s 5ms/step - loss: 0.7863 - accuracy: 0.7969 - val_loss: 0.7936 - val_accuracy: 0.7500\n",
      "Epoch 7/50\n",
      "12/12 [==============================] - 0s 5ms/step - loss: 0.7490 - accuracy: 0.8826 - val_loss: 0.7632 - val_accuracy: 0.7500\n",
      "Epoch 8/50\n",
      "12/12 [==============================] - 0s 5ms/step - loss: 0.7018 - accuracy: 0.8688 - val_loss: 0.7336 - val_accuracy: 0.7000\n",
      "Epoch 9/50\n",
      "12/12 [==============================] - 0s 6ms/step - loss: 0.6587 - accuracy: 0.8871 - val_loss: 0.7077 - val_accuracy: 0.7000\n",
      "Epoch 10/50\n",
      "12/12 [==============================] - 0s 5ms/step - loss: 0.6694 - accuracy: 0.8383 - val_loss: 0.6779 - val_accuracy: 0.7000\n",
      "Epoch 11/50\n",
      "12/12 [==============================] - 0s 5ms/step - loss: 0.6014 - accuracy: 0.8723 - val_loss: 0.6501 - val_accuracy: 0.7000\n",
      "Epoch 12/50\n",
      "12/12 [==============================] - 0s 6ms/step - loss: 0.6015 - accuracy: 0.8569 - val_loss: 0.6249 - val_accuracy: 0.7500\n",
      "Epoch 13/50\n",
      "12/12 [==============================] - 0s 5ms/step - loss: 0.5685 - accuracy: 0.8443 - val_loss: 0.6015 - val_accuracy: 0.7500\n",
      "Epoch 14/50\n",
      "12/12 [==============================] - 0s 5ms/step - loss: 0.5224 - accuracy: 0.8844 - val_loss: 0.5775 - val_accuracy: 0.8000\n",
      "Epoch 15/50\n",
      "12/12 [==============================] - 0s 5ms/step - loss: 0.5216 - accuracy: 0.8968 - val_loss: 0.5575 - val_accuracy: 0.8000\n",
      "Epoch 16/50\n",
      "12/12 [==============================] - 0s 5ms/step - loss: 0.4656 - accuracy: 0.9228 - val_loss: 0.5378 - val_accuracy: 0.8000\n",
      "Epoch 17/50\n",
      "12/12 [==============================] - 0s 6ms/step - loss: 0.4507 - accuracy: 0.8906 - val_loss: 0.5175 - val_accuracy: 0.9000\n",
      "Epoch 18/50\n",
      "12/12 [==============================] - 0s 6ms/step - loss: 0.4560 - accuracy: 0.9258 - val_loss: 0.5004 - val_accuracy: 0.8500\n",
      "Epoch 19/50\n",
      "12/12 [==============================] - 0s 6ms/step - loss: 0.4331 - accuracy: 0.8973 - val_loss: 0.4848 - val_accuracy: 0.8500\n",
      "Epoch 20/50\n",
      "12/12 [==============================] - 0s 6ms/step - loss: 0.3799 - accuracy: 0.9515 - val_loss: 0.4673 - val_accuracy: 0.9000\n",
      "Epoch 21/50\n",
      "12/12 [==============================] - 0s 6ms/step - loss: 0.3903 - accuracy: 0.9368 - val_loss: 0.4471 - val_accuracy: 0.9000\n",
      "Epoch 22/50\n",
      "12/12 [==============================] - 0s 6ms/step - loss: 0.3590 - accuracy: 0.9574 - val_loss: 0.4315 - val_accuracy: 0.9500\n",
      "Epoch 23/50\n",
      "12/12 [==============================] - 0s 6ms/step - loss: 0.3431 - accuracy: 0.9471 - val_loss: 0.4232 - val_accuracy: 0.9000\n",
      "Epoch 24/50\n",
      "12/12 [==============================] - 0s 6ms/step - loss: 0.3549 - accuracy: 0.9494 - val_loss: 0.4102 - val_accuracy: 0.9000\n",
      "Epoch 25/50\n",
      "12/12 [==============================] - 0s 6ms/step - loss: 0.3225 - accuracy: 0.9473 - val_loss: 0.3986 - val_accuracy: 0.9000\n",
      "Epoch 26/50\n",
      "12/12 [==============================] - 0s 6ms/step - loss: 0.2900 - accuracy: 0.9685 - val_loss: 0.3873 - val_accuracy: 0.9000\n",
      "Epoch 27/50\n",
      "12/12 [==============================] - 0s 5ms/step - loss: 0.3230 - accuracy: 0.9551 - val_loss: 0.3745 - val_accuracy: 0.9000\n",
      "Epoch 28/50\n",
      "12/12 [==============================] - 0s 7ms/step - loss: 0.2945 - accuracy: 0.9438 - val_loss: 0.3630 - val_accuracy: 0.9000\n",
      "Epoch 29/50\n",
      "12/12 [==============================] - 0s 7ms/step - loss: 0.2586 - accuracy: 0.9711 - val_loss: 0.3605 - val_accuracy: 0.9000\n",
      "Epoch 30/50\n",
      "12/12 [==============================] - 0s 6ms/step - loss: 0.2483 - accuracy: 0.9500 - val_loss: 0.3532 - val_accuracy: 0.9000\n",
      "Epoch 31/50\n",
      "12/12 [==============================] - 0s 6ms/step - loss: 0.2464 - accuracy: 0.9236 - val_loss: 0.3397 - val_accuracy: 0.9000\n",
      "Epoch 32/50\n",
      "12/12 [==============================] - 0s 5ms/step - loss: 0.2509 - accuracy: 0.9441 - val_loss: 0.3294 - val_accuracy: 0.9000\n",
      "Epoch 33/50\n",
      "12/12 [==============================] - 0s 5ms/step - loss: 0.2342 - accuracy: 0.9652 - val_loss: 0.3225 - val_accuracy: 0.9000\n",
      "Epoch 34/50\n",
      "12/12 [==============================] - 0s 5ms/step - loss: 0.2288 - accuracy: 0.9521 - val_loss: 0.3190 - val_accuracy: 0.9000\n",
      "Epoch 35/50\n",
      "12/12 [==============================] - 0s 5ms/step - loss: 0.2428 - accuracy: 0.9455 - val_loss: 0.3166 - val_accuracy: 0.9000\n",
      "Epoch 36/50\n",
      "12/12 [==============================] - 0s 5ms/step - loss: 0.2181 - accuracy: 0.9598 - val_loss: 0.3138 - val_accuracy: 0.9000\n",
      "Epoch 37/50\n",
      "12/12 [==============================] - 0s 5ms/step - loss: 0.2236 - accuracy: 0.9584 - val_loss: 0.3078 - val_accuracy: 0.9000\n",
      "Epoch 38/50\n",
      "12/12 [==============================] - 0s 6ms/step - loss: 0.2108 - accuracy: 0.9452 - val_loss: 0.3012 - val_accuracy: 0.9000\n",
      "Epoch 39/50\n",
      "12/12 [==============================] - 0s 6ms/step - loss: 0.2129 - accuracy: 0.9487 - val_loss: 0.2951 - val_accuracy: 0.9000\n",
      "Epoch 40/50\n",
      "12/12 [==============================] - 0s 6ms/step - loss: 0.1965 - accuracy: 0.9517 - val_loss: 0.2862 - val_accuracy: 0.9000\n",
      "Epoch 41/50\n",
      "12/12 [==============================] - 0s 6ms/step - loss: 0.1959 - accuracy: 0.9566 - val_loss: 0.2846 - val_accuracy: 0.9000\n",
      "Epoch 42/50\n",
      "12/12 [==============================] - 0s 6ms/step - loss: 0.1553 - accuracy: 0.9902 - val_loss: 0.2804 - val_accuracy: 0.9500\n",
      "Epoch 43/50\n",
      "12/12 [==============================] - 0s 6ms/step - loss: 0.1671 - accuracy: 0.9722 - val_loss: 0.2780 - val_accuracy: 0.9000\n",
      "Epoch 44/50\n",
      "12/12 [==============================] - 0s 6ms/step - loss: 0.1549 - accuracy: 0.9823 - val_loss: 0.2785 - val_accuracy: 0.9000\n",
      "Epoch 45/50\n",
      "12/12 [==============================] - 0s 5ms/step - loss: 0.1627 - accuracy: 0.9909 - val_loss: 0.2773 - val_accuracy: 0.9000\n",
      "Epoch 46/50\n",
      "12/12 [==============================] - 0s 5ms/step - loss: 0.1531 - accuracy: 0.9875 - val_loss: 0.2750 - val_accuracy: 0.9000\n",
      "Epoch 47/50\n",
      "12/12 [==============================] - 0s 5ms/step - loss: 0.1678 - accuracy: 0.9858 - val_loss: 0.2652 - val_accuracy: 0.9500\n",
      "Epoch 48/50\n",
      "12/12 [==============================] - 0s 5ms/step - loss: 0.1370 - accuracy: 0.9797 - val_loss: 0.2656 - val_accuracy: 0.9000\n",
      "Epoch 49/50\n",
      "12/12 [==============================] - 0s 6ms/step - loss: 0.1327 - accuracy: 0.9869 - val_loss: 0.2683 - val_accuracy: 0.9000\n",
      "Epoch 50/50\n",
      "12/12 [==============================] - 0s 5ms/step - loss: 0.1418 - accuracy: 1.0000 - val_loss: 0.2682 - val_accuracy: 0.9000\n"
     ]
    }
   ],
   "source": [
    "## Fit model\n",
    "start = time()\n",
    "history = model.fit(x=X_train, y=y_train_encode, validation_split=0.15,\n",
    "                    epochs=50, \n",
    "                    batch_size=10)\n",
    "print('Time spent[s]: ', time()-start)"
   ]
  },
  {
   "cell_type": "markdown",
   "metadata": {
    "id": "JAEEYVxXem-_"
   },
   "source": [
    "## Model performances display"
   ]
  },
  {
   "cell_type": "code",
   "execution_count": 36,
   "metadata": {
    "colab": {
     "base_uri": "https://localhost:8080/",
     "height": 423
    },
    "executionInfo": {
     "elapsed": 2215,
     "status": "ok",
     "timestamp": 1615216978983,
     "user": {
      "displayName": "Anthony Cho",
      "photoUrl": "",
      "userId": "04569494085624422303"
     },
     "user_tz": 180
    },
    "id": "Hd66BS28bLsS",
    "outputId": "27c93770-b36a-48be-afab-b1431745a7ee"
   },
   "outputs": [
    {
     "data": {
      "image/png": "[encoded data removed]",
      "text/plain": [
       "<Figure size 1008x432 with 2 Axes>"
      ]
     },
     "metadata": {
      "needs_background": "light",
      "tags": []
     },
     "output_type": "display_data"
    },
    {
     "name": "stdout",
     "output_type": "stream",
     "text": [
      "2/2 [==============================] - 0s 6ms/step - loss: 0.1890 - accuracy: 0.9111\n"
     ]
    },
    {
     "data": {
      "text/plain": [
       "[0.18896232545375824, 0.9111111164093018]"
      ]
     },
     "execution_count": 36,
     "metadata": {
      "tags": []
     },
     "output_type": "execute_result"
    }
   ],
   "source": [
    "## Display performances\n",
    "plot_history(history, width=14)\n",
    "\n",
    "## Compute prediction with test set\n",
    "model.evaluate(X_test, y_test_encode)"
   ]
  },
  {
   "cell_type": "markdown",
   "metadata": {
    "id": "5mOQQ51Ne1LR"
   },
   "source": [
    "## Predictions"
   ]
  },
  {
   "cell_type": "code",
   "execution_count": 37,
   "metadata": {
    "colab": {
     "base_uri": "https://localhost:8080/"
    },
    "executionInfo": {
     "elapsed": 2358,
     "status": "ok",
     "timestamp": 1615217000892,
     "user": {
      "displayName": "Anthony Cho",
      "photoUrl": "",
      "userId": "04569494085624422303"
     },
     "user_tz": 180
    },
    "id": "lc5eo3jSZZj3",
    "outputId": "769c8ce6-684b-46f2-8de7-b5ad21580b6d"
   },
   "outputs": [
    {
     "data": {
      "text/plain": [
       "array([[9.42027211e-01, 5.49627393e-02, 3.01009277e-03],\n",
       "       [1.16105210e-02, 8.81043542e-03, 9.79578972e-01],\n",
       "       [3.35679203e-01, 6.63141429e-01, 1.17929978e-03],\n",
       "       [8.85592937e-01, 1.10474087e-01, 3.93304508e-03],\n",
       "       [1.32210478e-01, 8.49038124e-01, 1.87513251e-02],\n",
       "       [3.71943526e-02, 9.62125421e-01, 6.80236903e-04],\n",
       "       [9.33462560e-01, 6.19163774e-02, 4.62106243e-03],\n",
       "       [6.25254912e-03, 2.98958551e-02, 9.63851631e-01],\n",
       "       [6.80835620e-02, 9.26085472e-01, 5.83096873e-03],\n",
       "       [2.13365704e-02, 9.52027678e-01, 2.66358294e-02],\n",
       "       [5.50362021e-02, 8.38450268e-02, 8.61118734e-01],\n",
       "       [2.01412337e-03, 8.45766161e-03, 9.89528239e-01],\n",
       "       [9.85875905e-01, 1.31697357e-02, 9.54407442e-04],\n",
       "       [5.16436338e-01, 4.82493788e-01, 1.06994773e-03],\n",
       "       [1.17765171e-02, 2.07950007e-02, 9.67428446e-01],\n",
       "       [4.80991974e-02, 9.50656831e-01, 1.24398037e-03],\n",
       "       [7.34614909e-01, 2.52424568e-01, 1.29605476e-02],\n",
       "       [9.93667781e-01, 5.86359017e-03, 4.68601182e-04],\n",
       "       [7.00437948e-02, 4.38215107e-01, 4.91741121e-01],\n",
       "       [9.23761785e-01, 7.54758120e-02, 7.62396434e-04],\n",
       "       [5.79787076e-01, 4.19427246e-01, 7.85612909e-04],\n",
       "       [7.30864227e-01, 2.55913109e-01, 1.32226599e-02],\n",
       "       [3.16611856e-01, 6.64014101e-01, 1.93740651e-02],\n",
       "       [1.36654839e-01, 8.59852791e-01, 3.49237956e-03],\n",
       "       [5.36409393e-02, 7.04627693e-01, 2.41731331e-01],\n",
       "       [1.00610785e-01, 8.90877128e-01, 8.51206854e-03],\n",
       "       [1.19706005e-01, 8.74432802e-01, 5.86115336e-03],\n",
       "       [1.60221271e-02, 9.74679112e-01, 9.29879490e-03],\n",
       "       [1.71156581e-02, 9.36590672e-01, 4.62936610e-02],\n",
       "       [7.23090954e-03, 8.93155672e-03, 9.83837545e-01],\n",
       "       [9.11780357e-01, 8.52257684e-02, 2.99390778e-03],\n",
       "       [9.54426289e-01, 4.40904535e-02, 1.48333586e-03],\n",
       "       [3.78982723e-02, 8.66628885e-01, 9.54727456e-02],\n",
       "       [9.08183455e-01, 7.35021830e-02, 1.83143914e-02],\n",
       "       [9.67302501e-01, 3.16536762e-02, 1.04376546e-03],\n",
       "       [7.62058675e-01, 2.35785902e-01, 2.15540314e-03],\n",
       "       [1.41253890e-02, 4.70675379e-02, 9.38807070e-01],\n",
       "       [2.39806753e-02, 8.89893711e-01, 8.61256123e-02],\n",
       "       [1.34089053e-01, 8.62620413e-01, 3.29052424e-03],\n",
       "       [6.39476720e-03, 1.56130008e-02, 9.77992237e-01],\n",
       "       [5.27023971e-01, 4.71028119e-01, 1.94793369e-03],\n",
       "       [8.54399323e-01, 1.42960668e-01, 2.64006061e-03],\n",
       "       [6.79769441e-02, 9.30634081e-01, 1.38892164e-03],\n",
       "       [9.59796533e-02, 8.87427092e-01, 1.65932123e-02],\n",
       "       [2.87878718e-02, 9.62963462e-01, 8.24864954e-03]], dtype=float32)"
      ]
     },
     "execution_count": 37,
     "metadata": {
      "tags": []
     },
     "output_type": "execute_result"
    }
   ],
   "source": [
    "## Make prediction using test set\n",
    "prediction = model.predict(X_test)\n",
    "prediction"
   ]
  },
  {
   "cell_type": "code",
   "execution_count": 39,
   "metadata": {
    "colab": {
     "base_uri": "https://localhost:8080/"
    },
    "executionInfo": {
     "elapsed": 1545,
     "status": "ok",
     "timestamp": 1615217022950,
     "user": {
      "displayName": "Anthony Cho",
      "photoUrl": "",
      "userId": "04569494085624422303"
     },
     "user_tz": 180
    },
    "id": "dAb4cnQ5Z2Rl",
    "outputId": "7f627c07-31fe-451c-dd9f-1585b7055b6b"
   },
   "outputs": [
    {
     "data": {
      "text/plain": [
       "array([1, 3, 2, 1, 2, 2, 1, 3, 2, 2, 3, 3, 1, 1, 3, 2, 1, 1, 3, 1, 1, 1,\n",
       "       2, 2, 2, 2, 2, 2, 2, 3, 1, 1, 2, 1, 1, 1, 3, 2, 2, 3, 1, 1, 2, 2,\n",
       "       2])"
      ]
     },
     "execution_count": 39,
     "metadata": {
      "tags": []
     },
     "output_type": "execute_result"
    }
   ],
   "source": [
    "## Decoding predictions to Class\n",
    "prediction_class = argmax(prediction, axis=-1) + 1\n",
    "prediction_class"
   ]
  },
  {
   "cell_type": "code",
   "execution_count": 40,
   "metadata": {
    "colab": {
     "base_uri": "https://localhost:8080/"
    },
    "executionInfo": {
     "elapsed": 2150,
     "status": "ok",
     "timestamp": 1615217100787,
     "user": {
      "displayName": "Anthony Cho",
      "photoUrl": "",
      "userId": "04569494085624422303"
     },
     "user_tz": 180
    },
    "id": "ttLuC_HycNwO",
    "outputId": "b9d07274-9012-4820-d1a1-0d4fe5103ce4"
   },
   "outputs": [
    {
     "data": {
      "text/plain": [
       "array([[15,  1,  0],\n",
       "       [ 2, 18,  1],\n",
       "       [ 0,  0,  8]])"
      ]
     },
     "execution_count": 40,
     "metadata": {
      "tags": []
     },
     "output_type": "execute_result"
    }
   ],
   "source": [
    "## Display confusion matrix\n",
    "confusion_matrix(y_true=y_test, y_pred=prediction_class)"
   ]
  },
  {
   "cell_type": "code",
   "execution_count": null,
   "metadata": {
    "id": "Fygpu-5rCWAQ"
   },
   "outputs": [],
   "source": []
  },
  {
   "cell_type": "code",
   "execution_count": null,
   "metadata": {
    "id": "fVjwaiJYCWDM"
   },
   "outputs": [],
   "source": []
  }
 ],
 "metadata": {
  "accelerator": "GPU",
  "colab": {
   "authorship_tag": "ABX9TyPN0iunZCmthE7Q44MviV8t",
   "collapsed_sections": [],
   "name": "Ayudantia 01.ipynb",
   "provenance": [],
   "toc_visible": true
  },
  "kernelspec": {
   "display_name": "Python 3",
   "language": "python",
   "name": "python3"
  },
  "language_info": {
   "codemirror_mode": {
    "name": "ipython",
    "version": 3
   },
   "file_extension": ".py",
   "mimetype": "text/x-python",
   "name": "python",
   "nbconvert_exporter": "python",
   "pygments_lexer": "ipython3",
   "version": "3.8.10"
  }
 },
 "nbformat": 4,
 "nbformat_minor": 1
}
