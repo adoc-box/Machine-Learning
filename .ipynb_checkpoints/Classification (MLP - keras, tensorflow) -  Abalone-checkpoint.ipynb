{
 "cells": [
  {
   "cell_type": "markdown",
   "metadata": {},
   "source": [
    "### Created by: Anthony D. Cho\n",
    "### Last update: 19.05.2021\n",
    "\n",
    "**Subject**: Keras-Tensorflow (Multi-Layer Perceptron MLP) - Applied to Abalone data in classification problem (Multi-class)\n",
    "\n"
   ]
  },
  {
   "cell_type": "markdown",
   "metadata": {
    "id": "_Rz6sIOlDyb-"
   },
   "source": [
    "## Libraries dependencies"
   ]
  },
  {
   "cell_type": "code",
   "execution_count": 1,
   "metadata": {
    "executionInfo": {
     "elapsed": 2463,
     "status": "ok",
     "timestamp": 1615233793301,
     "user": {
      "displayName": "Anthony Cho",
      "photoUrl": "",
      "userId": "04569494085624422303"
     },
     "user_tz": 180
    },
    "id": "NSRhDALkDRnb"
   },
   "outputs": [],
   "source": [
    "from time import time\n",
    "from pandas import read_csv\n",
    "import matplotlib.pyplot as plt\n",
    "from numpy import argmax, where\n",
    "from sklearn.preprocessing import MinMaxScaler, OneHotEncoder\n",
    "from sklearn.model_selection import train_test_split\n",
    "from sklearn.metrics import confusion_matrix, classification_report\n",
    "\n",
    "## tensorflow-Keras \n",
    "from tensorflow.keras.models import Sequential\n",
    "from tensorflow.keras import layers\n",
    "from tensorflow.keras.utils import to_categorical"
   ]
  },
  {
   "cell_type": "markdown",
   "metadata": {
    "id": "8TO5pHttI7ah"
   },
   "source": [
    "## Customized functions"
   ]
  },
  {
   "cell_type": "code",
   "execution_count": 2,
   "metadata": {
    "executionInfo": {
     "elapsed": 916,
     "status": "ok",
     "timestamp": 1615233798397,
     "user": {
      "displayName": "Anthony Cho",
      "photoUrl": "",
      "userId": "04569494085624422303"
     },
     "user_tz": 180
    },
    "id": "VbCLG50lD3lB"
   },
   "outputs": [],
   "source": [
    "def plot_history(history, width=12, height=6):\n",
    "  \"\"\"\n",
    "  DESCRIPTION:\n",
    "    History performance of the keras model\n",
    "  \n",
    "  INPUT:\n",
    "    @param history: history of performance of fitted model\n",
    "    @type history: tensorflow.python.keras.callbacks.History\n",
    "\n",
    "    @param width: width of the graphic display\n",
    "    @type width: int\n",
    "\n",
    "    @param height: height of the graphic display\n",
    "    @type height: int\n",
    "\n",
    "  OUTPUT:\n",
    "    A graphic\n",
    "  \"\"\"\n",
    "\n",
    "  ## Metrics keys stored in tensorflow object\n",
    "  keys = list(history.history.keys())\n",
    "\n",
    "  ## Number of epoch used for fit the model\n",
    "  epoch = range(1, len(history.epoch) +1)\n",
    "\n",
    "  ## Check if validation set was used.\n",
    "  withValidation = False\n",
    "  for key in keys:\n",
    "    if 'val' in key:\n",
    "      withValidation = True\n",
    "\n",
    "  ## Number of metrics \n",
    "  nMetrics = len(keys)\n",
    "  if withValidation:\n",
    "    nMetrics = nMetrics//2\n",
    "\n",
    "  ## Plot-space instance\n",
    "  plt.figure(figsize=(width, height))\n",
    "\n",
    "  for i in range(nMetrics):\n",
    "    plt.subplot(nMetrics, 1, i+1)\n",
    "\n",
    "    ## Plot (train) metric value\n",
    "    labelMetric = keys[i]\n",
    "    metric = history.history[keys[i]]\n",
    "    plt.plot(epoch, metric, 'o-', label=labelMetric)\n",
    "\n",
    "    if withValidation:\n",
    "      ## Plot (validation) metric value\n",
    "      labelMetricVal = keys[i+nMetrics]\n",
    "      metricVal = history.history[keys[i+nMetrics]]\n",
    "      plt.plot(epoch, metricVal, 'o-', label=labelMetricVal)\n",
    "\n",
    "    plt.xlim(epoch[0], epoch[-1])\n",
    "    plt.legend()\n",
    "    plt.grid()\n",
    "\n",
    "  plt.xlabel('Epoch')\n",
    "  plt.show()"
   ]
  },
  {
   "cell_type": "markdown",
   "metadata": {
    "id": "MqqFAfmPfO1K"
   },
   "source": [
    "# Problem: Abalone\n",
    "\n",
    "**Target**: The number of rings is the value to predict"
   ]
  },
  {
   "cell_type": "markdown",
   "metadata": {
    "id": "G2xgYhPEh1Ad"
   },
   "source": [
    "## Data loading and preprocessing\n",
    "\n",
    "Source: [Abalone](https://archive.ics.uci.edu/ml/datasets/Abalone) (UCI Repository)"
   ]
  },
  {
   "cell_type": "code",
   "execution_count": 3,
   "metadata": {
    "colab": {
     "base_uri": "https://localhost:8080/"
    },
    "executionInfo": {
     "elapsed": 2006,
     "status": "ok",
     "timestamp": 1615233813399,
     "user": {
      "displayName": "Anthony Cho",
      "photoUrl": "",
      "userId": "04569494085624422303"
     },
     "user_tz": 180
    },
    "id": "7u9y8aW9fROW",
    "outputId": "bdf72d87-eb7d-43f4-f90e-320a10d1654f"
   },
   "outputs": [
    {
     "name": "stdout",
     "output_type": "stream",
     "text": [
      "Loading data ...\n",
      "  Sex  Length  Diameter  Height  Whole_weight  Shucked_weight  Viscera_weight  \\\n",
      "0   M   0.455     0.365   0.095        0.5140          0.2245          0.1010   \n",
      "1   M   0.350     0.265   0.090        0.2255          0.0995          0.0485   \n",
      "2   F   0.530     0.420   0.135        0.6770          0.2565          0.1415   \n",
      "3   M   0.440     0.365   0.125        0.5160          0.2155          0.1140   \n",
      "4   I   0.330     0.255   0.080        0.2050          0.0895          0.0395   \n",
      "\n",
      "   Shell_weight  Rings  \n",
      "0         0.150     15  \n",
      "1         0.070      7  \n",
      "2         0.210      9  \n",
      "3         0.155     10  \n",
      "4         0.055      7  \n",
      "Creating partition...\n",
      "data normalizing...\n",
      "Apply One-Hot Encoding...\n",
      "Time spent[s]:  1.1697611808776855\n"
     ]
    }
   ],
   "source": [
    "start = time()\n",
    "print('Loading data ...')\n",
    "\n",
    "## Column names of the dataset\n",
    "colnames = ['Sex', 'Length', 'Diameter', 'Height', 'Whole_weight', 'Shucked_weight', \n",
    "            'Viscera_weight', 'Shell_weight', 'Rings']\n",
    "\n",
    "## Load data\n",
    "data = read_csv('https://archive.ics.uci.edu/ml/machine-learning-databases/abalone/abalone.data', header=None)\n",
    "\n",
    "## Dataset column names assignation\n",
    "data.columns = colnames\n",
    "\n",
    "## Display Raw data\n",
    "print(data.head())\n",
    "\n",
    "## Simple Binary encoding applied to Sex column converting 'F' -> 0 and 'M' -> 1\n",
    "data['Sex'] = where(data['Sex'] == 'F', 0, 1)\n",
    "\n",
    "## Predictors and targets\n",
    "X = data.drop(columns=['Rings'])\n",
    "y = data['Rings']\n",
    "\n",
    "## Data partition\n",
    "print('Creating partition...')\n",
    "X_train, X_test, y_train, y_test = train_test_split(X, y, random_state=0)\n",
    "\n",
    "## Data normalization\n",
    "print('data normalizing...')\n",
    "scaler = MinMaxScaler().fit(X_train)\n",
    "X_train = scaler.transform(X_train)\n",
    "X_test = scaler.transform(X_test)\n",
    "\n",
    "## One-Hot Encoder transform to targets\n",
    "print('Apply One-Hot Encoding...')\n",
    "encoder = OneHotEncoder().fit(y.values.reshape(-1,1))\n",
    "y_train_encode = encoder.transform(y_train.values.reshape(-1,1)).toarray()\n",
    "y_test_encode = encoder.transform(y_test.values.reshape(-1,1)).toarray()\n",
    "\n",
    "print('Time spent[s]: ', time()-start)"
   ]
  },
  {
   "cell_type": "code",
   "execution_count": 4,
   "metadata": {
    "colab": {
     "base_uri": "https://localhost:8080/",
     "height": 206
    },
    "executionInfo": {
     "elapsed": 2333,
     "status": "ok",
     "timestamp": 1615225085583,
     "user": {
      "displayName": "Anthony Cho",
      "photoUrl": "",
      "userId": "04569494085624422303"
     },
     "user_tz": 180
    },
    "id": "LWBRA7ZiiDUf",
    "outputId": "a7398923-5749-454d-f232-cd3e16ccf1cf"
   },
   "outputs": [
    {
     "data": {
      "text/html": [
       "<div>\n",
       "<style scoped>\n",
       "    .dataframe tbody tr th:only-of-type {\n",
       "        vertical-align: middle;\n",
       "    }\n",
       "\n",
       "    .dataframe tbody tr th {\n",
       "        vertical-align: top;\n",
       "    }\n",
       "\n",
       "    .dataframe thead th {\n",
       "        text-align: right;\n",
       "    }\n",
       "</style>\n",
       "<table border=\"1\" class=\"dataframe\">\n",
       "  <thead>\n",
       "    <tr style=\"text-align: right;\">\n",
       "      <th></th>\n",
       "      <th>Sex</th>\n",
       "      <th>Length</th>\n",
       "      <th>Diameter</th>\n",
       "      <th>Height</th>\n",
       "      <th>Whole_weight</th>\n",
       "      <th>Shucked_weight</th>\n",
       "      <th>Viscera_weight</th>\n",
       "      <th>Shell_weight</th>\n",
       "      <th>Rings</th>\n",
       "    </tr>\n",
       "  </thead>\n",
       "  <tbody>\n",
       "    <tr>\n",
       "      <th>0</th>\n",
       "      <td>1</td>\n",
       "      <td>0.455</td>\n",
       "      <td>0.365</td>\n",
       "      <td>0.095</td>\n",
       "      <td>0.5140</td>\n",
       "      <td>0.2245</td>\n",
       "      <td>0.1010</td>\n",
       "      <td>0.150</td>\n",
       "      <td>15</td>\n",
       "    </tr>\n",
       "    <tr>\n",
       "      <th>1</th>\n",
       "      <td>1</td>\n",
       "      <td>0.350</td>\n",
       "      <td>0.265</td>\n",
       "      <td>0.090</td>\n",
       "      <td>0.2255</td>\n",
       "      <td>0.0995</td>\n",
       "      <td>0.0485</td>\n",
       "      <td>0.070</td>\n",
       "      <td>7</td>\n",
       "    </tr>\n",
       "    <tr>\n",
       "      <th>2</th>\n",
       "      <td>0</td>\n",
       "      <td>0.530</td>\n",
       "      <td>0.420</td>\n",
       "      <td>0.135</td>\n",
       "      <td>0.6770</td>\n",
       "      <td>0.2565</td>\n",
       "      <td>0.1415</td>\n",
       "      <td>0.210</td>\n",
       "      <td>9</td>\n",
       "    </tr>\n",
       "    <tr>\n",
       "      <th>3</th>\n",
       "      <td>1</td>\n",
       "      <td>0.440</td>\n",
       "      <td>0.365</td>\n",
       "      <td>0.125</td>\n",
       "      <td>0.5160</td>\n",
       "      <td>0.2155</td>\n",
       "      <td>0.1140</td>\n",
       "      <td>0.155</td>\n",
       "      <td>10</td>\n",
       "    </tr>\n",
       "    <tr>\n",
       "      <th>4</th>\n",
       "      <td>1</td>\n",
       "      <td>0.330</td>\n",
       "      <td>0.255</td>\n",
       "      <td>0.080</td>\n",
       "      <td>0.2050</td>\n",
       "      <td>0.0895</td>\n",
       "      <td>0.0395</td>\n",
       "      <td>0.055</td>\n",
       "      <td>7</td>\n",
       "    </tr>\n",
       "  </tbody>\n",
       "</table>\n",
       "</div>"
      ],
      "text/plain": [
       "   Sex  Length  Diameter  Height  Whole_weight  Shucked_weight  \\\n",
       "0    1   0.455     0.365   0.095        0.5140          0.2245   \n",
       "1    1   0.350     0.265   0.090        0.2255          0.0995   \n",
       "2    0   0.530     0.420   0.135        0.6770          0.2565   \n",
       "3    1   0.440     0.365   0.125        0.5160          0.2155   \n",
       "4    1   0.330     0.255   0.080        0.2050          0.0895   \n",
       "\n",
       "   Viscera_weight  Shell_weight  Rings  \n",
       "0          0.1010         0.150     15  \n",
       "1          0.0485         0.070      7  \n",
       "2          0.1415         0.210      9  \n",
       "3          0.1140         0.155     10  \n",
       "4          0.0395         0.055      7  "
      ]
     },
     "execution_count": 4,
     "metadata": {},
     "output_type": "execute_result"
    }
   ],
   "source": [
    "data.head(5)"
   ]
  },
  {
   "cell_type": "code",
   "execution_count": 5,
   "metadata": {
    "colab": {
     "base_uri": "https://localhost:8080/"
    },
    "executionInfo": {
     "elapsed": 2244,
     "status": "ok",
     "timestamp": 1615219496928,
     "user": {
      "displayName": "Anthony Cho",
      "photoUrl": "",
      "userId": "04569494085624422303"
     },
     "user_tz": 180
    },
    "id": "sm4xcVmrlXFN",
    "outputId": "4e2d9a25-d711-42f4-a33b-10a3c58979a8"
   },
   "outputs": [
    {
     "data": {
      "text/plain": [
       "9     689\n",
       "10    634\n",
       "8     568\n",
       "11    487\n",
       "7     391\n",
       "12    267\n",
       "6     259\n",
       "13    203\n",
       "14    126\n",
       "5     115\n",
       "15    103\n",
       "16     67\n",
       "17     58\n",
       "4      57\n",
       "18     42\n",
       "19     32\n",
       "20     26\n",
       "3      15\n",
       "21     14\n",
       "23      9\n",
       "22      6\n",
       "24      2\n",
       "27      2\n",
       "1       1\n",
       "25      1\n",
       "2       1\n",
       "26      1\n",
       "29      1\n",
       "Name: Rings, dtype: int64"
      ]
     },
     "execution_count": 5,
     "metadata": {},
     "output_type": "execute_result"
    }
   ],
   "source": [
    "## Display target counts\n",
    "data['Rings'].value_counts()"
   ]
  },
  {
   "cell_type": "markdown",
   "metadata": {
    "id": "igzk-tYvlxsY"
   },
   "source": [
    "## Build model"
   ]
  },
  {
   "cell_type": "code",
   "execution_count": 6,
   "metadata": {
    "colab": {
     "base_uri": "https://localhost:8080/"
    },
    "executionInfo": {
     "elapsed": 1841,
     "status": "ok",
     "timestamp": 1615238816900,
     "user": {
      "displayName": "Anthony Cho",
      "photoUrl": "",
      "userId": "04569494085624422303"
     },
     "user_tz": 180
    },
    "id": "ViJ2HIkHliHr",
    "outputId": "80afb214-a043-40dc-ab1b-8ac9fa3dd465"
   },
   "outputs": [
    {
     "name": "stdout",
     "output_type": "stream",
     "text": [
      "Model: \"Classification\"\n",
      "_________________________________________________________________\n",
      "Layer (type)                 Output Shape              Param #   \n",
      "=================================================================\n",
      "Hidden_01 (Dense)            (None, 9)                 81        \n",
      "_________________________________________________________________\n",
      "Hidden_02 (Dense)            (None, 13)                130       \n",
      "_________________________________________________________________\n",
      "Output (Dense)               (None, 28)                392       \n",
      "=================================================================\n",
      "Total params: 603\n",
      "Trainable params: 603\n",
      "Non-trainable params: 0\n",
      "_________________________________________________________________\n"
     ]
    }
   ],
   "source": [
    "## Model instance\n",
    "model = Sequential(name='Classification')\n",
    "model.add(layers.Dense(units=9, \n",
    "                       activation='relu', \n",
    "                       input_shape=(X_train.shape[1],), \n",
    "                       name='Hidden_01'))\n",
    "model.add(layers.Dense(units=13, \n",
    "                       activation='relu', \n",
    "                       name='Hidden_02'))\n",
    "model.add(layers.Dense(units=y_train_encode.shape[1],\n",
    "                       activation='softmax', \n",
    "                       name='Output'))\n",
    "\n",
    "## Set compiler configuration\n",
    "model.compile(optimizer='adam', \n",
    "              loss='categorical_crossentropy', \n",
    "              metrics=['accuracy'])\n",
    "\n",
    "## Display model\n",
    "model.summary()"
   ]
  },
  {
   "cell_type": "code",
   "execution_count": 7,
   "metadata": {
    "colab": {
     "base_uri": "https://localhost:8080/"
    },
    "executionInfo": {
     "elapsed": 32583,
     "status": "ok",
     "timestamp": 1615238859933,
     "user": {
      "displayName": "Anthony Cho",
      "photoUrl": "",
      "userId": "04569494085624422303"
     },
     "user_tz": 180
    },
    "id": "hJxEp4cLmUU2",
    "outputId": "9eceb5c2-363e-4b5c-a5b8-4836abac4e04"
   },
   "outputs": [
    {
     "name": "stdout",
     "output_type": "stream",
     "text": [
      "Epoch 1/100\n",
      "84/84 [==============================] - 1s 7ms/step - loss: 3.2464 - accuracy: 0.1524 - val_loss: 2.9346 - val_accuracy: 0.1809\n",
      "Epoch 2/100\n",
      "84/84 [==============================] - 0s 2ms/step - loss: 2.8166 - accuracy: 0.1509 - val_loss: 2.5571 - val_accuracy: 0.1894\n",
      "Epoch 3/100\n",
      "84/84 [==============================] - 0s 2ms/step - loss: 2.5364 - accuracy: 0.1702 - val_loss: 2.4947 - val_accuracy: 0.1809\n",
      "Epoch 4/100\n",
      "84/84 [==============================] - 0s 2ms/step - loss: 2.4582 - accuracy: 0.1423 - val_loss: 2.4362 - val_accuracy: 0.1957\n",
      "Epoch 5/100\n",
      "84/84 [==============================] - 0s 2ms/step - loss: 2.3818 - accuracy: 0.1838 - val_loss: 2.3728 - val_accuracy: 0.2170\n",
      "Epoch 6/100\n",
      "84/84 [==============================] - 0s 2ms/step - loss: 2.2985 - accuracy: 0.2192 - val_loss: 2.3254 - val_accuracy: 0.2319\n",
      "Epoch 7/100\n",
      "84/84 [==============================] - 0s 2ms/step - loss: 2.2738 - accuracy: 0.2174 - val_loss: 2.2889 - val_accuracy: 0.2447\n",
      "Epoch 8/100\n",
      "84/84 [==============================] - 0s 2ms/step - loss: 2.2330 - accuracy: 0.2260 - val_loss: 2.2717 - val_accuracy: 0.2404\n",
      "Epoch 9/100\n",
      "84/84 [==============================] - 0s 2ms/step - loss: 2.2194 - accuracy: 0.2270 - val_loss: 2.2532 - val_accuracy: 0.2447\n",
      "Epoch 10/100\n",
      "84/84 [==============================] - 0s 2ms/step - loss: 2.1766 - accuracy: 0.2393 - val_loss: 2.2391 - val_accuracy: 0.2468\n",
      "Epoch 11/100\n",
      "84/84 [==============================] - 0s 2ms/step - loss: 2.1754 - accuracy: 0.2310 - val_loss: 2.2282 - val_accuracy: 0.2468\n",
      "Epoch 12/100\n",
      "84/84 [==============================] - 0s 2ms/step - loss: 2.1908 - accuracy: 0.2399 - val_loss: 2.2200 - val_accuracy: 0.2681\n",
      "Epoch 13/100\n",
      "84/84 [==============================] - 0s 2ms/step - loss: 2.1430 - accuracy: 0.2514 - val_loss: 2.2108 - val_accuracy: 0.2553\n",
      "Epoch 14/100\n",
      "84/84 [==============================] - 0s 2ms/step - loss: 2.1264 - accuracy: 0.2499 - val_loss: 2.2029 - val_accuracy: 0.2638\n",
      "Epoch 15/100\n",
      "84/84 [==============================] - 0s 2ms/step - loss: 2.1549 - accuracy: 0.2606 - val_loss: 2.1968 - val_accuracy: 0.2766\n",
      "Epoch 16/100\n",
      "84/84 [==============================] - 0s 2ms/step - loss: 2.1577 - accuracy: 0.2322 - val_loss: 2.1914 - val_accuracy: 0.2787\n",
      "Epoch 17/100\n",
      "84/84 [==============================] - 0s 2ms/step - loss: 2.1175 - accuracy: 0.2329 - val_loss: 2.1840 - val_accuracy: 0.2723\n",
      "Epoch 18/100\n",
      "84/84 [==============================] - 0s 2ms/step - loss: 2.1234 - accuracy: 0.2631 - val_loss: 2.1785 - val_accuracy: 0.2745\n",
      "Epoch 19/100\n",
      "84/84 [==============================] - 0s 2ms/step - loss: 2.1464 - accuracy: 0.2328 - val_loss: 2.1752 - val_accuracy: 0.2638\n",
      "Epoch 20/100\n",
      "84/84 [==============================] - 0s 2ms/step - loss: 2.1098 - accuracy: 0.2600 - val_loss: 2.1666 - val_accuracy: 0.2766\n",
      "Epoch 21/100\n",
      "84/84 [==============================] - 0s 2ms/step - loss: 2.1361 - accuracy: 0.2406 - val_loss: 2.1623 - val_accuracy: 0.2787\n",
      "Epoch 22/100\n",
      "84/84 [==============================] - 0s 2ms/step - loss: 2.0931 - accuracy: 0.2605 - val_loss: 2.1575 - val_accuracy: 0.2660\n",
      "Epoch 23/100\n",
      "84/84 [==============================] - 0s 2ms/step - loss: 2.1224 - accuracy: 0.2455 - val_loss: 2.1553 - val_accuracy: 0.2702\n",
      "Epoch 24/100\n",
      "84/84 [==============================] - 0s 2ms/step - loss: 2.1020 - accuracy: 0.2759 - val_loss: 2.1487 - val_accuracy: 0.2574\n",
      "Epoch 25/100\n",
      "84/84 [==============================] - 0s 2ms/step - loss: 2.1027 - accuracy: 0.2560 - val_loss: 2.1448 - val_accuracy: 0.2617\n",
      "Epoch 26/100\n",
      "84/84 [==============================] - 0s 2ms/step - loss: 2.1238 - accuracy: 0.2528 - val_loss: 2.1386 - val_accuracy: 0.2638\n",
      "Epoch 27/100\n",
      "84/84 [==============================] - 0s 2ms/step - loss: 2.0833 - accuracy: 0.2593 - val_loss: 2.1412 - val_accuracy: 0.2511\n",
      "Epoch 28/100\n",
      "84/84 [==============================] - 0s 2ms/step - loss: 2.1067 - accuracy: 0.2638 - val_loss: 2.1370 - val_accuracy: 0.2660\n",
      "Epoch 29/100\n",
      "84/84 [==============================] - 0s 2ms/step - loss: 2.1087 - accuracy: 0.2576 - val_loss: 2.1326 - val_accuracy: 0.2617\n",
      "Epoch 30/100\n",
      "84/84 [==============================] - 0s 2ms/step - loss: 2.0842 - accuracy: 0.2667 - val_loss: 2.1301 - val_accuracy: 0.2702\n",
      "Epoch 31/100\n",
      "84/84 [==============================] - 0s 2ms/step - loss: 2.0579 - accuracy: 0.2783 - val_loss: 2.1244 - val_accuracy: 0.2596\n",
      "Epoch 32/100\n",
      "84/84 [==============================] - 0s 2ms/step - loss: 2.0850 - accuracy: 0.2681 - val_loss: 2.1204 - val_accuracy: 0.2745\n",
      "Epoch 33/100\n",
      "84/84 [==============================] - 0s 2ms/step - loss: 2.0811 - accuracy: 0.2612 - val_loss: 2.1171 - val_accuracy: 0.2596\n",
      "Epoch 34/100\n",
      "84/84 [==============================] - 0s 2ms/step - loss: 2.0905 - accuracy: 0.2686 - val_loss: 2.1173 - val_accuracy: 0.2702\n",
      "Epoch 35/100\n",
      "84/84 [==============================] - 0s 2ms/step - loss: 2.0755 - accuracy: 0.2552 - val_loss: 2.1105 - val_accuracy: 0.2574\n",
      "Epoch 36/100\n",
      "84/84 [==============================] - 0s 2ms/step - loss: 2.0852 - accuracy: 0.2691 - val_loss: 2.1118 - val_accuracy: 0.2489\n",
      "Epoch 37/100\n",
      "84/84 [==============================] - 0s 2ms/step - loss: 2.0466 - accuracy: 0.2793 - val_loss: 2.1102 - val_accuracy: 0.2596\n",
      "Epoch 38/100\n",
      "84/84 [==============================] - 0s 2ms/step - loss: 2.0742 - accuracy: 0.2791 - val_loss: 2.1059 - val_accuracy: 0.2638\n",
      "Epoch 39/100\n",
      "84/84 [==============================] - 0s 2ms/step - loss: 2.0553 - accuracy: 0.2740 - val_loss: 2.1021 - val_accuracy: 0.2596\n",
      "Epoch 40/100\n",
      "84/84 [==============================] - 0s 2ms/step - loss: 2.0780 - accuracy: 0.2689 - val_loss: 2.0970 - val_accuracy: 0.2702\n",
      "Epoch 41/100\n",
      "84/84 [==============================] - 0s 2ms/step - loss: 2.0457 - accuracy: 0.2823 - val_loss: 2.0965 - val_accuracy: 0.2787\n",
      "Epoch 42/100\n",
      "84/84 [==============================] - 0s 2ms/step - loss: 2.0747 - accuracy: 0.2552 - val_loss: 2.0940 - val_accuracy: 0.2553\n",
      "Epoch 43/100\n",
      "84/84 [==============================] - 0s 2ms/step - loss: 2.0744 - accuracy: 0.2663 - val_loss: 2.0895 - val_accuracy: 0.2660\n",
      "Epoch 44/100\n",
      "84/84 [==============================] - 0s 2ms/step - loss: 2.0466 - accuracy: 0.2783 - val_loss: 2.0892 - val_accuracy: 0.2681\n",
      "Epoch 45/100\n",
      "84/84 [==============================] - 0s 2ms/step - loss: 2.0618 - accuracy: 0.2569 - val_loss: 2.0854 - val_accuracy: 0.2574\n",
      "Epoch 46/100\n",
      "84/84 [==============================] - 0s 2ms/step - loss: 2.0553 - accuracy: 0.2753 - val_loss: 2.0793 - val_accuracy: 0.2660\n",
      "Epoch 47/100\n",
      "84/84 [==============================] - 0s 2ms/step - loss: 2.0432 - accuracy: 0.2881 - val_loss: 2.0761 - val_accuracy: 0.2681\n",
      "Epoch 48/100\n",
      "84/84 [==============================] - 0s 2ms/step - loss: 2.0087 - accuracy: 0.2811 - val_loss: 2.0726 - val_accuracy: 0.2745\n",
      "Epoch 49/100\n",
      "84/84 [==============================] - 0s 2ms/step - loss: 2.0466 - accuracy: 0.2836 - val_loss: 2.0665 - val_accuracy: 0.2574\n",
      "Epoch 50/100\n",
      "84/84 [==============================] - 0s 2ms/step - loss: 2.0632 - accuracy: 0.2709 - val_loss: 2.0622 - val_accuracy: 0.2723\n",
      "Epoch 51/100\n",
      "84/84 [==============================] - 0s 2ms/step - loss: 2.0270 - accuracy: 0.2663 - val_loss: 2.0572 - val_accuracy: 0.2766\n",
      "Epoch 52/100\n",
      "84/84 [==============================] - 0s 2ms/step - loss: 2.0355 - accuracy: 0.2774 - val_loss: 2.0568 - val_accuracy: 0.2681\n",
      "Epoch 53/100\n",
      "84/84 [==============================] - 0s 2ms/step - loss: 1.9776 - accuracy: 0.2815 - val_loss: 2.0515 - val_accuracy: 0.2660\n",
      "Epoch 54/100\n",
      "84/84 [==============================] - 0s 2ms/step - loss: 2.0283 - accuracy: 0.2768 - val_loss: 2.0515 - val_accuracy: 0.2660\n",
      "Epoch 55/100\n",
      "84/84 [==============================] - 0s 2ms/step - loss: 2.0322 - accuracy: 0.2665 - val_loss: 2.0452 - val_accuracy: 0.2638\n",
      "Epoch 56/100\n",
      "84/84 [==============================] - 0s 2ms/step - loss: 2.0399 - accuracy: 0.2859 - val_loss: 2.0439 - val_accuracy: 0.2617\n",
      "Epoch 57/100\n",
      "84/84 [==============================] - 0s 2ms/step - loss: 1.9889 - accuracy: 0.2870 - val_loss: 2.0371 - val_accuracy: 0.2809\n",
      "Epoch 58/100\n",
      "84/84 [==============================] - 0s 2ms/step - loss: 2.0480 - accuracy: 0.2770 - val_loss: 2.0360 - val_accuracy: 0.2766\n"
     ]
    },
    {
     "name": "stdout",
     "output_type": "stream",
     "text": [
      "Epoch 59/100\n",
      "84/84 [==============================] - 0s 2ms/step - loss: 2.0041 - accuracy: 0.2774 - val_loss: 2.0327 - val_accuracy: 0.2745\n",
      "Epoch 60/100\n",
      "84/84 [==============================] - 0s 2ms/step - loss: 2.0082 - accuracy: 0.2689 - val_loss: 2.0305 - val_accuracy: 0.2766\n",
      "Epoch 61/100\n",
      "84/84 [==============================] - 0s 2ms/step - loss: 2.0122 - accuracy: 0.2781 - val_loss: 2.0283 - val_accuracy: 0.2766\n",
      "Epoch 62/100\n",
      "84/84 [==============================] - 0s 2ms/step - loss: 1.9962 - accuracy: 0.2694 - val_loss: 2.0285 - val_accuracy: 0.2532\n",
      "Epoch 63/100\n",
      "84/84 [==============================] - 0s 2ms/step - loss: 1.9929 - accuracy: 0.2739 - val_loss: 2.0267 - val_accuracy: 0.2574\n",
      "Epoch 64/100\n",
      "84/84 [==============================] - 0s 2ms/step - loss: 1.9977 - accuracy: 0.2881 - val_loss: 2.0203 - val_accuracy: 0.2766\n",
      "Epoch 65/100\n",
      "84/84 [==============================] - 0s 2ms/step - loss: 2.0054 - accuracy: 0.2776 - val_loss: 2.0168 - val_accuracy: 0.2745\n",
      "Epoch 66/100\n",
      "84/84 [==============================] - 0s 2ms/step - loss: 1.9982 - accuracy: 0.2862 - val_loss: 2.0157 - val_accuracy: 0.2723\n",
      "Epoch 67/100\n",
      "84/84 [==============================] - 0s 2ms/step - loss: 1.9818 - accuracy: 0.2857 - val_loss: 2.0118 - val_accuracy: 0.2830\n",
      "Epoch 68/100\n",
      "84/84 [==============================] - 0s 2ms/step - loss: 1.9917 - accuracy: 0.2740 - val_loss: 2.0069 - val_accuracy: 0.2766\n",
      "Epoch 69/100\n",
      "84/84 [==============================] - 0s 2ms/step - loss: 1.9620 - accuracy: 0.2867 - val_loss: 2.0100 - val_accuracy: 0.2830\n",
      "Epoch 70/100\n",
      "84/84 [==============================] - 0s 2ms/step - loss: 1.9970 - accuracy: 0.2779 - val_loss: 2.0053 - val_accuracy: 0.2681\n",
      "Epoch 71/100\n",
      "84/84 [==============================] - 0s 2ms/step - loss: 2.0058 - accuracy: 0.2481 - val_loss: 2.0013 - val_accuracy: 0.2745\n",
      "Epoch 72/100\n",
      "84/84 [==============================] - 0s 2ms/step - loss: 1.9828 - accuracy: 0.2807 - val_loss: 2.0021 - val_accuracy: 0.2574\n",
      "Epoch 73/100\n",
      "84/84 [==============================] - 0s 2ms/step - loss: 1.9808 - accuracy: 0.2855 - val_loss: 1.9982 - val_accuracy: 0.2681\n",
      "Epoch 74/100\n",
      "84/84 [==============================] - 0s 2ms/step - loss: 1.9934 - accuracy: 0.2631 - val_loss: 1.9960 - val_accuracy: 0.2702\n",
      "Epoch 75/100\n",
      "84/84 [==============================] - 0s 2ms/step - loss: 1.9790 - accuracy: 0.2673 - val_loss: 1.9918 - val_accuracy: 0.2787\n",
      "Epoch 76/100\n",
      "84/84 [==============================] - 0s 2ms/step - loss: 1.9565 - accuracy: 0.2736 - val_loss: 1.9917 - val_accuracy: 0.2638\n",
      "Epoch 77/100\n",
      "84/84 [==============================] - 0s 2ms/step - loss: 1.9699 - accuracy: 0.2867 - val_loss: 1.9912 - val_accuracy: 0.2574\n",
      "Epoch 78/100\n",
      "84/84 [==============================] - 0s 2ms/step - loss: 1.9845 - accuracy: 0.2629 - val_loss: 1.9900 - val_accuracy: 0.2489\n",
      "Epoch 79/100\n",
      "84/84 [==============================] - 0s 2ms/step - loss: 1.9648 - accuracy: 0.2738 - val_loss: 1.9897 - val_accuracy: 0.2638\n",
      "Epoch 80/100\n",
      "84/84 [==============================] - 0s 2ms/step - loss: 1.9801 - accuracy: 0.2695 - val_loss: 1.9899 - val_accuracy: 0.2660\n",
      "Epoch 81/100\n",
      "84/84 [==============================] - 0s 2ms/step - loss: 1.9917 - accuracy: 0.2723 - val_loss: 1.9835 - val_accuracy: 0.2596\n",
      "Epoch 82/100\n",
      "84/84 [==============================] - 0s 2ms/step - loss: 1.9784 - accuracy: 0.2869 - val_loss: 1.9873 - val_accuracy: 0.2766\n",
      "Epoch 83/100\n",
      "84/84 [==============================] - 0s 2ms/step - loss: 1.9568 - accuracy: 0.2878 - val_loss: 1.9823 - val_accuracy: 0.2723\n",
      "Epoch 84/100\n",
      "84/84 [==============================] - 0s 2ms/step - loss: 1.9795 - accuracy: 0.2652 - val_loss: 1.9836 - val_accuracy: 0.2681\n",
      "Epoch 85/100\n",
      "84/84 [==============================] - 0s 2ms/step - loss: 1.9907 - accuracy: 0.2604 - val_loss: 1.9812 - val_accuracy: 0.2596\n",
      "Epoch 86/100\n",
      "84/84 [==============================] - 0s 2ms/step - loss: 1.9797 - accuracy: 0.2737 - val_loss: 1.9872 - val_accuracy: 0.2426\n",
      "Epoch 87/100\n",
      "84/84 [==============================] - 0s 2ms/step - loss: 1.9602 - accuracy: 0.2830 - val_loss: 1.9886 - val_accuracy: 0.2447\n",
      "Epoch 88/100\n",
      "84/84 [==============================] - 0s 2ms/step - loss: 1.9756 - accuracy: 0.2861 - val_loss: 1.9778 - val_accuracy: 0.2574\n",
      "Epoch 89/100\n",
      "84/84 [==============================] - 0s 2ms/step - loss: 1.9738 - accuracy: 0.2759 - val_loss: 1.9768 - val_accuracy: 0.2553\n",
      "Epoch 90/100\n",
      "84/84 [==============================] - 0s 2ms/step - loss: 1.9371 - accuracy: 0.2962 - val_loss: 1.9793 - val_accuracy: 0.2532\n",
      "Epoch 91/100\n",
      "84/84 [==============================] - 0s 2ms/step - loss: 1.9684 - accuracy: 0.2794 - val_loss: 1.9711 - val_accuracy: 0.2596\n",
      "Epoch 92/100\n",
      "84/84 [==============================] - 0s 2ms/step - loss: 1.9669 - accuracy: 0.2617 - val_loss: 1.9713 - val_accuracy: 0.2574\n",
      "Epoch 93/100\n",
      "84/84 [==============================] - 0s 2ms/step - loss: 1.9816 - accuracy: 0.2788 - val_loss: 1.9759 - val_accuracy: 0.2553\n",
      "Epoch 94/100\n",
      "84/84 [==============================] - 0s 2ms/step - loss: 1.9758 - accuracy: 0.2690 - val_loss: 1.9723 - val_accuracy: 0.2468\n",
      "Epoch 95/100\n",
      "84/84 [==============================] - 0s 2ms/step - loss: 1.9684 - accuracy: 0.2756 - val_loss: 1.9753 - val_accuracy: 0.2574\n",
      "Epoch 96/100\n",
      "84/84 [==============================] - 0s 2ms/step - loss: 1.9441 - accuracy: 0.2831 - val_loss: 1.9718 - val_accuracy: 0.2426\n",
      "Epoch 97/100\n",
      "84/84 [==============================] - 0s 2ms/step - loss: 1.9568 - accuracy: 0.2804 - val_loss: 1.9733 - val_accuracy: 0.2426\n",
      "Epoch 98/100\n",
      "84/84 [==============================] - 0s 2ms/step - loss: 1.9533 - accuracy: 0.2750 - val_loss: 1.9712 - val_accuracy: 0.2532\n",
      "Epoch 99/100\n",
      "84/84 [==============================] - 0s 2ms/step - loss: 1.9673 - accuracy: 0.2810 - val_loss: 1.9717 - val_accuracy: 0.2553\n",
      "Epoch 100/100\n",
      "84/84 [==============================] - 0s 2ms/step - loss: 1.9532 - accuracy: 0.2924 - val_loss: 1.9690 - val_accuracy: 0.2638\n",
      "Time spent[s]:  17.437680959701538\n"
     ]
    }
   ],
   "source": [
    "## Fit model\n",
    "start = time()\n",
    "history = model.fit(x=X_train, y=y_train_encode, \n",
    "                    validation_split=0.15,\n",
    "                    epochs=100, \n",
    "                    batch_size=32)\n",
    "print('Time spent[s]: ', time()-start)"
   ]
  },
  {
   "cell_type": "markdown",
   "metadata": {
    "id": "xqoda86cmXeF"
   },
   "source": [
    "## Model performances display"
   ]
  },
  {
   "cell_type": "code",
   "execution_count": 8,
   "metadata": {
    "colab": {
     "base_uri": "https://localhost:8080/",
     "height": 423
    },
    "executionInfo": {
     "elapsed": 2217,
     "status": "ok",
     "timestamp": 1615238865141,
     "user": {
      "displayName": "Anthony Cho",
      "photoUrl": "",
      "userId": "04569494085624422303"
     },
     "user_tz": 180
    },
    "id": "Iqc-N0t7mbf9",
    "outputId": "fe6a46d0-f4f8-4ae0-bbb8-88ee2f82eae7"
   },
   "outputs": [
    {
     "data": {
      "image/png": "[encoded data removed]",
      "text/plain": [
       "<Figure size 1008x432 with 2 Axes>"
      ]
     },
     "metadata": {
      "needs_background": "light"
     },
     "output_type": "display_data"
    },
    {
     "name": "stdout",
     "output_type": "stream",
     "text": [
      "33/33 [==============================] - 0s 1ms/step - loss: 2.0071 - accuracy: 0.2565\n"
     ]
    },
    {
     "data": {
      "text/plain": [
       "[2.0071284770965576, 0.2564593255519867]"
      ]
     },
     "execution_count": 8,
     "metadata": {},
     "output_type": "execute_result"
    }
   ],
   "source": [
    "## Display performances\n",
    "plot_history(history, width=14)\n",
    "\n",
    "## Compute prediction with test set\n",
    "model.evaluate(X_test, y_test_encode)"
   ]
  },
  {
   "cell_type": "markdown",
   "metadata": {
    "id": "i1XCsutQme1d"
   },
   "source": [
    "## Predictions"
   ]
  },
  {
   "cell_type": "code",
   "execution_count": 9,
   "metadata": {
    "executionInfo": {
     "elapsed": 1719,
     "status": "ok",
     "timestamp": 1615238891915,
     "user": {
      "displayName": "Anthony Cho",
      "photoUrl": "",
      "userId": "04569494085624422303"
     },
     "user_tz": 180
    },
    "id": "j6pP-cuImfJB"
   },
   "outputs": [],
   "source": [
    "## Make prediction using test set\n",
    "prediction = model.predict(X_test)"
   ]
  },
  {
   "cell_type": "code",
   "execution_count": 10,
   "metadata": {
    "colab": {
     "base_uri": "https://localhost:8080/"
    },
    "executionInfo": {
     "elapsed": 2469,
     "status": "ok",
     "timestamp": 1615238900889,
     "user": {
      "displayName": "Anthony Cho",
      "photoUrl": "",
      "userId": "04569494085624422303"
     },
     "user_tz": 180
    },
    "id": "QRHTdOaQmjvJ",
    "outputId": "6c047a19-c50e-420a-abca-d57906b2e270"
   },
   "outputs": [
    {
     "data": {
      "text/plain": [
       "array([11,  9, 10, ...,  9, 11, 10])"
      ]
     },
     "execution_count": 10,
     "metadata": {},
     "output_type": "execute_result"
    }
   ],
   "source": [
    "## Decoding predictions to Class\n",
    "prediction_class = argmax(prediction, axis=-1) + 1\n",
    "prediction_class"
   ]
  },
  {
   "cell_type": "code",
   "execution_count": 11,
   "metadata": {
    "colab": {
     "base_uri": "https://localhost:8080/"
    },
    "executionInfo": {
     "elapsed": 1933,
     "status": "ok",
     "timestamp": 1615238907930,
     "user": {
      "displayName": "Anthony Cho",
      "photoUrl": "",
      "userId": "04569494085624422303"
     },
     "user_tz": 180
    },
    "id": "xt3dXekEmjx3",
    "outputId": "984c8e7e-0335-4f3b-8582-2c59c3cf7d59"
   },
   "outputs": [
    {
     "data": {
      "text/plain": [
       "[[0, 7, 0, 0, 0, 0, 0, 0, 0, 0, 0, 0, 0, 0, 0, 0, 0, 0, 0, 0, 0, 0, 0],\n",
       " [0, 3, 8, 2, 0, 0, 0, 0, 0, 0, 0, 0, 0, 0, 0, 0, 0, 0, 0, 0, 0, 0, 0],\n",
       " [0, 9, 6, 19, 5, 1, 0, 0, 0, 0, 0, 0, 0, 0, 0, 0, 0, 0, 0, 0, 0, 0, 0],\n",
       " [0, 2, 4, 27, 20, 7, 2, 0, 0, 0, 1, 0, 0, 0, 0, 0, 0, 0, 0, 0, 0, 0, 0],\n",
       " [0, 0, 3, 23, 39, 35, 12, 2, 0, 0, 0, 0, 0, 0, 0, 0, 0, 0, 0, 0, 0, 0, 0],\n",
       " [0, 0, 1, 6, 17, 58, 41, 14, 2, 0, 0, 0, 0, 0, 0, 0, 0, 0, 0, 0, 0, 0, 0],\n",
       " [0, 0, 0, 2, 10, 26, 59, 51, 4, 0, 0, 0, 0, 0, 0, 0, 0, 0, 0, 0, 0, 0, 0],\n",
       " [0, 0, 0, 5, 1, 15, 44, 59, 15, 0, 0, 0, 0, 0, 0, 0, 0, 0, 0, 0, 0, 0, 0],\n",
       " [0, 0, 0, 3, 4, 6, 31, 61, 16, 0, 0, 0, 0, 0, 0, 0, 0, 0, 0, 0, 0, 0, 0],\n",
       " [0, 0, 0, 0, 1, 6, 20, 44, 20, 0, 0, 0, 0, 2, 0, 0, 0, 0, 0, 0, 0, 0, 0],\n",
       " [0, 0, 0, 0, 0, 3, 5, 25, 17, 0, 0, 0, 0, 1, 0, 0, 0, 0, 0, 0, 0, 0, 0],\n",
       " [0, 0, 0, 0, 0, 1, 6, 17, 6, 0, 0, 0, 0, 2, 0, 0, 0, 0, 0, 0, 0, 0, 0],\n",
       " [0, 0, 0, 0, 0, 0, 3, 11, 8, 0, 0, 0, 0, 0, 0, 0, 0, 0, 0, 0, 0, 0, 0],\n",
       " [0, 0, 0, 0, 0, 1, 1, 7, 6, 0, 0, 0, 0, 1, 0, 0, 0, 0, 0, 0, 0, 0, 0],\n",
       " [0, 0, 0, 0, 0, 0, 0, 4, 5, 0, 0, 0, 0, 3, 0, 0, 0, 0, 0, 0, 0, 0, 0],\n",
       " [0, 0, 0, 0, 0, 0, 1, 1, 4, 0, 0, 0, 0, 0, 0, 0, 0, 0, 0, 0, 0, 0, 0],\n",
       " [0, 0, 0, 0, 0, 0, 1, 6, 2, 0, 0, 0, 0, 1, 0, 0, 0, 0, 0, 0, 0, 0, 0],\n",
       " [0, 0, 0, 0, 0, 0, 1, 4, 3, 0, 0, 0, 0, 0, 0, 0, 0, 0, 0, 0, 0, 0, 0],\n",
       " [0, 0, 0, 0, 0, 0, 0, 0, 0, 0, 1, 0, 0, 1, 0, 0, 0, 0, 0, 0, 0, 0, 0],\n",
       " [0, 0, 0, 0, 0, 0, 0, 1, 0, 0, 0, 0, 0, 0, 0, 0, 0, 0, 0, 0, 0, 0, 0],\n",
       " [0, 0, 0, 0, 0, 0, 0, 1, 1, 0, 0, 0, 0, 0, 0, 0, 0, 0, 0, 0, 0, 0, 0],\n",
       " [0, 0, 0, 0, 0, 0, 0, 0, 0, 0, 0, 0, 0, 1, 0, 0, 0, 0, 0, 0, 0, 0, 0],\n",
       " [0, 0, 0, 0, 0, 0, 0, 0, 1, 0, 0, 0, 0, 0, 0, 0, 0, 0, 0, 0, 0, 0, 0]]"
      ]
     },
     "execution_count": 11,
     "metadata": {},
     "output_type": "execute_result"
    }
   ],
   "source": [
    "## Display confusion matrix\n",
    "confusion_matrix(y_true=y_test, y_pred=prediction_class).tolist()"
   ]
  },
  {
   "cell_type": "code",
   "execution_count": 12,
   "metadata": {
    "id": "Fygpu-5rCWAQ"
   },
   "outputs": [
    {
     "name": "stdout",
     "output_type": "stream",
     "text": [
      "              precision    recall  f1-score   support\n",
      "\n",
      "           3       0.00      0.00      0.00         7\n",
      "           4       0.14      0.23      0.18        13\n",
      "           5       0.27      0.15      0.19        40\n",
      "           6       0.31      0.43      0.36        63\n",
      "           7       0.40      0.34      0.37       114\n",
      "           8       0.36      0.42      0.39       139\n",
      "           9       0.26      0.39      0.31       152\n",
      "          10       0.19      0.42      0.26       139\n",
      "          11       0.15      0.13      0.14       121\n",
      "          12       0.00      0.00      0.00        93\n",
      "          13       0.00      0.00      0.00        51\n",
      "          14       0.00      0.00      0.00        32\n",
      "          15       0.00      0.00      0.00        22\n",
      "          16       0.08      0.06      0.07        16\n",
      "          17       0.00      0.00      0.00        12\n",
      "          18       0.00      0.00      0.00         6\n",
      "          19       0.00      0.00      0.00        10\n",
      "          20       0.00      0.00      0.00         8\n",
      "          21       0.00      0.00      0.00         2\n",
      "          22       0.00      0.00      0.00         1\n",
      "          23       0.00      0.00      0.00         2\n",
      "          24       0.00      0.00      0.00         1\n",
      "          29       0.00      0.00      0.00         1\n",
      "\n",
      "    accuracy                           0.26      1045\n",
      "   macro avg       0.09      0.11      0.10      1045\n",
      "weighted avg       0.20      0.26      0.22      1045\n",
      "\n"
     ]
    },
    {
     "name": "stderr",
     "output_type": "stream",
     "text": [
      "/usr/local/lib/python3.8/dist-packages/sklearn/metrics/_classification.py:1221: UndefinedMetricWarning: Precision and F-score are ill-defined and being set to 0.0 in labels with no predicted samples. Use `zero_division` parameter to control this behavior.\n",
      "  _warn_prf(average, modifier, msg_start, len(result))\n"
     ]
    }
   ],
   "source": [
    "print(classification_report(y_true=y_test, y_pred=prediction_class))"
   ]
  },
  {
   "cell_type": "markdown",
   "metadata": {
    "id": "fVjwaiJYCWDM"
   },
   "source": [
    "### Best model"
   ]
  },
  {
   "cell_type": "code",
   "execution_count": 13,
   "metadata": {},
   "outputs": [],
   "source": [
    "## Model instance\n",
    "model = Sequential(name='Classification')\n",
    "model.add(layers.Dense(units=9, \n",
    "                       activation='relu', \n",
    "                       input_shape=(X_train.shape[1],), \n",
    "                       name='Hidden_01'))\n",
    "model.add(layers.Dense(units=13, \n",
    "                       activation='relu', \n",
    "                       name='Hidden_02'))\n",
    "model.add(layers.Dense(units=y_train_encode.shape[1],\n",
    "                       activation='softmax', \n",
    "                       name='Output'))\n",
    "\n",
    "## Set compiler configuration\n",
    "model.compile(optimizer='adam', \n",
    "              loss='categorical_crossentropy', \n",
    "              metrics=['accuracy'])"
   ]
  },
  {
   "cell_type": "code",
   "execution_count": 14,
   "metadata": {},
   "outputs": [
    {
     "name": "stdout",
     "output_type": "stream",
     "text": [
      "Epoch 1/100\n",
      "98/98 [==============================] - 0s 1ms/step - loss: 3.2034 - accuracy: 0.1717\n",
      "Epoch 2/100\n",
      "98/98 [==============================] - 0s 1ms/step - loss: 2.6833 - accuracy: 0.1466\n",
      "Epoch 3/100\n",
      "98/98 [==============================] - 0s 1ms/step - loss: 2.4900 - accuracy: 0.1651\n",
      "Epoch 4/100\n",
      "98/98 [==============================] - 0s 1ms/step - loss: 2.3997 - accuracy: 0.1878\n",
      "Epoch 5/100\n",
      "98/98 [==============================] - 0s 1ms/step - loss: 2.3433 - accuracy: 0.2234\n",
      "Epoch 6/100\n",
      "98/98 [==============================] - 0s 1ms/step - loss: 2.3107 - accuracy: 0.2123\n",
      "Epoch 7/100\n",
      "98/98 [==============================] - 0s 1ms/step - loss: 2.2464 - accuracy: 0.2218\n",
      "Epoch 8/100\n",
      "98/98 [==============================] - 0s 1ms/step - loss: 2.2296 - accuracy: 0.2403\n",
      "Epoch 9/100\n",
      "98/98 [==============================] - 0s 1ms/step - loss: 2.1973 - accuracy: 0.2249\n",
      "Epoch 10/100\n",
      "98/98 [==============================] - 0s 1ms/step - loss: 2.1577 - accuracy: 0.2596\n",
      "Epoch 11/100\n",
      "98/98 [==============================] - 0s 1ms/step - loss: 2.1581 - accuracy: 0.2443\n",
      "Epoch 12/100\n",
      "98/98 [==============================] - 0s 1ms/step - loss: 2.1695 - accuracy: 0.2524\n",
      "Epoch 13/100\n",
      "98/98 [==============================] - 0s 1ms/step - loss: 2.1402 - accuracy: 0.2426\n",
      "Epoch 14/100\n",
      "98/98 [==============================] - 0s 1ms/step - loss: 2.1302 - accuracy: 0.2540\n",
      "Epoch 15/100\n",
      "98/98 [==============================] - 0s 1ms/step - loss: 2.1229 - accuracy: 0.2636\n",
      "Epoch 16/100\n",
      "98/98 [==============================] - 0s 1ms/step - loss: 2.1321 - accuracy: 0.2614\n",
      "Epoch 17/100\n",
      "98/98 [==============================] - 0s 1ms/step - loss: 2.0973 - accuracy: 0.2641\n",
      "Epoch 18/100\n",
      "98/98 [==============================] - 0s 1ms/step - loss: 2.0913 - accuracy: 0.2706\n",
      "Epoch 19/100\n",
      "98/98 [==============================] - 0s 1ms/step - loss: 2.1069 - accuracy: 0.2499\n",
      "Epoch 20/100\n",
      "98/98 [==============================] - 0s 1ms/step - loss: 2.1089 - accuracy: 0.2641\n",
      "Epoch 21/100\n",
      "98/98 [==============================] - 0s 1ms/step - loss: 2.0875 - accuracy: 0.2515\n",
      "Epoch 22/100\n",
      "98/98 [==============================] - 0s 1ms/step - loss: 2.0661 - accuracy: 0.2746\n",
      "Epoch 23/100\n",
      "98/98 [==============================] - 0s 1ms/step - loss: 2.1096 - accuracy: 0.2605\n",
      "Epoch 24/100\n",
      "98/98 [==============================] - 0s 1ms/step - loss: 2.0597 - accuracy: 0.2575\n",
      "Epoch 25/100\n",
      "98/98 [==============================] - 0s 1ms/step - loss: 2.0635 - accuracy: 0.2768\n",
      "Epoch 26/100\n",
      "98/98 [==============================] - 0s 1ms/step - loss: 2.0756 - accuracy: 0.2628\n",
      "Epoch 27/100\n",
      "98/98 [==============================] - 0s 1ms/step - loss: 2.0777 - accuracy: 0.2750\n",
      "Epoch 28/100\n",
      "98/98 [==============================] - 0s 1ms/step - loss: 2.0594 - accuracy: 0.2647\n",
      "Epoch 29/100\n",
      "98/98 [==============================] - 0s 1ms/step - loss: 2.0649 - accuracy: 0.2694\n",
      "Epoch 30/100\n",
      "98/98 [==============================] - 0s 1ms/step - loss: 2.0455 - accuracy: 0.2752\n",
      "Epoch 31/100\n",
      "98/98 [==============================] - 0s 1ms/step - loss: 2.0383 - accuracy: 0.2827\n",
      "Epoch 32/100\n",
      "98/98 [==============================] - 0s 1ms/step - loss: 2.0170 - accuracy: 0.2822\n",
      "Epoch 33/100\n",
      "98/98 [==============================] - 0s 1ms/step - loss: 2.0211 - accuracy: 0.2739\n",
      "Epoch 34/100\n",
      "98/98 [==============================] - 0s 1ms/step - loss: 2.0365 - accuracy: 0.2861\n",
      "Epoch 35/100\n",
      "98/98 [==============================] - 0s 1ms/step - loss: 2.0454 - accuracy: 0.2775\n",
      "Epoch 36/100\n",
      "98/98 [==============================] - 0s 1ms/step - loss: 2.0297 - accuracy: 0.2597\n",
      "Epoch 37/100\n",
      "98/98 [==============================] - 0s 1ms/step - loss: 2.0124 - accuracy: 0.2948\n",
      "Epoch 38/100\n",
      "98/98 [==============================] - 0s 1ms/step - loss: 2.0303 - accuracy: 0.2839\n",
      "Epoch 39/100\n",
      "98/98 [==============================] - 0s 1ms/step - loss: 2.0000 - accuracy: 0.2827\n",
      "Epoch 40/100\n",
      "98/98 [==============================] - 0s 1ms/step - loss: 2.0436 - accuracy: 0.2617\n",
      "Epoch 41/100\n",
      "98/98 [==============================] - 0s 1ms/step - loss: 1.9924 - accuracy: 0.2792\n",
      "Epoch 42/100\n",
      "98/98 [==============================] - 0s 1ms/step - loss: 2.0237 - accuracy: 0.2637\n",
      "Epoch 43/100\n",
      "98/98 [==============================] - 0s 1ms/step - loss: 1.9868 - accuracy: 0.2679\n",
      "Epoch 44/100\n",
      "98/98 [==============================] - 0s 1ms/step - loss: 2.0268 - accuracy: 0.2671\n",
      "Epoch 45/100\n",
      "98/98 [==============================] - 0s 1ms/step - loss: 1.9993 - accuracy: 0.2774\n",
      "Epoch 46/100\n",
      "98/98 [==============================] - 0s 1ms/step - loss: 1.9877 - accuracy: 0.2662\n",
      "Epoch 47/100\n",
      "98/98 [==============================] - 0s 1ms/step - loss: 1.9619 - accuracy: 0.2968\n",
      "Epoch 48/100\n",
      "98/98 [==============================] - 0s 1ms/step - loss: 1.9899 - accuracy: 0.2702\n",
      "Epoch 49/100\n",
      "98/98 [==============================] - 0s 1ms/step - loss: 1.9891 - accuracy: 0.2831\n",
      "Epoch 50/100\n",
      "98/98 [==============================] - 0s 1ms/step - loss: 1.9791 - accuracy: 0.2762\n",
      "Epoch 51/100\n",
      "98/98 [==============================] - 0s 1ms/step - loss: 1.9610 - accuracy: 0.2915\n",
      "Epoch 52/100\n",
      "98/98 [==============================] - 0s 1ms/step - loss: 1.9985 - accuracy: 0.2697\n",
      "Epoch 53/100\n",
      "98/98 [==============================] - 0s 1ms/step - loss: 1.9563 - accuracy: 0.2822\n",
      "Epoch 54/100\n",
      "98/98 [==============================] - 0s 1ms/step - loss: 1.9860 - accuracy: 0.2747\n",
      "Epoch 55/100\n",
      "98/98 [==============================] - 0s 1ms/step - loss: 1.9887 - accuracy: 0.2852\n",
      "Epoch 56/100\n",
      "98/98 [==============================] - 0s 1ms/step - loss: 1.9764 - accuracy: 0.2720\n",
      "Epoch 57/100\n",
      "98/98 [==============================] - 0s 1ms/step - loss: 1.9599 - accuracy: 0.2717\n",
      "Epoch 58/100\n",
      "98/98 [==============================] - 0s 1ms/step - loss: 1.9923 - accuracy: 0.2635\n",
      "Epoch 59/100\n",
      "98/98 [==============================] - 0s 1ms/step - loss: 1.9675 - accuracy: 0.2854\n",
      "Epoch 60/100\n",
      "98/98 [==============================] - 0s 1ms/step - loss: 1.9904 - accuracy: 0.2661\n",
      "Epoch 61/100\n",
      "98/98 [==============================] - 0s 1ms/step - loss: 1.9520 - accuracy: 0.2791\n",
      "Epoch 62/100\n",
      "98/98 [==============================] - 0s 1ms/step - loss: 1.9610 - accuracy: 0.2891\n",
      "Epoch 63/100\n",
      "98/98 [==============================] - 0s 1ms/step - loss: 1.9914 - accuracy: 0.2698\n",
      "Epoch 64/100\n",
      "98/98 [==============================] - 0s 1ms/step - loss: 1.9616 - accuracy: 0.2731\n",
      "Epoch 65/100\n",
      "98/98 [==============================] - 0s 1ms/step - loss: 1.9502 - accuracy: 0.2766\n",
      "Epoch 66/100\n",
      "98/98 [==============================] - 0s 1ms/step - loss: 1.9744 - accuracy: 0.2758\n",
      "Epoch 67/100\n",
      "98/98 [==============================] - 0s 1ms/step - loss: 1.9818 - accuracy: 0.2630\n",
      "Epoch 68/100\n",
      "98/98 [==============================] - 0s 1ms/step - loss: 1.9575 - accuracy: 0.2620\n",
      "Epoch 69/100\n",
      "98/98 [==============================] - 0s 1ms/step - loss: 1.9589 - accuracy: 0.2860\n",
      "Epoch 70/100\n",
      "98/98 [==============================] - 0s 1ms/step - loss: 1.9652 - accuracy: 0.2766\n",
      "Epoch 71/100\n",
      "98/98 [==============================] - 0s 1ms/step - loss: 1.9443 - accuracy: 0.2911\n",
      "Epoch 72/100\n",
      "98/98 [==============================] - 0s 1ms/step - loss: 1.9696 - accuracy: 0.2779\n",
      "Epoch 73/100\n",
      "98/98 [==============================] - 0s 1ms/step - loss: 1.9800 - accuracy: 0.2796\n",
      "Epoch 74/100\n",
      "98/98 [==============================] - 0s 1ms/step - loss: 1.9355 - accuracy: 0.2813\n",
      "Epoch 75/100\n",
      "98/98 [==============================] - 0s 1ms/step - loss: 1.9363 - accuracy: 0.2915\n",
      "Epoch 76/100\n",
      "98/98 [==============================] - 0s 1ms/step - loss: 1.9543 - accuracy: 0.2884\n",
      "Epoch 77/100\n",
      "98/98 [==============================] - 0s 1ms/step - loss: 1.9460 - accuracy: 0.2774\n",
      "Epoch 78/100\n",
      "98/98 [==============================] - 0s 1ms/step - loss: 1.9369 - accuracy: 0.2802\n",
      "Epoch 79/100\n",
      "98/98 [==============================] - 0s 1ms/step - loss: 1.9225 - accuracy: 0.2928\n",
      "Epoch 80/100\n",
      "98/98 [==============================] - 0s 1ms/step - loss: 1.9442 - accuracy: 0.2749\n",
      "Epoch 81/100\n",
      "98/98 [==============================] - 0s 1ms/step - loss: 1.9588 - accuracy: 0.2537\n",
      "Epoch 82/100\n",
      "98/98 [==============================] - 0s 1ms/step - loss: 1.9336 - accuracy: 0.2787\n",
      "Epoch 83/100\n"
     ]
    },
    {
     "name": "stdout",
     "output_type": "stream",
     "text": [
      "98/98 [==============================] - 0s 1ms/step - loss: 1.9432 - accuracy: 0.2879\n",
      "Epoch 84/100\n",
      "98/98 [==============================] - 0s 1ms/step - loss: 1.9326 - accuracy: 0.2788\n",
      "Epoch 85/100\n",
      "98/98 [==============================] - 0s 1ms/step - loss: 1.9699 - accuracy: 0.2632\n",
      "Epoch 86/100\n",
      "98/98 [==============================] - 0s 1ms/step - loss: 1.9410 - accuracy: 0.2724\n",
      "Epoch 87/100\n",
      "98/98 [==============================] - 0s 1ms/step - loss: 1.9404 - accuracy: 0.2837\n",
      "Epoch 88/100\n",
      "98/98 [==============================] - 0s 1ms/step - loss: 1.9165 - accuracy: 0.2840\n",
      "Epoch 89/100\n",
      "98/98 [==============================] - 0s 1ms/step - loss: 1.9320 - accuracy: 0.2783\n",
      "Epoch 90/100\n",
      "98/98 [==============================] - 0s 1ms/step - loss: 1.9632 - accuracy: 0.2776\n",
      "Epoch 91/100\n",
      "98/98 [==============================] - 0s 1ms/step - loss: 1.9494 - accuracy: 0.2774\n",
      "Epoch 92/100\n",
      "98/98 [==============================] - 0s 1ms/step - loss: 1.9487 - accuracy: 0.2892\n",
      "Epoch 93/100\n",
      "98/98 [==============================] - 0s 1ms/step - loss: 1.9398 - accuracy: 0.2669\n",
      "Epoch 94/100\n",
      "98/98 [==============================] - 0s 1ms/step - loss: 1.9395 - accuracy: 0.2991\n",
      "Epoch 95/100\n",
      "98/98 [==============================] - 0s 1ms/step - loss: 1.9264 - accuracy: 0.2836\n",
      "Epoch 96/100\n",
      "98/98 [==============================] - 0s 1ms/step - loss: 1.9356 - accuracy: 0.2869\n",
      "Epoch 97/100\n",
      "98/98 [==============================] - 0s 1ms/step - loss: 1.9222 - accuracy: 0.2999\n",
      "Epoch 98/100\n",
      "98/98 [==============================] - 0s 1ms/step - loss: 1.9524 - accuracy: 0.2803\n",
      "Epoch 99/100\n",
      "98/98 [==============================] - 0s 1ms/step - loss: 1.9338 - accuracy: 0.2910\n",
      "Epoch 100/100\n",
      "98/98 [==============================] - 0s 1ms/step - loss: 1.9534 - accuracy: 0.2823\n",
      "Time spent[s]:  13.664083480834961\n"
     ]
    }
   ],
   "source": [
    "## Fit model (no validate set)\n",
    "start = time()\n",
    "history = model.fit(x=X_train, y=y_train_encode,\n",
    "                    epochs=100, \n",
    "                    batch_size=32)\n",
    "print('Time spent[s]: ', time()-start)"
   ]
  },
  {
   "cell_type": "code",
   "execution_count": 15,
   "metadata": {},
   "outputs": [
    {
     "data": {
      "text/plain": [
       "array([13,  9, 11, ...,  9, 11, 11])"
      ]
     },
     "execution_count": 15,
     "metadata": {},
     "output_type": "execute_result"
    }
   ],
   "source": [
    "## Make prediction using test set\n",
    "prediction = model.predict(X_test)\n",
    "\n",
    "## Decoding predictions to Class\n",
    "prediction_class = argmax(prediction, axis=-1) + 1\n",
    "prediction_class"
   ]
  },
  {
   "cell_type": "code",
   "execution_count": 16,
   "metadata": {},
   "outputs": [
    {
     "data": {
      "text/plain": [
       "[[0, 7, 0, 0, 0, 0, 0, 0, 0, 0, 0, 0, 0, 0, 0, 0, 0, 0, 0, 0, 0, 0, 0],\n",
       " [0, 4, 7, 2, 0, 0, 0, 0, 0, 0, 0, 0, 0, 0, 0, 0, 0, 0, 0, 0, 0, 0, 0],\n",
       " [0, 7, 7, 18, 7, 1, 0, 0, 0, 0, 0, 0, 0, 0, 0, 0, 0, 0, 0, 0, 0, 0, 0],\n",
       " [0, 2, 4, 14, 33, 7, 2, 0, 0, 0, 1, 0, 0, 0, 0, 0, 0, 0, 0, 0, 0, 0, 0],\n",
       " [0, 0, 3, 13, 40, 42, 14, 0, 2, 0, 0, 0, 0, 0, 0, 0, 0, 0, 0, 0, 0, 0, 0],\n",
       " [0, 0, 1, 4, 13, 62, 41, 14, 4, 0, 0, 0, 0, 0, 0, 0, 0, 0, 0, 0, 0, 0, 0],\n",
       " [0, 0, 0, 2, 7, 27, 57, 44, 15, 0, 0, 0, 0, 0, 0, 0, 0, 0, 0, 0, 0, 0, 0],\n",
       " [0, 0, 0, 4, 2, 15, 42, 37, 35, 0, 3, 0, 0, 1, 0, 0, 0, 0, 0, 0, 0, 0, 0],\n",
       " [0, 0, 0, 3, 4, 6, 28, 35, 44, 0, 1, 0, 0, 0, 0, 0, 0, 0, 0, 0, 0, 0, 0],\n",
       " [0, 0, 0, 0, 0, 7, 17, 34, 27, 0, 5, 0, 0, 3, 0, 0, 0, 0, 0, 0, 0, 0, 0],\n",
       " [0, 0, 0, 0, 0, 2, 5, 19, 22, 0, 2, 0, 0, 1, 0, 0, 0, 0, 0, 0, 0, 0, 0],\n",
       " [0, 0, 0, 0, 0, 0, 6, 15, 7, 0, 2, 0, 0, 2, 0, 0, 0, 0, 0, 0, 0, 0, 0],\n",
       " [0, 0, 0, 0, 0, 0, 2, 5, 12, 0, 2, 0, 0, 1, 0, 0, 0, 0, 0, 0, 0, 0, 0],\n",
       " [0, 0, 0, 0, 0, 1, 1, 5, 5, 0, 3, 0, 0, 1, 0, 0, 0, 0, 0, 0, 0, 0, 0],\n",
       " [0, 0, 0, 0, 0, 0, 0, 2, 6, 0, 1, 0, 0, 3, 0, 0, 0, 0, 0, 0, 0, 0, 0],\n",
       " [0, 0, 0, 0, 0, 0, 0, 1, 3, 0, 0, 0, 0, 2, 0, 0, 0, 0, 0, 0, 0, 0, 0],\n",
       " [0, 0, 0, 0, 0, 0, 0, 5, 4, 0, 0, 0, 0, 1, 0, 0, 0, 0, 0, 0, 0, 0, 0],\n",
       " [0, 0, 0, 0, 0, 0, 1, 1, 4, 0, 2, 0, 0, 0, 0, 0, 0, 0, 0, 0, 0, 0, 0],\n",
       " [0, 0, 0, 0, 0, 0, 0, 0, 0, 0, 0, 0, 0, 2, 0, 0, 0, 0, 0, 0, 0, 0, 0],\n",
       " [0, 0, 0, 0, 0, 0, 0, 0, 0, 0, 1, 0, 0, 0, 0, 0, 0, 0, 0, 0, 0, 0, 0],\n",
       " [0, 0, 0, 0, 0, 0, 0, 0, 0, 0, 2, 0, 0, 0, 0, 0, 0, 0, 0, 0, 0, 0, 0],\n",
       " [0, 0, 0, 0, 0, 0, 0, 0, 0, 0, 0, 0, 0, 1, 0, 0, 0, 0, 0, 0, 0, 0, 0],\n",
       " [0, 0, 0, 0, 0, 0, 0, 0, 1, 0, 0, 0, 0, 0, 0, 0, 0, 0, 0, 0, 0, 0, 0]]"
      ]
     },
     "execution_count": 16,
     "metadata": {},
     "output_type": "execute_result"
    }
   ],
   "source": [
    "## Display confusion matrix\n",
    "confusion_matrix(y_true=y_test, y_pred=prediction_class).tolist()"
   ]
  },
  {
   "cell_type": "code",
   "execution_count": 17,
   "metadata": {},
   "outputs": [
    {
     "name": "stdout",
     "output_type": "stream",
     "text": [
      "              precision    recall  f1-score   support\n",
      "\n",
      "           3       0.00      0.00      0.00         7\n",
      "           4       0.20      0.31      0.24        13\n",
      "           5       0.32      0.17      0.23        40\n",
      "           6       0.23      0.22      0.23        63\n",
      "           7       0.38      0.35      0.36       114\n",
      "           8       0.36      0.45      0.40       139\n",
      "           9       0.26      0.38      0.31       152\n",
      "          10       0.17      0.27      0.21       139\n",
      "          11       0.23      0.36      0.28       121\n",
      "          12       0.00      0.00      0.00        93\n",
      "          13       0.08      0.04      0.05        51\n",
      "          14       0.00      0.00      0.00        32\n",
      "          15       0.00      0.00      0.00        22\n",
      "          16       0.06      0.06      0.06        16\n",
      "          17       0.00      0.00      0.00        12\n",
      "          18       0.00      0.00      0.00         6\n",
      "          19       0.00      0.00      0.00        10\n",
      "          20       0.00      0.00      0.00         8\n",
      "          21       0.00      0.00      0.00         2\n",
      "          22       0.00      0.00      0.00         1\n",
      "          23       0.00      0.00      0.00         2\n",
      "          24       0.00      0.00      0.00         1\n",
      "          29       0.00      0.00      0.00         1\n",
      "\n",
      "    accuracy                           0.26      1045\n",
      "   macro avg       0.10      0.11      0.10      1045\n",
      "weighted avg       0.21      0.26      0.23      1045\n",
      "\n"
     ]
    }
   ],
   "source": [
    "print(classification_report(y_true=y_test, y_pred=prediction_class))"
   ]
  },
  {
   "cell_type": "code",
   "execution_count": null,
   "metadata": {},
   "outputs": [],
   "source": []
  }
 ],
 "metadata": {
  "accelerator": "GPU",
  "colab": {
   "authorship_tag": "ABX9TyPN0iunZCmthE7Q44MviV8t",
   "collapsed_sections": [],
   "name": "Ayudantia 01.ipynb",
   "provenance": [],
   "toc_visible": true
  },
  "kernelspec": {
   "display_name": "Python 3",
   "language": "python",
   "name": "python3"
  },
  "language_info": {
   "codemirror_mode": {
    "name": "ipython",
    "version": 3
   },
   "file_extension": ".py",
   "mimetype": "text/x-python",
   "name": "python",
   "nbconvert_exporter": "python",
   "pygments_lexer": "ipython3",
   "version": "3.8.10"
  }
 },
 "nbformat": 4,
 "nbformat_minor": 1
}
