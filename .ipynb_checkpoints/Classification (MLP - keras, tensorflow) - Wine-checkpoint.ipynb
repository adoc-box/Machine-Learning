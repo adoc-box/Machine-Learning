{
 "cells": [
  {
   "cell_type": "markdown",
   "metadata": {
    "id": "W3d2cB9hE7fi"
   },
   "source": [
    "### Created by: Anthony D. Cho\n",
    "### Last update: 19.05.2021\n",
    "\n",
    "**Subject**: Keras-Tensorflow (Multi-Layer Perceptron MLP) - Applied to Wine data in classification problem (3-class)\n",
    "\n"
   ]
  },
  {
   "cell_type": "markdown",
   "metadata": {
    "id": "_Rz6sIOlDyb-"
   },
   "source": [
    "## Libraries dependencies"
   ]
  },
  {
   "cell_type": "code",
   "execution_count": 1,
   "metadata": {
    "executionInfo": {
     "elapsed": 2463,
     "status": "ok",
     "timestamp": 1615233793301,
     "user": {
      "displayName": "Anthony Cho",
      "photoUrl": "",
      "userId": "04569494085624422303"
     },
     "user_tz": 180
    },
    "id": "NSRhDALkDRnb"
   },
   "outputs": [],
   "source": [
    "from time import time\n",
    "from pandas import read_csv\n",
    "import matplotlib.pyplot as plt\n",
    "from numpy import argmax, where\n",
    "from sklearn.preprocessing import MinMaxScaler, OneHotEncoder\n",
    "from sklearn.model_selection import train_test_split\n",
    "from sklearn.metrics import confusion_matrix, classification_report\n",
    "\n",
    "## tensorflow-Keras \n",
    "from tensorflow.keras.models import Sequential\n",
    "from tensorflow.keras import layers\n",
    "from tensorflow.keras.utils import to_categorical"
   ]
  },
  {
   "cell_type": "markdown",
   "metadata": {
    "id": "8TO5pHttI7ah"
   },
   "source": [
    "## Customized functions"
   ]
  },
  {
   "cell_type": "code",
   "execution_count": 2,
   "metadata": {
    "executionInfo": {
     "elapsed": 916,
     "status": "ok",
     "timestamp": 1615233798397,
     "user": {
      "displayName": "Anthony Cho",
      "photoUrl": "",
      "userId": "04569494085624422303"
     },
     "user_tz": 180
    },
    "id": "VbCLG50lD3lB"
   },
   "outputs": [],
   "source": [
    "def plot_history(history, width=12, height=6):\n",
    "  \"\"\"\n",
    "  DESCRIPTION:\n",
    "    History performance of the keras model\n",
    "  \n",
    "  INPUT:\n",
    "    @param history: history of performance of fitted model\n",
    "    @type history: tensorflow.python.keras.callbacks.History\n",
    "\n",
    "    @param width: width of the graphic display\n",
    "    @type width: int\n",
    "\n",
    "    @param height: height of the graphic display\n",
    "    @type height: int\n",
    "\n",
    "  OUTPUT:\n",
    "    A graphic\n",
    "  \"\"\"\n",
    "\n",
    "  ## Metrics keys stored in tensorflow object\n",
    "  keys = list(history.history.keys())\n",
    "\n",
    "  ## Number of epoch used for fit the model\n",
    "  epoch = range(1, len(history.epoch) +1)\n",
    "\n",
    "  ## Check if validation set was used.\n",
    "  withValidation = False\n",
    "  for key in keys:\n",
    "    if 'val' in key:\n",
    "      withValidation = True\n",
    "\n",
    "  ## Number of metrics \n",
    "  nMetrics = len(keys)\n",
    "  if withValidation:\n",
    "    nMetrics = nMetrics//2\n",
    "\n",
    "  ## Plot-space instance\n",
    "  plt.figure(figsize=(width, height))\n",
    "\n",
    "  for i in range(nMetrics):\n",
    "    plt.subplot(nMetrics, 1, i+1)\n",
    "\n",
    "    ## Plot (train) metric value\n",
    "    labelMetric = keys[i]\n",
    "    metric = history.history[keys[i]]\n",
    "    plt.plot(epoch, metric, 'o-', label=labelMetric)\n",
    "\n",
    "    if withValidation:\n",
    "      ## Plot (validation) metric value\n",
    "      labelMetricVal = keys[i+nMetrics]\n",
    "      metricVal = history.history[keys[i+nMetrics]]\n",
    "      plt.plot(epoch, metricVal, 'o-', label=labelMetricVal)\n",
    "\n",
    "    plt.xlim(epoch[0], epoch[-1])\n",
    "    plt.legend()\n",
    "    plt.grid()\n",
    "\n",
    "  plt.xlabel('Epoch')\n",
    "  plt.show()"
   ]
  },
  {
   "cell_type": "markdown",
   "metadata": {
    "id": "SPPKl30NeffS"
   },
   "source": [
    "# Problem: Wine\n",
    "\n",
    "**Target**: Class column of the dataset"
   ]
  },
  {
   "cell_type": "markdown",
   "metadata": {
    "id": "dpw0FOYXD4sp"
   },
   "source": [
    "## Data loading and preprocessing\n",
    "\n",
    "Source: [Wine](https://archive.ics.uci.edu/ml/datasets/Wine) (UCI Repository)"
   ]
  },
  {
   "cell_type": "code",
   "execution_count": 3,
   "metadata": {
    "colab": {
     "base_uri": "https://localhost:8080/"
    },
    "executionInfo": {
     "elapsed": 2446,
     "status": "ok",
     "timestamp": 1615216805867,
     "user": {
      "displayName": "Anthony Cho",
      "photoUrl": "",
      "userId": "04569494085624422303"
     },
     "user_tz": 180
    },
    "id": "Bwhgs8oADRkm",
    "outputId": "6ee32305-5cae-49b4-8abc-c750fa89d6bb"
   },
   "outputs": [
    {
     "name": "stdout",
     "output_type": "stream",
     "text": [
      "Loading data ...\n",
      "Creating partition...\n",
      "data normalizing...\n",
      "Apply One-Hot Encoding...\n",
      "Time spent[s]:  0.7795672416687012\n"
     ]
    }
   ],
   "source": [
    "start = time()\n",
    "print('Loading data ...')\n",
    "\n",
    "## Column names of the dataset\n",
    "colnames = ['Class', 'Alcohol', 'Malic_acid', 'Ash', 'Alcalinity_ash', 'Magnesium', \n",
    "            'Total_phenol', 'Flavanoids', 'Nonflavanoid_phenols', 'Proanthocyanins',\n",
    "            'Color_intensity', 'Hue', 'OD280/OD315_diluted wines', 'Proline']\n",
    "\n",
    "## Load data\n",
    "data = read_csv('https://archive.ics.uci.edu/ml/machine-learning-databases/wine/wine.data', header=None)\n",
    "\n",
    "## Dataset column names assignation\n",
    "data.columns = colnames\n",
    "\n",
    "## Predictors and targets\n",
    "X = data.drop(columns=['Class'])\n",
    "y = data['Class']\n",
    "\n",
    "## Data partition\n",
    "print('Creating partition...')\n",
    "X_train, X_test, y_train, y_test = train_test_split(X, y, random_state=0)\n",
    "\n",
    "## Data normalization\n",
    "print('data normalizing...')\n",
    "scaler = MinMaxScaler().fit(X_train)\n",
    "X_train = scaler.transform(X_train)\n",
    "X_test = scaler.transform(X_test)\n",
    "\n",
    "## One-Hot Encoder transform to targets\n",
    "print('Apply One-Hot Encoding...')\n",
    "y_train_encode = to_categorical(y_train)[:, 1:]\n",
    "y_test_encode = to_categorical(y_test)[:, 1:]\n",
    "\n",
    "print('Time spent[s]: ', time()-start)"
   ]
  },
  {
   "cell_type": "code",
   "execution_count": 4,
   "metadata": {
    "colab": {
     "base_uri": "https://localhost:8080/"
    },
    "executionInfo": {
     "elapsed": 2448,
     "status": "ok",
     "timestamp": 1615216836893,
     "user": {
      "displayName": "Anthony Cho",
      "photoUrl": "",
      "userId": "04569494085624422303"
     },
     "user_tz": 180
    },
    "id": "EaR09Gsvao7m",
    "outputId": "4f721545-f81b-4f71-db5b-524a6b438a23"
   },
   "outputs": [
    {
     "data": {
      "text/plain": [
       "2    71\n",
       "1    59\n",
       "3    48\n",
       "Name: Class, dtype: int64"
      ]
     },
     "execution_count": 4,
     "metadata": {},
     "output_type": "execute_result"
    }
   ],
   "source": [
    "data['Class'].value_counts()"
   ]
  },
  {
   "cell_type": "markdown",
   "metadata": {
    "id": "xxUtx2KLE6UE"
   },
   "source": [
    "## Build Model"
   ]
  },
  {
   "cell_type": "code",
   "execution_count": 5,
   "metadata": {
    "colab": {
     "base_uri": "https://localhost:8080/"
    },
    "executionInfo": {
     "elapsed": 1071,
     "status": "ok",
     "timestamp": 1615218022587,
     "user": {
      "displayName": "Anthony Cho",
      "photoUrl": "",
      "userId": "04569494085624422303"
     },
     "user_tz": 180
    },
    "id": "LLJkF4yHDRh0",
    "outputId": "d0dfbe0b-ea5f-4861-d1a2-304fcf7dec88"
   },
   "outputs": [
    {
     "name": "stdout",
     "output_type": "stream",
     "text": [
      "Model: \"Classification\"\n",
      "_________________________________________________________________\n",
      "Layer (type)                 Output Shape              Param #   \n",
      "=================================================================\n",
      "Hidden_01 (Dense)            (None, 32)                448       \n",
      "_________________________________________________________________\n",
      "Output (Dense)               (None, 3)                 99        \n",
      "=================================================================\n",
      "Total params: 547\n",
      "Trainable params: 547\n",
      "Non-trainable params: 0\n",
      "_________________________________________________________________\n"
     ]
    }
   ],
   "source": [
    "## Model instance\n",
    "model = Sequential(name='Classification')\n",
    "model.add(layers.Dense(units=32, \n",
    "                       activation='relu', \n",
    "                       input_shape=(X_train.shape[1],), \n",
    "                       name='Hidden_01'))\n",
    "model.add(layers.Dense(units=y_train_encode.shape[1],\n",
    "                       activation='softmax', \n",
    "                       name='Output'))\n",
    "\n",
    "## Set compiler configuration\n",
    "model.compile(optimizer='adam', \n",
    "              loss='categorical_crossentropy', \n",
    "              metrics=['accuracy'])\n",
    "\n",
    "## Display model\n",
    "model.summary()"
   ]
  },
  {
   "cell_type": "code",
   "execution_count": 6,
   "metadata": {
    "colab": {
     "base_uri": "https://localhost:8080/"
    },
    "executionInfo": {
     "elapsed": 6628,
     "status": "ok",
     "timestamp": 1615216973919,
     "user": {
      "displayName": "Anthony Cho",
      "photoUrl": "",
      "userId": "04569494085624422303"
     },
     "user_tz": 180
    },
    "id": "_58HgRXeDRfN",
    "outputId": "5c42474d-b4ae-4bcb-a2b4-120bf9bd6c22"
   },
   "outputs": [
    {
     "name": "stdout",
     "output_type": "stream",
     "text": [
      "Epoch 1/50\n",
      "12/12 [==============================] - 1s 41ms/step - loss: 1.0883 - accuracy: 0.3772 - val_loss: 1.0346 - val_accuracy: 0.4500\n",
      "Epoch 2/50\n",
      "12/12 [==============================] - 0s 5ms/step - loss: 1.0785 - accuracy: 0.3577 - val_loss: 1.0021 - val_accuracy: 0.6500\n",
      "Epoch 3/50\n",
      "12/12 [==============================] - 0s 5ms/step - loss: 1.0213 - accuracy: 0.5364 - val_loss: 0.9652 - val_accuracy: 0.6000\n",
      "Epoch 4/50\n",
      "12/12 [==============================] - 0s 5ms/step - loss: 0.9798 - accuracy: 0.6269 - val_loss: 0.9336 - val_accuracy: 0.6500\n",
      "Epoch 5/50\n",
      "12/12 [==============================] - 0s 5ms/step - loss: 0.9280 - accuracy: 0.7267 - val_loss: 0.8994 - val_accuracy: 0.7000\n",
      "Epoch 6/50\n",
      "12/12 [==============================] - 0s 6ms/step - loss: 0.8884 - accuracy: 0.7906 - val_loss: 0.8713 - val_accuracy: 0.7000\n",
      "Epoch 7/50\n",
      "12/12 [==============================] - 0s 5ms/step - loss: 0.8357 - accuracy: 0.8490 - val_loss: 0.8423 - val_accuracy: 0.8000\n",
      "Epoch 8/50\n",
      "12/12 [==============================] - 0s 6ms/step - loss: 0.8116 - accuracy: 0.8179 - val_loss: 0.8150 - val_accuracy: 0.9000\n",
      "Epoch 9/50\n",
      "12/12 [==============================] - 0s 5ms/step - loss: 0.7995 - accuracy: 0.8806 - val_loss: 0.7883 - val_accuracy: 0.9000\n",
      "Epoch 10/50\n",
      "12/12 [==============================] - 0s 5ms/step - loss: 0.7668 - accuracy: 0.8823 - val_loss: 0.7577 - val_accuracy: 0.9000\n",
      "Epoch 11/50\n",
      "12/12 [==============================] - 0s 5ms/step - loss: 0.7167 - accuracy: 0.8758 - val_loss: 0.7294 - val_accuracy: 0.9000\n",
      "Epoch 12/50\n",
      "12/12 [==============================] - 0s 5ms/step - loss: 0.6769 - accuracy: 0.9288 - val_loss: 0.6985 - val_accuracy: 0.8500\n",
      "Epoch 13/50\n",
      "12/12 [==============================] - 0s 5ms/step - loss: 0.6259 - accuracy: 0.9585 - val_loss: 0.6711 - val_accuracy: 0.8500\n",
      "Epoch 14/50\n",
      "12/12 [==============================] - 0s 4ms/step - loss: 0.6082 - accuracy: 0.9567 - val_loss: 0.6416 - val_accuracy: 0.8000\n",
      "Epoch 15/50\n",
      "12/12 [==============================] - 0s 5ms/step - loss: 0.5414 - accuracy: 0.9746 - val_loss: 0.6159 - val_accuracy: 0.8500\n",
      "Epoch 16/50\n",
      "12/12 [==============================] - 0s 5ms/step - loss: 0.5676 - accuracy: 0.9574 - val_loss: 0.5873 - val_accuracy: 0.8000\n",
      "Epoch 17/50\n",
      "12/12 [==============================] - 0s 5ms/step - loss: 0.5134 - accuracy: 0.9751 - val_loss: 0.5616 - val_accuracy: 0.8500\n",
      "Epoch 18/50\n",
      "12/12 [==============================] - 0s 5ms/step - loss: 0.4843 - accuracy: 0.9701 - val_loss: 0.5427 - val_accuracy: 0.8500\n",
      "Epoch 19/50\n",
      "12/12 [==============================] - 0s 5ms/step - loss: 0.4398 - accuracy: 0.9787 - val_loss: 0.5221 - val_accuracy: 0.8500\n",
      "Epoch 20/50\n",
      "12/12 [==============================] - 0s 5ms/step - loss: 0.4332 - accuracy: 0.9368 - val_loss: 0.5022 - val_accuracy: 0.8500\n",
      "Epoch 21/50\n",
      "12/12 [==============================] - 0s 5ms/step - loss: 0.3984 - accuracy: 0.9514 - val_loss: 0.4798 - val_accuracy: 0.8500\n",
      "Epoch 22/50\n",
      "12/12 [==============================] - 0s 5ms/step - loss: 0.4120 - accuracy: 0.9679 - val_loss: 0.4612 - val_accuracy: 0.8500\n",
      "Epoch 23/50\n",
      "12/12 [==============================] - 0s 5ms/step - loss: 0.3682 - accuracy: 0.9905 - val_loss: 0.4449 - val_accuracy: 0.8500\n",
      "Epoch 24/50\n",
      "12/12 [==============================] - 0s 5ms/step - loss: 0.3532 - accuracy: 0.9823 - val_loss: 0.4351 - val_accuracy: 0.8500\n",
      "Epoch 25/50\n",
      "12/12 [==============================] - 0s 5ms/step - loss: 0.3374 - accuracy: 0.9479 - val_loss: 0.4204 - val_accuracy: 0.8500\n",
      "Epoch 26/50\n",
      "12/12 [==============================] - 0s 5ms/step - loss: 0.3033 - accuracy: 0.9723 - val_loss: 0.4072 - val_accuracy: 0.8500\n",
      "Epoch 27/50\n",
      "12/12 [==============================] - 0s 5ms/step - loss: 0.3155 - accuracy: 0.9529 - val_loss: 0.3998 - val_accuracy: 0.8500\n",
      "Epoch 28/50\n",
      "12/12 [==============================] - 0s 5ms/step - loss: 0.2997 - accuracy: 0.9671 - val_loss: 0.3911 - val_accuracy: 0.8500\n",
      "Epoch 29/50\n",
      "12/12 [==============================] - 0s 5ms/step - loss: 0.2487 - accuracy: 0.9696 - val_loss: 0.3807 - val_accuracy: 0.8500\n",
      "Epoch 30/50\n",
      "12/12 [==============================] - 0s 5ms/step - loss: 0.2596 - accuracy: 0.9701 - val_loss: 0.3689 - val_accuracy: 0.8500\n",
      "Epoch 31/50\n",
      "12/12 [==============================] - 0s 5ms/step - loss: 0.2501 - accuracy: 0.9498 - val_loss: 0.3643 - val_accuracy: 0.8500\n",
      "Epoch 32/50\n",
      "12/12 [==============================] - 0s 5ms/step - loss: 0.2590 - accuracy: 0.9725 - val_loss: 0.3555 - val_accuracy: 0.8500\n",
      "Epoch 33/50\n",
      "12/12 [==============================] - 0s 5ms/step - loss: 0.2502 - accuracy: 0.9762 - val_loss: 0.3460 - val_accuracy: 0.8500\n",
      "Epoch 34/50\n",
      "12/12 [==============================] - 0s 5ms/step - loss: 0.2059 - accuracy: 0.9868 - val_loss: 0.3423 - val_accuracy: 0.8500\n",
      "Epoch 35/50\n",
      "12/12 [==============================] - 0s 5ms/step - loss: 0.2053 - accuracy: 0.9754 - val_loss: 0.3379 - val_accuracy: 0.8500\n",
      "Epoch 36/50\n",
      "12/12 [==============================] - 0s 5ms/step - loss: 0.2116 - accuracy: 0.9857 - val_loss: 0.3352 - val_accuracy: 0.8500\n",
      "Epoch 37/50\n",
      "12/12 [==============================] - 0s 5ms/step - loss: 0.2235 - accuracy: 0.9726 - val_loss: 0.3311 - val_accuracy: 0.8500\n",
      "Epoch 38/50\n",
      "12/12 [==============================] - 0s 5ms/step - loss: 0.1935 - accuracy: 0.9830 - val_loss: 0.3213 - val_accuracy: 0.8500\n",
      "Epoch 39/50\n",
      "12/12 [==============================] - 0s 5ms/step - loss: 0.1808 - accuracy: 0.9933 - val_loss: 0.3209 - val_accuracy: 0.8500\n",
      "Epoch 40/50\n",
      "12/12 [==============================] - 0s 5ms/step - loss: 0.1828 - accuracy: 0.9784 - val_loss: 0.3248 - val_accuracy: 0.8500\n",
      "Epoch 41/50\n",
      "12/12 [==============================] - 0s 5ms/step - loss: 0.1549 - accuracy: 0.9926 - val_loss: 0.3093 - val_accuracy: 0.8500\n",
      "Epoch 42/50\n",
      "12/12 [==============================] - 0s 4ms/step - loss: 0.1870 - accuracy: 0.9697 - val_loss: 0.3045 - val_accuracy: 0.9000\n",
      "Epoch 43/50\n",
      "12/12 [==============================] - 0s 4ms/step - loss: 0.1745 - accuracy: 0.9813 - val_loss: 0.2960 - val_accuracy: 0.9000\n",
      "Epoch 44/50\n",
      "12/12 [==============================] - 0s 5ms/step - loss: 0.1854 - accuracy: 0.9603 - val_loss: 0.2967 - val_accuracy: 0.9000\n",
      "Epoch 45/50\n",
      "12/12 [==============================] - 0s 5ms/step - loss: 0.1623 - accuracy: 0.9785 - val_loss: 0.2949 - val_accuracy: 0.9500\n",
      "Epoch 46/50\n",
      "12/12 [==============================] - 0s 5ms/step - loss: 0.1431 - accuracy: 0.9951 - val_loss: 0.2955 - val_accuracy: 0.9000\n",
      "Epoch 47/50\n",
      "12/12 [==============================] - 0s 5ms/step - loss: 0.1383 - accuracy: 0.9833 - val_loss: 0.2919 - val_accuracy: 0.9500\n",
      "Epoch 48/50\n",
      "12/12 [==============================] - 0s 5ms/step - loss: 0.1288 - accuracy: 0.9867 - val_loss: 0.2899 - val_accuracy: 0.9500\n",
      "Epoch 49/50\n",
      "12/12 [==============================] - 0s 4ms/step - loss: 0.1414 - accuracy: 0.9838 - val_loss: 0.2828 - val_accuracy: 0.9500\n",
      "Epoch 50/50\n",
      "12/12 [==============================] - 0s 5ms/step - loss: 0.1335 - accuracy: 0.9951 - val_loss: 0.2809 - val_accuracy: 0.9000\n",
      "Time spent[s]:  3.7807059288024902\n"
     ]
    }
   ],
   "source": [
    "## Fit model\n",
    "start = time()\n",
    "history = model.fit(x=X_train, y=y_train_encode, validation_split=0.15,\n",
    "                    epochs=50, \n",
    "                    batch_size=10)\n",
    "print('Time spent[s]: ', time()-start)"
   ]
  },
  {
   "cell_type": "markdown",
   "metadata": {
    "id": "JAEEYVxXem-_"
   },
   "source": [
    "## Model performances display"
   ]
  },
  {
   "cell_type": "code",
   "execution_count": 7,
   "metadata": {
    "colab": {
     "base_uri": "https://localhost:8080/",
     "height": 423
    },
    "executionInfo": {
     "elapsed": 2215,
     "status": "ok",
     "timestamp": 1615216978983,
     "user": {
      "displayName": "Anthony Cho",
      "photoUrl": "",
      "userId": "04569494085624422303"
     },
     "user_tz": 180
    },
    "id": "Hd66BS28bLsS",
    "outputId": "27c93770-b36a-48be-afab-b1431745a7ee"
   },
   "outputs": [
    {
     "data": {
      "image/png": "[encoded data removed]",
      "text/plain": [
       "<Figure size 1008x432 with 2 Axes>"
      ]
     },
     "metadata": {
      "needs_background": "light"
     },
     "output_type": "display_data"
    },
    {
     "name": "stdout",
     "output_type": "stream",
     "text": [
      "2/2 [==============================] - 0s 2ms/step - loss: 0.1912 - accuracy: 0.9111\n"
     ]
    },
    {
     "data": {
      "text/plain": [
       "[0.19120801985263824, 0.9111111164093018]"
      ]
     },
     "execution_count": 7,
     "metadata": {},
     "output_type": "execute_result"
    }
   ],
   "source": [
    "## Display performances\n",
    "plot_history(history, width=14)\n",
    "\n",
    "## Compute prediction with test set\n",
    "model.evaluate(X_test, y_test_encode)"
   ]
  },
  {
   "cell_type": "markdown",
   "metadata": {
    "id": "5mOQQ51Ne1LR"
   },
   "source": [
    "## Predictions"
   ]
  },
  {
   "cell_type": "code",
   "execution_count": 8,
   "metadata": {
    "colab": {
     "base_uri": "https://localhost:8080/"
    },
    "executionInfo": {
     "elapsed": 2358,
     "status": "ok",
     "timestamp": 1615217000892,
     "user": {
      "displayName": "Anthony Cho",
      "photoUrl": "",
      "userId": "04569494085624422303"
     },
     "user_tz": 180
    },
    "id": "lc5eo3jSZZj3",
    "outputId": "769c8ce6-684b-46f2-8de7-b5ad21580b6d"
   },
   "outputs": [
    {
     "data": {
      "text/plain": [
       "array([[9.5523608e-01, 4.0046643e-02, 4.7172890e-03],\n",
       "       [2.8526245e-02, 1.5880156e-02, 9.5559365e-01],\n",
       "       [2.9304621e-01, 7.0459831e-01, 2.3554764e-03],\n",
       "       [9.2252892e-01, 7.1216226e-02, 6.2549068e-03],\n",
       "       [1.2410872e-01, 8.4702665e-01, 2.8864626e-02],\n",
       "       [4.2331755e-02, 9.5632595e-01, 1.3423173e-03],\n",
       "       [9.4689506e-01, 4.4311691e-02, 8.7932916e-03],\n",
       "       [9.6877012e-03, 2.8810574e-02, 9.6150166e-01],\n",
       "       [8.0929443e-02, 9.0216744e-01, 1.6903132e-02],\n",
       "       [1.7741017e-02, 9.2520267e-01, 5.7056300e-02],\n",
       "       [7.4296154e-02, 6.9782734e-02, 8.5592109e-01],\n",
       "       [6.3605965e-03, 1.3553118e-02, 9.8008633e-01],\n",
       "       [9.9051064e-01, 7.6027908e-03, 1.8865620e-03],\n",
       "       [5.5021340e-01, 4.4719002e-01, 2.5965367e-03],\n",
       "       [2.0958018e-02, 1.8692732e-02, 9.6034920e-01],\n",
       "       [3.1603944e-02, 9.6671551e-01, 1.6805133e-03],\n",
       "       [7.6080018e-01, 2.1315002e-01, 2.6049783e-02],\n",
       "       [9.9682534e-01, 2.3196307e-03, 8.5506088e-04],\n",
       "       [6.3641228e-02, 4.3269435e-01, 5.0366437e-01],\n",
       "       [9.6285862e-01, 3.4999534e-02, 2.1418629e-03],\n",
       "       [6.2647671e-01, 3.7088156e-01, 2.6417112e-03],\n",
       "       [7.7716422e-01, 1.8858998e-01, 3.4245849e-02],\n",
       "       [3.2651448e-01, 6.3520998e-01, 3.8275599e-02],\n",
       "       [1.5211596e-01, 8.3989137e-01, 7.9926709e-03],\n",
       "       [3.8566053e-02, 6.5736562e-01, 3.0406833e-01],\n",
       "       [7.8604206e-02, 9.0812576e-01, 1.3270003e-02],\n",
       "       [1.2148875e-01, 8.6619157e-01, 1.2319696e-02],\n",
       "       [1.1983522e-02, 9.6731734e-01, 2.0699026e-02],\n",
       "       [1.5900344e-02, 8.7450016e-01, 1.0959948e-01],\n",
       "       [1.6953699e-02, 1.1425962e-02, 9.7162038e-01],\n",
       "       [9.4060320e-01, 5.1682185e-02, 7.7145854e-03],\n",
       "       [9.6223766e-01, 3.5256676e-02, 2.5056442e-03],\n",
       "       [4.3778364e-02, 7.7198476e-01, 1.8423688e-01],\n",
       "       [9.0985763e-01, 6.3740239e-02, 2.6402228e-02],\n",
       "       [9.7424769e-01, 2.3200316e-02, 2.5518886e-03],\n",
       "       [8.1194752e-01, 1.8357386e-01, 4.4786083e-03],\n",
       "       [2.0308854e-02, 5.2189603e-02, 9.2750156e-01],\n",
       "       [1.9838419e-02, 8.1136084e-01, 1.6880076e-01],\n",
       "       [1.0085586e-01, 8.9493436e-01, 4.2098174e-03],\n",
       "       [1.1765922e-02, 1.5486822e-02, 9.7274733e-01],\n",
       "       [5.8512157e-01, 4.0954250e-01, 5.3359135e-03],\n",
       "       [9.1349715e-01, 8.0051556e-02, 6.4512785e-03],\n",
       "       [5.5698872e-02, 9.4167328e-01, 2.6278743e-03],\n",
       "       [1.0759874e-01, 8.5725045e-01, 3.5150867e-02],\n",
       "       [1.9998586e-02, 9.6419144e-01, 1.5809933e-02]], dtype=float32)"
      ]
     },
     "execution_count": 8,
     "metadata": {},
     "output_type": "execute_result"
    }
   ],
   "source": [
    "## Compute prediction using test set\n",
    "prediction = model.predict(X_test)\n",
    "prediction"
   ]
  },
  {
   "cell_type": "code",
   "execution_count": 9,
   "metadata": {
    "colab": {
     "base_uri": "https://localhost:8080/"
    },
    "executionInfo": {
     "elapsed": 1545,
     "status": "ok",
     "timestamp": 1615217022950,
     "user": {
      "displayName": "Anthony Cho",
      "photoUrl": "",
      "userId": "04569494085624422303"
     },
     "user_tz": 180
    },
    "id": "dAb4cnQ5Z2Rl",
    "outputId": "7f627c07-31fe-451c-dd9f-1585b7055b6b"
   },
   "outputs": [
    {
     "data": {
      "text/plain": [
       "array([1, 3, 2, 1, 2, 2, 1, 3, 2, 2, 3, 3, 1, 1, 3, 2, 1, 1, 3, 1, 1, 1,\n",
       "       2, 2, 2, 2, 2, 2, 2, 3, 1, 1, 2, 1, 1, 1, 3, 2, 2, 3, 1, 1, 2, 2,\n",
       "       2])"
      ]
     },
     "execution_count": 9,
     "metadata": {},
     "output_type": "execute_result"
    }
   ],
   "source": [
    "## Decoding predictions to Class\n",
    "prediction_class = argmax(prediction, axis=-1) + 1\n",
    "prediction_class"
   ]
  },
  {
   "cell_type": "code",
   "execution_count": 10,
   "metadata": {
    "colab": {
     "base_uri": "https://localhost:8080/"
    },
    "executionInfo": {
     "elapsed": 2150,
     "status": "ok",
     "timestamp": 1615217100787,
     "user": {
      "displayName": "Anthony Cho",
      "photoUrl": "",
      "userId": "04569494085624422303"
     },
     "user_tz": 180
    },
    "id": "ttLuC_HycNwO",
    "outputId": "b9d07274-9012-4820-d1a1-0d4fe5103ce4"
   },
   "outputs": [
    {
     "data": {
      "text/plain": [
       "array([[15,  1,  0],\n",
       "       [ 2, 18,  1],\n",
       "       [ 0,  0,  8]])"
      ]
     },
     "execution_count": 10,
     "metadata": {},
     "output_type": "execute_result"
    }
   ],
   "source": [
    "## Display confusion matrix\n",
    "confusion_matrix(y_true=y_test, y_pred=prediction_class)"
   ]
  },
  {
   "cell_type": "code",
   "execution_count": 11,
   "metadata": {
    "id": "Fygpu-5rCWAQ"
   },
   "outputs": [
    {
     "name": "stdout",
     "output_type": "stream",
     "text": [
      "              precision    recall  f1-score   support\n",
      "\n",
      "           1       0.88      0.94      0.91        16\n",
      "           2       0.95      0.86      0.90        21\n",
      "           3       0.89      1.00      0.94         8\n",
      "\n",
      "    accuracy                           0.91        45\n",
      "   macro avg       0.91      0.93      0.92        45\n",
      "weighted avg       0.91      0.91      0.91        45\n",
      "\n"
     ]
    }
   ],
   "source": [
    "## Display classificaction report\n",
    "print( classification_report(y_true=y_test, y_pred=prediction_class) )"
   ]
  },
  {
   "cell_type": "markdown",
   "metadata": {
    "id": "fVjwaiJYCWDM"
   },
   "source": [
    "## Best model\n",
    "\n",
    "Looking into the performance charts, it seems to stabilize (or kind of overfitting) starting at epoch 49 in the accuracy metric."
   ]
  },
  {
   "cell_type": "code",
   "execution_count": 12,
   "metadata": {},
   "outputs": [
    {
     "name": "stdout",
     "output_type": "stream",
     "text": [
      "Model: \"Classification\"\n",
      "_________________________________________________________________\n",
      "Layer (type)                 Output Shape              Param #   \n",
      "=================================================================\n",
      "Hidden_01 (Dense)            (None, 32)                448       \n",
      "_________________________________________________________________\n",
      "Output (Dense)               (None, 3)                 99        \n",
      "=================================================================\n",
      "Total params: 547\n",
      "Trainable params: 547\n",
      "Non-trainable params: 0\n",
      "_________________________________________________________________\n"
     ]
    }
   ],
   "source": [
    "## Model instance\n",
    "model = Sequential(name='Classification')\n",
    "model.add(layers.Dense(units=32, \n",
    "                       activation='relu', \n",
    "                       input_shape=(X_train.shape[1],), \n",
    "                       name='Hidden_01'))\n",
    "model.add(layers.Dense(units=y_train_encode.shape[1],\n",
    "                       activation='softmax', \n",
    "                       name='Output'))\n",
    "\n",
    "## Set compiler configuration\n",
    "model.compile(optimizer='adam', \n",
    "              loss='categorical_crossentropy', \n",
    "              metrics=['accuracy'])\n",
    "\n",
    "## Display model\n",
    "model.summary()"
   ]
  },
  {
   "cell_type": "code",
   "execution_count": 13,
   "metadata": {},
   "outputs": [
    {
     "name": "stdout",
     "output_type": "stream",
     "text": [
      "Epoch 1/49\n",
      "14/14 [==============================] - 0s 1ms/step - loss: 1.0575 - accuracy: 0.6413\n",
      "Epoch 2/49\n",
      "14/14 [==============================] - 0s 1ms/step - loss: 0.9793 - accuracy: 0.6672\n",
      "Epoch 3/49\n",
      "14/14 [==============================] - 0s 2ms/step - loss: 0.9336 - accuracy: 0.8049\n",
      "Epoch 4/49\n",
      "14/14 [==============================] - 0s 2ms/step - loss: 0.8799 - accuracy: 0.8492\n",
      "Epoch 5/49\n",
      "14/14 [==============================] - 0s 1ms/step - loss: 0.8356 - accuracy: 0.9072\n",
      "Epoch 6/49\n",
      "14/14 [==============================] - 0s 2ms/step - loss: 0.7827 - accuracy: 0.8992\n",
      "Epoch 7/49\n",
      "14/14 [==============================] - 0s 1ms/step - loss: 0.7398 - accuracy: 0.9114\n",
      "Epoch 8/49\n",
      "14/14 [==============================] - 0s 1ms/step - loss: 0.7073 - accuracy: 0.9090\n",
      "Epoch 9/49\n",
      "14/14 [==============================] - 0s 2ms/step - loss: 0.6885 - accuracy: 0.9058\n",
      "Epoch 10/49\n",
      "14/14 [==============================] - 0s 1ms/step - loss: 0.6208 - accuracy: 0.9505\n",
      "Epoch 11/49\n",
      "14/14 [==============================] - 0s 2ms/step - loss: 0.5833 - accuracy: 0.9389\n",
      "Epoch 12/49\n",
      "14/14 [==============================] - 0s 2ms/step - loss: 0.5360 - accuracy: 0.9359\n",
      "Epoch 13/49\n",
      "14/14 [==============================] - 0s 1ms/step - loss: 0.5264 - accuracy: 0.9581\n",
      "Epoch 14/49\n",
      "14/14 [==============================] - 0s 2ms/step - loss: 0.5048 - accuracy: 0.9453\n",
      "Epoch 15/49\n",
      "14/14 [==============================] - 0s 2ms/step - loss: 0.4818 - accuracy: 0.9538\n",
      "Epoch 16/49\n",
      "14/14 [==============================] - 0s 2ms/step - loss: 0.4439 - accuracy: 0.9725\n",
      "Epoch 17/49\n",
      "14/14 [==============================] - 0s 2ms/step - loss: 0.4392 - accuracy: 0.9199\n",
      "Epoch 18/49\n",
      "14/14 [==============================] - 0s 1ms/step - loss: 0.3823 - accuracy: 0.9717\n",
      "Epoch 19/49\n",
      "14/14 [==============================] - 0s 2ms/step - loss: 0.3637 - accuracy: 0.9774\n",
      "Epoch 20/49\n",
      "14/14 [==============================] - 0s 2ms/step - loss: 0.3560 - accuracy: 0.9697\n",
      "Epoch 21/49\n",
      "14/14 [==============================] - 0s 2ms/step - loss: 0.3455 - accuracy: 0.9612\n",
      "Epoch 22/49\n",
      "14/14 [==============================] - 0s 1ms/step - loss: 0.3431 - accuracy: 0.9727\n",
      "Epoch 23/49\n",
      "14/14 [==============================] - 0s 2ms/step - loss: 0.2904 - accuracy: 0.9773\n",
      "Epoch 24/49\n",
      "14/14 [==============================] - 0s 2ms/step - loss: 0.2801 - accuracy: 0.9653\n",
      "Epoch 25/49\n",
      "14/14 [==============================] - 0s 1ms/step - loss: 0.2944 - accuracy: 0.9589\n",
      "Epoch 26/49\n",
      "14/14 [==============================] - 0s 1ms/step - loss: 0.2742 - accuracy: 0.9716\n",
      "Epoch 27/49\n",
      "14/14 [==============================] - 0s 1ms/step - loss: 0.2596 - accuracy: 0.9755\n",
      "Epoch 28/49\n",
      "14/14 [==============================] - 0s 2ms/step - loss: 0.2499 - accuracy: 0.9783\n",
      "Epoch 29/49\n",
      "14/14 [==============================] - 0s 1ms/step - loss: 0.2312 - accuracy: 0.9692\n",
      "Epoch 30/49\n",
      "14/14 [==============================] - 0s 1ms/step - loss: 0.2430 - accuracy: 0.9467\n",
      "Epoch 31/49\n",
      "14/14 [==============================] - 0s 1ms/step - loss: 0.1924 - accuracy: 0.9836\n",
      "Epoch 32/49\n",
      "14/14 [==============================] - 0s 2ms/step - loss: 0.2013 - accuracy: 0.9765\n",
      "Epoch 33/49\n",
      "14/14 [==============================] - 0s 2ms/step - loss: 0.2072 - accuracy: 0.9648\n",
      "Epoch 34/49\n",
      "14/14 [==============================] - 0s 2ms/step - loss: 0.2031 - accuracy: 0.9663\n",
      "Epoch 35/49\n",
      "14/14 [==============================] - 0s 2ms/step - loss: 0.1776 - accuracy: 0.9795\n",
      "Epoch 36/49\n",
      "14/14 [==============================] - 0s 2ms/step - loss: 0.2083 - accuracy: 0.9539\n",
      "Epoch 37/49\n",
      "14/14 [==============================] - 0s 1ms/step - loss: 0.1747 - accuracy: 0.9729\n",
      "Epoch 38/49\n",
      "14/14 [==============================] - 0s 1ms/step - loss: 0.2095 - accuracy: 0.9523\n",
      "Epoch 39/49\n",
      "14/14 [==============================] - 0s 1ms/step - loss: 0.1683 - accuracy: 0.9747\n",
      "Epoch 40/49\n",
      "14/14 [==============================] - 0s 2ms/step - loss: 0.1767 - accuracy: 0.9648\n",
      "Epoch 41/49\n",
      "14/14 [==============================] - 0s 1ms/step - loss: 0.1459 - accuracy: 0.9907\n",
      "Epoch 42/49\n",
      "14/14 [==============================] - 0s 2ms/step - loss: 0.1339 - accuracy: 0.9907\n",
      "Epoch 43/49\n",
      "14/14 [==============================] - 0s 2ms/step - loss: 0.1477 - accuracy: 0.9734\n",
      "Epoch 44/49\n",
      "14/14 [==============================] - 0s 2ms/step - loss: 0.1514 - accuracy: 0.9774\n",
      "Epoch 45/49\n",
      "14/14 [==============================] - 0s 1ms/step - loss: 0.1410 - accuracy: 0.9651\n",
      "Epoch 46/49\n",
      "14/14 [==============================] - 0s 2ms/step - loss: 0.1498 - accuracy: 0.9681\n",
      "Epoch 47/49\n",
      "14/14 [==============================] - 0s 2ms/step - loss: 0.1247 - accuracy: 0.9863\n",
      "Epoch 48/49\n",
      "14/14 [==============================] - 0s 2ms/step - loss: 0.1246 - accuracy: 0.9919\n",
      "Epoch 49/49\n",
      "14/14 [==============================] - 0s 2ms/step - loss: 0.1217 - accuracy: 0.9717\n",
      "Time spent[s]:  1.5838675498962402\n"
     ]
    }
   ],
   "source": [
    "## Fit model\n",
    "start = time()\n",
    "history = model.fit(x=X_train, y=y_train_encode,\n",
    "                    epochs=49, \n",
    "                    batch_size=10)\n",
    "print('Time spent[s]: ', time()-start)"
   ]
  },
  {
   "cell_type": "code",
   "execution_count": 14,
   "metadata": {},
   "outputs": [
    {
     "data": {
      "text/plain": [
       "array([[15,  1,  0],\n",
       "       [ 0, 21,  0],\n",
       "       [ 0,  0,  8]])"
      ]
     },
     "execution_count": 14,
     "metadata": {},
     "output_type": "execute_result"
    }
   ],
   "source": [
    "## Compute prediction using test set\n",
    "prediction = model.predict(X_test)\n",
    "\n",
    "## Decoding predictions to Class\n",
    "prediction_class = argmax(prediction, axis=-1) + 1\n",
    "\n",
    "## Display confusion matrix\n",
    "confusion_matrix(y_true=y_test, y_pred=prediction_class)"
   ]
  },
  {
   "cell_type": "code",
   "execution_count": 15,
   "metadata": {},
   "outputs": [
    {
     "name": "stdout",
     "output_type": "stream",
     "text": [
      "              precision    recall  f1-score   support\n",
      "\n",
      "           1       1.00      0.94      0.97        16\n",
      "           2       0.95      1.00      0.98        21\n",
      "           3       1.00      1.00      1.00         8\n",
      "\n",
      "    accuracy                           0.98        45\n",
      "   macro avg       0.98      0.98      0.98        45\n",
      "weighted avg       0.98      0.98      0.98        45\n",
      "\n"
     ]
    }
   ],
   "source": [
    "## Display classificaction report\n",
    "print( classification_report(y_true=y_test, y_pred=prediction_class) )"
   ]
  },
  {
   "cell_type": "code",
   "execution_count": null,
   "metadata": {},
   "outputs": [],
   "source": []
  }
 ],
 "metadata": {
  "accelerator": "GPU",
  "colab": {
   "authorship_tag": "ABX9TyPN0iunZCmthE7Q44MviV8t",
   "collapsed_sections": [],
   "name": "Ayudantia 01.ipynb",
   "provenance": [],
   "toc_visible": true
  },
  "kernelspec": {
   "display_name": "Python 3",
   "language": "python",
   "name": "python3"
  },
  "language_info": {
   "codemirror_mode": {
    "name": "ipython",
    "version": 3
   },
   "file_extension": ".py",
   "mimetype": "text/x-python",
   "name": "python",
   "nbconvert_exporter": "python",
   "pygments_lexer": "ipython3",
   "version": "3.8.10"
  }
 },
 "nbformat": 4,
 "nbformat_minor": 1
}
