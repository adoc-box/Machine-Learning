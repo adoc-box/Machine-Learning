{
 "cells": [
  {
   "cell_type": "markdown",
   "metadata": {},
   "source": [
    "### Created by: Anthony D. Cho\n",
    "### Last update: 19.05.2021\n",
    "\n",
    "**Subject**: Keras (Multi-Layer Perceptron MLP) - Applied to Abalone data in classification problem (Multi-class)\n",
    "\n"
   ]
  },
  {
   "cell_type": "markdown",
   "metadata": {
    "id": "_Rz6sIOlDyb-"
   },
   "source": [
    "## Libraries dependencies"
   ]
  },
  {
   "cell_type": "code",
   "execution_count": 168,
   "metadata": {
    "executionInfo": {
     "elapsed": 2463,
     "status": "ok",
     "timestamp": 1615233793301,
     "user": {
      "displayName": "Anthony Cho",
      "photoUrl": "",
      "userId": "04569494085624422303"
     },
     "user_tz": 180
    },
    "id": "NSRhDALkDRnb"
   },
   "outputs": [],
   "source": [
    "from time import time\n",
    "from pandas import read_csv\n",
    "import matplotlib.pyplot as plt\n",
    "from numpy import argmax, where\n",
    "from sklearn.preprocessing import MinMaxScaler, OneHotEncoder\n",
    "from sklearn.model_selection import train_test_split\n",
    "from sklearn.metrics import confusion_matrix\n",
    "\n",
    "## tensorflow-Keras \n",
    "from tensorflow.keras.models import Sequential\n",
    "from tensorflow.keras import layers\n",
    "from tensorflow.keras.utils import to_categorical"
   ]
  },
  {
   "cell_type": "markdown",
   "metadata": {
    "id": "8TO5pHttI7ah"
   },
   "source": [
    "## Customized functions"
   ]
  },
  {
   "cell_type": "code",
   "execution_count": 169,
   "metadata": {
    "executionInfo": {
     "elapsed": 916,
     "status": "ok",
     "timestamp": 1615233798397,
     "user": {
      "displayName": "Anthony Cho",
      "photoUrl": "",
      "userId": "04569494085624422303"
     },
     "user_tz": 180
    },
    "id": "VbCLG50lD3lB"
   },
   "outputs": [],
   "source": [
    "def plot_history(history, width=12, height=6):\n",
    "  \"\"\"\n",
    "  DESCRIPTION:\n",
    "    History performance of the keras model\n",
    "  \n",
    "  INPUT:\n",
    "    @param history: history of performance of fitted model\n",
    "    @type history: tensorflow.python.keras.callbacks.History\n",
    "\n",
    "    @param width: width of the graphic display\n",
    "    @type width: int\n",
    "\n",
    "    @param height: height of the graphic display\n",
    "    @type height: int\n",
    "\n",
    "  OUTPUT:\n",
    "    A graphic\n",
    "  \"\"\"\n",
    "\n",
    "  ## Metrics keys stored in tensorflow object\n",
    "  keys = list(history.history.keys())\n",
    "\n",
    "  ## Number of epoch used for fit the model\n",
    "  epoch = range(1, len(history.epoch) +1)\n",
    "\n",
    "  ## Check if validation set was used.\n",
    "  withValidation = False\n",
    "  for key in keys:\n",
    "    if 'val' in key:\n",
    "      withValidation = True\n",
    "\n",
    "  ## Number of metrics \n",
    "  nMetrics = len(keys)\n",
    "  if withValidation:\n",
    "    nMetrics = nMetrics//2\n",
    "\n",
    "  ## Plot-space instance\n",
    "  plt.figure(figsize=(width, height))\n",
    "\n",
    "  for i in range(nMetrics):\n",
    "    plt.subplot(nMetrics, 1, i+1)\n",
    "\n",
    "    ## Plot (train) metric value\n",
    "    labelMetric = keys[i]\n",
    "    metric = history.history[keys[i]]\n",
    "    plt.plot(epoch, metric, 'o-', label=labelMetric)\n",
    "\n",
    "    if withValidation:\n",
    "      ## Plot (validation) metric value\n",
    "      labelMetricVal = keys[i+nMetrics]\n",
    "      metricVal = history.history[keys[i+nMetrics]]\n",
    "      plt.plot(epoch, metricVal, 'o-', label=labelMetricVal)\n",
    "\n",
    "    plt.xlim(epoch[0], epoch[-1])\n",
    "    plt.legend()\n",
    "    plt.grid()\n",
    "\n",
    "  plt.xlabel('Epoch')\n",
    "  plt.show()"
   ]
  },
  {
   "cell_type": "markdown",
   "metadata": {
    "id": "MqqFAfmPfO1K"
   },
   "source": [
    "# Problem: Abalone\n",
    "\n",
    "**Target**: The number of rings is the value to predict"
   ]
  },
  {
   "cell_type": "markdown",
   "metadata": {
    "id": "G2xgYhPEh1Ad"
   },
   "source": [
    "## Data loading and preprocessing\n",
    "\n",
    "Source: [Abalone](https://archive.ics.uci.edu/ml/datasets/Abalone) (UCI Repository)"
   ]
  },
  {
   "cell_type": "code",
   "execution_count": 170,
   "metadata": {
    "colab": {
     "base_uri": "https://localhost:8080/"
    },
    "executionInfo": {
     "elapsed": 2006,
     "status": "ok",
     "timestamp": 1615233813399,
     "user": {
      "displayName": "Anthony Cho",
      "photoUrl": "",
      "userId": "04569494085624422303"
     },
     "user_tz": 180
    },
    "id": "7u9y8aW9fROW",
    "outputId": "bdf72d87-eb7d-43f4-f90e-320a10d1654f"
   },
   "outputs": [
    {
     "name": "stdout",
     "output_type": "stream",
     "text": [
      "Loading data ...\n",
      "  Sex  Length  Diameter  ...  Viscera_weight  Shell_weight  Rings\n",
      "0   M   0.455     0.365  ...          0.1010         0.150     15\n",
      "1   M   0.350     0.265  ...          0.0485         0.070      7\n",
      "2   F   0.530     0.420  ...          0.1415         0.210      9\n",
      "3   M   0.440     0.365  ...          0.1140         0.155     10\n",
      "4   I   0.330     0.255  ...          0.0395         0.055      7\n",
      "\n",
      "[5 rows x 9 columns]\n",
      "Creating partition...\n",
      "data normalizing...\n",
      "Apply One-Hot Encoding...\n",
      "Time spent[s]:  1.1110835075378418\n"
     ]
    }
   ],
   "source": [
    "start = time()\n",
    "print('Loading data ...')\n",
    "\n",
    "## Column names of the dataset\n",
    "colnames = ['Sex', 'Length', 'Diameter', 'Height', 'Whole_weight', 'Shucked_weight', \n",
    "            'Viscera_weight', 'Shell_weight', 'Rings']\n",
    "\n",
    "## Load data\n",
    "data = read_csv('https://archive.ics.uci.edu/ml/machine-learning-databases/abalone/abalone.data', header=None)\n",
    "\n",
    "## Dataset column names assignation\n",
    "data.columns = colnames\n",
    "\n",
    "## Display Raw data\n",
    "print(data.head())\n",
    "\n",
    "## Simple Binary encoding applied to Sex column converting 'F' -> 0 and 'M' -> 1\n",
    "data['Sex'] = where(data['Sex'] == 'F', 0, 1)\n",
    "\n",
    "## Predictors and targets\n",
    "X = data.drop(columns=['Rings'])\n",
    "y = data['Rings']\n",
    "\n",
    "## Data partition\n",
    "print('Creating partition...')\n",
    "X_train, X_test, y_train, y_test = train_test_split(X, y, random_state=0)\n",
    "\n",
    "## Data normalization\n",
    "print('data normalizing...')\n",
    "scaler = MinMaxScaler().fit(X_train)\n",
    "X_train = scaler.transform(X_train)\n",
    "X_test = scaler.transform(X_test)\n",
    "\n",
    "## One-Hot Encoder transform to targets\n",
    "print('Apply One-Hot Encoding...')\n",
    "encoder = OneHotEncoder().fit(y.values.reshape(-1,1))\n",
    "y_train_encode = encoder.transform(y_train.values.reshape(-1,1)).toarray()\n",
    "y_test_encode = encoder.transform(y_test.values.reshape(-1,1)).toarray()\n",
    "\n",
    "print('Time spent[s]: ', time()-start)"
   ]
  },
  {
   "cell_type": "code",
   "execution_count": 104,
   "metadata": {
    "colab": {
     "base_uri": "https://localhost:8080/",
     "height": 206
    },
    "executionInfo": {
     "elapsed": 2333,
     "status": "ok",
     "timestamp": 1615225085583,
     "user": {
      "displayName": "Anthony Cho",
      "photoUrl": "",
      "userId": "04569494085624422303"
     },
     "user_tz": 180
    },
    "id": "LWBRA7ZiiDUf",
    "outputId": "a7398923-5749-454d-f232-cd3e16ccf1cf"
   },
   "outputs": [
    {
     "data": {
      "text/html": [
       "<div>\n",
       "<style scoped>\n",
       "    .dataframe tbody tr th:only-of-type {\n",
       "        vertical-align: middle;\n",
       "    }\n",
       "\n",
       "    .dataframe tbody tr th {\n",
       "        vertical-align: top;\n",
       "    }\n",
       "\n",
       "    .dataframe thead th {\n",
       "        text-align: right;\n",
       "    }\n",
       "</style>\n",
       "<table border=\"1\" class=\"dataframe\">\n",
       "  <thead>\n",
       "    <tr style=\"text-align: right;\">\n",
       "      <th></th>\n",
       "      <th>Sex</th>\n",
       "      <th>Length</th>\n",
       "      <th>Diameter</th>\n",
       "      <th>Height</th>\n",
       "      <th>Whole_weight</th>\n",
       "      <th>Shucked_weight</th>\n",
       "      <th>Viscera_weight</th>\n",
       "      <th>Shell_weight</th>\n",
       "      <th>Rings</th>\n",
       "    </tr>\n",
       "  </thead>\n",
       "  <tbody>\n",
       "    <tr>\n",
       "      <th>0</th>\n",
       "      <td>1</td>\n",
       "      <td>0.455</td>\n",
       "      <td>0.365</td>\n",
       "      <td>0.095</td>\n",
       "      <td>0.5140</td>\n",
       "      <td>0.2245</td>\n",
       "      <td>0.1010</td>\n",
       "      <td>0.150</td>\n",
       "      <td>15</td>\n",
       "    </tr>\n",
       "    <tr>\n",
       "      <th>1</th>\n",
       "      <td>1</td>\n",
       "      <td>0.350</td>\n",
       "      <td>0.265</td>\n",
       "      <td>0.090</td>\n",
       "      <td>0.2255</td>\n",
       "      <td>0.0995</td>\n",
       "      <td>0.0485</td>\n",
       "      <td>0.070</td>\n",
       "      <td>7</td>\n",
       "    </tr>\n",
       "    <tr>\n",
       "      <th>2</th>\n",
       "      <td>0</td>\n",
       "      <td>0.530</td>\n",
       "      <td>0.420</td>\n",
       "      <td>0.135</td>\n",
       "      <td>0.6770</td>\n",
       "      <td>0.2565</td>\n",
       "      <td>0.1415</td>\n",
       "      <td>0.210</td>\n",
       "      <td>9</td>\n",
       "    </tr>\n",
       "    <tr>\n",
       "      <th>3</th>\n",
       "      <td>1</td>\n",
       "      <td>0.440</td>\n",
       "      <td>0.365</td>\n",
       "      <td>0.125</td>\n",
       "      <td>0.5160</td>\n",
       "      <td>0.2155</td>\n",
       "      <td>0.1140</td>\n",
       "      <td>0.155</td>\n",
       "      <td>10</td>\n",
       "    </tr>\n",
       "    <tr>\n",
       "      <th>4</th>\n",
       "      <td>1</td>\n",
       "      <td>0.330</td>\n",
       "      <td>0.255</td>\n",
       "      <td>0.080</td>\n",
       "      <td>0.2050</td>\n",
       "      <td>0.0895</td>\n",
       "      <td>0.0395</td>\n",
       "      <td>0.055</td>\n",
       "      <td>7</td>\n",
       "    </tr>\n",
       "  </tbody>\n",
       "</table>\n",
       "</div>"
      ],
      "text/plain": [
       "   Sex  Length  Diameter  ...  Viscera_weight  Shell_weight  Rings\n",
       "0    1   0.455     0.365  ...          0.1010         0.150     15\n",
       "1    1   0.350     0.265  ...          0.0485         0.070      7\n",
       "2    0   0.530     0.420  ...          0.1415         0.210      9\n",
       "3    1   0.440     0.365  ...          0.1140         0.155     10\n",
       "4    1   0.330     0.255  ...          0.0395         0.055      7\n",
       "\n",
       "[5 rows x 9 columns]"
      ]
     },
     "execution_count": 104,
     "metadata": {
      "tags": []
     },
     "output_type": "execute_result"
    }
   ],
   "source": [
    "data.head(5)"
   ]
  },
  {
   "cell_type": "code",
   "execution_count": 57,
   "metadata": {
    "colab": {
     "base_uri": "https://localhost:8080/"
    },
    "executionInfo": {
     "elapsed": 2244,
     "status": "ok",
     "timestamp": 1615219496928,
     "user": {
      "displayName": "Anthony Cho",
      "photoUrl": "",
      "userId": "04569494085624422303"
     },
     "user_tz": 180
    },
    "id": "sm4xcVmrlXFN",
    "outputId": "4e2d9a25-d711-42f4-a33b-10a3c58979a8"
   },
   "outputs": [
    {
     "data": {
      "text/plain": [
       "9     689\n",
       "10    634\n",
       "8     568\n",
       "11    487\n",
       "7     391\n",
       "12    267\n",
       "6     259\n",
       "13    203\n",
       "14    126\n",
       "5     115\n",
       "15    103\n",
       "16     67\n",
       "17     58\n",
       "4      57\n",
       "18     42\n",
       "19     32\n",
       "20     26\n",
       "3      15\n",
       "21     14\n",
       "23      9\n",
       "22      6\n",
       "24      2\n",
       "27      2\n",
       "1       1\n",
       "25      1\n",
       "2       1\n",
       "26      1\n",
       "29      1\n",
       "Name: Rings, dtype: int64"
      ]
     },
     "execution_count": 57,
     "metadata": {
      "tags": []
     },
     "output_type": "execute_result"
    }
   ],
   "source": [
    "## Display target counts\n",
    "data['Rings'].value_counts()"
   ]
  },
  {
   "cell_type": "markdown",
   "metadata": {
    "id": "igzk-tYvlxsY"
   },
   "source": [
    "## Build model"
   ]
  },
  {
   "cell_type": "code",
   "execution_count": 174,
   "metadata": {
    "colab": {
     "base_uri": "https://localhost:8080/"
    },
    "executionInfo": {
     "elapsed": 1841,
     "status": "ok",
     "timestamp": 1615238816900,
     "user": {
      "displayName": "Anthony Cho",
      "photoUrl": "",
      "userId": "04569494085624422303"
     },
     "user_tz": 180
    },
    "id": "ViJ2HIkHliHr",
    "outputId": "80afb214-a043-40dc-ab1b-8ac9fa3dd465"
   },
   "outputs": [
    {
     "name": "stdout",
     "output_type": "stream",
     "text": [
      "Model: \"Classification\"\n",
      "_________________________________________________________________\n",
      "Layer (type)                 Output Shape              Param #   \n",
      "=================================================================\n",
      "Hidden_01 (Dense)            (None, 9)                 81        \n",
      "_________________________________________________________________\n",
      "Hidden_02 (Dense)            (None, 13)                130       \n",
      "_________________________________________________________________\n",
      "Output (Dense)               (None, 28)                392       \n",
      "=================================================================\n",
      "Total params: 603\n",
      "Trainable params: 603\n",
      "Non-trainable params: 0\n",
      "_________________________________________________________________\n"
     ]
    }
   ],
   "source": [
    "## Model instance\n",
    "model = Sequential(name='Classification')\n",
    "model.add(layers.Dense(units=9, \n",
    "                       activation='relu', \n",
    "                       input_shape=(X_train.shape[1],), \n",
    "                       name='Hidden_01'))\n",
    "model.add(layers.Dense(units=13, \n",
    "                       activation='relu', \n",
    "                       name='Hidden_02'))\n",
    "model.add(layers.Dense(units=y_train_encode.shape[1],\n",
    "                       activation='softmax', \n",
    "                       name='Output'))\n",
    "\n",
    "## Set compiler configuration\n",
    "model.compile(optimizer='adam', \n",
    "              loss='categorical_crossentropy', \n",
    "              metrics=['accuracy'])\n",
    "\n",
    "## Display model\n",
    "model.summary()"
   ]
  },
  {
   "cell_type": "code",
   "execution_count": 175,
   "metadata": {
    "colab": {
     "base_uri": "https://localhost:8080/"
    },
    "executionInfo": {
     "elapsed": 32583,
     "status": "ok",
     "timestamp": 1615238859933,
     "user": {
      "displayName": "Anthony Cho",
      "photoUrl": "",
      "userId": "04569494085624422303"
     },
     "user_tz": 180
    },
    "id": "hJxEp4cLmUU2",
    "outputId": "9eceb5c2-363e-4b5c-a5b8-4836abac4e04"
   },
   "outputs": [
    {
     "name": "stdout",
     "output_type": "stream",
     "text": [
      "Epoch 1/100\n",
      "84/84 [==============================] - 1s 6ms/step - loss: 3.2676 - accuracy: 0.0340 - val_loss: 3.0573 - val_accuracy: 0.1234\n",
      "Epoch 2/100\n",
      "84/84 [==============================] - 0s 3ms/step - loss: 2.9305 - accuracy: 0.1294 - val_loss: 2.5981 - val_accuracy: 0.1681\n",
      "Epoch 3/100\n",
      "84/84 [==============================] - 0s 3ms/step - loss: 2.5491 - accuracy: 0.1504 - val_loss: 2.5070 - val_accuracy: 0.1681\n",
      "Epoch 4/100\n",
      "84/84 [==============================] - 0s 3ms/step - loss: 2.4705 - accuracy: 0.1547 - val_loss: 2.4645 - val_accuracy: 0.1851\n",
      "Epoch 5/100\n",
      "84/84 [==============================] - 0s 3ms/step - loss: 2.4012 - accuracy: 0.1725 - val_loss: 2.4198 - val_accuracy: 0.1957\n",
      "Epoch 6/100\n",
      "84/84 [==============================] - 0s 3ms/step - loss: 2.3615 - accuracy: 0.2031 - val_loss: 2.3831 - val_accuracy: 0.2234\n",
      "Epoch 7/100\n",
      "84/84 [==============================] - 0s 3ms/step - loss: 2.3452 - accuracy: 0.2270 - val_loss: 2.3511 - val_accuracy: 0.2489\n",
      "Epoch 8/100\n",
      "84/84 [==============================] - 0s 3ms/step - loss: 2.3090 - accuracy: 0.2254 - val_loss: 2.3229 - val_accuracy: 0.2319\n",
      "Epoch 9/100\n",
      "84/84 [==============================] - 0s 3ms/step - loss: 2.3065 - accuracy: 0.2178 - val_loss: 2.3047 - val_accuracy: 0.2319\n",
      "Epoch 10/100\n",
      "84/84 [==============================] - 0s 3ms/step - loss: 2.2691 - accuracy: 0.2086 - val_loss: 2.2872 - val_accuracy: 0.2319\n",
      "Epoch 11/100\n",
      "84/84 [==============================] - 0s 3ms/step - loss: 2.2205 - accuracy: 0.2350 - val_loss: 2.2694 - val_accuracy: 0.2468\n",
      "Epoch 12/100\n",
      "84/84 [==============================] - 0s 3ms/step - loss: 2.2463 - accuracy: 0.2314 - val_loss: 2.2519 - val_accuracy: 0.2511\n",
      "Epoch 13/100\n",
      "84/84 [==============================] - 0s 3ms/step - loss: 2.2075 - accuracy: 0.2289 - val_loss: 2.2378 - val_accuracy: 0.2638\n",
      "Epoch 14/100\n",
      "84/84 [==============================] - 0s 4ms/step - loss: 2.1803 - accuracy: 0.2272 - val_loss: 2.2277 - val_accuracy: 0.2638\n",
      "Epoch 15/100\n",
      "84/84 [==============================] - 0s 3ms/step - loss: 2.1821 - accuracy: 0.2132 - val_loss: 2.2221 - val_accuracy: 0.2553\n",
      "Epoch 16/100\n",
      "84/84 [==============================] - 0s 3ms/step - loss: 2.1839 - accuracy: 0.2410 - val_loss: 2.2105 - val_accuracy: 0.2511\n",
      "Epoch 17/100\n",
      "84/84 [==============================] - 0s 3ms/step - loss: 2.1450 - accuracy: 0.2235 - val_loss: 2.2013 - val_accuracy: 0.2596\n",
      "Epoch 18/100\n",
      "84/84 [==============================] - 0s 3ms/step - loss: 2.1605 - accuracy: 0.2297 - val_loss: 2.1966 - val_accuracy: 0.2723\n",
      "Epoch 19/100\n",
      "84/84 [==============================] - 0s 3ms/step - loss: 2.1541 - accuracy: 0.2357 - val_loss: 2.1838 - val_accuracy: 0.2723\n",
      "Epoch 20/100\n",
      "84/84 [==============================] - 0s 3ms/step - loss: 2.1340 - accuracy: 0.2513 - val_loss: 2.1796 - val_accuracy: 0.2596\n",
      "Epoch 21/100\n",
      "84/84 [==============================] - 0s 4ms/step - loss: 2.1375 - accuracy: 0.2515 - val_loss: 2.1720 - val_accuracy: 0.2766\n",
      "Epoch 22/100\n",
      "84/84 [==============================] - 0s 3ms/step - loss: 2.1128 - accuracy: 0.2569 - val_loss: 2.1712 - val_accuracy: 0.2787\n",
      "Epoch 23/100\n",
      "84/84 [==============================] - 0s 3ms/step - loss: 2.1196 - accuracy: 0.2691 - val_loss: 2.1624 - val_accuracy: 0.2596\n",
      "Epoch 24/100\n",
      "84/84 [==============================] - 0s 3ms/step - loss: 2.1262 - accuracy: 0.2498 - val_loss: 2.1546 - val_accuracy: 0.2766\n",
      "Epoch 25/100\n",
      "84/84 [==============================] - 0s 3ms/step - loss: 2.1230 - accuracy: 0.2460 - val_loss: 2.1505 - val_accuracy: 0.2851\n",
      "Epoch 26/100\n",
      "84/84 [==============================] - 0s 3ms/step - loss: 2.0681 - accuracy: 0.2581 - val_loss: 2.1519 - val_accuracy: 0.2766\n",
      "Epoch 27/100\n",
      "84/84 [==============================] - 0s 4ms/step - loss: 2.1212 - accuracy: 0.2428 - val_loss: 2.1424 - val_accuracy: 0.2745\n",
      "Epoch 28/100\n",
      "84/84 [==============================] - 0s 3ms/step - loss: 2.1072 - accuracy: 0.2315 - val_loss: 2.1352 - val_accuracy: 0.2830\n",
      "Epoch 29/100\n",
      "84/84 [==============================] - 0s 3ms/step - loss: 2.1096 - accuracy: 0.2627 - val_loss: 2.1316 - val_accuracy: 0.2638\n",
      "Epoch 30/100\n",
      "84/84 [==============================] - 0s 4ms/step - loss: 2.1167 - accuracy: 0.2360 - val_loss: 2.1238 - val_accuracy: 0.2787\n",
      "Epoch 31/100\n",
      "84/84 [==============================] - 0s 3ms/step - loss: 2.1015 - accuracy: 0.2409 - val_loss: 2.1251 - val_accuracy: 0.2660\n",
      "Epoch 32/100\n",
      "84/84 [==============================] - 0s 4ms/step - loss: 2.1095 - accuracy: 0.2518 - val_loss: 2.1208 - val_accuracy: 0.2745\n",
      "Epoch 33/100\n",
      "84/84 [==============================] - 0s 4ms/step - loss: 2.0759 - accuracy: 0.2589 - val_loss: 2.1120 - val_accuracy: 0.2681\n",
      "Epoch 34/100\n",
      "84/84 [==============================] - 0s 4ms/step - loss: 2.0982 - accuracy: 0.2588 - val_loss: 2.1095 - val_accuracy: 0.2809\n",
      "Epoch 35/100\n",
      "84/84 [==============================] - 0s 3ms/step - loss: 2.0529 - accuracy: 0.2694 - val_loss: 2.1137 - val_accuracy: 0.2532\n",
      "Epoch 36/100\n",
      "84/84 [==============================] - 0s 3ms/step - loss: 2.0687 - accuracy: 0.2584 - val_loss: 2.0992 - val_accuracy: 0.2851\n",
      "Epoch 37/100\n",
      "84/84 [==============================] - 0s 3ms/step - loss: 2.0441 - accuracy: 0.2703 - val_loss: 2.1012 - val_accuracy: 0.2574\n",
      "Epoch 38/100\n",
      "84/84 [==============================] - 0s 3ms/step - loss: 2.0708 - accuracy: 0.2672 - val_loss: 2.0946 - val_accuracy: 0.2787\n",
      "Epoch 39/100\n",
      "84/84 [==============================] - 0s 4ms/step - loss: 2.0534 - accuracy: 0.2683 - val_loss: 2.0870 - val_accuracy: 0.2766\n",
      "Epoch 40/100\n",
      "84/84 [==============================] - 0s 3ms/step - loss: 2.0644 - accuracy: 0.2705 - val_loss: 2.0841 - val_accuracy: 0.2660\n",
      "Epoch 41/100\n",
      "84/84 [==============================] - 0s 3ms/step - loss: 2.0469 - accuracy: 0.2639 - val_loss: 2.0782 - val_accuracy: 0.2915\n",
      "Epoch 42/100\n",
      "84/84 [==============================] - 0s 4ms/step - loss: 2.0435 - accuracy: 0.2584 - val_loss: 2.0781 - val_accuracy: 0.2638\n",
      "Epoch 43/100\n",
      "84/84 [==============================] - 0s 3ms/step - loss: 2.0323 - accuracy: 0.2816 - val_loss: 2.0719 - val_accuracy: 0.2830\n",
      "Epoch 44/100\n",
      "84/84 [==============================] - 0s 4ms/step - loss: 2.0609 - accuracy: 0.2547 - val_loss: 2.0673 - val_accuracy: 0.2809\n",
      "Epoch 45/100\n",
      "84/84 [==============================] - 0s 4ms/step - loss: 2.0332 - accuracy: 0.2614 - val_loss: 2.0601 - val_accuracy: 0.2830\n",
      "Epoch 46/100\n",
      "84/84 [==============================] - 0s 4ms/step - loss: 2.0494 - accuracy: 0.2655 - val_loss: 2.0582 - val_accuracy: 0.2809\n",
      "Epoch 47/100\n",
      "84/84 [==============================] - 0s 4ms/step - loss: 1.9916 - accuracy: 0.2800 - val_loss: 2.0556 - val_accuracy: 0.2830\n",
      "Epoch 48/100\n",
      "84/84 [==============================] - 0s 3ms/step - loss: 2.0265 - accuracy: 0.2678 - val_loss: 2.0515 - val_accuracy: 0.2681\n",
      "Epoch 49/100\n",
      "84/84 [==============================] - 0s 3ms/step - loss: 2.0278 - accuracy: 0.2735 - val_loss: 2.0474 - val_accuracy: 0.2809\n",
      "Epoch 50/100\n",
      "84/84 [==============================] - 0s 4ms/step - loss: 2.0265 - accuracy: 0.2698 - val_loss: 2.0445 - val_accuracy: 0.2809\n",
      "Epoch 51/100\n",
      "84/84 [==============================] - 0s 4ms/step - loss: 2.0289 - accuracy: 0.2699 - val_loss: 2.0393 - val_accuracy: 0.2702\n",
      "Epoch 52/100\n",
      "84/84 [==============================] - 0s 4ms/step - loss: 2.0135 - accuracy: 0.2713 - val_loss: 2.0409 - val_accuracy: 0.2851\n",
      "Epoch 53/100\n",
      "84/84 [==============================] - 0s 4ms/step - loss: 1.9950 - accuracy: 0.2790 - val_loss: 2.0354 - val_accuracy: 0.2872\n",
      "Epoch 54/100\n",
      "84/84 [==============================] - 0s 3ms/step - loss: 2.0051 - accuracy: 0.2770 - val_loss: 2.0297 - val_accuracy: 0.2872\n",
      "Epoch 55/100\n",
      "84/84 [==============================] - 0s 3ms/step - loss: 2.0321 - accuracy: 0.2696 - val_loss: 2.0344 - val_accuracy: 0.2787\n",
      "Epoch 56/100\n",
      "84/84 [==============================] - 0s 3ms/step - loss: 1.9933 - accuracy: 0.2857 - val_loss: 2.0263 - val_accuracy: 0.2660\n",
      "Epoch 57/100\n",
      "84/84 [==============================] - 0s 4ms/step - loss: 2.0224 - accuracy: 0.2655 - val_loss: 2.0235 - val_accuracy: 0.2894\n",
      "Epoch 58/100\n",
      "84/84 [==============================] - 0s 4ms/step - loss: 1.9594 - accuracy: 0.2856 - val_loss: 2.0236 - val_accuracy: 0.2766\n",
      "Epoch 59/100\n",
      "84/84 [==============================] - 0s 3ms/step - loss: 1.9898 - accuracy: 0.2843 - val_loss: 2.0146 - val_accuracy: 0.2851\n",
      "Epoch 60/100\n",
      "84/84 [==============================] - 0s 4ms/step - loss: 1.9779 - accuracy: 0.2808 - val_loss: 2.0150 - val_accuracy: 0.2617\n",
      "Epoch 61/100\n",
      "84/84 [==============================] - 0s 3ms/step - loss: 1.9900 - accuracy: 0.2756 - val_loss: 2.0076 - val_accuracy: 0.2766\n",
      "Epoch 62/100\n",
      "84/84 [==============================] - 0s 3ms/step - loss: 1.9943 - accuracy: 0.2787 - val_loss: 2.0095 - val_accuracy: 0.2766\n",
      "Epoch 63/100\n",
      "84/84 [==============================] - 0s 4ms/step - loss: 1.9988 - accuracy: 0.2889 - val_loss: 2.0051 - val_accuracy: 0.2681\n",
      "Epoch 64/100\n",
      "84/84 [==============================] - 0s 3ms/step - loss: 2.0169 - accuracy: 0.2691 - val_loss: 2.0004 - val_accuracy: 0.2745\n",
      "Epoch 65/100\n",
      "84/84 [==============================] - 0s 3ms/step - loss: 2.0213 - accuracy: 0.2716 - val_loss: 2.0021 - val_accuracy: 0.2745\n",
      "Epoch 66/100\n",
      "84/84 [==============================] - 0s 3ms/step - loss: 1.9869 - accuracy: 0.2873 - val_loss: 1.9952 - val_accuracy: 0.2723\n",
      "Epoch 67/100\n",
      "84/84 [==============================] - 0s 4ms/step - loss: 1.9822 - accuracy: 0.2905 - val_loss: 1.9929 - val_accuracy: 0.2957\n",
      "Epoch 68/100\n",
      "84/84 [==============================] - 0s 4ms/step - loss: 1.9560 - accuracy: 0.2815 - val_loss: 1.9949 - val_accuracy: 0.2532\n",
      "Epoch 69/100\n",
      "84/84 [==============================] - 0s 4ms/step - loss: 1.9816 - accuracy: 0.2849 - val_loss: 1.9899 - val_accuracy: 0.2787\n",
      "Epoch 70/100\n",
      "84/84 [==============================] - 0s 4ms/step - loss: 2.0002 - accuracy: 0.2678 - val_loss: 1.9876 - val_accuracy: 0.2723\n",
      "Epoch 71/100\n",
      "84/84 [==============================] - 0s 3ms/step - loss: 1.9724 - accuracy: 0.2761 - val_loss: 1.9911 - val_accuracy: 0.2766\n",
      "Epoch 72/100\n",
      "84/84 [==============================] - 0s 3ms/step - loss: 1.9553 - accuracy: 0.2754 - val_loss: 1.9836 - val_accuracy: 0.2766\n",
      "Epoch 73/100\n",
      "84/84 [==============================] - 0s 4ms/step - loss: 1.9818 - accuracy: 0.2784 - val_loss: 1.9878 - val_accuracy: 0.2766\n",
      "Epoch 74/100\n",
      "84/84 [==============================] - 0s 4ms/step - loss: 1.9628 - accuracy: 0.2620 - val_loss: 1.9825 - val_accuracy: 0.2915\n",
      "Epoch 75/100\n",
      "84/84 [==============================] - 0s 3ms/step - loss: 1.9713 - accuracy: 0.2757 - val_loss: 1.9779 - val_accuracy: 0.2894\n",
      "Epoch 76/100\n",
      "84/84 [==============================] - 0s 3ms/step - loss: 1.9900 - accuracy: 0.2766 - val_loss: 1.9776 - val_accuracy: 0.2766\n",
      "Epoch 77/100\n",
      "84/84 [==============================] - 0s 3ms/step - loss: 1.9614 - accuracy: 0.2775 - val_loss: 1.9816 - val_accuracy: 0.2660\n",
      "Epoch 78/100\n",
      "84/84 [==============================] - 0s 3ms/step - loss: 1.9503 - accuracy: 0.2833 - val_loss: 1.9799 - val_accuracy: 0.2681\n",
      "Epoch 79/100\n",
      "84/84 [==============================] - 0s 4ms/step - loss: 1.9793 - accuracy: 0.2731 - val_loss: 1.9806 - val_accuracy: 0.2638\n",
      "Epoch 80/100\n",
      "84/84 [==============================] - 0s 4ms/step - loss: 1.9493 - accuracy: 0.2791 - val_loss: 1.9764 - val_accuracy: 0.2830\n",
      "Epoch 81/100\n",
      "84/84 [==============================] - 0s 3ms/step - loss: 1.9538 - accuracy: 0.2862 - val_loss: 1.9766 - val_accuracy: 0.2787\n",
      "Epoch 82/100\n",
      "84/84 [==============================] - 0s 3ms/step - loss: 1.9678 - accuracy: 0.2807 - val_loss: 1.9737 - val_accuracy: 0.2723\n",
      "Epoch 83/100\n",
      "84/84 [==============================] - 0s 3ms/step - loss: 1.9740 - accuracy: 0.2783 - val_loss: 1.9723 - val_accuracy: 0.2745\n",
      "Epoch 84/100\n",
      "84/84 [==============================] - 0s 4ms/step - loss: 1.9674 - accuracy: 0.2690 - val_loss: 1.9779 - val_accuracy: 0.2638\n",
      "Epoch 85/100\n",
      "84/84 [==============================] - 0s 3ms/step - loss: 1.9622 - accuracy: 0.2882 - val_loss: 1.9683 - val_accuracy: 0.2745\n",
      "Epoch 86/100\n",
      "84/84 [==============================] - 0s 3ms/step - loss: 1.9628 - accuracy: 0.2882 - val_loss: 1.9675 - val_accuracy: 0.2660\n",
      "Epoch 87/100\n",
      "84/84 [==============================] - 0s 4ms/step - loss: 1.9856 - accuracy: 0.2828 - val_loss: 1.9664 - val_accuracy: 0.2830\n",
      "Epoch 88/100\n",
      "84/84 [==============================] - 0s 3ms/step - loss: 1.9308 - accuracy: 0.2970 - val_loss: 1.9707 - val_accuracy: 0.2532\n",
      "Epoch 89/100\n",
      "84/84 [==============================] - 0s 3ms/step - loss: 1.9447 - accuracy: 0.2914 - val_loss: 1.9716 - val_accuracy: 0.2681\n",
      "Epoch 90/100\n",
      "84/84 [==============================] - 0s 4ms/step - loss: 1.9454 - accuracy: 0.2791 - val_loss: 1.9679 - val_accuracy: 0.2681\n",
      "Epoch 91/100\n",
      "84/84 [==============================] - 0s 3ms/step - loss: 1.9681 - accuracy: 0.2746 - val_loss: 1.9642 - val_accuracy: 0.2723\n",
      "Epoch 92/100\n",
      "84/84 [==============================] - 0s 3ms/step - loss: 1.9393 - accuracy: 0.2765 - val_loss: 1.9628 - val_accuracy: 0.2702\n",
      "Epoch 93/100\n",
      "84/84 [==============================] - 0s 4ms/step - loss: 1.9427 - accuracy: 0.2834 - val_loss: 1.9624 - val_accuracy: 0.2766\n",
      "Epoch 94/100\n",
      "84/84 [==============================] - 0s 4ms/step - loss: 1.9478 - accuracy: 0.2826 - val_loss: 1.9630 - val_accuracy: 0.2511\n",
      "Epoch 95/100\n",
      "84/84 [==============================] - 0s 3ms/step - loss: 1.9661 - accuracy: 0.2717 - val_loss: 1.9604 - val_accuracy: 0.2787\n",
      "Epoch 96/100\n",
      "84/84 [==============================] - 0s 3ms/step - loss: 1.9665 - accuracy: 0.2819 - val_loss: 1.9630 - val_accuracy: 0.2532\n",
      "Epoch 97/100\n",
      "84/84 [==============================] - 0s 4ms/step - loss: 1.9833 - accuracy: 0.2817 - val_loss: 1.9580 - val_accuracy: 0.2745\n",
      "Epoch 98/100\n",
      "84/84 [==============================] - 0s 3ms/step - loss: 1.9415 - accuracy: 0.2839 - val_loss: 1.9633 - val_accuracy: 0.2723\n",
      "Epoch 99/100\n",
      "84/84 [==============================] - 0s 4ms/step - loss: 1.9631 - accuracy: 0.2877 - val_loss: 1.9614 - val_accuracy: 0.2702\n",
      "Epoch 100/100\n",
      "84/84 [==============================] - 0s 3ms/step - loss: 1.9365 - accuracy: 0.2832 - val_loss: 1.9582 - val_accuracy: 0.2745\n",
      "Time spent[s]:  30.620420932769775\n"
     ]
    }
   ],
   "source": [
    "## Fit model\n",
    "start = time()\n",
    "history = model.fit(x=X_train, y=y_train_encode, validation_split=0.15,\n",
    "                    epochs=100, \n",
    "                    batch_size=32)\n",
    "print('Time spent[s]: ', time()-start)"
   ]
  },
  {
   "cell_type": "markdown",
   "metadata": {
    "id": "xqoda86cmXeF"
   },
   "source": [
    "## Model performances display"
   ]
  },
  {
   "cell_type": "code",
   "execution_count": 176,
   "metadata": {
    "colab": {
     "base_uri": "https://localhost:8080/",
     "height": 423
    },
    "executionInfo": {
     "elapsed": 2217,
     "status": "ok",
     "timestamp": 1615238865141,
     "user": {
      "displayName": "Anthony Cho",
      "photoUrl": "",
      "userId": "04569494085624422303"
     },
     "user_tz": 180
    },
    "id": "Iqc-N0t7mbf9",
    "outputId": "fe6a46d0-f4f8-4ae0-bbb8-88ee2f82eae7"
   },
   "outputs": [
    {
     "data": {
      "image/png": "[encoded data removed]",
      "text/plain": [
       "<Figure size 1008x432 with 2 Axes>"
      ]
     },
     "metadata": {
      "needs_background": "light",
      "tags": []
     },
     "output_type": "display_data"
    },
    {
     "name": "stdout",
     "output_type": "stream",
     "text": [
      "33/33 [==============================] - 0s 2ms/step - loss: 2.0133 - accuracy: 0.2632\n"
     ]
    },
    {
     "data": {
      "text/plain": [
       "[2.013340711593628, 0.2631579041481018]"
      ]
     },
     "execution_count": 176,
     "metadata": {
      "tags": []
     },
     "output_type": "execute_result"
    }
   ],
   "source": [
    "## Display performances\n",
    "plot_history(history, width=14)\n",
    "\n",
    "## Compute prediction with test set\n",
    "model.evaluate(X_test, y_test_encode)"
   ]
  },
  {
   "cell_type": "markdown",
   "metadata": {
    "id": "i1XCsutQme1d"
   },
   "source": [
    "## Predictions"
   ]
  },
  {
   "cell_type": "code",
   "execution_count": 177,
   "metadata": {
    "executionInfo": {
     "elapsed": 1719,
     "status": "ok",
     "timestamp": 1615238891915,
     "user": {
      "displayName": "Anthony Cho",
      "photoUrl": "",
      "userId": "04569494085624422303"
     },
     "user_tz": 180
    },
    "id": "j6pP-cuImfJB"
   },
   "outputs": [],
   "source": [
    "## Make prediction using test set\n",
    "prediction = model.predict(X_test)"
   ]
  },
  {
   "cell_type": "code",
   "execution_count": 178,
   "metadata": {
    "colab": {
     "base_uri": "https://localhost:8080/"
    },
    "executionInfo": {
     "elapsed": 2469,
     "status": "ok",
     "timestamp": 1615238900889,
     "user": {
      "displayName": "Anthony Cho",
      "photoUrl": "",
      "userId": "04569494085624422303"
     },
     "user_tz": 180
    },
    "id": "QRHTdOaQmjvJ",
    "outputId": "6c047a19-c50e-420a-abca-d57906b2e270"
   },
   "outputs": [
    {
     "data": {
      "text/plain": [
       "array([13,  9, 10, ...,  9, 11, 10])"
      ]
     },
     "execution_count": 178,
     "metadata": {
      "tags": []
     },
     "output_type": "execute_result"
    }
   ],
   "source": [
    "## Decoding predictions to Class\n",
    "prediction_class = argmax(prediction, axis=-1) + 1\n",
    "prediction_class"
   ]
  },
  {
   "cell_type": "code",
   "execution_count": 179,
   "metadata": {
    "colab": {
     "base_uri": "https://localhost:8080/"
    },
    "executionInfo": {
     "elapsed": 1933,
     "status": "ok",
     "timestamp": 1615238907930,
     "user": {
      "displayName": "Anthony Cho",
      "photoUrl": "",
      "userId": "04569494085624422303"
     },
     "user_tz": 180
    },
    "id": "xt3dXekEmjx3",
    "outputId": "984c8e7e-0335-4f3b-8582-2c59c3cf7d59"
   },
   "outputs": [
    {
     "data": {
      "text/plain": [
       "[[0, 7, 0, 0, 0, 0, 0, 0, 0, 0, 0, 0, 0, 0, 0, 0, 0, 0, 0, 0, 0, 0, 0],\n",
       " [0, 3, 8, 2, 0, 0, 0, 0, 0, 0, 0, 0, 0, 0, 0, 0, 0, 0, 0, 0, 0, 0, 0],\n",
       " [0, 9, 12, 16, 3, 0, 0, 0, 0, 0, 0, 0, 0, 0, 0, 0, 0, 0, 0, 0, 0, 0, 0],\n",
       " [0, 2, 6, 27, 18, 7, 2, 0, 0, 0, 1, 0, 0, 0, 0, 0, 0, 0, 0, 0, 0, 0, 0],\n",
       " [0, 0, 4, 25, 34, 38, 11, 1, 1, 0, 0, 0, 0, 0, 0, 0, 0, 0, 0, 0, 0, 0, 0],\n",
       " [0, 0, 1, 7, 14, 65, 41, 8, 3, 0, 0, 0, 0, 0, 0, 0, 0, 0, 0, 0, 0, 0, 0],\n",
       " [0, 0, 0, 2, 10, 26, 63, 42, 9, 0, 0, 0, 0, 0, 0, 0, 0, 0, 0, 0, 0, 0, 0],\n",
       " [0, 0, 0, 5, 3, 17, 48, 44, 19, 0, 3, 0, 0, 0, 0, 0, 0, 0, 0, 0, 0, 0, 0],\n",
       " [0, 0, 0, 3, 4, 11, 33, 43, 25, 0, 2, 0, 0, 0, 0, 0, 0, 0, 0, 0, 0, 0, 0],\n",
       " [0, 0, 0, 0, 1, 7, 19, 39, 21, 0, 3, 0, 0, 3, 0, 0, 0, 0, 0, 0, 0, 0, 0],\n",
       " [0, 0, 0, 0, 0, 5, 7, 20, 17, 0, 1, 0, 0, 1, 0, 0, 0, 0, 0, 0, 0, 0, 0],\n",
       " [0, 0, 0, 0, 0, 2, 5, 15, 5, 0, 4, 0, 0, 1, 0, 0, 0, 0, 0, 0, 0, 0, 0],\n",
       " [0, 0, 0, 0, 0, 0, 3, 9, 7, 0, 3, 0, 0, 0, 0, 0, 0, 0, 0, 0, 0, 0, 0],\n",
       " [0, 0, 0, 0, 0, 1, 2, 6, 4, 0, 2, 0, 0, 1, 0, 0, 0, 0, 0, 0, 0, 0, 0],\n",
       " [0, 0, 0, 0, 0, 0, 0, 4, 5, 0, 0, 0, 0, 3, 0, 0, 0, 0, 0, 0, 0, 0, 0],\n",
       " [0, 0, 0, 0, 0, 0, 0, 2, 2, 0, 2, 0, 0, 0, 0, 0, 0, 0, 0, 0, 0, 0, 0],\n",
       " [0, 0, 0, 0, 0, 0, 1, 4, 4, 0, 0, 0, 0, 1, 0, 0, 0, 0, 0, 0, 0, 0, 0],\n",
       " [0, 0, 0, 0, 0, 0, 1, 4, 1, 0, 2, 0, 0, 0, 0, 0, 0, 0, 0, 0, 0, 0, 0],\n",
       " [0, 0, 0, 0, 0, 0, 0, 0, 0, 0, 0, 0, 0, 2, 0, 0, 0, 0, 0, 0, 0, 0, 0],\n",
       " [0, 0, 0, 0, 0, 0, 0, 0, 0, 0, 1, 0, 0, 0, 0, 0, 0, 0, 0, 0, 0, 0, 0],\n",
       " [0, 0, 0, 0, 0, 0, 0, 0, 0, 0, 2, 0, 0, 0, 0, 0, 0, 0, 0, 0, 0, 0, 0],\n",
       " [0, 0, 0, 0, 0, 0, 0, 0, 0, 0, 0, 0, 0, 1, 0, 0, 0, 0, 0, 0, 0, 0, 0],\n",
       " [0, 0, 0, 0, 0, 0, 0, 0, 1, 0, 0, 0, 0, 0, 0, 0, 0, 0, 0, 0, 0, 0, 0]]"
      ]
     },
     "execution_count": 179,
     "metadata": {
      "tags": []
     },
     "output_type": "execute_result"
    }
   ],
   "source": [
    "## Display confusion matrix\n",
    "confusion_matrix(y_true=y_test, y_pred=prediction_class).tolist()"
   ]
  },
  {
   "cell_type": "code",
   "execution_count": null,
   "metadata": {
    "id": "Fygpu-5rCWAQ"
   },
   "outputs": [],
   "source": []
  },
  {
   "cell_type": "code",
   "execution_count": null,
   "metadata": {
    "id": "fVjwaiJYCWDM"
   },
   "outputs": [],
   "source": []
  }
 ],
 "metadata": {
  "accelerator": "GPU",
  "colab": {
   "authorship_tag": "ABX9TyPN0iunZCmthE7Q44MviV8t",
   "collapsed_sections": [],
   "name": "Ayudantia 01.ipynb",
   "provenance": [],
   "toc_visible": true
  },
  "kernelspec": {
   "display_name": "Python 3",
   "language": "python",
   "name": "python3"
  },
  "language_info": {
   "codemirror_mode": {
    "name": "ipython",
    "version": 3
   },
   "file_extension": ".py",
   "mimetype": "text/x-python",
   "name": "python",
   "nbconvert_exporter": "python",
   "pygments_lexer": "ipython3",
   "version": "3.8.10"
  }
 },
 "nbformat": 4,
 "nbformat_minor": 1
}
