{
 "cells": [
  {
   "cell_type": "markdown",
   "metadata": {
    "id": "LSAMxmW0KKtr"
   },
   "source": [
    "### Created by: Anthony D. Cho\n",
    "### Last update: 24.12.2021\n",
    "\n",
    "**Subject**: Classification (CNN, data augmentation - keras, tensorflow) - Covid19"
   ]
  },
  {
   "cell_type": "markdown",
   "metadata": {},
   "source": [
    "### Libraries dependencies"
   ]
  },
  {
   "cell_type": "code",
   "execution_count": 1,
   "metadata": {
    "executionInfo": {
     "elapsed": 4189,
     "status": "ok",
     "timestamp": 1640440325522,
     "user": {
      "displayName": "Anthony Cho",
      "photoUrl": "https://lh3.googleusercontent.com/a/default-user=s64",
      "userId": "04569494085624422303"
     },
     "user_tz": 180
    },
    "id": "DQ89Ye6iJ9c4"
   },
   "outputs": [],
   "source": [
    "import os\n",
    "import matplotlib.pyplot as plt\n",
    "%matplotlib inline\n",
    "\n",
    "from time import time\n",
    "from numpy import argmax\n",
    "\n",
    "from sklearn.metrics import confusion_matrix, classification_report\n",
    "\n",
    "## Keras tensorflow\n",
    "from tensorflow.keras.models import Sequential\n",
    "from tensorflow.keras import layers\n",
    "from tensorflow.keras.preprocessing.image import ImageDataGenerator, load_img, img_to_array\n",
    "from tensorflow.keras.optimizers import Adam"
   ]
  },
  {
   "cell_type": "markdown",
   "metadata": {
    "id": "sPg3MpSFKhpY"
   },
   "source": [
    "### Customized function"
   ]
  },
  {
   "cell_type": "code",
   "execution_count": 2,
   "metadata": {
    "executionInfo": {
     "elapsed": 377,
     "status": "ok",
     "timestamp": 1640440327484,
     "user": {
      "displayName": "Anthony Cho",
      "photoUrl": "https://lh3.googleusercontent.com/a/default-user=s64",
      "userId": "04569494085624422303"
     },
     "user_tz": 180
    },
    "id": "C4x9GoujKebX"
   },
   "outputs": [],
   "source": [
    "def plot_history(history, width=12, height=6):\n",
    "  \"\"\"\n",
    "  DESCRIPTION:\n",
    "    History performance of the keras model\n",
    "  \n",
    "  INPUT:\n",
    "    @param history: history of performance of fitted model\n",
    "    @type history: tensorflow.python.keras.callbacks.History\n",
    "\n",
    "  OUTPUT:\n",
    "    A graphic\n",
    "  \"\"\"\n",
    "\n",
    "  ## Metrics keys stored in tensorflow object\n",
    "  keys = list(history.history.keys())\n",
    "\n",
    "  ## Number of epoch used for fit the model\n",
    "  epoch = range(1, len(history.epoch) +1)\n",
    "\n",
    "  ## Check if validation set was used.\n",
    "  withValidation = False\n",
    "  for key in keys:\n",
    "    if 'val' in key:\n",
    "      withValidation = True\n",
    "\n",
    "  ## Number of metrics \n",
    "  nMetrics = len(keys)\n",
    "  if withValidation:\n",
    "    nMetrics = nMetrics//2\n",
    "\n",
    "  ## Plot-space instance\n",
    "  plt.figure(figsize=(width, height))\n",
    "\n",
    "  for i in range(nMetrics):\n",
    "    plt.subplot(nMetrics, 1, i+1)\n",
    "\n",
    "    ## Plot (train) metric value\n",
    "    labelMetric = keys[i]\n",
    "    metric = history.history[keys[i]]\n",
    "    plt.plot(epoch, metric, 'o-', label=labelMetric)\n",
    "\n",
    "    if withValidation:\n",
    "      ## Plot (validation) metric value\n",
    "      labelMetricVal = keys[i+nMetrics]\n",
    "      metricVal = history.history[keys[i+nMetrics]]\n",
    "      plt.plot(epoch, metricVal, 'o-', label=labelMetricVal)\n",
    "\n",
    "    plt.xlim(epoch[0], epoch[-1])\n",
    "    plt.legend()\n",
    "    plt.grid()\n",
    "\n",
    "  plt.xlabel('Epoch')\n",
    "  plt.show()"
   ]
  },
  {
   "cell_type": "markdown",
   "metadata": {
    "id": "2oQ24Z4VKroW"
   },
   "source": [
    "**Data source:**\n",
    "\n",
    "[Covid-19](https://www.kaggle.com/pranavraikokte/covid19-image-dataset) (Classification)"
   ]
  },
  {
   "cell_type": "code",
   "execution_count": null,
   "metadata": {
    "collapsed": true,
    "id": "Qwn8yt25faFL"
   },
   "outputs": [],
   "source": [
    "dataset_name = 'Covid19-dataset'\n",
    "\n",
    "if not os.path.exists(\"covid19.zip\"):\n",
    "    ## Download files\n",
    "\n",
    "    !wget https://github.com/adoc-box/Datasets/raw/main/covid19_small.zip\n",
    "    !wget https://github.com/adoc-box/Datasets/raw/main/covid19_small.z01\n",
    "    !wget https://github.com/adoc-box/Datasets/raw/main/covid19_small.z02\n",
    "\n",
    "    ## join files \n",
    "    !zip -F covid19_small.zip --out covid19.zip\n",
    "\n",
    "    ## remove some files\n",
    "    !rm covid19_small.zip covid19_small.z01 covid19_small.z02\n",
    "\n",
    "    ## un-compress joined zip file\n",
    "    !unzip covid19_small.zip\n",
    "    \n",
    "else:\n",
    "    if os.path.exists(dataset_name):\n",
    "        !rm -r Covid19-dataset\n",
    "    !unzip covid19.zip"
   ]
  },
  {
   "cell_type": "markdown",
   "metadata": {
    "id": "2irwaYgaf0J_"
   },
   "source": [
    "### Image loader generator"
   ]
  },
  {
   "cell_type": "code",
   "execution_count": 6,
   "metadata": {
    "colab": {
     "base_uri": "https://localhost:8080/"
    },
    "executionInfo": {
     "elapsed": 401,
     "status": "ok",
     "timestamp": 1640440413294,
     "user": {
      "displayName": "Anthony Cho",
      "photoUrl": "https://lh3.googleusercontent.com/a/default-user=s64",
      "userId": "04569494085624422303"
     },
     "user_tz": 180
    },
    "id": "DEF6jFTsftGi",
    "outputId": "36ca5644-eceb-495a-cdb5-2ea1764c4f5b"
   },
   "outputs": [
    {
     "name": "stdout",
     "output_type": "stream",
     "text": [
      "Found 226 images belonging to 3 classes.\n",
      "Found 25 images belonging to 3 classes.\n",
      "Found 66 images belonging to 3 classes.\n"
     ]
    }
   ],
   "source": [
    "## Images PATHs\n",
    "train_dir = f'{dataset_name}/train/'\n",
    "test_dir = f'{dataset_name}/test/'\n",
    "\n",
    "## Image generator instances\n",
    "train_datagen = ImageDataGenerator(rescale=1./255, \n",
    "                                   rotation_range=40,\n",
    "                                   width_shift_range=0.2,\n",
    "                                   height_shift_range=0.2,\n",
    "                                   shear_range=0.2,\n",
    "                                   zoom_range=0.2,\n",
    "                                   horizontal_flip=True,\n",
    "                                   validation_split=0.1)\n",
    "test_datagen = ImageDataGenerator(rescale=1./255)\n",
    "\n",
    "## Image conversion size\n",
    "imgSize = 150\n",
    "\n",
    "## Generator setting (Train)\n",
    "train_generator = train_datagen.flow_from_directory(\n",
    "        # This is the target directory\n",
    "        train_dir,\n",
    "\n",
    "        ## data subset\n",
    "        subset='training',\n",
    "\n",
    "        # All images will be resized to (imgSize x imgSize)\n",
    "        target_size=(imgSize, imgSize),\n",
    "        batch_size=20,\n",
    "        \n",
    "        # Since we use categorical_crossentropy loss, we need categorical labels\n",
    "        class_mode='categorical')\n",
    "\n",
    "## Generator setting (Validation)\n",
    "validation_generator = train_datagen.flow_from_directory(\n",
    "        train_dir,\n",
    "\n",
    "        ## data subset\n",
    "        subset='validation',\n",
    "        target_size=(imgSize, imgSize),\n",
    "        batch_size=20,\n",
    "        shuffle=False,\n",
    "        class_mode='categorical')\n",
    "\n",
    "## Generator setting (test)\n",
    "test_generator = test_datagen.flow_from_directory(\n",
    "        test_dir,\n",
    "        target_size=(imgSize, imgSize),\n",
    "        batch_size=20,\n",
    "        shuffle=False,\n",
    "        class_mode='categorical')"
   ]
  },
  {
   "cell_type": "markdown",
   "metadata": {
    "id": "16RvlnJSiDaa"
   },
   "source": [
    "### Model building"
   ]
  },
  {
   "cell_type": "code",
   "execution_count": 7,
   "metadata": {
    "executionInfo": {
     "elapsed": 392,
     "status": "ok",
     "timestamp": 1640440433217,
     "user": {
      "displayName": "Anthony Cho",
      "photoUrl": "https://lh3.googleusercontent.com/a/default-user=s64",
      "userId": "04569494085624422303"
     },
     "user_tz": 180
    },
    "id": "2Z3eAs2RA54t"
   },
   "outputs": [],
   "source": [
    "## Model design\n",
    "def get_model():\n",
    "    \"\"\"\n",
    "        CNN Model builder\n",
    "    \"\"\"\n",
    "\n",
    "    ## Model instance\n",
    "\n",
    "    model = Sequential(name='Covid19')\n",
    "    model.add(layers.Conv2D(filters=32, \n",
    "                            kernel_size=(3, 3), \n",
    "                            activation='relu',\n",
    "                            input_shape=(150, 150, 3),\n",
    "                            name='Conv2D_01'))\n",
    "    model.add(layers.MaxPooling2D(pool_size=(2, 2),\n",
    "                                  name='Pooling_01'))\n",
    "    model.add(layers.Conv2D(filters=64, \n",
    "                            kernel_size=(3, 3), \n",
    "                            activation='relu',\n",
    "                            name='Conv2D_02'))\n",
    "    model.add(layers.MaxPooling2D(pool_size=(2, 2),\n",
    "                                  name='Pooling_02'))\n",
    "    model.add(layers.Conv2D(filters=128, \n",
    "                            kernel_size=(3, 3), \n",
    "                            activation='relu',\n",
    "                            name='Conv2D_03'))\n",
    "    model.add(layers.MaxPooling2D(pool_size=(2, 2),\n",
    "                                  name='Pooling_03'))\n",
    "    model.add(layers.Conv2D(filters=128, \n",
    "                            kernel_size=(3, 3), \n",
    "                            activation='relu',\n",
    "                            name='Conv2D_04'))\n",
    "    model.add(layers.MaxPooling2D(pool_size=(2, 2),\n",
    "                                  name='Pooling_04'))\n",
    "    model.add(layers.Flatten(name='Flatten'))\n",
    "    model.add(layers.Dense(units=512, \n",
    "                          activation='relu',\n",
    "                          name='Dense_01'))\n",
    "    model.add(layers.Dense(units=3, \n",
    "                          activation='softmax',\n",
    "                          name='output'))\n",
    "    \n",
    "    ## return model \n",
    "    return model"
   ]
  },
  {
   "cell_type": "code",
   "execution_count": 8,
   "metadata": {
    "colab": {
     "base_uri": "https://localhost:8080/"
    },
    "executionInfo": {
     "elapsed": 3283,
     "status": "ok",
     "timestamp": 1640440439290,
     "user": {
      "displayName": "Anthony Cho",
      "photoUrl": "https://lh3.googleusercontent.com/a/default-user=s64",
      "userId": "04569494085624422303"
     },
     "user_tz": 180
    },
    "id": "IH6e0CSmh7uu",
    "outputId": "fc38e034-3235-4cfc-e345-287c59db6a95"
   },
   "outputs": [
    {
     "name": "stdout",
     "output_type": "stream",
     "text": [
      "Model: \"Covid19\"\n",
      "_________________________________________________________________\n",
      " Layer (type)                Output Shape              Param #   \n",
      "=================================================================\n",
      " Conv2D_01 (Conv2D)          (None, 148, 148, 32)      896       \n",
      "                                                                 \n",
      " Pooling_01 (MaxPooling2D)   (None, 74, 74, 32)        0         \n",
      "                                                                 \n",
      " Conv2D_02 (Conv2D)          (None, 72, 72, 64)        18496     \n",
      "                                                                 \n",
      " Pooling_02 (MaxPooling2D)   (None, 36, 36, 64)        0         \n",
      "                                                                 \n",
      " Conv2D_03 (Conv2D)          (None, 34, 34, 128)       73856     \n",
      "                                                                 \n",
      " Pooling_03 (MaxPooling2D)   (None, 17, 17, 128)       0         \n",
      "                                                                 \n",
      " Conv2D_04 (Conv2D)          (None, 15, 15, 128)       147584    \n",
      "                                                                 \n",
      " Pooling_04 (MaxPooling2D)   (None, 7, 7, 128)         0         \n",
      "                                                                 \n",
      " Flatten (Flatten)           (None, 6272)              0         \n",
      "                                                                 \n",
      " Dense_01 (Dense)            (None, 512)               3211776   \n",
      "                                                                 \n",
      " output (Dense)              (None, 3)                 1539      \n",
      "                                                                 \n",
      "=================================================================\n",
      "Total params: 3,454,147\n",
      "Trainable params: 3,454,147\n",
      "Non-trainable params: 0\n",
      "_________________________________________________________________\n"
     ]
    }
   ],
   "source": [
    "## model instance\n",
    "model = get_model()\n",
    "\n",
    "model.summary()"
   ]
  },
  {
   "cell_type": "code",
   "execution_count": 9,
   "metadata": {
    "colab": {
     "base_uri": "https://localhost:8080/"
    },
    "executionInfo": {
     "elapsed": 755137,
     "status": "ok",
     "timestamp": 1640441419293,
     "user": {
      "displayName": "Anthony Cho",
      "photoUrl": "https://lh3.googleusercontent.com/a/default-user=s64",
      "userId": "04569494085624422303"
     },
     "user_tz": 180
    },
    "id": "F1iKtv-kh7xb",
    "outputId": "1f22e61a-1575-4af3-b5cf-ee3e32ebdcd5"
   },
   "outputs": [
    {
     "name": "stdout",
     "output_type": "stream",
     "text": [
      "Epoch 1/80\n",
      "12/12 [==============================] - 23s 1s/step - loss: 1.0915 - acc: 0.4204 - val_loss: 1.0812 - val_acc: 0.4400\n",
      "Epoch 2/80\n",
      "12/12 [==============================] - 12s 993ms/step - loss: 1.0625 - acc: 0.4469 - val_loss: 1.0595 - val_acc: 0.4400\n",
      "Epoch 3/80\n",
      "12/12 [==============================] - 12s 999ms/step - loss: 1.0266 - acc: 0.5088 - val_loss: 1.0569 - val_acc: 0.5200\n",
      "Epoch 4/80\n",
      "12/12 [==============================] - 12s 1s/step - loss: 0.9728 - acc: 0.5752 - val_loss: 0.9584 - val_acc: 0.5600\n",
      "Epoch 5/80\n",
      "12/12 [==============================] - 12s 981ms/step - loss: 0.8608 - acc: 0.6814 - val_loss: 0.8996 - val_acc: 0.6000\n",
      "Epoch 6/80\n",
      "12/12 [==============================] - 12s 1s/step - loss: 0.7632 - acc: 0.6770 - val_loss: 0.9144 - val_acc: 0.6800\n",
      "Epoch 7/80\n",
      "12/12 [==============================] - 12s 991ms/step - loss: 0.7463 - acc: 0.6947 - val_loss: 0.9684 - val_acc: 0.5200\n",
      "Epoch 8/80\n",
      "12/12 [==============================] - 13s 1s/step - loss: 0.6110 - acc: 0.7478 - val_loss: 0.8388 - val_acc: 0.6000\n",
      "Epoch 9/80\n",
      "12/12 [==============================] - 12s 987ms/step - loss: 0.6553 - acc: 0.7080 - val_loss: 0.7356 - val_acc: 0.6400\n",
      "Epoch 10/80\n",
      "12/12 [==============================] - 11s 943ms/step - loss: 0.6557 - acc: 0.6726 - val_loss: 0.6227 - val_acc: 0.8000\n",
      "Epoch 11/80\n",
      "12/12 [==============================] - 12s 973ms/step - loss: 0.5517 - acc: 0.7876 - val_loss: 0.5126 - val_acc: 0.8400\n",
      "Epoch 12/80\n",
      "12/12 [==============================] - 12s 963ms/step - loss: 0.5704 - acc: 0.7301 - val_loss: 0.6004 - val_acc: 0.7200\n",
      "Epoch 13/80\n",
      "12/12 [==============================] - 12s 1s/step - loss: 0.5762 - acc: 0.7257 - val_loss: 0.5805 - val_acc: 0.7200\n",
      "Epoch 14/80\n",
      "12/12 [==============================] - 12s 1s/step - loss: 0.6634 - acc: 0.7035 - val_loss: 0.6188 - val_acc: 0.7600\n",
      "Epoch 15/80\n",
      "12/12 [==============================] - 12s 998ms/step - loss: 0.5917 - acc: 0.7876 - val_loss: 0.6021 - val_acc: 0.6800\n",
      "Epoch 16/80\n",
      "12/12 [==============================] - 12s 979ms/step - loss: 0.5528 - acc: 0.8053 - val_loss: 0.5521 - val_acc: 0.8000\n",
      "Epoch 17/80\n",
      "12/12 [==============================] - 12s 1s/step - loss: 0.5874 - acc: 0.7389 - val_loss: 0.6958 - val_acc: 0.6800\n",
      "Epoch 18/80\n",
      "12/12 [==============================] - 12s 987ms/step - loss: 0.4988 - acc: 0.7876 - val_loss: 0.6608 - val_acc: 0.6800\n",
      "Epoch 19/80\n",
      "12/12 [==============================] - 12s 978ms/step - loss: 0.5374 - acc: 0.7788 - val_loss: 0.6626 - val_acc: 0.6400\n",
      "Epoch 20/80\n",
      "12/12 [==============================] - 12s 1s/step - loss: 0.4874 - acc: 0.8009 - val_loss: 0.6141 - val_acc: 0.7200\n",
      "Epoch 21/80\n",
      "12/12 [==============================] - 12s 956ms/step - loss: 0.4556 - acc: 0.8142 - val_loss: 0.5951 - val_acc: 0.7600\n",
      "Epoch 22/80\n",
      "12/12 [==============================] - 12s 965ms/step - loss: 0.4412 - acc: 0.8230 - val_loss: 0.8133 - val_acc: 0.7200\n",
      "Epoch 23/80\n",
      "12/12 [==============================] - 12s 972ms/step - loss: 0.4892 - acc: 0.7965 - val_loss: 0.5859 - val_acc: 0.7200\n",
      "Epoch 24/80\n",
      "12/12 [==============================] - 12s 965ms/step - loss: 0.4892 - acc: 0.8009 - val_loss: 0.7177 - val_acc: 0.7200\n",
      "Epoch 25/80\n",
      "12/12 [==============================] - 12s 1s/step - loss: 0.5068 - acc: 0.8053 - val_loss: 0.4755 - val_acc: 0.8400\n",
      "Epoch 26/80\n",
      "12/12 [==============================] - 12s 997ms/step - loss: 0.4619 - acc: 0.8186 - val_loss: 0.8037 - val_acc: 0.6000\n",
      "Epoch 27/80\n",
      "12/12 [==============================] - 12s 999ms/step - loss: 0.4561 - acc: 0.8186 - val_loss: 0.4422 - val_acc: 0.8000\n",
      "Epoch 28/80\n",
      "12/12 [==============================] - 12s 1s/step - loss: 0.4460 - acc: 0.8142 - val_loss: 0.7100 - val_acc: 0.6800\n",
      "Epoch 29/80\n",
      "12/12 [==============================] - 12s 995ms/step - loss: 0.4618 - acc: 0.8274 - val_loss: 0.9773 - val_acc: 0.7200\n",
      "Epoch 30/80\n",
      "12/12 [==============================] - 12s 1s/step - loss: 0.5026 - acc: 0.7743 - val_loss: 0.5670 - val_acc: 0.8400\n",
      "Epoch 31/80\n",
      "12/12 [==============================] - 12s 1s/step - loss: 0.4690 - acc: 0.7965 - val_loss: 0.4686 - val_acc: 0.9200\n",
      "Epoch 32/80\n",
      "12/12 [==============================] - 12s 1s/step - loss: 0.4898 - acc: 0.8363 - val_loss: 0.7947 - val_acc: 0.6400\n",
      "Epoch 33/80\n",
      "12/12 [==============================] - 12s 994ms/step - loss: 0.4638 - acc: 0.8009 - val_loss: 0.5734 - val_acc: 0.7600\n",
      "Epoch 34/80\n",
      "12/12 [==============================] - 12s 1s/step - loss: 0.3847 - acc: 0.8407 - val_loss: 0.7475 - val_acc: 0.6800\n",
      "Epoch 35/80\n",
      "12/12 [==============================] - 12s 1s/step - loss: 0.3845 - acc: 0.8540 - val_loss: 0.6779 - val_acc: 0.8000\n",
      "Epoch 36/80\n",
      "12/12 [==============================] - 12s 1s/step - loss: 0.4010 - acc: 0.8142 - val_loss: 0.6688 - val_acc: 0.7600\n",
      "Epoch 37/80\n",
      "12/12 [==============================] - 12s 1s/step - loss: 0.4537 - acc: 0.8009 - val_loss: 0.3695 - val_acc: 0.8800\n",
      "Epoch 38/80\n",
      "12/12 [==============================] - 12s 1s/step - loss: 0.3740 - acc: 0.8540 - val_loss: 0.5375 - val_acc: 0.7600\n",
      "Epoch 39/80\n",
      "12/12 [==============================] - 12s 1s/step - loss: 0.4326 - acc: 0.8186 - val_loss: 0.6840 - val_acc: 0.7600\n",
      "Epoch 40/80\n",
      "12/12 [==============================] - 12s 1s/step - loss: 0.3969 - acc: 0.8496 - val_loss: 0.4411 - val_acc: 0.7600\n",
      "Epoch 41/80\n",
      "12/12 [==============================] - 12s 1s/step - loss: 0.3688 - acc: 0.8496 - val_loss: 0.4378 - val_acc: 0.8400\n",
      "Epoch 42/80\n",
      "12/12 [==============================] - 12s 995ms/step - loss: 0.3442 - acc: 0.8717 - val_loss: 0.5886 - val_acc: 0.7600\n",
      "Epoch 43/80\n",
      "12/12 [==============================] - 12s 998ms/step - loss: 0.3719 - acc: 0.8673 - val_loss: 0.5544 - val_acc: 0.6800\n",
      "Epoch 44/80\n",
      "12/12 [==============================] - 12s 987ms/step - loss: 0.3316 - acc: 0.8805 - val_loss: 0.7827 - val_acc: 0.8000\n",
      "Epoch 45/80\n",
      "12/12 [==============================] - 12s 1s/step - loss: 0.4134 - acc: 0.8274 - val_loss: 0.7234 - val_acc: 0.7200\n",
      "Epoch 46/80\n",
      "12/12 [==============================] - 12s 992ms/step - loss: 0.3951 - acc: 0.8363 - val_loss: 0.7631 - val_acc: 0.7600\n",
      "Epoch 47/80\n",
      "12/12 [==============================] - 12s 1s/step - loss: 0.3347 - acc: 0.8540 - val_loss: 0.4597 - val_acc: 0.8800\n",
      "Epoch 48/80\n",
      "12/12 [==============================] - 12s 993ms/step - loss: 0.3420 - acc: 0.8850 - val_loss: 0.5306 - val_acc: 0.8000\n",
      "Epoch 49/80\n",
      "12/12 [==============================] - 12s 989ms/step - loss: 0.3251 - acc: 0.8628 - val_loss: 0.5769 - val_acc: 0.7200\n",
      "Epoch 50/80\n",
      "12/12 [==============================] - 12s 976ms/step - loss: 0.3750 - acc: 0.8363 - val_loss: 0.5653 - val_acc: 0.6400\n",
      "Epoch 51/80\n",
      "12/12 [==============================] - 12s 1s/step - loss: 0.3386 - acc: 0.8319 - val_loss: 0.4691 - val_acc: 0.8400\n",
      "Epoch 52/80\n",
      "12/12 [==============================] - 12s 1s/step - loss: 0.3849 - acc: 0.8540 - val_loss: 0.4335 - val_acc: 0.8800\n",
      "Epoch 53/80\n",
      "12/12 [==============================] - 12s 1s/step - loss: 0.3312 - acc: 0.8894 - val_loss: 0.5518 - val_acc: 0.8400\n",
      "Epoch 54/80\n",
      "12/12 [==============================] - 12s 1s/step - loss: 0.3520 - acc: 0.8673 - val_loss: 0.5773 - val_acc: 0.8000\n",
      "Epoch 55/80\n",
      "12/12 [==============================] - 12s 970ms/step - loss: 0.2994 - acc: 0.8673 - val_loss: 0.6697 - val_acc: 0.6800\n",
      "Epoch 56/80\n",
      "12/12 [==============================] - 12s 1s/step - loss: 0.3424 - acc: 0.8761 - val_loss: 0.6152 - val_acc: 0.7600\n",
      "Epoch 57/80\n",
      "12/12 [==============================] - 12s 1s/step - loss: 0.3381 - acc: 0.8628 - val_loss: 0.6103 - val_acc: 0.7600\n",
      "Epoch 58/80\n",
      "12/12 [==============================] - 12s 988ms/step - loss: 0.2956 - acc: 0.8938 - val_loss: 0.5795 - val_acc: 0.7600\n",
      "Epoch 59/80\n",
      "12/12 [==============================] - 12s 1s/step - loss: 0.2909 - acc: 0.8805 - val_loss: 0.7192 - val_acc: 0.7600\n",
      "Epoch 60/80\n",
      "12/12 [==============================] - 12s 1s/step - loss: 0.3794 - acc: 0.8761 - val_loss: 0.4343 - val_acc: 0.8000\n",
      "Epoch 61/80\n",
      "12/12 [==============================] - 12s 984ms/step - loss: 0.3120 - acc: 0.8717 - val_loss: 0.5509 - val_acc: 0.7600\n",
      "Epoch 62/80\n",
      "12/12 [==============================] - 12s 978ms/step - loss: 0.2863 - acc: 0.8894 - val_loss: 0.4264 - val_acc: 0.8400\n",
      "Epoch 63/80\n",
      "12/12 [==============================] - 12s 989ms/step - loss: 0.2831 - acc: 0.8850 - val_loss: 0.6369 - val_acc: 0.7600\n",
      "Epoch 64/80\n",
      "12/12 [==============================] - 12s 1s/step - loss: 0.3116 - acc: 0.8628 - val_loss: 0.5090 - val_acc: 0.8400\n",
      "Epoch 65/80\n",
      "12/12 [==============================] - 12s 1s/step - loss: 0.4680 - acc: 0.8186 - val_loss: 0.5996 - val_acc: 0.8000\n",
      "Epoch 66/80\n",
      "12/12 [==============================] - 12s 1s/step - loss: 0.3764 - acc: 0.8584 - val_loss: 0.6435 - val_acc: 0.7200\n",
      "Epoch 67/80\n",
      "12/12 [==============================] - 12s 1s/step - loss: 0.3250 - acc: 0.8761 - val_loss: 0.6232 - val_acc: 0.6800\n",
      "Epoch 68/80\n",
      "12/12 [==============================] - 12s 999ms/step - loss: 0.2957 - acc: 0.8982 - val_loss: 0.4477 - val_acc: 0.8400\n",
      "Epoch 69/80\n",
      "12/12 [==============================] - 12s 1s/step - loss: 0.3234 - acc: 0.8717 - val_loss: 0.5074 - val_acc: 0.8400\n",
      "Epoch 70/80\n",
      "12/12 [==============================] - 12s 1s/step - loss: 0.2645 - acc: 0.8938 - val_loss: 0.3912 - val_acc: 0.8400\n",
      "Epoch 71/80\n",
      "12/12 [==============================] - 12s 1s/step - loss: 0.2652 - acc: 0.8982 - val_loss: 0.5657 - val_acc: 0.8400\n",
      "Epoch 72/80\n",
      "12/12 [==============================] - 12s 1s/step - loss: 0.2209 - acc: 0.9292 - val_loss: 0.4105 - val_acc: 0.8000\n",
      "Epoch 73/80\n",
      "12/12 [==============================] - 12s 1s/step - loss: 0.2872 - acc: 0.8628 - val_loss: 0.6230 - val_acc: 0.8400\n",
      "Epoch 74/80\n",
      "12/12 [==============================] - 12s 984ms/step - loss: 0.2937 - acc: 0.8761 - val_loss: 0.6111 - val_acc: 0.8000\n",
      "Epoch 75/80\n",
      "12/12 [==============================] - 12s 1s/step - loss: 0.2895 - acc: 0.9071 - val_loss: 0.2498 - val_acc: 0.8800\n",
      "Epoch 76/80\n",
      "12/12 [==============================] - 12s 1s/step - loss: 0.2684 - acc: 0.8982 - val_loss: 0.4904 - val_acc: 0.8400\n",
      "Epoch 77/80\n",
      "12/12 [==============================] - 12s 1s/step - loss: 0.3153 - acc: 0.8761 - val_loss: 0.5104 - val_acc: 0.8000\n",
      "Epoch 78/80\n",
      "12/12 [==============================] - 12s 1s/step - loss: 0.3228 - acc: 0.8850 - val_loss: 0.6068 - val_acc: 0.6800\n",
      "Epoch 79/80\n",
      "12/12 [==============================] - 12s 1s/step - loss: 0.3264 - acc: 0.8717 - val_loss: 0.5265 - val_acc: 0.8400\n",
      "Epoch 80/80\n",
      "12/12 [==============================] - 12s 1s/step - loss: 0.2716 - acc: 0.8894 - val_loss: 0.8484 - val_acc: 0.6800\n",
      "\n",
      "Time spent[s]: 975.64\n"
     ]
    }
   ],
   "source": [
    "start = time()\n",
    "\n",
    "## Compiler setting\n",
    "model.compile(loss='categorical_crossentropy',\n",
    "              optimizer=Adam(learning_rate=1e-4),\n",
    "              metrics=['acc'])\n",
    "\n",
    "## Model fitting\n",
    "history = model.fit(\n",
    "      train_generator, \n",
    "      #steps_per_epoch=11,  ## <- 226 images / batch size of 20 approx 11\n",
    "      validation_data=validation_generator,\n",
    "      #validation_steps=1,  ## <- 25 images / batch size of 20 approx 1\n",
    "      epochs=80, verbose=1)\n",
    "\n",
    "timeUp = time()-start\n",
    "print('\\nTime spent[s]: {:.2f}'.format(timeUp))\n",
    "\n",
    "model.save('CNN_Covid19.h5')"
   ]
  },
  {
   "cell_type": "code",
   "execution_count": 10,
   "metadata": {
    "colab": {
     "base_uri": "https://localhost:8080/",
     "height": 423
    },
    "executionInfo": {
     "elapsed": 4338,
     "status": "ok",
     "timestamp": 1640441890767,
     "user": {
      "displayName": "Anthony Cho",
      "photoUrl": "https://lh3.googleusercontent.com/a/default-user=s64",
      "userId": "04569494085624422303"
     },
     "user_tz": 180
    },
    "id": "5F9R7aeYlHsj",
    "outputId": "514ac40e-413a-4ebd-9e1b-52e1319f205a"
   },
   "outputs": [
    {
     "data": {
      "image/png": "[encoded data removed]",
      "text/plain": [
       "<Figure size 1008x432 with 2 Axes>"
      ]
     },
     "metadata": {
      "needs_background": "light"
     },
     "output_type": "display_data"
    },
    {
     "name": "stdout",
     "output_type": "stream",
     "text": [
      "4/4 [==============================] - 2s 425ms/step - loss: 0.2599 - acc: 0.8939\n",
      "[0.25994589924812317, 0.8939393758773804]\n"
     ]
    }
   ],
   "source": [
    "## display performances\n",
    "plot_history(history, width=14)\n",
    "\n",
    "## restart test generator index\n",
    "test_generator.reset()\n",
    "\n",
    "## evaluate test set in the model\n",
    "print(model.evaluate(test_generator, \n",
    "                     #steps=3\n",
    "                     ))  ## <- 66 images / batch size of 20 equal 3\n",
    "\n",
    "## restart test generator index\n",
    "test_generator.reset()\n",
    "\n",
    "## Compute prediction using test generator\n",
    "prediction = model.predict(test_generator)"
   ]
  },
  {
   "cell_type": "code",
   "execution_count": 11,
   "metadata": {
    "colab": {
     "base_uri": "https://localhost:8080/"
    },
    "executionInfo": {
     "elapsed": 374,
     "status": "ok",
     "timestamp": 1640441921734,
     "user": {
      "displayName": "Anthony Cho",
      "photoUrl": "https://lh3.googleusercontent.com/a/default-user=s64",
      "userId": "04569494085624422303"
     },
     "user_tz": 180
    },
    "id": "uTmNMIUF-QXQ",
    "outputId": "45282286-abef-44f9-da83-6ea40016b1f8"
   },
   "outputs": [
    {
     "data": {
      "text/plain": [
       "array([0, 0, 0, 0, 0, 0, 0, 0, 0, 0, 0, 0, 0, 0, 0, 0, 0, 0, 0, 0, 0, 0,\n",
       "       0, 0, 0, 0, 1, 1, 1, 1, 1, 2, 1, 2, 1, 2, 1, 2, 2, 1, 1, 1, 1, 1,\n",
       "       2, 1, 2, 2, 2, 2, 2, 2, 2, 2, 2, 2, 2, 2, 2, 2, 2, 2, 2, 1, 2, 2])"
      ]
     },
     "execution_count": 11,
     "metadata": {},
     "output_type": "execute_result"
    }
   ],
   "source": [
    "prediction_decoded = argmax(prediction, axis=1)\n",
    "prediction_decoded"
   ]
  },
  {
   "cell_type": "code",
   "execution_count": 12,
   "metadata": {
    "executionInfo": {
     "elapsed": 410,
     "status": "ok",
     "timestamp": 1640441925309,
     "user": {
      "displayName": "Anthony Cho",
      "photoUrl": "https://lh3.googleusercontent.com/a/default-user=s64",
      "userId": "04569494085624422303"
     },
     "user_tz": 180
    },
    "id": "Z4p9UqX2-GCW"
   },
   "outputs": [],
   "source": [
    "y_true = test_generator.labels"
   ]
  },
  {
   "cell_type": "code",
   "execution_count": 13,
   "metadata": {
    "colab": {
     "base_uri": "https://localhost:8080/"
    },
    "executionInfo": {
     "elapsed": 398,
     "status": "ok",
     "timestamp": 1640441930259,
     "user": {
      "displayName": "Anthony Cho",
      "photoUrl": "https://lh3.googleusercontent.com/a/default-user=s64",
      "userId": "04569494085624422303"
     },
     "user_tz": 180
    },
    "id": "AcJVNpdmXiai",
    "outputId": "2267779b-b046-46d3-f32f-dd3aab707482"
   },
   "outputs": [
    {
     "data": {
      "text/plain": [
       "((66,), (66,))"
      ]
     },
     "execution_count": 13,
     "metadata": {},
     "output_type": "execute_result"
    }
   ],
   "source": [
    "y_true.shape, prediction_decoded.shape"
   ]
  },
  {
   "cell_type": "code",
   "execution_count": 14,
   "metadata": {
    "colab": {
     "base_uri": "https://localhost:8080/"
    },
    "executionInfo": {
     "elapsed": 403,
     "status": "ok",
     "timestamp": 1640441936203,
     "user": {
      "displayName": "Anthony Cho",
      "photoUrl": "https://lh3.googleusercontent.com/a/default-user=s64",
      "userId": "04569494085624422303"
     },
     "user_tz": 180
    },
    "id": "vUaHIQM0VzJZ",
    "outputId": "63f6848e-ee31-4eab-e82a-5e7df6ce0cdb"
   },
   "outputs": [
    {
     "name": "stdout",
     "output_type": "stream",
     "text": [
      "[[26  0  0]\n",
      " [ 0 14  6]\n",
      " [ 0  1 19]]\n",
      "              precision    recall  f1-score   support\n",
      "\n",
      "           0       1.00      1.00      1.00        26\n",
      "           1       0.93      0.70      0.80        20\n",
      "           2       0.76      0.95      0.84        20\n",
      "\n",
      "    accuracy                           0.89        66\n",
      "   macro avg       0.90      0.88      0.88        66\n",
      "weighted avg       0.91      0.89      0.89        66\n",
      "\n"
     ]
    }
   ],
   "source": [
    "## display confusion matrix\n",
    "print(confusion_matrix(y_true=y_true, y_pred=prediction_decoded))\n",
    "\n",
    "## display classification report\n",
    "print(classification_report(y_true=y_true, y_pred=prediction_decoded))"
   ]
  },
  {
   "cell_type": "code",
   "execution_count": 15,
   "metadata": {
    "colab": {
     "base_uri": "https://localhost:8080/"
    },
    "executionInfo": {
     "elapsed": 393,
     "status": "ok",
     "timestamp": 1640441952142,
     "user": {
      "displayName": "Anthony Cho",
      "photoUrl": "https://lh3.googleusercontent.com/a/default-user=s64",
      "userId": "04569494085624422303"
     },
     "user_tz": 180
    },
    "id": "-lHL-QwyBz1r",
    "outputId": "800bffef-af84-4a2b-9aee-336679fbc459"
   },
   "outputs": [
    {
     "data": {
      "text/plain": [
       "{'Covid': 0, 'Normal': 1, 'Viral Pneumonia': 2}"
      ]
     },
     "execution_count": 15,
     "metadata": {},
     "output_type": "execute_result"
    }
   ],
   "source": [
    "test_generator.class_indices"
   ]
  },
  {
   "cell_type": "markdown",
   "metadata": {
    "id": "UQkMAAy22KE3"
   },
   "source": [
    "## Best model\n",
    "\n",
    "Looking into the performance charts, it seems to stabilize (kind of overfit) starting at epoch 31."
   ]
  },
  {
   "cell_type": "code",
   "execution_count": 16,
   "metadata": {
    "executionInfo": {
     "elapsed": 380,
     "status": "ok",
     "timestamp": 1640441975483,
     "user": {
      "displayName": "Anthony Cho",
      "photoUrl": "https://lh3.googleusercontent.com/a/default-user=s64",
      "userId": "04569494085624422303"
     },
     "user_tz": 180
    },
    "id": "3hE-Qhoz2x5N"
   },
   "outputs": [],
   "source": [
    "## Restart all generators\n",
    "train_generator.reset()\n",
    "test_generator.reset()"
   ]
  },
  {
   "cell_type": "code",
   "execution_count": 18,
   "metadata": {
    "colab": {
     "base_uri": "https://localhost:8080/"
    },
    "executionInfo": {
     "elapsed": 398,
     "status": "ok",
     "timestamp": 1640442040709,
     "user": {
      "displayName": "Anthony Cho",
      "photoUrl": "https://lh3.googleusercontent.com/a/default-user=s64",
      "userId": "04569494085624422303"
     },
     "user_tz": 180
    },
    "id": "Xq9AzJts3-2s",
    "outputId": "de380c11-bc59-4c24-ca0a-bbd5b91341c6"
   },
   "outputs": [
    {
     "name": "stdout",
     "output_type": "stream",
     "text": [
      "Model: \"Covid19\"\n",
      "_________________________________________________________________\n",
      " Layer (type)                Output Shape              Param #   \n",
      "=================================================================\n",
      " Conv2D_01 (Conv2D)          (None, 148, 148, 32)      896       \n",
      "                                                                 \n",
      " Pooling_01 (MaxPooling2D)   (None, 74, 74, 32)        0         \n",
      "                                                                 \n",
      " Conv2D_02 (Conv2D)          (None, 72, 72, 64)        18496     \n",
      "                                                                 \n",
      " Pooling_02 (MaxPooling2D)   (None, 36, 36, 64)        0         \n",
      "                                                                 \n",
      " Conv2D_03 (Conv2D)          (None, 34, 34, 128)       73856     \n",
      "                                                                 \n",
      " Pooling_03 (MaxPooling2D)   (None, 17, 17, 128)       0         \n",
      "                                                                 \n",
      " Conv2D_04 (Conv2D)          (None, 15, 15, 128)       147584    \n",
      "                                                                 \n",
      " Pooling_04 (MaxPooling2D)   (None, 7, 7, 128)         0         \n",
      "                                                                 \n",
      " Flatten (Flatten)           (None, 6272)              0         \n",
      "                                                                 \n",
      " Dense_01 (Dense)            (None, 512)               3211776   \n",
      "                                                                 \n",
      " output (Dense)              (None, 3)                 1539      \n",
      "                                                                 \n",
      "=================================================================\n",
      "Total params: 3,454,147\n",
      "Trainable params: 3,454,147\n",
      "Non-trainable params: 0\n",
      "_________________________________________________________________\n"
     ]
    }
   ],
   "source": [
    "## Model instance\n",
    "model = get_model()\n",
    "\n",
    "model.summary()"
   ]
  },
  {
   "cell_type": "code",
   "execution_count": 19,
   "metadata": {
    "colab": {
     "base_uri": "https://localhost:8080/"
    },
    "executionInfo": {
     "elapsed": 350434,
     "status": "ok",
     "timestamp": 1640442490682,
     "user": {
      "displayName": "Anthony Cho",
      "photoUrl": "https://lh3.googleusercontent.com/a/default-user=s64",
      "userId": "04569494085624422303"
     },
     "user_tz": 180
    },
    "id": "1UGjFk2C4D2B",
    "outputId": "adf825aa-291a-45ad-db47-2aeb0bb815ac"
   },
   "outputs": [
    {
     "name": "stdout",
     "output_type": "stream",
     "text": [
      "Epoch 1/31\n",
      "12/12 [==============================] - 11s 850ms/step - loss: 1.0811 - acc: 0.4071\n",
      "Epoch 2/31\n",
      "12/12 [==============================] - 10s 849ms/step - loss: 1.0220 - acc: 0.4690\n",
      "Epoch 3/31\n",
      "12/12 [==============================] - 10s 837ms/step - loss: 0.9466 - acc: 0.5885\n",
      "Epoch 4/31\n",
      "12/12 [==============================] - 10s 851ms/step - loss: 0.8328 - acc: 0.6726\n",
      "Epoch 5/31\n",
      "12/12 [==============================] - 19s 2s/step - loss: 0.8258 - acc: 0.6504\n",
      "Epoch 6/31\n",
      "12/12 [==============================] - 10s 817ms/step - loss: 0.7711 - acc: 0.6327\n",
      "Epoch 7/31\n",
      "12/12 [==============================] - 15s 1s/step - loss: 0.7938 - acc: 0.6150\n",
      "Epoch 8/31\n",
      "12/12 [==============================] - 11s 867ms/step - loss: 0.6541 - acc: 0.7301\n",
      "Epoch 9/31\n",
      "12/12 [==============================] - 12s 954ms/step - loss: 0.6089 - acc: 0.7611\n",
      "Epoch 10/31\n",
      "12/12 [==============================] - 10s 845ms/step - loss: 0.6381 - acc: 0.7434\n",
      "Epoch 11/31\n",
      "12/12 [==============================] - 17s 1s/step - loss: 0.7594 - acc: 0.6195\n",
      "Epoch 12/31\n",
      "12/12 [==============================] - 10s 823ms/step - loss: 0.6988 - acc: 0.7080\n",
      "Epoch 13/31\n",
      "12/12 [==============================] - 10s 810ms/step - loss: 0.5972 - acc: 0.7168\n",
      "Epoch 14/31\n",
      "12/12 [==============================] - 10s 797ms/step - loss: 0.5572 - acc: 0.7965\n",
      "Epoch 15/31\n",
      "12/12 [==============================] - 10s 820ms/step - loss: 0.5343 - acc: 0.7876\n",
      "Epoch 16/31\n",
      "12/12 [==============================] - 10s 817ms/step - loss: 0.5361 - acc: 0.7788\n",
      "Epoch 17/31\n",
      "12/12 [==============================] - 10s 778ms/step - loss: 0.5137 - acc: 0.7965\n",
      "Epoch 18/31\n",
      "12/12 [==============================] - 10s 800ms/step - loss: 0.5437 - acc: 0.7655\n",
      "Epoch 19/31\n",
      "12/12 [==============================] - 10s 820ms/step - loss: 0.4794 - acc: 0.8274\n",
      "Epoch 20/31\n",
      "12/12 [==============================] - 10s 867ms/step - loss: 0.5105 - acc: 0.8186\n",
      "Epoch 21/31\n",
      "12/12 [==============================] - 10s 871ms/step - loss: 0.4562 - acc: 0.8540\n",
      "Epoch 22/31\n",
      "12/12 [==============================] - 10s 863ms/step - loss: 0.4885 - acc: 0.8053\n",
      "Epoch 23/31\n",
      "12/12 [==============================] - 10s 805ms/step - loss: 0.4006 - acc: 0.8584\n",
      "Epoch 24/31\n",
      "12/12 [==============================] - 10s 789ms/step - loss: 0.5374 - acc: 0.7611\n",
      "Epoch 25/31\n",
      "12/12 [==============================] - 10s 790ms/step - loss: 0.5133 - acc: 0.7832\n",
      "Epoch 26/31\n",
      "12/12 [==============================] - 10s 782ms/step - loss: 0.5554 - acc: 0.7743\n",
      "Epoch 27/31\n",
      "12/12 [==============================] - 10s 813ms/step - loss: 0.4856 - acc: 0.8230\n",
      "Epoch 28/31\n",
      "12/12 [==============================] - 10s 817ms/step - loss: 0.4953 - acc: 0.7920\n",
      "Epoch 29/31\n",
      "12/12 [==============================] - 10s 808ms/step - loss: 0.4133 - acc: 0.8363\n",
      "Epoch 30/31\n",
      "12/12 [==============================] - 10s 823ms/step - loss: 0.4245 - acc: 0.8451\n",
      "Epoch 31/31\n",
      "12/12 [==============================] - 10s 840ms/step - loss: 0.5278 - acc: 0.8097\n",
      "\n",
      "Time spent[s]: 350.08\n"
     ]
    }
   ],
   "source": [
    "start = time()\n",
    "\n",
    "## Compiler setting\n",
    "model.compile(loss='categorical_crossentropy',\n",
    "              optimizer=Adam(learning_rate=1e-4),\n",
    "              metrics=['acc'])\n",
    "\n",
    "## Model fitting\n",
    "history = model.fit(\n",
    "      train_generator, \n",
    "      #steps_per_epoch=115,  ## <- 226 images / batch size of 20 approx 13\n",
    "      epochs=31, verbose=1)\n",
    "\n",
    "timeUp = time()-start\n",
    "print('\\nTime spent[s]: {:.2f}'.format(timeUp))\n",
    "\n",
    "model.save('CNN_Covid19.h5')"
   ]
  },
  {
   "cell_type": "code",
   "execution_count": 20,
   "metadata": {
    "colab": {
     "base_uri": "https://localhost:8080/"
    },
    "executionInfo": {
     "elapsed": 4183,
     "status": "ok",
     "timestamp": 1640442530574,
     "user": {
      "displayName": "Anthony Cho",
      "photoUrl": "https://lh3.googleusercontent.com/a/default-user=s64",
      "userId": "04569494085624422303"
     },
     "user_tz": 180
    },
    "id": "HQ-vgT6F4D4x",
    "outputId": "095cc019-7a29-420b-c74e-972aa4c3d7a9"
   },
   "outputs": [
    {
     "name": "stdout",
     "output_type": "stream",
     "text": [
      "4/4 [==============================] - 2s 438ms/step - loss: 0.3500 - acc: 0.8788\n",
      "[0.35002267360687256, 0.8787878751754761]\n"
     ]
    }
   ],
   "source": [
    "## restart test generator index\n",
    "test_generator.reset()\n",
    "\n",
    "## evaluate test set in the model\n",
    "print(model.evaluate(test_generator, \n",
    "                     #steps=3\n",
    "                     ))  ## <- 66 images / batch size of 20 equal 3\n",
    "\n",
    "## restart test generator index\n",
    "test_generator.reset()\n",
    "\n",
    "## Compute prediction using test generator\n",
    "prediction = model.predict(test_generator)"
   ]
  },
  {
   "cell_type": "code",
   "execution_count": 21,
   "metadata": {
    "executionInfo": {
     "elapsed": 407,
     "status": "ok",
     "timestamp": 1640442533126,
     "user": {
      "displayName": "Anthony Cho",
      "photoUrl": "https://lh3.googleusercontent.com/a/default-user=s64",
      "userId": "04569494085624422303"
     },
     "user_tz": 180
    },
    "id": "cz-6zAuQU3Wm"
   },
   "outputs": [],
   "source": [
    "prediction_decoded = argmax(prediction, axis=1)\n",
    "y_true = test_generator.labels"
   ]
  },
  {
   "cell_type": "code",
   "execution_count": 22,
   "metadata": {
    "colab": {
     "base_uri": "https://localhost:8080/"
    },
    "executionInfo": {
     "elapsed": 370,
     "status": "ok",
     "timestamp": 1640442535066,
     "user": {
      "displayName": "Anthony Cho",
      "photoUrl": "https://lh3.googleusercontent.com/a/default-user=s64",
      "userId": "04569494085624422303"
     },
     "user_tz": 180
    },
    "id": "C6E9up0l4_SG",
    "outputId": "4cf42c13-c19b-4e76-cdde-6899cf7b4b39"
   },
   "outputs": [
    {
     "name": "stdout",
     "output_type": "stream",
     "text": [
      "[[25  0  1]\n",
      " [ 0 20  0]\n",
      " [ 0  7 13]]\n",
      "              precision    recall  f1-score   support\n",
      "\n",
      "           0       1.00      0.96      0.98        26\n",
      "           1       0.74      1.00      0.85        20\n",
      "           2       0.93      0.65      0.76        20\n",
      "\n",
      "    accuracy                           0.88        66\n",
      "   macro avg       0.89      0.87      0.87        66\n",
      "weighted avg       0.90      0.88      0.88        66\n",
      "\n"
     ]
    }
   ],
   "source": [
    "## display confusion matrix\n",
    "print(confusion_matrix(y_true=y_true, y_pred=prediction_decoded))\n",
    "\n",
    "## display classification report\n",
    "print(classification_report(y_true=y_true, y_pred=prediction_decoded))"
   ]
  }
 ],
 "metadata": {
  "accelerator": "GPU",
  "colab": {
   "collapsed_sections": [],
   "name": "Classification (CNN, data augmentation - keras, tensorflow) - Covid19.ipynb",
   "provenance": []
  },
  "kernelspec": {
   "display_name": "Python 3",
   "language": "python",
   "name": "python3"
  },
  "language_info": {
   "codemirror_mode": {
    "name": "ipython",
    "version": 3
   },
   "file_extension": ".py",
   "mimetype": "text/x-python",
   "name": "python",
   "nbconvert_exporter": "python",
   "pygments_lexer": "ipython3",
   "version": "3.8.10"
  }
 },
 "nbformat": 4,
 "nbformat_minor": 1
}
