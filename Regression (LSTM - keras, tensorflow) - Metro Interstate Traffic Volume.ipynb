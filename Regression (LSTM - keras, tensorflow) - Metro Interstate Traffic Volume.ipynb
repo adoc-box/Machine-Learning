{
 "cells": [
  {
   "cell_type": "markdown",
   "metadata": {
    "id": "LqxhguurbGvj"
   },
   "source": [
    "### Created by: Anthony D. Cho\n",
    "### Last update: 13.11.2021\n",
    "\n",
    "**Subject**: Regression (LSTM - keras, tensorflow) - Metro Interstate Traffic Volume"
   ]
  },
  {
   "cell_type": "markdown",
   "metadata": {
    "id": "9AsPmz6RbGvs"
   },
   "source": [
    "## Libraries dependencies"
   ]
  },
  {
   "cell_type": "code",
   "execution_count": 1,
   "metadata": {
    "colab": {
     "base_uri": "https://localhost:8080/"
    },
    "executionInfo": {
     "elapsed": 2507,
     "status": "ok",
     "timestamp": 1636850496416,
     "user": {
      "displayName": "Anthony Cho",
      "photoUrl": "https://lh3.googleusercontent.com/a/default-user=s64",
      "userId": "04569494085624422303"
     },
     "user_tz": 180
    },
    "id": "EdA8zux9bGvt",
    "outputId": "38b1981d-395d-45f1-8af4-b0f621ff75ee"
   },
   "outputs": [],
   "source": [
    "from time import time\n",
    "from pandas import set_option, read_csv\n",
    "set_option('mode.chained_assignment',None)\n",
    "import matplotlib.pyplot as plt\n",
    "%matplotlib inline\n",
    "\n",
    "from numpy import zeros, round, argmin, append\n",
    "\n",
    "## Pre-processing functions\n",
    "from sklearn.preprocessing import StandardScaler\n",
    "from sklearn.model_selection import train_test_split\n",
    "\n",
    "## Imbalance-data functions\n",
    "from imblearn.under_sampling import RandomUnderSampler\n",
    "from imblearn.over_sampling import SMOTENC\n",
    "\n",
    "## tensorflow-Keras \n",
    "from tensorflow.keras.models import Sequential\n",
    "from tensorflow.keras import layers\n",
    "from tensorflow.keras.regularizers import l2\n",
    "from tensorflow.keras.optimizers import Adam"
   ]
  },
  {
   "cell_type": "markdown",
   "metadata": {
    "id": "USaxnJvabGvz"
   },
   "source": [
    "## Customized functions"
   ]
  },
  {
   "cell_type": "code",
   "execution_count": 2,
   "metadata": {
    "executionInfo": {
     "elapsed": 231,
     "status": "ok",
     "timestamp": 1636850499256,
     "user": {
      "displayName": "Anthony Cho",
      "photoUrl": "https://lh3.googleusercontent.com/a/default-user=s64",
      "userId": "04569494085624422303"
     },
     "user_tz": 180
    },
    "id": "UK0yVbttbGv1"
   },
   "outputs": [],
   "source": [
    "def plot_history(history, width=12, height=6):\n",
    "  \"\"\"\n",
    "  DESCRIPTION:\n",
    "    History performance of the keras model\n",
    "  \n",
    "  INPUT:\n",
    "    @param history: history of performance of fitted model\n",
    "    @type history: tensorflow.python.keras.callbacks.History\n",
    "\n",
    "    @param width: width of the graphic display\n",
    "    @type width: int\n",
    "\n",
    "    @param height: height of the graphic display\n",
    "    @type height: int\n",
    "\n",
    "  OUTPUT:\n",
    "    A graphic\n",
    "  \"\"\"\n",
    "\n",
    "  ## Metrics keys stored in tensorflow object\n",
    "  keys = list(history.history.keys())\n",
    "\n",
    "  ## Number of epoch used for fit the model\n",
    "  epoch = range(1, len(history.epoch) +1)\n",
    "\n",
    "  ## Check if validation set was used.\n",
    "  withValidation = False\n",
    "  for key in keys:\n",
    "    if 'val' in key:\n",
    "      withValidation = True\n",
    "\n",
    "  ## Number of metrics \n",
    "  nMetrics = len(keys)\n",
    "  if withValidation:\n",
    "    nMetrics = nMetrics//2\n",
    "\n",
    "  ## Plot-space instance\n",
    "  plt.figure(figsize=(width, height))\n",
    "\n",
    "  for i in range(nMetrics):\n",
    "    plt.subplot(nMetrics, 1, i+1)\n",
    "\n",
    "    ## Plot (train) metric value\n",
    "    labelMetric = keys[i]\n",
    "    metric = history.history[keys[i]]\n",
    "    plt.plot(epoch, metric, 'o-', label=labelMetric)\n",
    "\n",
    "    if withValidation:\n",
    "      ## Plot (validation) metric value\n",
    "      labelMetricVal = keys[i+nMetrics]\n",
    "      metricVal = history.history[keys[i+nMetrics]]\n",
    "      plt.plot(epoch, metricVal, 'o-', label=labelMetricVal)\n",
    "\n",
    "    plt.xlim(epoch[0], epoch[-1])\n",
    "    plt.legend()\n",
    "    plt.grid()\n",
    "\n",
    "  plt.xlabel('Epoch')\n",
    "  plt.show()"
   ]
  },
  {
   "cell_type": "markdown",
   "metadata": {
    "id": "tpSUApXQbGv4"
   },
   "source": [
    "# Problem: Metro Interstate Traffic Volume\n",
    "\n",
    "**Target**: traffic_volume"
   ]
  },
  {
   "cell_type": "markdown",
   "metadata": {
    "id": "dm9C3PZrbGv5"
   },
   "source": [
    "## Data loading\n",
    "Source: [Metro Interstate Traffic Volume](https://archive.ics.uci.edu/ml/datasets/Metro+Interstate+Traffic+Volume#) (UCI Repository)"
   ]
  },
  {
   "cell_type": "code",
   "execution_count": 3,
   "metadata": {
    "colab": {
     "base_uri": "https://localhost:8080/"
    },
    "executionInfo": {
     "elapsed": 581,
     "status": "ok",
     "timestamp": 1636850510136,
     "user": {
      "displayName": "Anthony Cho",
      "photoUrl": "https://lh3.googleusercontent.com/a/default-user=s64",
      "userId": "04569494085624422303"
     },
     "user_tz": 180
    },
    "id": "fJrTj1z0bGv6",
    "outputId": "eabb22d0-38ee-40ea-f2b3-9f4cd7561284"
   },
   "outputs": [
    {
     "name": "stdout",
     "output_type": "stream",
     "text": [
      "--2021-12-03 19:33:59--  https://archive.ics.uci.edu/ml/machine-learning-databases/00492/Metro_Interstate_Traffic_Volume.csv.gz\n",
      "Resolviendo archive.ics.uci.edu (archive.ics.uci.edu)... 128.195.10.252\n",
      "Conectando con archive.ics.uci.edu (archive.ics.uci.edu)[128.195.10.252]:443... conectado.\n",
      "Petición HTTP enviada, esperando respuesta... 200 OK\n",
      "Longitud: 405373 (396K) [application/x-httpd-php]\n",
      "Guardando como: “Metro_Interstate_Traffic_Volume.csv.gz”\n",
      "\n",
      "Metro_Interstate_Tr 100%[===================>] 395,87K   562KB/s    en 0,7s    \n",
      "\n",
      "2021-12-03 19:34:01 (562 KB/s) - “Metro_Interstate_Traffic_Volume.csv.gz” guardado [405373/405373]\n",
      "\n"
     ]
    }
   ],
   "source": [
    "## Download and uncompress .gz file\n",
    "!wget https://archive.ics.uci.edu/ml/machine-learning-databases/00492/Metro_Interstate_Traffic_Volume.csv.gz\n",
    "!gzip -d Metro_Interstate_Traffic_Volume.csv.gz"
   ]
  },
  {
   "cell_type": "code",
   "execution_count": 4,
   "metadata": {
    "colab": {
     "base_uri": "https://localhost:8080/",
     "height": 259
    },
    "executionInfo": {
     "elapsed": 247,
     "status": "ok",
     "timestamp": 1636850514213,
     "user": {
      "displayName": "Anthony Cho",
      "photoUrl": "https://lh3.googleusercontent.com/a/default-user=s64",
      "userId": "04569494085624422303"
     },
     "user_tz": 180
    },
    "id": "yIz54jwSbGv7",
    "outputId": "3c266729-24da-4b37-b2d9-db7724c5d544"
   },
   "outputs": [
    {
     "name": "stdout",
     "output_type": "stream",
     "text": [
      "Number of samples: 48204\n",
      "From: 2012-10-02 09:00:00 To: 2018-09-30 23:00:00\n",
      "\n"
     ]
    },
    {
     "data": {
      "text/html": [
       "<div>\n",
       "<style scoped>\n",
       "    .dataframe tbody tr th:only-of-type {\n",
       "        vertical-align: middle;\n",
       "    }\n",
       "\n",
       "    .dataframe tbody tr th {\n",
       "        vertical-align: top;\n",
       "    }\n",
       "\n",
       "    .dataframe thead th {\n",
       "        text-align: right;\n",
       "    }\n",
       "</style>\n",
       "<table border=\"1\" class=\"dataframe\">\n",
       "  <thead>\n",
       "    <tr style=\"text-align: right;\">\n",
       "      <th></th>\n",
       "      <th>holiday</th>\n",
       "      <th>temp</th>\n",
       "      <th>rain_1h</th>\n",
       "      <th>snow_1h</th>\n",
       "      <th>clouds_all</th>\n",
       "      <th>weather_main</th>\n",
       "      <th>weather_description</th>\n",
       "      <th>date_time</th>\n",
       "      <th>traffic_volume</th>\n",
       "    </tr>\n",
       "  </thead>\n",
       "  <tbody>\n",
       "    <tr>\n",
       "      <th>0</th>\n",
       "      <td>None</td>\n",
       "      <td>288.28</td>\n",
       "      <td>0.0</td>\n",
       "      <td>0.0</td>\n",
       "      <td>40</td>\n",
       "      <td>Clouds</td>\n",
       "      <td>scattered clouds</td>\n",
       "      <td>2012-10-02 09:00:00</td>\n",
       "      <td>5545</td>\n",
       "    </tr>\n",
       "    <tr>\n",
       "      <th>1</th>\n",
       "      <td>None</td>\n",
       "      <td>289.36</td>\n",
       "      <td>0.0</td>\n",
       "      <td>0.0</td>\n",
       "      <td>75</td>\n",
       "      <td>Clouds</td>\n",
       "      <td>broken clouds</td>\n",
       "      <td>2012-10-02 10:00:00</td>\n",
       "      <td>4516</td>\n",
       "    </tr>\n",
       "    <tr>\n",
       "      <th>2</th>\n",
       "      <td>None</td>\n",
       "      <td>289.58</td>\n",
       "      <td>0.0</td>\n",
       "      <td>0.0</td>\n",
       "      <td>90</td>\n",
       "      <td>Clouds</td>\n",
       "      <td>overcast clouds</td>\n",
       "      <td>2012-10-02 11:00:00</td>\n",
       "      <td>4767</td>\n",
       "    </tr>\n",
       "    <tr>\n",
       "      <th>3</th>\n",
       "      <td>None</td>\n",
       "      <td>290.13</td>\n",
       "      <td>0.0</td>\n",
       "      <td>0.0</td>\n",
       "      <td>90</td>\n",
       "      <td>Clouds</td>\n",
       "      <td>overcast clouds</td>\n",
       "      <td>2012-10-02 12:00:00</td>\n",
       "      <td>5026</td>\n",
       "    </tr>\n",
       "    <tr>\n",
       "      <th>4</th>\n",
       "      <td>None</td>\n",
       "      <td>291.14</td>\n",
       "      <td>0.0</td>\n",
       "      <td>0.0</td>\n",
       "      <td>75</td>\n",
       "      <td>Clouds</td>\n",
       "      <td>broken clouds</td>\n",
       "      <td>2012-10-02 13:00:00</td>\n",
       "      <td>4918</td>\n",
       "    </tr>\n",
       "  </tbody>\n",
       "</table>\n",
       "</div>"
      ],
      "text/plain": [
       "  holiday    temp  rain_1h  snow_1h  clouds_all weather_main  \\\n",
       "0    None  288.28      0.0      0.0          40       Clouds   \n",
       "1    None  289.36      0.0      0.0          75       Clouds   \n",
       "2    None  289.58      0.0      0.0          90       Clouds   \n",
       "3    None  290.13      0.0      0.0          90       Clouds   \n",
       "4    None  291.14      0.0      0.0          75       Clouds   \n",
       "\n",
       "  weather_description           date_time  traffic_volume  \n",
       "0    scattered clouds 2012-10-02 09:00:00            5545  \n",
       "1       broken clouds 2012-10-02 10:00:00            4516  \n",
       "2     overcast clouds 2012-10-02 11:00:00            4767  \n",
       "3     overcast clouds 2012-10-02 12:00:00            5026  \n",
       "4       broken clouds 2012-10-02 13:00:00            4918  "
      ]
     },
     "execution_count": 4,
     "metadata": {},
     "output_type": "execute_result"
    }
   ],
   "source": [
    "## Loading data\n",
    "data = read_csv('Metro_Interstate_Traffic_Volume.csv', parse_dates=['date_time'])\n",
    "N = len(data)\n",
    "\n",
    "## display number of samples\n",
    "print('Number of samples:', N)\n",
    "\n",
    "## display datetime interval of the data\n",
    "print('From: {} To: {}\\n'.format(data['date_time'].iloc[0], \n",
    "                               data['date_time'].iloc[-1]))\n",
    "\n",
    "## Display first five records of the data\n",
    "data.head()"
   ]
  },
  {
   "cell_type": "markdown",
   "metadata": {
    "id": "4_zwtYWqbGv8"
   },
   "source": [
    "### Pre-processing"
   ]
  },
  {
   "cell_type": "code",
   "execution_count": 5,
   "metadata": {
    "colab": {
     "base_uri": "https://localhost:8080/"
    },
    "executionInfo": {
     "elapsed": 271,
     "status": "ok",
     "timestamp": 1636850519157,
     "user": {
      "displayName": "Anthony Cho",
      "photoUrl": "https://lh3.googleusercontent.com/a/default-user=s64",
      "userId": "04569494085624422303"
     },
     "user_tz": 180
    },
    "id": "fAWyIwKfbGv9",
    "outputId": "b74a9b7b-3656-4ea0-82f7-02c0774543f9"
   },
   "outputs": [
    {
     "name": "stdout",
     "output_type": "stream",
     "text": [
      "Number of samples for: train 33743, validation 4820, test 9617\n",
      "Creating partition...\n",
      "Scaling data...\n",
      "Splitting data...\n",
      "Converting to RNN tensor format...\n",
      "(train shape) X: (33743, 24, 4), y: (33743, 1)\n",
      "(val shape) X: (4820, 24, 4), y: (4820, 1)\n",
      "(test shape) X: (9617, 24, 4), y: (9617, 1)\n",
      "Time spent[s]: 0.25\n"
     ]
    }
   ],
   "source": [
    "start = time()\n",
    "\n",
    "## Features selection\n",
    "data.drop(columns=['holiday', 'weather_main', 'weather_description', 'date_time'], inplace=True)\n",
    "\n",
    "## Number of lookback samples to consider in timesteps\n",
    "lookback = 23\n",
    "\n",
    "## Number of samples for every partition: train, validation, and test\n",
    "n_train, n_val = round(0.7*N).astype(int), round(0.1*N).astype(int)\n",
    "n_test = N -n_train -n_val -lookback\n",
    "print(f'Number of samples for: train {n_train}, validation {n_val}, test {n_test-1}')\n",
    "\n",
    "## Creating partition sets\n",
    "print('Creating partition...')\n",
    "train_data = data.iloc[ :(n_train +lookback +1) ]\n",
    "val_data = data.iloc[n_train:(n_train +n_val +lookback +1)]\n",
    "test_data = data.iloc[(n_train +n_val):]\n",
    "\n",
    "## Data scaling (Highlight: this will convert dataframe -> numpy.ndarray)\n",
    "print('Scaling data...')\n",
    "scale = StandardScaler().fit(train_data)\n",
    "train_data = scale.transform(train_data)\n",
    "val_data = scale.transform(val_data)\n",
    "test_data = scale.transform(test_data)\n",
    "\n",
    "## Split data: predictors and target\n",
    "print('Splitting data...')\n",
    "X_train, y_train = train_data[:-1, :-1], train_data[(lookback +1):, -1]\n",
    "X_val, y_val = val_data[:-1, :-1], val_data[(lookback +1):, -1]\n",
    "X_test, y_test = test_data[:-1, :-1], test_data[(lookback +1):, -1]\n",
    "\n",
    "## Convert to RNN accepatble format (sample, timesteps, features)\n",
    "print('Converting to RNN tensor format...')\n",
    "X_train2 = zeros((n_train, lookback+1, X_train.shape[1]))\n",
    "X_val2 = zeros((n_val, lookback+1, X_val.shape[1]))\n",
    "X_test2 = zeros((n_test-1, lookback+1, X_test.shape[1]))\n",
    "\n",
    "h = lookback +1\n",
    "for i in range(n_train):\n",
    "    X_train2[i] = X_train[i:(i +h)]\n",
    "y_train = y_train.reshape(-1, 1)\n",
    "\n",
    "for i in range(n_val):\n",
    "    X_val2[i] = X_val[i:(i +h)]\n",
    "y_val = y_val.reshape(-1, 1)\n",
    "\n",
    "for i in range(n_test-1):\n",
    "    X_test2[i] = X_test[i:(i +h)]\n",
    "y_test = y_test.reshape(-1, 1)\n",
    "\n",
    "## Display data shape\n",
    "print('(train shape) X: {}, y: {}'.format(X_train2.shape, y_train.shape))\n",
    "print('(val shape) X: {}, y: {}'.format(X_val2.shape, y_val.shape))\n",
    "print('(test shape) X: {}, y: {}'.format(X_test2.shape, y_test.shape))\n",
    "\n",
    "print('Time spent[s]: {:.2f}'.format(time()-start))"
   ]
  },
  {
   "cell_type": "markdown",
   "metadata": {
    "id": "EZiUj93ZbGv-"
   },
   "source": [
    "## Model building"
   ]
  },
  {
   "cell_type": "code",
   "execution_count": 6,
   "metadata": {
    "colab": {
     "base_uri": "https://localhost:8080/"
    },
    "executionInfo": {
     "elapsed": 6636,
     "status": "ok",
     "timestamp": 1636826024166,
     "user": {
      "displayName": "Anthony Cho",
      "photoUrl": "https://lh3.googleusercontent.com/a/default-user=s64",
      "userId": "04569494085624422303"
     },
     "user_tz": 180
    },
    "id": "Ey3GwUbUbGv_",
    "outputId": "23c2fb69-43d2-4484-fceb-5b3fe973dd23"
   },
   "outputs": [
    {
     "name": "stdout",
     "output_type": "stream",
     "text": [
      "Model: \"Traffic_volume\"\n",
      "_________________________________________________________________\n",
      "Layer (type)                 Output Shape              Param #   \n",
      "=================================================================\n",
      "LSTM_01 (LSTM)               (None, 24, 50)            11000     \n",
      "_________________________________________________________________\n",
      "LSTM_02 (LSTM)               (None, 75)                37800     \n",
      "_________________________________________________________________\n",
      "Output (Dense)               (None, 1)                 76        \n",
      "=================================================================\n",
      "Total params: 48,876\n",
      "Trainable params: 48,876\n",
      "Non-trainable params: 0\n",
      "_________________________________________________________________\n"
     ]
    }
   ],
   "source": [
    "## Model instance\n",
    "model = Sequential(name='Traffic_volume')\n",
    "model.add(layers.LSTM(units=50, input_shape=X_train2.shape[1:],\n",
    "                      kernel_regularizer=l2(0.0001),\n",
    "                      return_sequences = True,\n",
    "                      name='LSTM_01'))\n",
    "model.add(layers.LSTM(units=75,\n",
    "                      kernel_regularizer=l2(0.0001), name='LSTM_02'))\n",
    "model.add(layers.Dense(units=1,\n",
    "                       name='Output'))\n",
    "\n",
    "## Compiler settings\n",
    "model.compile(optimizer=Adam(learning_rate=0.0001), \n",
    "              loss='mae', \n",
    "              metrics=['mse'])\n",
    "\n",
    "## Display model\n",
    "model.summary()"
   ]
  },
  {
   "cell_type": "code",
   "execution_count": 7,
   "metadata": {
    "colab": {
     "base_uri": "https://localhost:8080/"
    },
    "executionInfo": {
     "elapsed": 626473,
     "status": "ok",
     "timestamp": 1636826654519,
     "user": {
      "displayName": "Anthony Cho",
      "photoUrl": "https://lh3.googleusercontent.com/a/default-user=s64",
      "userId": "04569494085624422303"
     },
     "user_tz": 180
    },
    "id": "oUsjRrRKbGwA",
    "outputId": "5a2f5f19-39c5-49ee-c043-c2a40a48caf7"
   },
   "outputs": [
    {
     "name": "stdout",
     "output_type": "stream",
     "text": [
      "Epoch 1/30\n",
      "1125/1125 [==============================] - 69s 58ms/step - loss: 0.8829 - mse: 1.0006 - val_loss: 0.7127 - val_mse: 0.7223\n",
      "Epoch 2/30\n",
      "1125/1125 [==============================] - 58s 51ms/step - loss: 0.8099 - mse: 0.9001 - val_loss: 0.6508 - val_mse: 0.6694\n",
      "Epoch 3/30\n",
      "1125/1125 [==============================] - 58s 51ms/step - loss: 0.7849 - mse: 0.8668 - val_loss: 0.6298 - val_mse: 0.6418\n",
      "Epoch 4/30\n",
      "1125/1125 [==============================] - 58s 51ms/step - loss: 0.7652 - mse: 0.8460 - val_loss: 0.6211 - val_mse: 0.6354\n",
      "Epoch 5/30\n",
      "1125/1125 [==============================] - 58s 52ms/step - loss: 0.7470 - mse: 0.8289 - val_loss: 0.6128 - val_mse: 0.6288\n",
      "Epoch 6/30\n",
      "1125/1125 [==============================] - 58s 52ms/step - loss: 0.7323 - mse: 0.8128 - val_loss: 0.6103 - val_mse: 0.6335\n",
      "Epoch 7/30\n",
      "1125/1125 [==============================] - 59s 53ms/step - loss: 0.7210 - mse: 0.7974 - val_loss: 0.6074 - val_mse: 0.6304\n",
      "Epoch 8/30\n",
      "1125/1125 [==============================] - 59s 52ms/step - loss: 0.7115 - mse: 0.7836 - val_loss: 0.5983 - val_mse: 0.6137\n",
      "Epoch 9/30\n",
      "1125/1125 [==============================] - 58s 52ms/step - loss: 0.7024 - mse: 0.7718 - val_loss: 0.5924 - val_mse: 0.6040\n",
      "Epoch 10/30\n",
      "1125/1125 [==============================] - 58s 51ms/step - loss: 0.6944 - mse: 0.7625 - val_loss: 0.5828 - val_mse: 0.5876\n",
      "Epoch 11/30\n",
      "1125/1125 [==============================] - 59s 52ms/step - loss: 0.6880 - mse: 0.7561 - val_loss: 0.5735 - val_mse: 0.5713\n",
      "Epoch 12/30\n",
      "1125/1125 [==============================] - 57s 50ms/step - loss: 0.6822 - mse: 0.7503 - val_loss: 0.5651 - val_mse: 0.5586\n",
      "Epoch 13/30\n",
      "1125/1125 [==============================] - 58s 52ms/step - loss: 0.6779 - mse: 0.7467 - val_loss: 0.5599 - val_mse: 0.5521\n",
      "Epoch 14/30\n",
      "1125/1125 [==============================] - 58s 52ms/step - loss: 0.6748 - mse: 0.7444 - val_loss: 0.5540 - val_mse: 0.5426\n",
      "Epoch 15/30\n",
      "1125/1125 [==============================] - 57s 51ms/step - loss: 0.6712 - mse: 0.7410 - val_loss: 0.5502 - val_mse: 0.5347\n",
      "Epoch 16/30\n",
      "1125/1125 [==============================] - 57s 51ms/step - loss: 0.6685 - mse: 0.7378 - val_loss: 0.5474 - val_mse: 0.5303\n",
      "Epoch 17/30\n",
      "1125/1125 [==============================] - 60s 53ms/step - loss: 0.6658 - mse: 0.7343 - val_loss: 0.5454 - val_mse: 0.5271\n",
      "Epoch 18/30\n",
      "1125/1125 [==============================] - 60s 53ms/step - loss: 0.6639 - mse: 0.7329 - val_loss: 0.5434 - val_mse: 0.5251\n",
      "Epoch 19/30\n",
      "1125/1125 [==============================] - 59s 53ms/step - loss: 0.6619 - mse: 0.7307 - val_loss: 0.5423 - val_mse: 0.5253\n",
      "Epoch 20/30\n",
      "1125/1125 [==============================] - 60s 53ms/step - loss: 0.6602 - mse: 0.7291 - val_loss: 0.5405 - val_mse: 0.5235\n",
      "Epoch 21/30\n",
      "1125/1125 [==============================] - 59s 52ms/step - loss: 0.6581 - mse: 0.7271 - val_loss: 0.5389 - val_mse: 0.5220\n",
      "Epoch 22/30\n",
      "1125/1125 [==============================] - 59s 52ms/step - loss: 0.6566 - mse: 0.7257 - val_loss: 0.5380 - val_mse: 0.5219\n",
      "Epoch 23/30\n",
      "1125/1125 [==============================] - 58s 52ms/step - loss: 0.6550 - mse: 0.7244 - val_loss: 0.5380 - val_mse: 0.5248\n",
      "Epoch 24/30\n",
      "1125/1125 [==============================] - 58s 52ms/step - loss: 0.6538 - mse: 0.7234 - val_loss: 0.5375 - val_mse: 0.5253\n",
      "Epoch 25/30\n",
      "1125/1125 [==============================] - 59s 53ms/step - loss: 0.6521 - mse: 0.7212 - val_loss: 0.5375 - val_mse: 0.5278\n",
      "Epoch 26/30\n",
      "1125/1125 [==============================] - 59s 52ms/step - loss: 0.6503 - mse: 0.7195 - val_loss: 0.5367 - val_mse: 0.5283\n",
      "Epoch 27/30\n",
      "1125/1125 [==============================] - 59s 52ms/step - loss: 0.6486 - mse: 0.7185 - val_loss: 0.5373 - val_mse: 0.5310\n",
      "Epoch 28/30\n",
      "1125/1125 [==============================] - 59s 52ms/step - loss: 0.6470 - mse: 0.7170 - val_loss: 0.5358 - val_mse: 0.5296\n",
      "Epoch 29/30\n",
      "1125/1125 [==============================] - 59s 52ms/step - loss: 0.6451 - mse: 0.7152 - val_loss: 0.5345 - val_mse: 0.5278\n",
      "Epoch 30/30\n",
      "1125/1125 [==============================] - 60s 53ms/step - loss: 0.6439 - mse: 0.7144 - val_loss: 0.5351 - val_mse: 0.5309\n",
      "\n",
      "Time spent[s]:  1765.4145033359528\n"
     ]
    }
   ],
   "source": [
    "## Fit model\n",
    "start = time()\n",
    "history = model.fit(x=X_train2, y=y_train, \n",
    "                    validation_data=(X_val2, y_val),\n",
    "                    epochs=30, \n",
    "                    batch_size=30,\n",
    "                    shuffle=False)\n",
    "print('\\nTime spent[s]: ', time()-start)"
   ]
  },
  {
   "cell_type": "markdown",
   "metadata": {
    "id": "bkGQHqE6bGwB"
   },
   "source": [
    "## Model performances display"
   ]
  },
  {
   "cell_type": "code",
   "execution_count": 8,
   "metadata": {
    "colab": {
     "base_uri": "https://localhost:8080/",
     "height": 424
    },
    "executionInfo": {
     "elapsed": 2788,
     "status": "ok",
     "timestamp": 1636826860357,
     "user": {
      "displayName": "Anthony Cho",
      "photoUrl": "https://lh3.googleusercontent.com/a/default-user=s64",
      "userId": "04569494085624422303"
     },
     "user_tz": 180
    },
    "id": "hjShdywsbGwB",
    "outputId": "94a01a81-d5fe-4db5-e85c-51e9594715ed"
   },
   "outputs": [
    {
     "data": {
      "image/png": "[encoded data removed]",
      "text/plain": [
       "<Figure size 1008x432 with 2 Axes>"
      ]
     },
     "metadata": {
      "needs_background": "light"
     },
     "output_type": "display_data"
    },
    {
     "name": "stdout",
     "output_type": "stream",
     "text": [
      "301/301 [==============================] - 7s 22ms/step - loss: 0.5913 - mse: 0.6151\n"
     ]
    },
    {
     "data": {
      "text/plain": [
       "[0.5913341045379639, 0.6150796413421631]"
      ]
     },
     "execution_count": 8,
     "metadata": {},
     "output_type": "execute_result"
    }
   ],
   "source": [
    "## Display performances\n",
    "plot_history(history, width=14)\n",
    "\n",
    "## Compute prediction with test set\n",
    "model.evaluate(X_test2, y_test)"
   ]
  },
  {
   "cell_type": "markdown",
   "metadata": {
    "id": "it016ZcWbGwC"
   },
   "source": [
    "## Predictions"
   ]
  },
  {
   "cell_type": "code",
   "execution_count": 9,
   "metadata": {
    "colab": {
     "base_uri": "https://localhost:8080/"
    },
    "executionInfo": {
     "elapsed": 3739,
     "status": "ok",
     "timestamp": 1636826869966,
     "user": {
      "displayName": "Anthony Cho",
      "photoUrl": "https://lh3.googleusercontent.com/a/default-user=s64",
      "userId": "04569494085624422303"
     },
     "user_tz": 180
    },
    "id": "CToPuKtAbGwE",
    "outputId": "653ea695-61ac-4b72-9555-2037da107a62"
   },
   "outputs": [
    {
     "data": {
      "text/plain": [
       "array([[ 0.11770973],\n",
       "       [ 0.14632522],\n",
       "       [ 0.20568545],\n",
       "       ...,\n",
       "       [-0.26182804],\n",
       "       [-0.43720543],\n",
       "       [-0.5957326 ]], dtype=float32)"
      ]
     },
     "execution_count": 9,
     "metadata": {},
     "output_type": "execute_result"
    }
   ],
   "source": [
    "## Make prediction using test set\n",
    "prediction = model.predict(X_test2)\n",
    "prediction"
   ]
  },
  {
   "cell_type": "code",
   "execution_count": 10,
   "metadata": {
    "colab": {
     "base_uri": "https://localhost:8080/",
     "height": 297
    },
    "executionInfo": {
     "elapsed": 965,
     "status": "ok",
     "timestamp": 1636826886411,
     "user": {
      "displayName": "Anthony Cho",
      "photoUrl": "https://lh3.googleusercontent.com/a/default-user=s64",
      "userId": "04569494085624422303"
     },
     "user_tz": 180
    },
    "id": "vZo_onRDbGwF",
    "outputId": "5037a2bc-bbb1-46e7-e530-9ff8a0066824"
   },
   "outputs": [
    {
     "data": {
      "image/png": "[encoded data removed]",
      "text/plain": [
       "<Figure size 1008x288 with 1 Axes>"
      ]
     },
     "metadata": {
      "needs_background": "light"
     },
     "output_type": "display_data"
    }
   ],
   "source": [
    "## Number of samples to display\n",
    "nSamples = 172\n",
    "\n",
    "## De-codifing results\n",
    "y_true = y_test.ravel()*scale.scale_[-1] + scale.mean_[-1]\n",
    "predict_dec = prediction.ravel()*scale.scale_[-1] + scale.mean_[-1]\n",
    "\n",
    "## Display graphic\n",
    "plt.figure(figsize=(14, 4))\n",
    "if nSamples == 'all':\n",
    "    plt.plot(y_true, label='Ground True')\n",
    "    plt.plot(predict_dec, label='Prediction')\n",
    "else:\n",
    "    plt.plot(y_true[:nSamples], label='Ground True')\n",
    "    plt.plot(predict_dec[:nSamples], label='Prediction')\n",
    "plt.legend(loc=[0.6, 1.01], ncol=2)\n",
    "plt.ylabel('traffic_volume'); plt.xlabel('cycle')\n",
    "plt.grid()\n",
    "plt.tight_layout()\n",
    "plt.show()"
   ]
  },
  {
   "cell_type": "markdown",
   "metadata": {
    "id": "07ryWQI3bGwG"
   },
   "source": [
    "### Hold-out Grid Search\n",
    "\n",
    "**warning**: This process took around 23 hours to finish."
   ]
  },
  {
   "cell_type": "code",
   "execution_count": 11,
   "metadata": {
    "colab": {
     "base_uri": "https://localhost:8080/",
     "height": 478
    },
    "executionInfo": {
     "elapsed": 2600238,
     "status": "error",
     "timestamp": 1636853137002,
     "user": {
      "displayName": "Anthony Cho",
      "photoUrl": "https://lh3.googleusercontent.com/a/default-user=s64",
      "userId": "04569494085624422303"
     },
     "user_tz": 180
    },
    "id": "qpHoLyEnbGwH",
    "outputId": "39761e5b-87ee-4788-ac9f-630a6431771d"
   },
   "outputs": [
    {
     "name": "stdout",
     "output_type": "stream",
     "text": [
      "lstm1: 25, lstm2: 50, epochs: 30 Time spent[s]: 1228.9330823421478\n",
      "lstm1: 25, lstm2: 50, epochs: 50 Time spent[s]: 2071.5583305358887\n",
      "lstm1: 25, lstm2: 75, epochs: 30 Time spent[s]: 1489.746957540512\n",
      "lstm1: 25, lstm2: 75, epochs: 50 Time spent[s]: 2415.5646119117737\n",
      "lstm1: 25, lstm2: 100, epochs: 30 Time spent[s]: 1812.908447265625\n",
      "lstm1: 25, lstm2: 100, epochs: 50 Time spent[s]: 2959.3870763778687\n",
      "lstm1: 25, lstm2: 125, epochs: 30 Time spent[s]: 1946.084906578064\n",
      "lstm1: 25, lstm2: 125, epochs: 50 Time spent[s]: 3249.549674510956\n",
      "lstm1: 50, lstm2: 50, epochs: 30 Time spent[s]: 1482.200606584549\n",
      "lstm1: 50, lstm2: 50, epochs: 50 Time spent[s]: 2574.593528985977\n",
      "lstm1: 50, lstm2: 75, epochs: 30 Time spent[s]: 1696.0233204364777\n",
      "lstm1: 50, lstm2: 75, epochs: 50 Time spent[s]: 2738.6318271160126\n",
      "lstm1: 50, lstm2: 100, epochs: 30 Time spent[s]: 2031.631752729416\n",
      "lstm1: 50, lstm2: 100, epochs: 50 Time spent[s]: 3319.798398256302\n",
      "lstm1: 50, lstm2: 125, epochs: 30 Time spent[s]: 2150.1826453208923\n",
      "lstm1: 50, lstm2: 125, epochs: 50 Time spent[s]: 3600.989248752594\n",
      "lstm1: 75, lstm2: 50, epochs: 30 Time spent[s]: 1695.0912594795227\n",
      "lstm1: 75, lstm2: 50, epochs: 50 Time spent[s]: 2849.247822999954\n",
      "lstm1: 75, lstm2: 75, epochs: 30 Time spent[s]: 1737.8649561405182\n",
      "lstm1: 75, lstm2: 75, epochs: 50 Time spent[s]: 3067.8804659843445\n",
      "lstm1: 75, lstm2: 100, epochs: 30 Time spent[s]: 2179.814601421356\n",
      "lstm1: 75, lstm2: 100, epochs: 50 Time spent[s]: 3647.396854162216\n",
      "lstm1: 75, lstm2: 125, epochs: 30 Time spent[s]: 2300.9013392925262\n",
      "lstm1: 75, lstm2: 125, epochs: 50 Time spent[s]: 3864.6731338500977\n",
      "lstm1: 100, lstm2: 50, epochs: 30 Time spent[s]: 2148.139630794525\n",
      "lstm1: 100, lstm2: 50, epochs: 50 Time spent[s]: 3544.8763451576233\n",
      "lstm1: 100, lstm2: 75, epochs: 30 Time spent[s]: 2280.5659925937653\n",
      "lstm1: 100, lstm2: 75, epochs: 50 Time spent[s]: 3786.6404976844788\n",
      "lstm1: 100, lstm2: 100, epochs: 30 Time spent[s]: 2468.155962228775\n",
      "lstm1: 100, lstm2: 100, epochs: 50 Time spent[s]: 4107.724173784256\n",
      "lstm1: 100, lstm2: 125, epochs: 30 Time spent[s]: 2643.153959751129\n",
      "lstm1: 100, lstm2: 125, epochs: 50 Time spent[s]: 4337.990869998932\n",
      "\n",
      "Total time spent[s]:  83427.91063666344\n"
     ]
    }
   ],
   "source": [
    "## Model builder\n",
    "\n",
    "def model_build(lstm1=50, lstm2=100):\n",
    "    \"\"\"\n",
    "        DESCRIPTION:\n",
    "            Model builder: RNN with 2 LSTM as hidden layers\n",
    "            \n",
    "        INPUT:\n",
    "            @param lstm1: number of units for 1st hidden layer (default 50)\n",
    "            @type lstm1: int\n",
    "            \n",
    "            @param lstm2: number of units for 2nd hidden layer (default 100)\n",
    "            @type lstm2: int\n",
    "    \"\"\"\n",
    "    \n",
    "    ## Model instance\n",
    "    model = Sequential(name='Traffic_volume')\n",
    "    model.add(layers.LSTM(units=lstm1, input_shape=X_train2.shape[1:],\n",
    "                        kernel_regularizer=l2(0.0001),\n",
    "                        return_sequences = True,\n",
    "                        name='LSTM_01'))\n",
    "    model.add(layers.LSTM(units=lstm2,\n",
    "                        kernel_regularizer=l2(0.0001), name='LSTM_02'))\n",
    "    model.add(layers.Dense(units=1,\n",
    "                        name='Output'))\n",
    "\n",
    "    ## Compiler settings\n",
    "    model.compile(optimizer=Adam(learning_rate=0.0001), \n",
    "                loss='mae', \n",
    "                metrics=['mse'])\n",
    "\n",
    "    return model\n",
    "\n",
    "## Performance-values allocation\n",
    "performance = {'MAE': {'train': {}, 'val':{}},\n",
    "               'MSE': {'train': {}, 'val':{}}}\n",
    "\n",
    "start = time()\n",
    "\n",
    "## Run Hold-out grid search\n",
    "for lstm1 in [25, 50, 75, 100]:\n",
    "    for lstm2 in [50, 75, 100, 125]:\n",
    "        for epoch in [30, 50]:\n",
    "\n",
    "          startIter = time()\n",
    "        \n",
    "          print('lstm1: {}, lstm2: {}, epochs: {}'.format(lstm1, lstm2, epoch), end=' ')\n",
    "          name = 'lstm1_{}_lstm2_{}_epoch_{}'.format(lstm1, lstm2, epoch)\n",
    "\n",
    "          ## model instance\n",
    "          model = model_build(lstm1, lstm2)\n",
    "        \n",
    "          ## model fitting\n",
    "          history = model.fit(x=X_train2, y=y_train, \n",
    "                              validation_data=(X_val2, y_val),\n",
    "                              epochs=epoch, \n",
    "                              batch_size=30, verbose=0,\n",
    "                              shuffle=False)\n",
    "          \n",
    "          ## model performance using train set\n",
    "          mae, mse = model.evaluate(X_train2, y_train, verbose=0)\n",
    "          performance['MAE']['train'][name] = mae\n",
    "          performance['MSE']['train'][name] = mse\n",
    "\n",
    "          ## model performance using validate set\n",
    "          mae, mse = model.evaluate(X_val2, y_val, verbose=0)\n",
    "          performance['MAE']['val'][name] = mae\n",
    "          performance['MSE']['val'][name] = mse\n",
    "\n",
    "          print('Time spent[s]: {}'.format(time()-startIter))\n",
    "\n",
    "print('\\nTotal time spent[s]: ', time()-start)"
   ]
  },
  {
   "cell_type": "code",
   "execution_count": 12,
   "metadata": {
    "id": "9P87P6pubGwI"
   },
   "outputs": [
    {
     "name": "stdout",
     "output_type": "stream",
     "text": [
      "Focus on: MAE (Train), configuration: lstm1_100_lstm2_125_epoch_50\n",
      "MAE (Train): 0.6127, MAE (Val): 0.5376, MSE (Train): 0.6805, MSE (Val): 0.5530\n",
      "Focus on: MAE (Val), configuration: lstm1_75_lstm2_50_epoch_50\n",
      "MAE (Train): 0.6137, MAE (Val): 0.5253, MSE (Train): 0.6786, MSE (Val): 0.5291\n",
      "Focus on: MSE (Train), configuration: lstm1_75_lstm2_125_epoch_50\n",
      "MAE (Train): 0.6141, MAE (Val): 0.5349, MSE (Train): 0.6703, MSE (Val): 0.5352\n",
      "Focus on: MSE (Val), configuration: lstm1_100_lstm2_50_epoch_30\n",
      "MAE (Train): 0.6344, MAE (Val): 0.5276, MSE (Train): 0.7076, MSE (Val): 0.5183\n"
     ]
    }
   ],
   "source": [
    "## Summary results\n",
    "\n",
    "from numpy import argmin\n",
    "\n",
    "iMin = argmin( list(performance['MAE']['train'].values()) )\n",
    "setting = list(performance['MAE']['train'].keys())[iMin]\n",
    "maeTrain = performance['MAE']['train'][setting]\n",
    "maeVal = performance['MAE']['val'][setting]\n",
    "mseTrain = performance['MSE']['train'][setting]\n",
    "mseVal = performance['MSE']['val'][setting]\n",
    "\n",
    "print('Focus on: {}, configuration: {}'.format('MAE (Train)', setting))\n",
    "print('MAE (Train): {:.4f}, MAE (Val): {:.4f}, MSE (Train): {:.4f}, MSE (Val): {:.4f}'.format(maeTrain, maeVal,\n",
    "                                                                                              mseTrain, mseVal))\n",
    "\n",
    "iMin = argmin( list(performance['MAE']['val'].values()) )\n",
    "setting = list(performance['MAE']['train'].keys())[iMin]\n",
    "maeTrain = performance['MAE']['train'][setting]\n",
    "maeVal = performance['MAE']['val'][setting]\n",
    "mseTrain = performance['MSE']['train'][setting]\n",
    "mseVal = performance['MSE']['val'][setting]\n",
    "\n",
    "print('Focus on: {}, configuration: {}'.format('MAE (Val)', setting))\n",
    "print('MAE (Train): {:.4f}, MAE (Val): {:.4f}, MSE (Train): {:.4f}, MSE (Val): {:.4f}'.format(maeTrain, maeVal,\n",
    "                                                                                              mseTrain, mseVal))\n",
    "\n",
    "\n",
    "iMin = argmin( list(performance['MSE']['train'].values()) )\n",
    "setting = list(performance['MAE']['train'].keys())[iMin]\n",
    "maeTrain = performance['MAE']['train'][setting]\n",
    "maeVal = performance['MAE']['val'][setting]\n",
    "mseTrain = performance['MSE']['train'][setting]\n",
    "mseVal = performance['MSE']['val'][setting]\n",
    "\n",
    "print('Focus on: {}, configuration: {}'.format('MSE (Train)', setting))\n",
    "print('MAE (Train): {:.4f}, MAE (Val): {:.4f}, MSE (Train): {:.4f}, MSE (Val): {:.4f}'.format(maeTrain, maeVal,\n",
    "                                                                                              mseTrain, mseVal))\n",
    "\n",
    "iMin = argmin( list(performance['MSE']['val'].values()) )\n",
    "setting = list(performance['MAE']['train'].keys())[iMin]\n",
    "maeTrain = performance['MAE']['train'][setting]\n",
    "maeVal = performance['MAE']['val'][setting]\n",
    "mseTrain = performance['MSE']['train'][setting]\n",
    "mseVal = performance['MSE']['val'][setting]\n",
    "\n",
    "print('Focus on: {}, configuration: {}'.format('MSE (Val)', setting))\n",
    "print('MAE (Train): {:.4f}, MAE (Val): {:.4f}, MSE (Train): {:.4f}, MSE (Val): {:.4f}'.format(maeTrain, maeVal,\n",
    "                                                                                              mseTrain, mseVal))\n"
   ]
  },
  {
   "cell_type": "markdown",
   "metadata": {},
   "source": [
    "### Best model\n",
    "\n",
    "Minimum MAE(Val): configuration: lstm1: 75, lstm2: 50, epoch: 50"
   ]
  },
  {
   "cell_type": "code",
   "execution_count": 13,
   "metadata": {},
   "outputs": [
    {
     "name": "stdout",
     "output_type": "stream",
     "text": [
      "(train shape) X: (38563, 24, 4), y: (38563, 1)\n",
      "(test shape) X: (9617, 24, 4), y: (9617, 1)\n"
     ]
    }
   ],
   "source": [
    "X = append(X_train2, X_val2, axis=0)\n",
    "y = append(y_train, y_val, axis=0)\n",
    "\n",
    "## Display data shape\n",
    "print('(train shape) X: {}, y: {}'.format(X.shape, y.shape))\n",
    "print('(test shape) X: {}, y: {}'.format(X_test2.shape, y_test.shape))"
   ]
  },
  {
   "cell_type": "code",
   "execution_count": 14,
   "metadata": {},
   "outputs": [
    {
     "name": "stdout",
     "output_type": "stream",
     "text": [
      "Model: \"Traffic_volume\"\n",
      "_________________________________________________________________\n",
      "Layer (type)                 Output Shape              Param #   \n",
      "=================================================================\n",
      "LSTM_01 (LSTM)               (None, 24, 75)            24000     \n",
      "_________________________________________________________________\n",
      "LSTM_02 (LSTM)               (None, 50)                25200     \n",
      "_________________________________________________________________\n",
      "Output (Dense)               (None, 1)                 51        \n",
      "=================================================================\n",
      "Total params: 49,251\n",
      "Trainable params: 49,251\n",
      "Non-trainable params: 0\n",
      "_________________________________________________________________\n"
     ]
    }
   ],
   "source": [
    "## model instance\n",
    "model = model_build(lstm1=75, lstm2=50)\n",
    "\n",
    "## model display\n",
    "model.summary()"
   ]
  },
  {
   "cell_type": "code",
   "execution_count": 15,
   "metadata": {},
   "outputs": [
    {
     "name": "stdout",
     "output_type": "stream",
     "text": [
      "Epoch 1/50\n",
      "1286/1286 [==============================] - 75s 57ms/step - loss: 0.8800 - mse: 0.9947\n",
      "Epoch 2/50\n",
      "1286/1286 [==============================] - 69s 54ms/step - loss: 0.7956 - mse: 0.8788\n",
      "Epoch 3/50\n",
      "1286/1286 [==============================] - 67s 52ms/step - loss: 0.7724 - mse: 0.8487\n",
      "Epoch 4/50\n",
      "1286/1286 [==============================] - 65s 51ms/step - loss: 0.7483 - mse: 0.8233\n",
      "Epoch 5/50\n",
      "1286/1286 [==============================] - 67s 52ms/step - loss: 0.7261 - mse: 0.8017\n",
      "Epoch 6/50\n",
      "1286/1286 [==============================] - 67s 52ms/step - loss: 0.7107 - mse: 0.7863\n",
      "Epoch 7/50\n",
      "1286/1286 [==============================] - 67s 52ms/step - loss: 0.6991 - mse: 0.7739\n",
      "Epoch 8/50\n",
      "1286/1286 [==============================] - 68s 53ms/step - loss: 0.6895 - mse: 0.7639\n",
      "Epoch 9/50\n",
      "1286/1286 [==============================] - 68s 53ms/step - loss: 0.6819 - mse: 0.7556\n",
      "Epoch 10/50\n",
      "1286/1286 [==============================] - 66s 51ms/step - loss: 0.6763 - mse: 0.7493\n",
      "Epoch 11/50\n",
      "1286/1286 [==============================] - 66s 51ms/step - loss: 0.6727 - mse: 0.7473\n",
      "Epoch 12/50\n",
      "1286/1286 [==============================] - 65s 51ms/step - loss: 0.6690 - mse: 0.7433\n",
      "Epoch 13/50\n",
      "1286/1286 [==============================] - 65s 50ms/step - loss: 0.6665 - mse: 0.7415\n",
      "Epoch 14/50\n",
      "1286/1286 [==============================] - 67s 52ms/step - loss: 0.6632 - mse: 0.7383\n",
      "Epoch 15/50\n",
      "1286/1286 [==============================] - 68s 53ms/step - loss: 0.6608 - mse: 0.7357\n",
      "Epoch 16/50\n",
      "1286/1286 [==============================] - 67s 52ms/step - loss: 0.6588 - mse: 0.7346\n",
      "Epoch 17/50\n",
      "1286/1286 [==============================] - 66s 52ms/step - loss: 0.6563 - mse: 0.7321\n",
      "Epoch 18/50\n",
      "1286/1286 [==============================] - 65s 50ms/step - loss: 0.6542 - mse: 0.7293\n",
      "Epoch 19/50\n",
      "1286/1286 [==============================] - 67s 52ms/step - loss: 0.6520 - mse: 0.7278\n",
      "Epoch 20/50\n",
      "1286/1286 [==============================] - 65s 51ms/step - loss: 0.6501 - mse: 0.7258\n",
      "Epoch 21/50\n",
      "1286/1286 [==============================] - 66s 51ms/step - loss: 0.6483 - mse: 0.7243\n",
      "Epoch 22/50\n",
      "1286/1286 [==============================] - 68s 53ms/step - loss: 0.6468 - mse: 0.7231\n",
      "Epoch 23/50\n",
      "1286/1286 [==============================] - 68s 53ms/step - loss: 0.6450 - mse: 0.7220\n",
      "Epoch 24/50\n",
      "1286/1286 [==============================] - 69s 53ms/step - loss: 0.6433 - mse: 0.7204\n",
      "Epoch 25/50\n",
      "1286/1286 [==============================] - 67s 52ms/step - loss: 0.6420 - mse: 0.7197\n",
      "Epoch 26/50\n",
      "1286/1286 [==============================] - 66s 52ms/step - loss: 0.6406 - mse: 0.7192\n",
      "Epoch 27/50\n",
      "1286/1286 [==============================] - 68s 53ms/step - loss: 0.6388 - mse: 0.7173\n",
      "Epoch 28/50\n",
      "1286/1286 [==============================] - 68s 53ms/step - loss: 0.6377 - mse: 0.7172\n",
      "Epoch 29/50\n",
      "1286/1286 [==============================] - 69s 53ms/step - loss: 0.6367 - mse: 0.7163\n",
      "Epoch 30/50\n",
      "1286/1286 [==============================] - 68s 53ms/step - loss: 0.6356 - mse: 0.7154\n",
      "Epoch 31/50\n",
      "1286/1286 [==============================] - 68s 53ms/step - loss: 0.6343 - mse: 0.7137\n",
      "Epoch 32/50\n",
      "1286/1286 [==============================] - 68s 53ms/step - loss: 0.6331 - mse: 0.7127\n",
      "Epoch 33/50\n",
      "1286/1286 [==============================] - 66s 51ms/step - loss: 0.6319 - mse: 0.7115\n",
      "Epoch 34/50\n",
      "1286/1286 [==============================] - 66s 52ms/step - loss: 0.6312 - mse: 0.7110\n",
      "Epoch 35/50\n",
      "1286/1286 [==============================] - 66s 52ms/step - loss: 0.6307 - mse: 0.7110\n",
      "Epoch 36/50\n",
      "1286/1286 [==============================] - 65s 51ms/step - loss: 0.6299 - mse: 0.7094\n",
      "Epoch 37/50\n",
      "1286/1286 [==============================] - 67s 52ms/step - loss: 0.6289 - mse: 0.7085\n",
      "Epoch 38/50\n",
      "1286/1286 [==============================] - 67s 52ms/step - loss: 0.6278 - mse: 0.7070\n",
      "Epoch 39/50\n",
      "1286/1286 [==============================] - 64s 50ms/step - loss: 0.6273 - mse: 0.7073\n",
      "Epoch 40/50\n",
      "1286/1286 [==============================] - 66s 51ms/step - loss: 0.6265 - mse: 0.7062 1\n",
      "Epoch 41/50\n",
      "1286/1286 [==============================] - 64s 50ms/step - loss: 0.6257 - mse: 0.7045\n",
      "Epoch 42/50\n",
      "1286/1286 [==============================] - 67s 52ms/step - loss: 0.6256 - mse: 0.7041\n",
      "Epoch 43/50\n",
      "1286/1286 [==============================] - 66s 51ms/step - loss: 0.6248 - mse: 0.7040\n",
      "Epoch 44/50\n",
      "1286/1286 [==============================] - 66s 51ms/step - loss: 0.6237 - mse: 0.7009\n",
      "Epoch 45/50\n",
      "1286/1286 [==============================] - 67s 52ms/step - loss: 0.6231 - mse: 0.7007\n",
      "Epoch 46/50\n",
      "1286/1286 [==============================] - 67s 52ms/step - loss: 0.6226 - mse: 0.6996\n",
      "Epoch 47/50\n",
      "1286/1286 [==============================] - 67s 52ms/step - loss: 0.6217 - mse: 0.6983\n",
      "Epoch 48/50\n",
      "1286/1286 [==============================] - 67s 52ms/step - loss: 0.6214 - mse: 0.6981\n",
      "Epoch 49/50\n",
      "1286/1286 [==============================] - 66s 51ms/step - loss: 0.6204 - mse: 0.6963\n",
      "Epoch 50/50\n",
      "1286/1286 [==============================] - 67s 52ms/step - loss: 0.6198 - mse: 0.6956\n"
     ]
    }
   ],
   "source": [
    "## model fitting\n",
    "history = model.fit(x=X, y=y, \n",
    "                  epochs=50, \n",
    "                  batch_size=30,\n",
    "                  shuffle=False)"
   ]
  },
  {
   "cell_type": "code",
   "execution_count": 16,
   "metadata": {},
   "outputs": [
    {
     "name": "stdout",
     "output_type": "stream",
     "text": [
      "301/301 [==============================] - 7s 22ms/step - loss: 0.5832 - mse: 0.6354\n"
     ]
    },
    {
     "data": {
      "text/plain": [
       "[0.5831946730613708, 0.6354113221168518]"
      ]
     },
     "execution_count": 16,
     "metadata": {},
     "output_type": "execute_result"
    }
   ],
   "source": [
    "## Compute prediction with test set\n",
    "model.evaluate(X_test2, y_test)"
   ]
  },
  {
   "cell_type": "code",
   "execution_count": 17,
   "metadata": {},
   "outputs": [],
   "source": [
    "## Make prediction using test set\n",
    "prediction = model.predict(X_test2)"
   ]
  },
  {
   "cell_type": "code",
   "execution_count": 18,
   "metadata": {},
   "outputs": [
    {
     "data": {
      "image/png": "[encoded data removed]",
      "text/plain": [
       "<Figure size 1008x288 with 1 Axes>"
      ]
     },
     "metadata": {
      "needs_background": "light"
     },
     "output_type": "display_data"
    }
   ],
   "source": [
    "## Number of samples to display\n",
    "nSamples = 172\n",
    "\n",
    "## De-codifing results\n",
    "y_true = y_test.ravel()*scale.scale_[-1] + scale.mean_[-1]\n",
    "predict_dec = prediction.ravel()*scale.scale_[-1] + scale.mean_[-1]\n",
    "\n",
    "## Display graphic\n",
    "plt.figure(figsize=(14, 4))\n",
    "if nSamples == 'all':\n",
    "    plt.plot(y_true, label='Ground True')\n",
    "    plt.plot(predict_dec, label='Prediction')\n",
    "else:\n",
    "    plt.plot(y_true[:nSamples], label='Ground True')\n",
    "    plt.plot(predict_dec[:nSamples], label='Prediction')\n",
    "plt.legend(loc=[0.6, 1.01], ncol=2)\n",
    "plt.ylabel('traffic_volume'); plt.xlabel('cycle')\n",
    "plt.grid()\n",
    "plt.tight_layout()\n",
    "plt.show()"
   ]
  },
  {
   "cell_type": "code",
   "execution_count": null,
   "metadata": {},
   "outputs": [],
   "source": []
  }
 ],
 "metadata": {
  "accelerator": "GPU",
  "colab": {
   "collapsed_sections": [],
   "name": "Regression (RNN - keras, tensorflow) - Metro Interstate Traffic Volume.ipynb",
   "provenance": []
  },
  "kernelspec": {
   "display_name": "Python 3",
   "language": "python",
   "name": "python3"
  },
  "language_info": {
   "codemirror_mode": {
    "name": "ipython",
    "version": 3
   },
   "file_extension": ".py",
   "mimetype": "text/x-python",
   "name": "python",
   "nbconvert_exporter": "python",
   "pygments_lexer": "ipython3",
   "version": "3.8.10"
  }
 },
 "nbformat": 4,
 "nbformat_minor": 1
}
