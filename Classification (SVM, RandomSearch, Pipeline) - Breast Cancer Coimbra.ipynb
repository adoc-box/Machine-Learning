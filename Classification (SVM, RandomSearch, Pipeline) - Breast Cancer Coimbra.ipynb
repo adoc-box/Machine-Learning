{
 "cells": [
  {
   "cell_type": "markdown",
   "metadata": {},
   "source": [
    "### Created by: Anthony D. Cho\n",
    "### Last update: 12.11.2021\n",
    "\n",
    "**Subject**: Classification (Support Vector Machine SVM) - Applied to Breast Cancer Coimbra\n"
   ]
  },
  {
   "cell_type": "markdown",
   "metadata": {},
   "source": [
    "## Library dependencies"
   ]
  },
  {
   "cell_type": "code",
   "execution_count": 1,
   "metadata": {},
   "outputs": [],
   "source": [
    "import warnings\n",
    "warnings.filterwarnings('ignore')\n",
    "\n",
    "from pandas import read_csv\n",
    "import matplotlib.pyplot as plt\n",
    "from numpy import arange, linspace\n",
    "from time import time\n",
    "from scipy.stats import uniform\n",
    "\n",
    "%matplotlib inline\n",
    "\n",
    "## activacion del estilo de ambiente de graficación\n",
    "#plt.style.use('dark_background')\n",
    "plt.style.use('classic')\n",
    "\n",
    "## Pipeline creator function\n",
    "from sklearn.pipeline import make_pipeline\n",
    "\n",
    "from sklearn.preprocessing import MinMaxScaler\n",
    "from sklearn.model_selection import train_test_split\n",
    "\n",
    "## Metrics\n",
    "from sklearn.metrics import classification_report, plot_confusion_matrix\n",
    "\n",
    "## Model\n",
    "from sklearn.svm import SVC\n",
    "\n",
    "## Cross-Validation function\n",
    "from sklearn.model_selection import StratifiedShuffleSplit\n",
    "\n",
    "## Random Search function\n",
    "from sklearn.model_selection import RandomizedSearchCV"
   ]
  },
  {
   "cell_type": "markdown",
   "metadata": {},
   "source": [
    "# Problem: Breast Cancer Coimbra\n",
    "\n",
    "**Target**: Classification (0: No, 1: Yes)"
   ]
  },
  {
   "cell_type": "markdown",
   "metadata": {},
   "source": [
    "## Data loading\n",
    "\n",
    "Source: [Breast Cancer Coimbra](https://archive.ics.uci.edu/ml/datasets/Breast+Cancer+Coimbra)"
   ]
  },
  {
   "cell_type": "code",
   "execution_count": 2,
   "metadata": {},
   "outputs": [],
   "source": [
    "## Load data\n",
    "data = read_csv('https://archive.ics.uci.edu/ml/machine-learning-databases/00451/dataR2.csv')\n",
    "\n",
    "## Feature names list\n",
    "feature_names = data.columns[:-1]"
   ]
  },
  {
   "cell_type": "code",
   "execution_count": 3,
   "metadata": {},
   "outputs": [
    {
     "name": "stdout",
     "output_type": "stream",
     "text": [
      "<class 'pandas.core.frame.DataFrame'>\n",
      "RangeIndex: 116 entries, 0 to 115\n",
      "Data columns (total 10 columns):\n",
      " #   Column          Non-Null Count  Dtype  \n",
      "---  ------          --------------  -----  \n",
      " 0   Age             116 non-null    int64  \n",
      " 1   BMI             116 non-null    float64\n",
      " 2   Glucose         116 non-null    int64  \n",
      " 3   Insulin         116 non-null    float64\n",
      " 4   HOMA            116 non-null    float64\n",
      " 5   Leptin          116 non-null    float64\n",
      " 6   Adiponectin     116 non-null    float64\n",
      " 7   Resistin        116 non-null    float64\n",
      " 8   MCP.1           116 non-null    float64\n",
      " 9   Classification  116 non-null    int64  \n",
      "dtypes: float64(7), int64(3)\n",
      "memory usage: 9.2 KB\n"
     ]
    }
   ],
   "source": [
    "## Data type\n",
    "data.info()"
   ]
  },
  {
   "cell_type": "code",
   "execution_count": 4,
   "metadata": {},
   "outputs": [
    {
     "data": {
      "text/html": [
       "<div>\n",
       "<style scoped>\n",
       "    .dataframe tbody tr th:only-of-type {\n",
       "        vertical-align: middle;\n",
       "    }\n",
       "\n",
       "    .dataframe tbody tr th {\n",
       "        vertical-align: top;\n",
       "    }\n",
       "\n",
       "    .dataframe thead th {\n",
       "        text-align: right;\n",
       "    }\n",
       "</style>\n",
       "<table border=\"1\" class=\"dataframe\">\n",
       "  <thead>\n",
       "    <tr style=\"text-align: right;\">\n",
       "      <th></th>\n",
       "      <th>Age</th>\n",
       "      <th>BMI</th>\n",
       "      <th>Glucose</th>\n",
       "      <th>Insulin</th>\n",
       "      <th>HOMA</th>\n",
       "      <th>Leptin</th>\n",
       "      <th>Adiponectin</th>\n",
       "      <th>Resistin</th>\n",
       "      <th>MCP.1</th>\n",
       "      <th>Classification</th>\n",
       "    </tr>\n",
       "  </thead>\n",
       "  <tbody>\n",
       "    <tr>\n",
       "      <th>count</th>\n",
       "      <td>116.000000</td>\n",
       "      <td>116.000000</td>\n",
       "      <td>116.000000</td>\n",
       "      <td>116.000000</td>\n",
       "      <td>116.000000</td>\n",
       "      <td>116.000000</td>\n",
       "      <td>116.000000</td>\n",
       "      <td>116.000000</td>\n",
       "      <td>116.000000</td>\n",
       "      <td>116.000000</td>\n",
       "    </tr>\n",
       "    <tr>\n",
       "      <th>mean</th>\n",
       "      <td>57.301724</td>\n",
       "      <td>27.582111</td>\n",
       "      <td>97.793103</td>\n",
       "      <td>10.012086</td>\n",
       "      <td>2.694988</td>\n",
       "      <td>26.615080</td>\n",
       "      <td>10.180874</td>\n",
       "      <td>14.725966</td>\n",
       "      <td>534.647000</td>\n",
       "      <td>1.551724</td>\n",
       "    </tr>\n",
       "    <tr>\n",
       "      <th>std</th>\n",
       "      <td>16.112766</td>\n",
       "      <td>5.020136</td>\n",
       "      <td>22.525162</td>\n",
       "      <td>10.067768</td>\n",
       "      <td>3.642043</td>\n",
       "      <td>19.183294</td>\n",
       "      <td>6.843341</td>\n",
       "      <td>12.390646</td>\n",
       "      <td>345.912663</td>\n",
       "      <td>0.499475</td>\n",
       "    </tr>\n",
       "    <tr>\n",
       "      <th>min</th>\n",
       "      <td>24.000000</td>\n",
       "      <td>18.370000</td>\n",
       "      <td>60.000000</td>\n",
       "      <td>2.432000</td>\n",
       "      <td>0.467409</td>\n",
       "      <td>4.311000</td>\n",
       "      <td>1.656020</td>\n",
       "      <td>3.210000</td>\n",
       "      <td>45.843000</td>\n",
       "      <td>1.000000</td>\n",
       "    </tr>\n",
       "    <tr>\n",
       "      <th>25%</th>\n",
       "      <td>45.000000</td>\n",
       "      <td>22.973205</td>\n",
       "      <td>85.750000</td>\n",
       "      <td>4.359250</td>\n",
       "      <td>0.917966</td>\n",
       "      <td>12.313675</td>\n",
       "      <td>5.474282</td>\n",
       "      <td>6.881763</td>\n",
       "      <td>269.978250</td>\n",
       "      <td>1.000000</td>\n",
       "    </tr>\n",
       "    <tr>\n",
       "      <th>50%</th>\n",
       "      <td>56.000000</td>\n",
       "      <td>27.662416</td>\n",
       "      <td>92.000000</td>\n",
       "      <td>5.924500</td>\n",
       "      <td>1.380939</td>\n",
       "      <td>20.271000</td>\n",
       "      <td>8.352692</td>\n",
       "      <td>10.827740</td>\n",
       "      <td>471.322500</td>\n",
       "      <td>2.000000</td>\n",
       "    </tr>\n",
       "    <tr>\n",
       "      <th>75%</th>\n",
       "      <td>71.000000</td>\n",
       "      <td>31.241442</td>\n",
       "      <td>102.000000</td>\n",
       "      <td>11.189250</td>\n",
       "      <td>2.857787</td>\n",
       "      <td>37.378300</td>\n",
       "      <td>11.815970</td>\n",
       "      <td>17.755207</td>\n",
       "      <td>700.085000</td>\n",
       "      <td>2.000000</td>\n",
       "    </tr>\n",
       "    <tr>\n",
       "      <th>max</th>\n",
       "      <td>89.000000</td>\n",
       "      <td>38.578759</td>\n",
       "      <td>201.000000</td>\n",
       "      <td>58.460000</td>\n",
       "      <td>25.050342</td>\n",
       "      <td>90.280000</td>\n",
       "      <td>38.040000</td>\n",
       "      <td>82.100000</td>\n",
       "      <td>1698.440000</td>\n",
       "      <td>2.000000</td>\n",
       "    </tr>\n",
       "  </tbody>\n",
       "</table>\n",
       "</div>"
      ],
      "text/plain": [
       "              Age         BMI     Glucose     Insulin        HOMA      Leptin  \\\n",
       "count  116.000000  116.000000  116.000000  116.000000  116.000000  116.000000   \n",
       "mean    57.301724   27.582111   97.793103   10.012086    2.694988   26.615080   \n",
       "std     16.112766    5.020136   22.525162   10.067768    3.642043   19.183294   \n",
       "min     24.000000   18.370000   60.000000    2.432000    0.467409    4.311000   \n",
       "25%     45.000000   22.973205   85.750000    4.359250    0.917966   12.313675   \n",
       "50%     56.000000   27.662416   92.000000    5.924500    1.380939   20.271000   \n",
       "75%     71.000000   31.241442  102.000000   11.189250    2.857787   37.378300   \n",
       "max     89.000000   38.578759  201.000000   58.460000   25.050342   90.280000   \n",
       "\n",
       "       Adiponectin    Resistin        MCP.1  Classification  \n",
       "count   116.000000  116.000000   116.000000      116.000000  \n",
       "mean     10.180874   14.725966   534.647000        1.551724  \n",
       "std       6.843341   12.390646   345.912663        0.499475  \n",
       "min       1.656020    3.210000    45.843000        1.000000  \n",
       "25%       5.474282    6.881763   269.978250        1.000000  \n",
       "50%       8.352692   10.827740   471.322500        2.000000  \n",
       "75%      11.815970   17.755207   700.085000        2.000000  \n",
       "max      38.040000   82.100000  1698.440000        2.000000  "
      ]
     },
     "execution_count": 4,
     "metadata": {},
     "output_type": "execute_result"
    }
   ],
   "source": [
    "## data description\n",
    "data.describe(include='all')"
   ]
  },
  {
   "cell_type": "code",
   "execution_count": 5,
   "metadata": {},
   "outputs": [
    {
     "data": {
      "text/html": [
       "<div>\n",
       "<style scoped>\n",
       "    .dataframe tbody tr th:only-of-type {\n",
       "        vertical-align: middle;\n",
       "    }\n",
       "\n",
       "    .dataframe tbody tr th {\n",
       "        vertical-align: top;\n",
       "    }\n",
       "\n",
       "    .dataframe thead th {\n",
       "        text-align: right;\n",
       "    }\n",
       "</style>\n",
       "<table border=\"1\" class=\"dataframe\">\n",
       "  <thead>\n",
       "    <tr style=\"text-align: right;\">\n",
       "      <th></th>\n",
       "      <th>Age</th>\n",
       "      <th>BMI</th>\n",
       "      <th>Glucose</th>\n",
       "      <th>Insulin</th>\n",
       "      <th>HOMA</th>\n",
       "      <th>Leptin</th>\n",
       "      <th>Adiponectin</th>\n",
       "      <th>Resistin</th>\n",
       "      <th>MCP.1</th>\n",
       "      <th>Classification</th>\n",
       "    </tr>\n",
       "  </thead>\n",
       "  <tbody>\n",
       "    <tr>\n",
       "      <th>0</th>\n",
       "      <td>48</td>\n",
       "      <td>23.500000</td>\n",
       "      <td>70</td>\n",
       "      <td>2.707</td>\n",
       "      <td>0.467409</td>\n",
       "      <td>8.8071</td>\n",
       "      <td>9.702400</td>\n",
       "      <td>7.99585</td>\n",
       "      <td>417.114</td>\n",
       "      <td>1</td>\n",
       "    </tr>\n",
       "    <tr>\n",
       "      <th>1</th>\n",
       "      <td>83</td>\n",
       "      <td>20.690495</td>\n",
       "      <td>92</td>\n",
       "      <td>3.115</td>\n",
       "      <td>0.706897</td>\n",
       "      <td>8.8438</td>\n",
       "      <td>5.429285</td>\n",
       "      <td>4.06405</td>\n",
       "      <td>468.786</td>\n",
       "      <td>1</td>\n",
       "    </tr>\n",
       "    <tr>\n",
       "      <th>2</th>\n",
       "      <td>82</td>\n",
       "      <td>23.124670</td>\n",
       "      <td>91</td>\n",
       "      <td>4.498</td>\n",
       "      <td>1.009651</td>\n",
       "      <td>17.9393</td>\n",
       "      <td>22.432040</td>\n",
       "      <td>9.27715</td>\n",
       "      <td>554.697</td>\n",
       "      <td>1</td>\n",
       "    </tr>\n",
       "    <tr>\n",
       "      <th>3</th>\n",
       "      <td>68</td>\n",
       "      <td>21.367521</td>\n",
       "      <td>77</td>\n",
       "      <td>3.226</td>\n",
       "      <td>0.612725</td>\n",
       "      <td>9.8827</td>\n",
       "      <td>7.169560</td>\n",
       "      <td>12.76600</td>\n",
       "      <td>928.220</td>\n",
       "      <td>1</td>\n",
       "    </tr>\n",
       "  </tbody>\n",
       "</table>\n",
       "</div>"
      ],
      "text/plain": [
       "   Age        BMI  Glucose  Insulin      HOMA   Leptin  Adiponectin  Resistin  \\\n",
       "0   48  23.500000       70    2.707  0.467409   8.8071     9.702400   7.99585   \n",
       "1   83  20.690495       92    3.115  0.706897   8.8438     5.429285   4.06405   \n",
       "2   82  23.124670       91    4.498  1.009651  17.9393    22.432040   9.27715   \n",
       "3   68  21.367521       77    3.226  0.612725   9.8827     7.169560  12.76600   \n",
       "\n",
       "     MCP.1  Classification  \n",
       "0  417.114               1  \n",
       "1  468.786               1  \n",
       "2  554.697               1  \n",
       "3  928.220               1  "
      ]
     },
     "execution_count": 5,
     "metadata": {},
     "output_type": "execute_result"
    }
   ],
   "source": [
    "## Display first five records\n",
    "data.head(4)"
   ]
  },
  {
   "cell_type": "code",
   "execution_count": 6,
   "metadata": {},
   "outputs": [
    {
     "data": {
      "text/plain": [
       "2    64\n",
       "1    52\n",
       "Name: Classification, dtype: int64"
      ]
     },
     "execution_count": 6,
     "metadata": {},
     "output_type": "execute_result"
    }
   ],
   "source": [
    "## Display number of records per class\n",
    "data.Classification.value_counts()"
   ]
  },
  {
   "cell_type": "markdown",
   "metadata": {},
   "source": [
    "## Data pre-processing"
   ]
  },
  {
   "cell_type": "code",
   "execution_count": 7,
   "metadata": {},
   "outputs": [
    {
     "name": "stdout",
     "output_type": "stream",
     "text": [
      "(train shape) X: (87, 9), y: (87,)\n",
      "(test shape) X: (29, 9), y: (29,)\n"
     ]
    }
   ],
   "source": [
    "## Predictors and target assignment\n",
    "X = data.drop(columns=['Classification'])\n",
    "y = data['Classification']\n",
    "\n",
    "## Partition sets\n",
    "X_train, X_test, y_train, y_test = train_test_split(X, y, random_state=20200803)\n",
    "\n",
    "## Data set normalization\n",
    "scale = MinMaxScaler().fit(X_train)\n",
    "X_train = scale.transform(X_train)\n",
    "X_test = scale.transform(X_test)\n",
    "\n",
    "## Display data shape\n",
    "print('(train shape) X: {}, y: {}'.format(X_train.shape, y_train.shape))\n",
    "print('(test shape) X: {}, y: {}'.format(X_test.shape, y_test.shape))"
   ]
  },
  {
   "cell_type": "markdown",
   "metadata": {},
   "source": [
    "### SVM performance by kernel"
   ]
  },
  {
   "cell_type": "code",
   "execution_count": 8,
   "metadata": {},
   "outputs": [
    {
     "name": "stdout",
     "output_type": "stream",
     "text": [
      "Kernel name: linear\n",
      "Classes: [1 2]\n",
      "Total number of support vectors: 76\n",
      "Number of support vectors per class: [38 38]\n",
      "Accuracy (Train): 0.7931\n",
      "Accuracy (Test):  0.6552\n",
      "\n",
      "Kernel name: poly\n",
      "Classes: [1 2]\n",
      "Total number of support vectors: 50\n",
      "Number of support vectors per class: [24 26]\n",
      "Accuracy (Train): 0.8851\n",
      "Accuracy (Test):  0.7241\n",
      "\n",
      "Kernel name: rbf\n",
      "Classes: [1 2]\n",
      "Total number of support vectors: 71\n",
      "Number of support vectors per class: [34 37]\n",
      "Accuracy (Train): 0.8851\n",
      "Accuracy (Test):  0.7586\n",
      "\n",
      "Kernel name: sigmoid\n",
      "Classes: [1 2]\n",
      "Total number of support vectors: 76\n",
      "Number of support vectors per class: [38 38]\n",
      "Accuracy (Train): 0.5747\n",
      "Accuracy (Test):  0.5517\n",
      "\n"
     ]
    }
   ],
   "source": [
    "## List of kernels\n",
    "kernels = ['linear', 'poly', 'rbf', 'sigmoid']\n",
    "\n",
    "## Compute SVC performance by kernel\n",
    "for kernel in kernels:\n",
    "    \n",
    "    ## Display kernel name used for model fitting\n",
    "    print('Kernel name: {}'.format(kernel))\n",
    "    \n",
    "    ## Model instance and fitting\n",
    "    model = SVC(kernel=kernel).fit(X_train, y_train)\n",
    "    \n",
    "    ## Display the class labels\n",
    "    print('Classes: {}'.format(model.classes_))\n",
    "    \n",
    "    ## Display the total number of support vectors of the fitted model\n",
    "    print('Total number of support vectors: {}'.format(model.n_support_.sum()))\n",
    "    \n",
    "    ## Display the number of support vectors per class\n",
    "    print('Number of support vectors per class: {}'.format(model.n_support_))\n",
    "    \n",
    "    ## Compute the model score with the training set\n",
    "    print('Accuracy (Train): {:.4f}'.format(model.score(X_train, y_train)))\n",
    "    \n",
    "    ## Compute the model score with the test set\n",
    "    print('Accuracy (Test):  {:.4f}\\n'.format(model.score(X_test, y_test)))"
   ]
  },
  {
   "cell_type": "markdown",
   "metadata": {},
   "source": [
    "### Searching best model using linear kernel"
   ]
  },
  {
   "cell_type": "code",
   "execution_count": 9,
   "metadata": {},
   "outputs": [
    {
     "name": "stdout",
     "output_type": "stream",
     "text": [
      "Best parameters value\n",
      "C: 80.10017923104309\n",
      "kernel: linear\n"
     ]
    }
   ],
   "source": [
    "## Cross-validation instance\n",
    "cvs = StratifiedShuffleSplit(n_splits=10, test_size=0.25)\n",
    "\n",
    "## Parameter-space for searching\n",
    "param = {'kernel': ['linear'],\n",
    "         'C': uniform(1e-13, 100)}\n",
    "\n",
    "## Best model estimation by random search\n",
    "RS = RandomizedSearchCV(estimator=SVC(), \n",
    "                        param_distributions=param, \n",
    "                        n_iter=100, \n",
    "                        scoring='roc_auc', \n",
    "                        cv=cvs,\n",
    "                        n_jobs=-1).fit(X_train, y_train)\n",
    "\n",
    "## Display best model's hyperparameters\n",
    "print('Best parameters value')\n",
    "for hiperparam, valor in RS.best_params_.items():\n",
    "    print('{}: {}'.format(hiperparam, valor))"
   ]
  },
  {
   "cell_type": "code",
   "execution_count": 10,
   "metadata": {},
   "outputs": [
    {
     "name": "stdout",
     "output_type": "stream",
     "text": [
      "Accuracy (Train): 0.8046\n",
      "Accuracy (Test):  0.6207\n",
      "\n",
      "              precision    recall  f1-score   support\n",
      "\n",
      "           1       0.55      0.50      0.52        12\n",
      "           2       0.67      0.71      0.69        17\n",
      "\n",
      "    accuracy                           0.62        29\n",
      "   macro avg       0.61      0.60      0.60        29\n",
      "weighted avg       0.62      0.62      0.62        29\n",
      "\n"
     ]
    },
    {
     "data": {
      "image/png": "[encoded data removed]",
      "text/plain": [
       "<Figure size 640x480 with 2 Axes>"
      ]
     },
     "metadata": {},
     "output_type": "display_data"
    }
   ],
   "source": [
    "## Fitting a model with best parameters\n",
    "model = SVC(**RS.best_params_).fit(X_train, y_train)\n",
    "\n",
    "## Compute score using train set\n",
    "print('Accuracy (Train): {:.4f}'.format(model.score(X_train, y_train)))\n",
    "\n",
    "## Compute score using test set\n",
    "print('Accuracy (Test):  {:.4f}\\n'.format(model.score(X_test, y_test)))\n",
    "\n",
    "## compute prediction\n",
    "prediccion = model.predict(X_test)\n",
    "\n",
    "## display classification report\n",
    "print(classification_report(y_true=y_test, y_pred=prediccion))\n",
    "\n",
    "## Display confusion matrix\n",
    "plot_confusion_matrix(estimator=model, X=X_test, y_true=y_test)\n",
    "plt.show()"
   ]
  },
  {
   "cell_type": "markdown",
   "metadata": {},
   "source": [
    "### Searching best model using Polynomial kernel"
   ]
  },
  {
   "cell_type": "code",
   "execution_count": 11,
   "metadata": {},
   "outputs": [
    {
     "name": "stdout",
     "output_type": "stream",
     "text": [
      "Best parameters value\n",
      "C: 36.2524997413367\n",
      "degree: 2\n",
      "gamma: 0.3030303030303969\n",
      "kernel: poly\n"
     ]
    }
   ],
   "source": [
    "## Cross-validation instance\n",
    "cvs = StratifiedShuffleSplit(n_splits=10, test_size=0.25)\n",
    "\n",
    "## Parameter-space for searching\n",
    "param = {'kernel': ['poly'],\n",
    "         'C': uniform(1e-13, 100),\n",
    "         'degree': arange(2, 10), \n",
    "         'gamma': linspace(1e-13, 5, 100)}\n",
    "\n",
    "## Best model estimation by random search\n",
    "RS = RandomizedSearchCV(estimator=SVC(), \n",
    "                        param_distributions=param, \n",
    "                        n_iter=100, \n",
    "                        scoring='roc_auc', \n",
    "                        cv=cvs,\n",
    "                        n_jobs=-1).fit(X_train, y_train)\n",
    "\n",
    "## Display best model's hyperparameters\n",
    "print('Best parameters value')\n",
    "for hiperparam, valor in RS.best_params_.items():\n",
    "    print('{}: {}'.format(hiperparam, valor))"
   ]
  },
  {
   "cell_type": "code",
   "execution_count": 12,
   "metadata": {},
   "outputs": [
    {
     "name": "stdout",
     "output_type": "stream",
     "text": [
      "Accuracy (Train): 0.8966\n",
      "Accuracy (Test):  0.7241\n",
      "\n",
      "              precision    recall  f1-score   support\n",
      "\n",
      "           1       0.70      0.58      0.64        12\n",
      "           2       0.74      0.82      0.78        17\n",
      "\n",
      "    accuracy                           0.72        29\n",
      "   macro avg       0.72      0.70      0.71        29\n",
      "weighted avg       0.72      0.72      0.72        29\n",
      "\n"
     ]
    },
    {
     "data": {
      "image/png": "[encoded data removed]",
      "text/plain": [
       "<Figure size 640x480 with 2 Axes>"
      ]
     },
     "metadata": {},
     "output_type": "display_data"
    }
   ],
   "source": [
    "## Fitting a model with best parameters\n",
    "model = SVC(**RS.best_params_).fit(X_train, y_train)\n",
    "\n",
    "## Compute score using train set\n",
    "print('Accuracy (Train): {:.4f}'.format(model.score(X_train, y_train)))\n",
    "\n",
    "## Compute score using test set\n",
    "print('Accuracy (Test):  {:.4f}\\n'.format(model.score(X_test, y_test)))\n",
    "\n",
    "## compute prediction\n",
    "prediccion = model.predict(X_test)\n",
    "\n",
    "## display classification report\n",
    "print(classification_report(y_true=y_test, y_pred=prediccion))\n",
    "\n",
    "## Display confusion matrix\n",
    "plot_confusion_matrix(estimator=model, X=X_test, y_true=y_test)\n",
    "plt.show()"
   ]
  },
  {
   "cell_type": "markdown",
   "metadata": {},
   "source": [
    "### Searching best model using radial kernel"
   ]
  },
  {
   "cell_type": "code",
   "execution_count": 13,
   "metadata": {},
   "outputs": [
    {
     "name": "stdout",
     "output_type": "stream",
     "text": [
      "Best parameters value\n",
      "C: 68.13161227295072\n",
      "gamma: 0.15151515151524847\n",
      "kernel: rbf\n"
     ]
    }
   ],
   "source": [
    "## Cross-validation instance\n",
    "cvs = StratifiedShuffleSplit(n_splits=10, test_size=0.25)\n",
    "\n",
    "## Parameter-space for searching\n",
    "param = {'kernel': ['rbf'],\n",
    "         'C': uniform(1e-13, 100),\n",
    "         'gamma': linspace(1e-13, 5, 100)}\n",
    "\n",
    "## Best model estimation by random search\n",
    "RS = RandomizedSearchCV(estimator=SVC(), \n",
    "                        param_distributions=param, \n",
    "                        n_iter=100, \n",
    "                        scoring='roc_auc', \n",
    "                        cv=cvs,\n",
    "                        n_jobs=-1).fit(X_train, y_train)\n",
    "\n",
    "## Display best model's hyperparameters\n",
    "print('Best parameters value')\n",
    "for hiperparam, valor in RS.best_params_.items():\n",
    "    print('{}: {}'.format(hiperparam, valor))"
   ]
  },
  {
   "cell_type": "code",
   "execution_count": 14,
   "metadata": {},
   "outputs": [
    {
     "name": "stdout",
     "output_type": "stream",
     "text": [
      "Accuracy (Train): 0.9080\n",
      "Accuracy (Test):  0.7586\n",
      "\n",
      "              precision    recall  f1-score   support\n",
      "\n",
      "           1       0.73      0.67      0.70        12\n",
      "           2       0.78      0.82      0.80        17\n",
      "\n",
      "    accuracy                           0.76        29\n",
      "   macro avg       0.75      0.75      0.75        29\n",
      "weighted avg       0.76      0.76      0.76        29\n",
      "\n"
     ]
    },
    {
     "data": {
      "image/png": "[encoded data removed]",
      "text/plain": [
       "<Figure size 640x480 with 2 Axes>"
      ]
     },
     "metadata": {},
     "output_type": "display_data"
    }
   ],
   "source": [
    "## Fitting a model with best parameters\n",
    "model = SVC(**RS.best_params_).fit(X_train, y_train)\n",
    "\n",
    "## Compute score using train set\n",
    "print('Accuracy (Train): {:.4f}'.format(model.score(X_train, y_train)))\n",
    "\n",
    "## Compute score using test set\n",
    "print('Accuracy (Test):  {:.4f}\\n'.format(model.score(X_test, y_test)))\n",
    "\n",
    "## compute prediction\n",
    "prediccion = model.predict(X_test)\n",
    "\n",
    "## display classification report\n",
    "print(classification_report(y_true=y_test, y_pred=prediccion))\n",
    "\n",
    "## Display confusion matrix\n",
    "plot_confusion_matrix(estimator=model, X=X_test, y_true=y_test)\n",
    "plt.show()"
   ]
  },
  {
   "cell_type": "markdown",
   "metadata": {},
   "source": [
    "### Mejor ajuste del modelo usando kernel sigmoidal"
   ]
  },
  {
   "cell_type": "code",
   "execution_count": 15,
   "metadata": {},
   "outputs": [
    {
     "name": "stdout",
     "output_type": "stream",
     "text": [
      "Best parameters value\n",
      "C: 71.41833522203689\n",
      "gamma: 0.20202020202029797\n",
      "kernel: sigmoid\n"
     ]
    }
   ],
   "source": [
    "## Cross-validation instance\n",
    "cvs = StratifiedShuffleSplit(n_splits=10, test_size=0.25)\n",
    "\n",
    "## Parameter-space for searching\n",
    "param = {'kernel': ['sigmoid'],\n",
    "         'C': uniform(1e-13, 100),\n",
    "         'gamma': linspace(1e-13, 5, 100)}\n",
    "\n",
    "## Best model estimation by random search\n",
    "RS = RandomizedSearchCV(estimator=SVC(), \n",
    "                        param_distributions=param, \n",
    "                        n_iter=100, \n",
    "                        scoring='roc_auc', \n",
    "                        cv=cvs,\n",
    "                        n_jobs=-1).fit(X_train, y_train)\n",
    "\n",
    "## Display best model's hyperparameters\n",
    "print('Best parameters value')\n",
    "for hiperparam, valor in RS.best_params_.items():\n",
    "    print('{}: {}'.format(hiperparam, valor))"
   ]
  },
  {
   "cell_type": "code",
   "execution_count": 16,
   "metadata": {},
   "outputs": [
    {
     "name": "stdout",
     "output_type": "stream",
     "text": [
      "Accuracy (Train): 0.7931\n",
      "Accuracy (Test):  0.5862\n",
      "\n",
      "              precision    recall  f1-score   support\n",
      "\n",
      "           1       0.50      0.50      0.50        12\n",
      "           2       0.65      0.65      0.65        17\n",
      "\n",
      "    accuracy                           0.59        29\n",
      "   macro avg       0.57      0.57      0.57        29\n",
      "weighted avg       0.59      0.59      0.59        29\n",
      "\n"
     ]
    },
    {
     "data": {
      "image/png": "[encoded data removed]",
      "text/plain": [
       "<Figure size 640x480 with 2 Axes>"
      ]
     },
     "metadata": {},
     "output_type": "display_data"
    }
   ],
   "source": [
    "## Fitting a model with best parameters\n",
    "model = SVC(**RS.best_params_).fit(X_train, y_train)\n",
    "\n",
    "## Compute score using train set\n",
    "print('Accuracy (Train): {:.4f}'.format(model.score(X_train, y_train)))\n",
    "\n",
    "## Compute score using test set\n",
    "print('Accuracy (Test):  {:.4f}\\n'.format(model.score(X_test, y_test)))\n",
    "\n",
    "## compute prediction\n",
    "prediccion = model.predict(X_test)\n",
    "\n",
    "## display classification report\n",
    "print(classification_report(y_true=y_test, y_pred=prediccion))\n",
    "\n",
    "## Display confusion matrix\n",
    "plot_confusion_matrix(estimator=model, X=X_test, y_true=y_test)\n",
    "plt.show()"
   ]
  },
  {
   "cell_type": "markdown",
   "metadata": {},
   "source": [
    "## Pipeline"
   ]
  },
  {
   "cell_type": "code",
   "execution_count": 17,
   "metadata": {},
   "outputs": [],
   "source": [
    "## Data pre-processing\n",
    "X = data.drop(columns=['Classification'])\n",
    "y = data['Classification']\n",
    "\n",
    "## Partition set\n",
    "X_train, X_test, y_train, y_test = train_test_split(X, y, random_state=20200803)"
   ]
  },
  {
   "cell_type": "code",
   "execution_count": 18,
   "metadata": {},
   "outputs": [],
   "source": [
    "## Pipeline instance\n",
    "pipe = make_pipeline(MinMaxScaler(), SVC())"
   ]
  },
  {
   "cell_type": "code",
   "execution_count": 19,
   "metadata": {},
   "outputs": [
    {
     "data": {
      "text/plain": [
       "Pipeline(steps=[('minmaxscaler', MinMaxScaler()), ('svc', SVC())])"
      ]
     },
     "execution_count": 19,
     "metadata": {},
     "output_type": "execute_result"
    }
   ],
   "source": [
    "## Pipeline-model fitting\n",
    "pipe.fit(X_train, y_train)"
   ]
  },
  {
   "cell_type": "code",
   "execution_count": 20,
   "metadata": {},
   "outputs": [
    {
     "name": "stdout",
     "output_type": "stream",
     "text": [
      "Accuracy (Train): 0.8851\n",
      "Accuracy (Test):  0.7586\n",
      "\n",
      "              precision    recall  f1-score   support\n",
      "\n",
      "           1       0.73      0.67      0.70        12\n",
      "           2       0.78      0.82      0.80        17\n",
      "\n",
      "    accuracy                           0.76        29\n",
      "   macro avg       0.75      0.75      0.75        29\n",
      "weighted avg       0.76      0.76      0.76        29\n",
      "\n"
     ]
    },
    {
     "data": {
      "image/png": "[encoded data removed]",
      "text/plain": [
       "<Figure size 640x480 with 2 Axes>"
      ]
     },
     "metadata": {},
     "output_type": "display_data"
    }
   ],
   "source": [
    "## Compute score using train set\n",
    "print('Accuracy (Train): {:.4f}'.format(pipe.score(X_train, y_train)))\n",
    "\n",
    "## Compute score using test set\n",
    "print('Accuracy (Test):  {:.4f}\\n'.format(pipe.score(X_test, y_test)))\n",
    "\n",
    "## Compute prediction\n",
    "prediccion = pipe.predict(X_test)\n",
    "\n",
    "## display classification report\n",
    "print(classification_report(y_true=y_test, y_pred=prediccion))\n",
    "\n",
    "## Display confusion matrix\n",
    "plot_confusion_matrix(estimator=pipe, X=X_test, y_true=y_test)\n",
    "plt.show()"
   ]
  },
  {
   "cell_type": "code",
   "execution_count": null,
   "metadata": {},
   "outputs": [],
   "source": []
  }
 ],
 "metadata": {
  "kernelspec": {
   "display_name": "Python 3",
   "language": "python",
   "name": "python3"
  },
  "language_info": {
   "codemirror_mode": {
    "name": "ipython",
    "version": 3
   },
   "file_extension": ".py",
   "mimetype": "text/x-python",
   "name": "python",
   "nbconvert_exporter": "python",
   "pygments_lexer": "ipython3",
   "version": "3.8.10"
  }
 },
 "nbformat": 4,
 "nbformat_minor": 4
}
