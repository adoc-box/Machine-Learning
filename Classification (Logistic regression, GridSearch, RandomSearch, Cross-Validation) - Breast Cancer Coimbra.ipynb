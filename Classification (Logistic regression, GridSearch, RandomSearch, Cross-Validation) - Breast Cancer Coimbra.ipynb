{
 "cells": [
  {
   "cell_type": "markdown",
   "metadata": {},
   "source": [
    "### Created by: Anthony D. Cho\n",
    "### Last update: 24.10.2021\n",
    "\n",
    "**Subject**: Classification (Logistic regression, GridSearch, RandomSearch, Cross-Validation) - Applied to Breast Cancer Coimbra"
   ]
  },
  {
   "cell_type": "code",
   "execution_count": 1,
   "metadata": {},
   "outputs": [],
   "source": [
    "import warnings\n",
    "warnings.filterwarnings('ignore')\n",
    "\n",
    "from ipywidgets import interact#, interact_manual\n",
    "\n",
    "from pandas import read_csv\n",
    "import matplotlib.pyplot as plt\n",
    "from numpy import linspace, argmin\n",
    "from scipy.stats import uniform\n",
    "\n",
    "%matplotlib inline\n",
    "\n",
    "## Pre-processing functions\n",
    "from sklearn.preprocessing import StandardScaler\n",
    "from sklearn.model_selection import train_test_split\n",
    "\n",
    "## Metrics functions\n",
    "from sklearn.metrics import accuracy_score, precision_score, recall_score, classification_report\n",
    "from sklearn.metrics import precision_recall_curve, roc_curve\n",
    "\n",
    "## Models\n",
    "from sklearn.linear_model import LogisticRegression\n",
    "\n",
    "## Cross-Validation\n",
    "from sklearn.model_selection import cross_val_score\n",
    "from sklearn.model_selection import KFold, LeaveOneOut, RepeatedKFold, ShuffleSplit, StratifiedKFold, StratifiedShuffleSplit\n",
    "\n",
    "## Grid search and random search\n",
    "from sklearn.model_selection import GridSearchCV, RandomizedSearchCV"
   ]
  },
  {
   "cell_type": "markdown",
   "metadata": {},
   "source": [
    "# Problem: Breast Cancer Coimbra\n",
    "\n",
    "**Target**: Classification column of the dataset"
   ]
  },
  {
   "cell_type": "markdown",
   "metadata": {},
   "source": [
    "**Data source:**\n",
    "\n",
    "[Breast Cancer Coimbra](https://archive.ics.uci.edu/ml/datasets/Breast+Cancer+Coimbra) (Classification)\n"
   ]
  },
  {
   "cell_type": "code",
   "execution_count": 2,
   "metadata": {},
   "outputs": [],
   "source": [
    "## Data loading\n",
    "dataClassification = read_csv('https://archive.ics.uci.edu/ml/machine-learning-databases/00451/dataR2.csv')\n",
    "coefNameIndep = dataClassification.columns[:-1]"
   ]
  },
  {
   "cell_type": "code",
   "execution_count": 3,
   "metadata": {},
   "outputs": [
    {
     "data": {
      "text/html": [
       "<div>\n",
       "<style scoped>\n",
       "    .dataframe tbody tr th:only-of-type {\n",
       "        vertical-align: middle;\n",
       "    }\n",
       "\n",
       "    .dataframe tbody tr th {\n",
       "        vertical-align: top;\n",
       "    }\n",
       "\n",
       "    .dataframe thead th {\n",
       "        text-align: right;\n",
       "    }\n",
       "</style>\n",
       "<table border=\"1\" class=\"dataframe\">\n",
       "  <thead>\n",
       "    <tr style=\"text-align: right;\">\n",
       "      <th></th>\n",
       "      <th>Age</th>\n",
       "      <th>BMI</th>\n",
       "      <th>Glucose</th>\n",
       "      <th>Insulin</th>\n",
       "      <th>HOMA</th>\n",
       "      <th>Leptin</th>\n",
       "      <th>Adiponectin</th>\n",
       "      <th>Resistin</th>\n",
       "      <th>MCP.1</th>\n",
       "      <th>Classification</th>\n",
       "    </tr>\n",
       "  </thead>\n",
       "  <tbody>\n",
       "    <tr>\n",
       "      <th>0</th>\n",
       "      <td>48</td>\n",
       "      <td>23.500000</td>\n",
       "      <td>70</td>\n",
       "      <td>2.707</td>\n",
       "      <td>0.467409</td>\n",
       "      <td>8.8071</td>\n",
       "      <td>9.702400</td>\n",
       "      <td>7.99585</td>\n",
       "      <td>417.114</td>\n",
       "      <td>1</td>\n",
       "    </tr>\n",
       "    <tr>\n",
       "      <th>1</th>\n",
       "      <td>83</td>\n",
       "      <td>20.690495</td>\n",
       "      <td>92</td>\n",
       "      <td>3.115</td>\n",
       "      <td>0.706897</td>\n",
       "      <td>8.8438</td>\n",
       "      <td>5.429285</td>\n",
       "      <td>4.06405</td>\n",
       "      <td>468.786</td>\n",
       "      <td>1</td>\n",
       "    </tr>\n",
       "    <tr>\n",
       "      <th>2</th>\n",
       "      <td>82</td>\n",
       "      <td>23.124670</td>\n",
       "      <td>91</td>\n",
       "      <td>4.498</td>\n",
       "      <td>1.009651</td>\n",
       "      <td>17.9393</td>\n",
       "      <td>22.432040</td>\n",
       "      <td>9.27715</td>\n",
       "      <td>554.697</td>\n",
       "      <td>1</td>\n",
       "    </tr>\n",
       "    <tr>\n",
       "      <th>3</th>\n",
       "      <td>68</td>\n",
       "      <td>21.367521</td>\n",
       "      <td>77</td>\n",
       "      <td>3.226</td>\n",
       "      <td>0.612725</td>\n",
       "      <td>9.8827</td>\n",
       "      <td>7.169560</td>\n",
       "      <td>12.76600</td>\n",
       "      <td>928.220</td>\n",
       "      <td>1</td>\n",
       "    </tr>\n",
       "    <tr>\n",
       "      <th>4</th>\n",
       "      <td>86</td>\n",
       "      <td>21.111111</td>\n",
       "      <td>92</td>\n",
       "      <td>3.549</td>\n",
       "      <td>0.805386</td>\n",
       "      <td>6.6994</td>\n",
       "      <td>4.819240</td>\n",
       "      <td>10.57635</td>\n",
       "      <td>773.920</td>\n",
       "      <td>1</td>\n",
       "    </tr>\n",
       "  </tbody>\n",
       "</table>\n",
       "</div>"
      ],
      "text/plain": [
       "   Age        BMI  Glucose  Insulin      HOMA   Leptin  Adiponectin  Resistin  \\\n",
       "0   48  23.500000       70    2.707  0.467409   8.8071     9.702400   7.99585   \n",
       "1   83  20.690495       92    3.115  0.706897   8.8438     5.429285   4.06405   \n",
       "2   82  23.124670       91    4.498  1.009651  17.9393    22.432040   9.27715   \n",
       "3   68  21.367521       77    3.226  0.612725   9.8827     7.169560  12.76600   \n",
       "4   86  21.111111       92    3.549  0.805386   6.6994     4.819240  10.57635   \n",
       "\n",
       "     MCP.1  Classification  \n",
       "0  417.114               1  \n",
       "1  468.786               1  \n",
       "2  554.697               1  \n",
       "3  928.220               1  \n",
       "4  773.920               1  "
      ]
     },
     "execution_count": 3,
     "metadata": {},
     "output_type": "execute_result"
    }
   ],
   "source": [
    "dataClassification.head(5)"
   ]
  },
  {
   "cell_type": "code",
   "execution_count": 4,
   "metadata": {},
   "outputs": [
    {
     "data": {
      "text/plain": [
       "1    52\n",
       "2    64\n",
       "Name: Classification, dtype: int64"
      ]
     },
     "execution_count": 4,
     "metadata": {},
     "output_type": "execute_result"
    }
   ],
   "source": [
    "## Target (Classification label) counter\n",
    "dataClassification['Classification'].value_counts(ascending=True)"
   ]
  },
  {
   "cell_type": "markdown",
   "metadata": {},
   "source": [
    " ### Data Pre-processsing"
   ]
  },
  {
   "cell_type": "code",
   "execution_count": 5,
   "metadata": {},
   "outputs": [],
   "source": [
    "## Predictors (features) data \n",
    "X = dataClassification.drop(columns=['Classification'])\n",
    "\n",
    "## target labels\n",
    "y = dataClassification['Classification']\n",
    "\n",
    "## Data partition \n",
    "X_train, X_test, y_train, y_test = train_test_split(X, y, random_state=0)\n",
    "\n",
    "## Data standardization\n",
    "scale = StandardScaler().fit(X_train)\n",
    "X_train = scale.transform(X_train)\n",
    "X_test = scale.transform(X_test)"
   ]
  },
  {
   "cell_type": "markdown",
   "metadata": {},
   "source": [
    "### Cross-Validation methods application"
   ]
  },
  {
   "cell_type": "code",
   "execution_count": 6,
   "metadata": {},
   "outputs": [],
   "source": [
    "## Cross-validation method instances\n",
    "CVs = {'KFold': KFold(n_splits=5, shuffle=True, random_state=0), \n",
    "       'LeaveOneOut': LeaveOneOut(),\n",
    "       'RepeatedKFold': RepeatedKFold(n_splits=5, n_repeats=2, random_state=0),\n",
    "       'ShuffleSplit': ShuffleSplit(n_splits=5, train_size=0.7, random_state=0), \n",
    "       'StratifiedKFold': StratifiedKFold(n_splits=5, shuffle=True, random_state=0),\n",
    "       'StratifiedShuffleSplit': StratifiedShuffleSplit(n_splits=5, train_size=0.7, random_state=0)\n",
    "      }"
   ]
  },
  {
   "cell_type": "code",
   "execution_count": 7,
   "metadata": {},
   "outputs": [
    {
     "name": "stdout",
     "output_type": "stream",
     "text": [
      "CV:                   KFold, Mean Scores: 0.7137, Variance Scores:0.0083\n",
      "CV:             LeaveOneOut, Mean Scores: 0.7126, Variance Scores:0.2048\n",
      "CV:           RepeatedKFold, Mean Scores: 0.7075, Variance Scores:0.0092\n",
      "CV:            ShuffleSplit, Mean Scores: 0.6889, Variance Scores:0.0036\n",
      "CV:         StratifiedKFold, Mean Scores: 0.7020, Variance Scores:0.0108\n",
      "CV:  StratifiedShuffleSplit, Mean Scores: 0.7259, Variance Scores:0.0042\n"
     ]
    }
   ],
   "source": [
    "## Model building\n",
    "model = LogisticRegression()\n",
    "\n",
    "## Computamos los scores con cada metodo de Cross-validation\n",
    "for name in CVs.keys():\n",
    "    \n",
    "    ## Compute score using cross-validation\n",
    "    scores = cross_val_score(estimator=model, X=X_train, y=y_train, \n",
    "                             n_jobs=-1, cv=CVs[name])\n",
    "    \n",
    "    ## Display mean and variance of scores\n",
    "    print('CV: {:>23s}, Mean Scores: {:.4f}, Variance Scores:{:.4f}'.format(name, \n",
    "                                                                            scores.mean(), \n",
    "                                                                            scores.var()))"
   ]
  },
  {
   "cell_type": "code",
   "execution_count": null,
   "metadata": {},
   "outputs": [],
   "source": []
  },
  {
   "cell_type": "markdown",
   "metadata": {},
   "source": [
    "### Precision-Recall Curve"
   ]
  },
  {
   "cell_type": "code",
   "execution_count": 8,
   "metadata": {},
   "outputs": [
    {
     "data": {
      "image/png": "[encoded data removed]",
      "text/plain": [
       "<Figure size 720x288 with 1 Axes>"
      ]
     },
     "metadata": {
      "needs_background": "light"
     },
     "output_type": "display_data"
    }
   ],
   "source": [
    "## Model fitting\n",
    "model.fit(X=X_train, y=y_train)\n",
    "\n",
    "## Compute precision, recall and threshold (only Binary class)\n",
    "precision, recall, thresholds = precision_recall_curve(y_true=y_test-1,\n",
    "                                                       probas_pred=model.decision_function(X_test))\n",
    "\n",
    "## Find threshold closest to zero\n",
    "close_zero = argmin(abs(thresholds))\n",
    "\n",
    "## Find the best threshold closest to upper-right corner, i.e (1, 1)-coordinate\n",
    "(x,y) = (1,1)\n",
    "\n",
    "distance = []\n",
    "for a, b in zip(precision, recall):\n",
    "    distance.append( ((x-a)**2 + (y-b)**2)**(0.5) )\n",
    "best = argmin(distance)\n",
    "\n",
    "## Display Precision-Recall Curve, zero-threshold and best-threshold\n",
    "plt.figure(figsize=(10, 4))\n",
    "plt.plot(recall[close_zero], precision[close_zero], 'o', markersize=10,\n",
    "         label=\"threshold zero\", fillstyle=\"none\", c='k', mew=2)\n",
    "\n",
    "plt.plot(recall[best], precision[best], 'o', markersize=10,\n",
    "         label=\"best threshold\", fillstyle=\"none\", c='r', mew=2)\n",
    "\n",
    "plt.plot(recall, precision, 'bo-', label=\"precision recall curve\", markersize=5)\n",
    "plt.ylabel(\"Precision\")\n",
    "plt.xlabel(\"Recall\")\n",
    "plt.legend(loc=\"best\")\n",
    "plt.grid()\n",
    "plt.show()\n"
   ]
  },
  {
   "cell_type": "code",
   "execution_count": 9,
   "metadata": {},
   "outputs": [
    {
     "name": "stdout",
     "output_type": "stream",
     "text": [
      "Best threshold: -0.5945498698071702\n"
     ]
    }
   ],
   "source": [
    "print('Best threshold: {}'.format(thresholds[best]))"
   ]
  },
  {
   "cell_type": "markdown",
   "metadata": {},
   "source": [
    "### ROC Curve"
   ]
  },
  {
   "cell_type": "code",
   "execution_count": 10,
   "metadata": {},
   "outputs": [
    {
     "data": {
      "image/png": "[encoded data removed]",
      "text/plain": [
       "<Figure size 720x288 with 1 Axes>"
      ]
     },
     "metadata": {
      "needs_background": "light"
     },
     "output_type": "display_data"
    }
   ],
   "source": [
    "## Model fitting\n",
    "model.fit(X=X_train, y=y_train)\n",
    "\n",
    "## Compute false positive rate, true positive rate and threshold (only Binary class)\n",
    "fpr, tpr, thresholds = roc_curve(y_true=y_test-1, y_score=model.decision_function(X_test))\n",
    "\n",
    "## Find threshold closest to zero\n",
    "close_zero = argmin(abs(thresholds))\n",
    "\n",
    "## Find the best threshold closest to upper-left corner, i.e (0, 1)-coordinate\n",
    "(x,y) = (0,1)\n",
    "\n",
    "distance = []\n",
    "for a, b in zip(fpr, tpr):\n",
    "    distance.append( ((x-a)**2 + (y-b)**2)**(0.5) )\n",
    "best = argmin(distance)\n",
    "\n",
    "## Display ROC Curve, zero-threshold and best-threshold\n",
    "plt.figure(figsize=(10, 4))\n",
    "plt.plot(fpr, tpr, 'bo-', label=\"ROC Curve\", markersize=5)\n",
    "plt.plot(fpr[close_zero], tpr[close_zero], 'o', markersize=10,\n",
    "         label=\"threshold zero\", fillstyle=\"none\", c='k', mew=2)\n",
    "plt.plot(fpr[best], tpr[best], 'o', markersize=10,\n",
    "         label=\"best threshold\", fillstyle=\"none\", c='r', mew=2)\n",
    "\n",
    "plt.xlabel(\"FPR\")\n",
    "plt.ylabel(\"TPR (recall)\")\n",
    "plt.legend(loc=\"best\");\n",
    "plt.grid()\n",
    "plt.show()\n"
   ]
  },
  {
   "cell_type": "code",
   "execution_count": 11,
   "metadata": {},
   "outputs": [
    {
     "name": "stdout",
     "output_type": "stream",
     "text": [
      "Best threshold: 0.9435015672074748\n"
     ]
    }
   ],
   "source": [
    "best = argmin(distance)\n",
    "print('Best threshold: {}'.format(thresholds[best]))"
   ]
  },
  {
   "cell_type": "code",
   "execution_count": 12,
   "metadata": {},
   "outputs": [
    {
     "data": {
      "text/plain": [
       "array([13.96231052, 12.96231052,  3.88146442,  2.56989665,  2.39349042,\n",
       "        2.17707567,  0.94350157,  0.6932704 ,  0.49030318,  0.12880133,\n",
       "       -0.23320757, -0.3087115 , -0.59454987, -0.85573807, -1.14621626])"
      ]
     },
     "execution_count": 12,
     "metadata": {},
     "output_type": "execute_result"
    }
   ],
   "source": [
    "thresholds"
   ]
  },
  {
   "cell_type": "markdown",
   "metadata": {},
   "source": [
    "### GridSearch + Cross Validation"
   ]
  },
  {
   "cell_type": "code",
   "execution_count": 13,
   "metadata": {},
   "outputs": [
    {
     "name": "stdout",
     "output_type": "stream",
     "text": [
      "Best C-value: 1.4150. Score: 0.7497\n"
     ]
    }
   ],
   "source": [
    "## Parameters search-space\n",
    "param = {'C': linspace(0.001, 10, 100)}\n",
    "\n",
    "## Cross-Validation method instace\n",
    "cvs = StratifiedShuffleSplit(n_splits=10, train_size=0.7, random_state=0)\n",
    "\n",
    "## Model instance\n",
    "model = LogisticRegression(n_jobs=-1, solver='newton-cg', max_iter=10000)\n",
    "\n",
    "## Grid search instance and model fitting\n",
    "gs = GridSearchCV(estimator=model, param_grid=param, n_jobs=-1).fit(X=X_train, y=y_train)\n",
    "\n",
    "## Display best parameter value and its score\n",
    "print('Best C-value: {:.4f}. Score: {:.4f}'.format(gs.best_params_['C'], \n",
    "                                                   gs.best_score_))"
   ]
  },
  {
   "cell_type": "code",
   "execution_count": 14,
   "metadata": {},
   "outputs": [
    {
     "data": {
      "text/plain": [
       "LogisticRegression(C=1.415, max_iter=10000, n_jobs=-1, solver='newton-cg')"
      ]
     },
     "execution_count": 14,
     "metadata": {},
     "output_type": "execute_result"
    }
   ],
   "source": [
    "## Display the best model\n",
    "gs.best_estimator_"
   ]
  },
  {
   "cell_type": "code",
   "execution_count": 15,
   "metadata": {},
   "outputs": [
    {
     "data": {
      "text/plain": [
       "0.5862068965517241"
      ]
     },
     "execution_count": 15,
     "metadata": {},
     "output_type": "execute_result"
    }
   ],
   "source": [
    "## Compute score of the best model using test data\n",
    "gs.score(X=X_test, y=y_test)"
   ]
  },
  {
   "cell_type": "code",
   "execution_count": null,
   "metadata": {},
   "outputs": [],
   "source": []
  },
  {
   "cell_type": "markdown",
   "metadata": {},
   "source": [
    "### RandomSearch + Cross Validation"
   ]
  },
  {
   "cell_type": "code",
   "execution_count": 16,
   "metadata": {},
   "outputs": [
    {
     "name": "stdout",
     "output_type": "stream",
     "text": [
      "Best C-value: 4.2391. Score: 0.7497\n"
     ]
    }
   ],
   "source": [
    "## Parameters search-space\n",
    "param = {'C': uniform(0,100)}\n",
    "\n",
    "## Cross-Validation method instace\n",
    "cvs = StratifiedShuffleSplit(n_splits=15, train_size=0.7, random_state=0)\n",
    "\n",
    "## Model instance\n",
    "model = LogisticRegression(n_jobs=-1, solver='newton-cg', max_iter=10000)\n",
    "\n",
    "## Random search instance and model fitting\n",
    "gs = RandomizedSearchCV(estimator=model, \n",
    "                        param_distributions=param, \n",
    "                        n_jobs=-1, n_iter=100).fit(X=X_train, y=y_train)\n",
    "\n",
    "## Display best parameter value and its score\n",
    "print('Best C-value: {:.4f}. Score: {:.4f}'.format(gs.best_params_['C'], \n",
    "                                                   gs.best_score_))"
   ]
  },
  {
   "cell_type": "code",
   "execution_count": 17,
   "metadata": {},
   "outputs": [
    {
     "data": {
      "text/plain": [
       "LogisticRegression(C=4.239115817914096, max_iter=10000, n_jobs=-1,\n",
       "                   solver='newton-cg')"
      ]
     },
     "execution_count": 17,
     "metadata": {},
     "output_type": "execute_result"
    }
   ],
   "source": [
    "## Display the best model\n",
    "gs.best_estimator_"
   ]
  },
  {
   "cell_type": "code",
   "execution_count": 18,
   "metadata": {},
   "outputs": [
    {
     "data": {
      "text/plain": [
       "0.5862068965517241"
      ]
     },
     "execution_count": 18,
     "metadata": {},
     "output_type": "execute_result"
    }
   ],
   "source": [
    "## Compute score of the best model using test data\n",
    "gs.score(X=X_test, y=y_test)"
   ]
  },
  {
   "cell_type": "code",
   "execution_count": null,
   "metadata": {},
   "outputs": [],
   "source": []
  }
 ],
 "metadata": {
  "kernelspec": {
   "display_name": "Python 3",
   "language": "python",
   "name": "python3"
  },
  "language_info": {
   "codemirror_mode": {
    "name": "ipython",
    "version": 3
   },
   "file_extension": ".py",
   "mimetype": "text/x-python",
   "name": "python",
   "nbconvert_exporter": "python",
   "pygments_lexer": "ipython3",
   "version": "3.8.10"
  }
 },
 "nbformat": 4,
 "nbformat_minor": 4
}
